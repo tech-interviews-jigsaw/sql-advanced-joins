{
 "cells": [
  {
   "cell_type": "markdown",
   "id": "d9eb827e-6dfe-4666-a288-ef989d06a57d",
   "metadata": {},
   "source": [
    "# Employees earning more than managers"
   ]
  },
  {
   "cell_type": "markdown",
   "id": "9c80cf0a-644d-4684-94d4-06f193c2c241",
   "metadata": {},
   "source": [
    "https://leetcode.com/problems/employees-earning-more-than-their-managers/solution/"
   ]
  },
  {
   "cell_type": "code",
   "execution_count": null,
   "id": "bc72ce4e-0b10-4ccc-87a4-26377e82aa2c",
   "metadata": {},
   "outputs": [],
   "source": []
  }
 ],
 "metadata": {
  "kernelspec": {
   "display_name": "Python 3 (ipykernel)",
   "language": "python",
   "name": "python3"
  },
  "language_info": {
   "codemirror_mode": {
    "name": "ipython",
    "version": 3
   },
   "file_extension": ".py",
   "mimetype": "text/x-python",
   "name": "python",
   "nbconvert_exporter": "python",
   "pygments_lexer": "ipython3",
   "version": "3.10.6"
  }
 },
 "nbformat": 4,
 "nbformat_minor": 5
}
