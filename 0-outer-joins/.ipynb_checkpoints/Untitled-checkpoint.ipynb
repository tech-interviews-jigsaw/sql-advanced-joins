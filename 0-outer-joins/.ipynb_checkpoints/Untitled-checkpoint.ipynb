{
 "cells": [
  {
   "cell_type": "code",
   "execution_count": 1,
   "id": "26c820ed-fa5e-4999-8bcb-eb798e08fa50",
   "metadata": {},
   "outputs": [],
   "source": [
    "def build_dataframe(data):\n",
    "    columns = data['headers']\n",
    "    values = data['values']\n",
    "    df = pd.DataFrame(values)\n",
    "    df.columns = columns\n",
    "    return df\n",
    "\n",
    "import pandas as pd\n",
    "data = {\"headers\": [\"personId\", \"firstName\", \"lastName\"], \"values\": [[1, \"Allen\", \"Wang\"], [2, \"Bob\", \"Sanders\"]]}"
   ]
  },
  {
   "cell_type": "code",
   "execution_count": null,
   "id": "97c1a7d4-53bf-495c-b387-65a7db6a1a07",
   "metadata": {},
   "outputs": [],
   "source": []
  }
 ],
 "metadata": {
  "kernelspec": {
   "display_name": "Python 3 (ipykernel)",
   "language": "python",
   "name": "python3"
  },
  "language_info": {
   "codemirror_mode": {
    "name": "ipython",
    "version": 3
   },
   "file_extension": ".py",
   "mimetype": "text/x-python",
   "name": "python",
   "nbconvert_exporter": "python",
   "pygments_lexer": "ipython3",
   "version": "3.9.12"
  }
 },
 "nbformat": 4,
 "nbformat_minor": 5
}
