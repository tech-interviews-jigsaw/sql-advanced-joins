{
 "cells": [
  {
   "cell_type": "markdown",
   "id": "8054f666-cbbf-40b6-a41a-3648035bb2a2",
   "metadata": {},
   "source": [
    "# Reviewing SQL Joins - Inner and Outer Joins"
   ]
  },
  {
   "cell_type": "markdown",
   "id": "5190975b-9a5f-4d6a-a978-42d2b20e91d7",
   "metadata": {},
   "source": [
    "When performing joins, we have multiple types, an inner join, an outer join, and a full outer join.  In this lesson, we'll review the different kinds of joins and learn use cases for them."
   ]
  },
  {
   "cell_type": "markdown",
   "id": "1da36f07-9fd1-408d-803f-3f5e345c18a8",
   "metadata": {},
   "source": [
    "### Upgrading Sqlite"
   ]
  },
  {
   "cell_type": "markdown",
   "id": "1a48eb83-5192-4803-a613-0116c6dd4f64",
   "metadata": {},
   "source": [
    "Because we would like to explore full outer joins in this article, we will need to upgrade our version of sqlite3 (or load our data to a local database like postgres).\n",
    "\n",
    "> **Warning**: The following code will only work on colab, and probably will not work locally.   "
   ]
  },
  {
   "cell_type": "code",
   "execution_count": 24,
   "id": "d3cdd52b-44e6-4021-8e0f-44f9ddf1428b",
   "metadata": {},
   "outputs": [],
   "source": [
    "from time import process_time\n",
    "start_time = process_time()\n",
    "import subprocess\n",
    "try:\n",
    "    import google.colab # if colab exists, install pysqlite-binary\n",
    "    subprocess.run(['pip', 'install', 'pysqlite3-binary'], capture_output=False)\n",
    "    import pysqlite3 as sqlite3\n",
    "\n",
    "except ModuleNotFoundError:\n",
    "    pass\n",
    "end_time = process_time()"
   ]
  },
  {
   "cell_type": "markdown",
   "id": "8ae41195-f006-4d6a-9dc0-2688a038059c",
   "metadata": {},
   "source": [
    "### Loading our data"
   ]
  },
  {
   "cell_type": "markdown",
   "id": "06c60ae9-fd26-4722-ad45-0f1f4a89ecab",
   "metadata": {},
   "source": [
    "We can begin by loading our data."
   ]
  },
  {
   "cell_type": "code",
   "execution_count": 1,
   "id": "ec289211-1872-4b30-8f98-a12d4edd50a8",
   "metadata": {},
   "outputs": [],
   "source": [
    "import warnings\n",
    "warnings.simplefilter(action='ignore', category=UserWarning)\n",
    "import pandas as pd\n",
    "import sqlite3\n",
    "\n",
    "conn = sqlite3.connect('crm.db')\n",
    "address_url = \"https://raw.githubusercontent.com/tech-interviews-jigsaw/sql-advanced-joins/main/0-outer-joins/addresses.csv\"\n",
    "persons_url = \"https://raw.githubusercontent.com/tech-interviews-jigsaw/sql-advanced-joins/main/0-outer-joins/persons.csv\"\n",
    "person_df = pd.read_csv(persons_url)\n",
    "address_df = pd.read_csv(address_url)"
   ]
  },
  {
   "cell_type": "code",
   "execution_count": 2,
   "id": "e0a39505-394a-474b-bae6-2d89084d53f2",
   "metadata": {},
   "outputs": [
    {
     "data": {
      "text/plain": [
       "3"
      ]
     },
     "execution_count": 2,
     "metadata": {},
     "output_type": "execute_result"
    }
   ],
   "source": [
    "person_df.to_sql('persons', conn, if_exists = 'replace', index = False)\n",
    "address_df.to_sql('addresses', conn, if_exists = 'replace', index = False)"
   ]
  },
  {
   "cell_type": "markdown",
   "id": "b02bf52e-b2ec-4801-9266-5df21b1eefe1",
   "metadata": {},
   "source": [
    "### Viewing our Data"
   ]
  },
  {
   "cell_type": "markdown",
   "id": "af4c6748-4788-4fb6-bb52-281b58bb946f",
   "metadata": {},
   "source": [
    "Now let's take a look at our data."
   ]
  },
  {
   "cell_type": "code",
   "execution_count": 3,
   "id": "b1cab3c5-1e53-4e40-9089-0190939af75a",
   "metadata": {},
   "outputs": [
    {
     "data": {
      "text/html": [
       "<div>\n",
       "<style scoped>\n",
       "    .dataframe tbody tr th:only-of-type {\n",
       "        vertical-align: middle;\n",
       "    }\n",
       "\n",
       "    .dataframe tbody tr th {\n",
       "        vertical-align: top;\n",
       "    }\n",
       "\n",
       "    .dataframe thead th {\n",
       "        text-align: right;\n",
       "    }\n",
       "</style>\n",
       "<table border=\"1\" class=\"dataframe\">\n",
       "  <thead>\n",
       "    <tr style=\"text-align: right;\">\n",
       "      <th></th>\n",
       "      <th>personId</th>\n",
       "      <th>firstName</th>\n",
       "      <th>lastName</th>\n",
       "    </tr>\n",
       "  </thead>\n",
       "  <tbody>\n",
       "    <tr>\n",
       "      <th>0</th>\n",
       "      <td>1</td>\n",
       "      <td>Allen</td>\n",
       "      <td>Wang</td>\n",
       "    </tr>\n",
       "    <tr>\n",
       "      <th>1</th>\n",
       "      <td>2</td>\n",
       "      <td>Bob</td>\n",
       "      <td>Sanders</td>\n",
       "    </tr>\n",
       "  </tbody>\n",
       "</table>\n",
       "</div>"
      ],
      "text/plain": [
       "   personId firstName lastName\n",
       "0         1     Allen     Wang\n",
       "1         2       Bob  Sanders"
      ]
     },
     "execution_count": 3,
     "metadata": {},
     "output_type": "execute_result"
    }
   ],
   "source": [
    "pd.read_sql('select * from persons', conn)"
   ]
  },
  {
   "cell_type": "code",
   "execution_count": 4,
   "id": "dfd8f8b0-92f5-49c4-aba7-6397cad0d385",
   "metadata": {},
   "outputs": [
    {
     "data": {
      "text/html": [
       "<div>\n",
       "<style scoped>\n",
       "    .dataframe tbody tr th:only-of-type {\n",
       "        vertical-align: middle;\n",
       "    }\n",
       "\n",
       "    .dataframe tbody tr th {\n",
       "        vertical-align: top;\n",
       "    }\n",
       "\n",
       "    .dataframe thead th {\n",
       "        text-align: right;\n",
       "    }\n",
       "</style>\n",
       "<table border=\"1\" class=\"dataframe\">\n",
       "  <thead>\n",
       "    <tr style=\"text-align: right;\">\n",
       "      <th></th>\n",
       "      <th>addressId</th>\n",
       "      <th>personId</th>\n",
       "      <th>city</th>\n",
       "      <th>state</th>\n",
       "    </tr>\n",
       "  </thead>\n",
       "  <tbody>\n",
       "    <tr>\n",
       "      <th>0</th>\n",
       "      <td>1</td>\n",
       "      <td>2</td>\n",
       "      <td>New York City</td>\n",
       "      <td>New York</td>\n",
       "    </tr>\n",
       "    <tr>\n",
       "      <th>1</th>\n",
       "      <td>2</td>\n",
       "      <td>3</td>\n",
       "      <td>Leetcode</td>\n",
       "      <td>California</td>\n",
       "    </tr>\n",
       "    <tr>\n",
       "      <th>2</th>\n",
       "      <td>3</td>\n",
       "      <td>4</td>\n",
       "      <td>Chicago</td>\n",
       "      <td>IL</td>\n",
       "    </tr>\n",
       "  </tbody>\n",
       "</table>\n",
       "</div>"
      ],
      "text/plain": [
       "   addressId  personId           city       state\n",
       "0          1         2  New York City    New York\n",
       "1          2         3       Leetcode  California\n",
       "2          3         4        Chicago          IL"
      ]
     },
     "execution_count": 4,
     "metadata": {},
     "output_type": "execute_result"
    }
   ],
   "source": [
    "pd.read_sql('select * from addresses', conn)"
   ]
  },
  {
   "cell_type": "markdown",
   "id": "7f21ac70-4ac3-4aec-8eee-6e668fd84290",
   "metadata": {},
   "source": [
    "So we can see that the column joining our two tables is the personId column."
   ]
  },
  {
   "cell_type": "markdown",
   "id": "b3aa15f6-5313-472e-9046-4da43c0146a8",
   "metadata": {},
   "source": [
    "Also notice that we have some mismatches.  \n",
    "* Allen Wang does not have an address\n",
    "* The last two addresses of Leetcode and Chicago do not have a related person."
   ]
  },
  {
   "cell_type": "markdown",
   "id": "784c3863-eb91-4dba-b0b9-c0824345bafb",
   "metadata": {},
   "source": [
    "### Some queries"
   ]
  },
  {
   "cell_type": "markdown",
   "id": "4841bef3-ce35-4372-8ad8-a32f2e0980ea",
   "metadata": {},
   "source": [
    "Now write a query that will only display rows where both the person *and* the related address exists.  "
   ]
  },
  {
   "cell_type": "code",
   "execution_count": 68,
   "id": "24cc9255-6494-4fc6-9342-207bbd030ed5",
   "metadata": {},
   "outputs": [
    {
     "data": {
      "text/html": [
       "<div>\n",
       "<style scoped>\n",
       "    .dataframe tbody tr th:only-of-type {\n",
       "        vertical-align: middle;\n",
       "    }\n",
       "\n",
       "    .dataframe tbody tr th {\n",
       "        vertical-align: top;\n",
       "    }\n",
       "\n",
       "    .dataframe thead th {\n",
       "        text-align: right;\n",
       "    }\n",
       "</style>\n",
       "<table border=\"1\" class=\"dataframe\">\n",
       "  <thead>\n",
       "    <tr style=\"text-align: right;\">\n",
       "      <th></th>\n",
       "      <th>personId</th>\n",
       "      <th>firstName</th>\n",
       "      <th>lastName</th>\n",
       "      <th>addressId</th>\n",
       "      <th>personId</th>\n",
       "      <th>city</th>\n",
       "      <th>state</th>\n",
       "    </tr>\n",
       "  </thead>\n",
       "  <tbody>\n",
       "    <tr>\n",
       "      <th>0</th>\n",
       "      <td>2</td>\n",
       "      <td>Bob</td>\n",
       "      <td>Sanders</td>\n",
       "      <td>1</td>\n",
       "      <td>2</td>\n",
       "      <td>New York City</td>\n",
       "      <td>New York</td>\n",
       "    </tr>\n",
       "  </tbody>\n",
       "</table>\n",
       "</div>"
      ],
      "text/plain": [
       "   personId firstName lastName  addressId  personId           city     state\n",
       "0         2       Bob  Sanders          1         2  New York City  New York"
      ]
     },
     "execution_count": 68,
     "metadata": {},
     "output_type": "execute_result"
    }
   ],
   "source": [
    "pd.read_sql(''' \n",
    "''', conn)\n",
    "\n",
    "\n",
    "# personId\tfirstName\tlastName\taddressId\tpersonId\tcity\tstate\n",
    "# 0\t2\tBob\tSanders\t1\t2\tNew York City\tNew York\n",
    "# "
   ]
  },
  {
   "cell_type": "markdown",
   "id": "00a7a9fa-2566-4f9e-be16-d41fbe82e5b2",
   "metadata": {},
   "source": [
    "> So as we can see, there is only one record that exists in both tables."
   ]
  },
  {
   "cell_type": "markdown",
   "id": "4d299396-7cd1-4884-abde-3f9ff24e9e11",
   "metadata": {},
   "source": [
    "Next write a query that only returns firstName, lastName, city and state.  If the address information is not available for that person, return null for city and state."
   ]
  },
  {
   "cell_type": "code",
   "execution_count": 69,
   "id": "fcd6bfff-7bc3-4ee9-82e7-28a519871ac8",
   "metadata": {},
   "outputs": [
    {
     "data": {
      "text/html": [
       "<div>\n",
       "<style scoped>\n",
       "    .dataframe tbody tr th:only-of-type {\n",
       "        vertical-align: middle;\n",
       "    }\n",
       "\n",
       "    .dataframe tbody tr th {\n",
       "        vertical-align: top;\n",
       "    }\n",
       "\n",
       "    .dataframe thead th {\n",
       "        text-align: right;\n",
       "    }\n",
       "</style>\n",
       "<table border=\"1\" class=\"dataframe\">\n",
       "  <thead>\n",
       "    <tr style=\"text-align: right;\">\n",
       "      <th></th>\n",
       "      <th>firstName</th>\n",
       "      <th>lastName</th>\n",
       "      <th>city</th>\n",
       "      <th>state</th>\n",
       "    </tr>\n",
       "  </thead>\n",
       "  <tbody>\n",
       "    <tr>\n",
       "      <th>0</th>\n",
       "      <td>Allen</td>\n",
       "      <td>Wang</td>\n",
       "      <td>None</td>\n",
       "      <td>None</td>\n",
       "    </tr>\n",
       "    <tr>\n",
       "      <th>1</th>\n",
       "      <td>Bob</td>\n",
       "      <td>Sanders</td>\n",
       "      <td>New York City</td>\n",
       "      <td>New York</td>\n",
       "    </tr>\n",
       "  </tbody>\n",
       "</table>\n",
       "</div>"
      ],
      "text/plain": [
       "  firstName lastName           city     state\n",
       "0     Allen     Wang           None      None\n",
       "1       Bob  Sanders  New York City  New York"
      ]
     },
     "execution_count": 69,
     "metadata": {},
     "output_type": "execute_result"
    }
   ],
   "source": [
    "pd.read_sql('''\n",
    "''', conn)\n",
    "\n",
    "# firstName\tlastName\tcity\tstate\n",
    "# 0\tAllen\tWang\tNone\tNone\n",
    "# 1\tBob\tSanders\tNew York City\tNew York"
   ]
  },
  {
   "cell_type": "markdown",
   "id": "1adb1a7f-bf2e-4ede-94ad-53e1dd5a0108",
   "metadata": {},
   "source": [
    "> Ok, so this is our left join, where we are returning all of the records in the left table even there is no corresponding match in the right table."
   ]
  },
  {
   "cell_type": "markdown",
   "id": "19e5dd06-7e88-47eb-bbb1-44c3e5123e4a",
   "metadata": {},
   "source": [
    "Using a left outer join can be useful for counting up the number of records that have missing data.  This is because `count` only counts non-null values.  \n",
    "\n",
    "So now lets produce aggregates counting `total_persons` and `persons_with_addresses`, and `persons_without_addresses`.\n",
    "\n",
    "> **Do not** use a case when to perform this."
   ]
  },
  {
   "cell_type": "code",
   "execution_count": 76,
   "id": "a4b1373d-7975-41c0-a897-7b1e601d9eec",
   "metadata": {},
   "outputs": [
    {
     "data": {
      "text/html": [
       "<div>\n",
       "<style scoped>\n",
       "    .dataframe tbody tr th:only-of-type {\n",
       "        vertical-align: middle;\n",
       "    }\n",
       "\n",
       "    .dataframe tbody tr th {\n",
       "        vertical-align: top;\n",
       "    }\n",
       "\n",
       "    .dataframe thead th {\n",
       "        text-align: right;\n",
       "    }\n",
       "</style>\n",
       "<table border=\"1\" class=\"dataframe\">\n",
       "  <thead>\n",
       "    <tr style=\"text-align: right;\">\n",
       "      <th></th>\n",
       "      <th>persons_w_address</th>\n",
       "      <th>persons_without</th>\n",
       "    </tr>\n",
       "  </thead>\n",
       "  <tbody>\n",
       "    <tr>\n",
       "      <th>0</th>\n",
       "      <td>1</td>\n",
       "      <td>1</td>\n",
       "    </tr>\n",
       "  </tbody>\n",
       "</table>\n",
       "</div>"
      ],
      "text/plain": [
       "   persons_w_address  persons_without\n",
       "0                  1                1"
      ]
     },
     "execution_count": 79,
     "metadata": {},
     "output_type": "execute_result"
    }
   ],
   "source": [
    "query = '''\n",
    "\n",
    "'''\n",
    "\n",
    "pd.read_sql(query, conn)\n",
    "\n",
    "# \ttotal_persons\tpersons_w_address\tpersons_without\n",
    "# 0\t2\t1\t1"
   ]
  },
  {
   "cell_type": "markdown",
   "id": "127104cb-1680-4a73-ad96-35cc50225fcf",
   "metadata": {},
   "source": [
    "And now, use a case when statement to perform this same calculation."
   ]
  },
  {
   "cell_type": "code",
   "execution_count": 84,
   "id": "6e4dbfc8-866a-4f2a-a8f6-b0fb6d847ca1",
   "metadata": {},
   "outputs": [
    {
     "data": {
      "text/html": [
       "<div>\n",
       "<style scoped>\n",
       "    .dataframe tbody tr th:only-of-type {\n",
       "        vertical-align: middle;\n",
       "    }\n",
       "\n",
       "    .dataframe tbody tr th {\n",
       "        vertical-align: top;\n",
       "    }\n",
       "\n",
       "    .dataframe thead th {\n",
       "        text-align: right;\n",
       "    }\n",
       "</style>\n",
       "<table border=\"1\" class=\"dataframe\">\n",
       "  <thead>\n",
       "    <tr style=\"text-align: right;\">\n",
       "      <th></th>\n",
       "      <th>total_persons</th>\n",
       "      <th>persons_with_address</th>\n",
       "      <th>persons_without</th>\n",
       "    </tr>\n",
       "  </thead>\n",
       "  <tbody>\n",
       "    <tr>\n",
       "      <th>0</th>\n",
       "      <td>2</td>\n",
       "      <td>1</td>\n",
       "      <td>1</td>\n",
       "    </tr>\n",
       "  </tbody>\n",
       "</table>\n",
       "</div>"
      ],
      "text/plain": [
       "   total_persons  persons_with_address  persons_without\n",
       "0              2                     1                1"
      ]
     },
     "execution_count": 84,
     "metadata": {},
     "output_type": "execute_result"
    }
   ],
   "source": [
    "query = '''\n",
    "'''\n",
    "\n",
    "pd.read_sql(query, conn)\n",
    "\n",
    "# \tfirstName\tlastName\tcity\tstate\tnum_of_city\tnum_of_state\n",
    "# 0\tAllen\tWang\tNone\tNone\t1\t1"
   ]
  },
  {
   "cell_type": "markdown",
   "id": "73bee776-be2b-40af-b3ff-868043354889",
   "metadata": {},
   "source": [
    "* Full outer joins"
   ]
  },
  {
   "cell_type": "markdown",
   "id": "a49b94e4-9985-4aab-81c2-767a024b6762",
   "metadata": {},
   "source": [
    "So we saw that a a left outer join will return all of the rows from the left table.  Similarly a right outer join will return all of the rows from a right table."
   ]
  },
  {
   "cell_type": "markdown",
   "id": "4e231337-e6d2-4a79-891e-48ec3fc12d8f",
   "metadata": {},
   "source": [
    "> For example, the query below will return all of the address rows -- even when there is not a corresponding person row."
   ]
  },
  {
   "cell_type": "code",
   "execution_count": 86,
   "id": "091ca589-ba94-4668-be14-bed3239715b4",
   "metadata": {},
   "outputs": [],
   "source": [
    "pd.read_sql('''\n",
    "''', conn)"
   ]
  },
  {
   "cell_type": "markdown",
   "id": "1bca6b39-5140-40ee-b5e9-5bfa62c9b94a",
   "metadata": {},
   "source": [
    "Ok, and if we want to return the combined set of rows from both tables, we can use a full outer join."
   ]
  },
  {
   "cell_type": "code",
   "execution_count": null,
   "id": "bb24a92f-8865-4954-b461-dab777d2b6a7",
   "metadata": {},
   "outputs": [],
   "source": [
    "pd.read_sql(\"\"\"\n",
    "\n",
    "\"\"\", conn)"
   ]
  },
  {
   "cell_type": "code",
   "execution_count": null,
   "id": "5a7e2044-aa61-4366-82ba-105f82159dfd",
   "metadata": {
    "tags": []
   },
   "outputs": [],
   "source": [
    "# \tpersonId\tfirstName\tlastName\taddressId\tpersonId\tcity\tstate\n",
    "# 0\t1.0\tAllen\tWang\tNaN\tNaN\tNone\tNone\n",
    "# 1\t2.0\tBob\tSanders\t1.0\t2.0\tNew York City\tNew York\n",
    "# 2\tNaN\tNone\tNone\t2.0\t3.0\tLeetcode\tCalifornia\n",
    "# 3\tNaN\tNone\tNone\t3.0\t4.0\tChicago\tIL"
   ]
  },
  {
   "cell_type": "markdown",
   "id": "326631cc-53fc-4dc7-8b1a-dc42916d37b9",
   "metadata": {},
   "source": [
    "Notice that with the full outer join, we still specify that we want to join on the personId column.  But this time the complete set of records from both tables are returned. This because the row is displayed even when there is not a matching value."
   ]
  },
  {
   "cell_type": "markdown",
   "id": "649e8359-6dfc-49a7-a95c-03274cf9848b",
   "metadata": {},
   "source": [
    "### Summary"
   ]
  },
  {
   "cell_type": "markdown",
   "id": "30cf78d6-d622-4c55-bb47-be43db07e6eb",
   "metadata": {},
   "source": [
    "In this lesson, we reviewed the difference between inner joins and left outer joins.  With an inner join, a record is only returned if the primary key and foreign keys are the same.  \n",
    "\n",
    "With a left outer join, the records on the left table are *always* returned.  And when there is no matching id on the right table, null values are returned.  "
   ]
  },
  {
   "cell_type": "code",
   "execution_count": 57,
   "id": "695849a7-9798-42e5-9633-58c94795495f",
   "metadata": {},
   "outputs": [
    {
     "data": {
      "text/html": [
       "<div>\n",
       "<style scoped>\n",
       "    .dataframe tbody tr th:only-of-type {\n",
       "        vertical-align: middle;\n",
       "    }\n",
       "\n",
       "    .dataframe tbody tr th {\n",
       "        vertical-align: top;\n",
       "    }\n",
       "\n",
       "    .dataframe thead th {\n",
       "        text-align: right;\n",
       "    }\n",
       "</style>\n",
       "<table border=\"1\" class=\"dataframe\">\n",
       "  <thead>\n",
       "    <tr style=\"text-align: right;\">\n",
       "      <th></th>\n",
       "      <th>firstName</th>\n",
       "      <th>lastName</th>\n",
       "      <th>city</th>\n",
       "      <th>state</th>\n",
       "    </tr>\n",
       "  </thead>\n",
       "  <tbody>\n",
       "    <tr>\n",
       "      <th>0</th>\n",
       "      <td>Allen</td>\n",
       "      <td>Wang</td>\n",
       "      <td>None</td>\n",
       "      <td>None</td>\n",
       "    </tr>\n",
       "    <tr>\n",
       "      <th>1</th>\n",
       "      <td>Bob</td>\n",
       "      <td>Alice</td>\n",
       "      <td>New York City</td>\n",
       "      <td>New York</td>\n",
       "    </tr>\n",
       "  </tbody>\n",
       "</table>\n",
       "</div>"
      ],
      "text/plain": [
       "  firstName lastName           city     state\n",
       "0     Allen     Wang           None      None\n",
       "1       Bob    Alice  New York City  New York"
      ]
     },
     "execution_count": 57,
     "metadata": {},
     "output_type": "execute_result"
    }
   ],
   "source": [
    "pd.read_sql('''select firstName, lastName, city, state from persons left join addresses\n",
    "            on persons.personId = addresses.personId''', conn)"
   ]
  },
  {
   "cell_type": "markdown",
   "id": "61653e58-e811-4c94-b726-cca12174e08b",
   "metadata": {},
   "source": [
    "Finally, we saw how we can count the number of present values with a simple `count` statement.  "
   ]
  },
  {
   "cell_type": "code",
   "execution_count": null,
   "id": "b9af3c1f-7e25-4a86-9ba1-120286db7c69",
   "metadata": {},
   "outputs": [],
   "source": [
    "query = '''select firstName, lastName, city, state, count(city) num_of_city, count(state) num_of_state\n",
    "from persons left join addresses\n",
    "on persons.personId = addresses.personId'''\n",
    "\n",
    "pd.read_sql(query, conn)"
   ]
  },
  {
   "cell_type": "markdown",
   "id": "40d30925-7ef5-4cfa-92bb-9febcda1476a",
   "metadata": {},
   "source": [
    "And we saw how we can also perform the same calculation by using a case when statement."
   ]
  },
  {
   "cell_type": "code",
   "execution_count": 58,
   "id": "c860aebb-fefc-47b2-969e-509c0a16b5e0",
   "metadata": {},
   "outputs": [
    {
     "data": {
      "text/html": [
       "<div>\n",
       "<style scoped>\n",
       "    .dataframe tbody tr th:only-of-type {\n",
       "        vertical-align: middle;\n",
       "    }\n",
       "\n",
       "    .dataframe tbody tr th {\n",
       "        vertical-align: top;\n",
       "    }\n",
       "\n",
       "    .dataframe thead th {\n",
       "        text-align: right;\n",
       "    }\n",
       "</style>\n",
       "<table border=\"1\" class=\"dataframe\">\n",
       "  <thead>\n",
       "    <tr style=\"text-align: right;\">\n",
       "      <th></th>\n",
       "      <th>firstName</th>\n",
       "      <th>lastName</th>\n",
       "      <th>city</th>\n",
       "      <th>state</th>\n",
       "      <th>num_of_state</th>\n",
       "      <th>num_of_city</th>\n",
       "    </tr>\n",
       "  </thead>\n",
       "  <tbody>\n",
       "    <tr>\n",
       "      <th>0</th>\n",
       "      <td>Allen</td>\n",
       "      <td>Wang</td>\n",
       "      <td>None</td>\n",
       "      <td>None</td>\n",
       "      <td>1</td>\n",
       "      <td>1</td>\n",
       "    </tr>\n",
       "  </tbody>\n",
       "</table>\n",
       "</div>"
      ],
      "text/plain": [
       "  firstName lastName  city state  num_of_state  num_of_city\n",
       "0     Allen     Wang  None  None             1            1"
      ]
     },
     "execution_count": 58,
     "metadata": {},
     "output_type": "execute_result"
    }
   ],
   "source": [
    "query = '''select\n",
    "sum(case when persons.personid then 1 else 0 end) as total_persons,\n",
    "sum(case when addressid then 1 else 0 end) as persons_with_address,\n",
    "sum(case when addressid is null then 1 else 0 end) as persons_without\n",
    "from persons left join addresses\n",
    "on persons.personId = addresses.personId\n",
    "'''\n",
    "\n",
    "pd.read_sql(query, conn)\n"
   ]
  }
 ],
 "metadata": {
  "kernelspec": {
   "display_name": "Python 3 (ipykernel)",
   "language": "python",
   "name": "python3"
  },
  "language_info": {
   "codemirror_mode": {
    "name": "ipython",
    "version": 3
   },
   "file_extension": ".py",
   "mimetype": "text/x-python",
   "name": "python",
   "nbconvert_exporter": "python",
   "pygments_lexer": "ipython3",
   "version": "3.9.12"
  }
 },
 "nbformat": 4,
 "nbformat_minor": 5
}
