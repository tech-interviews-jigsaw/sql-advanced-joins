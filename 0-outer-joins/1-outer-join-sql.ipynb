{
 "cells": [
  {
   "cell_type": "markdown",
   "id": "8054f666-cbbf-40b6-a41a-3648035bb2a2",
   "metadata": {},
   "source": [
    "# Reviewing SQL Joins - Inner and Outer Joins"
   ]
  },
  {
   "cell_type": "markdown",
   "id": "5190975b-9a5f-4d6a-a978-42d2b20e91d7",
   "metadata": {},
   "source": [
    "When performing joins, we have multiple types, an inner join, an outer join, and a full outer join.  In this lesson, we'll review the different kinds of joins and learn use cases for them."
   ]
  },
  {
   "cell_type": "markdown",
   "id": "8ae41195-f006-4d6a-9dc0-2688a038059c",
   "metadata": {},
   "source": [
    "### Loading our data"
   ]
  },
  {
   "cell_type": "markdown",
   "id": "06c60ae9-fd26-4722-ad45-0f1f4a89ecab",
   "metadata": {},
   "source": [
    "We can begin by loading our data."
   ]
  },
  {
   "cell_type": "code",
   "execution_count": 31,
   "id": "cda3f882-ebe3-42b7-bcc2-82aca3c28511",
   "metadata": {},
   "outputs": [],
   "source": [
    "import sqlite3\n",
    "\n",
    "conn = sqlite3.connect('crm.db')\n",
    "\n",
    "def build_dataframe(data):\n",
    "    columns = data['headers']\n",
    "    values = data['values']\n",
    "    df = pd.DataFrame(values)\n",
    "    df.columns = columns\n",
    "    return df"
   ]
  },
  {
   "cell_type": "code",
   "execution_count": 32,
   "id": "b101ff0b-9588-4bb5-8075-4184c0a0ecd9",
   "metadata": {},
   "outputs": [],
   "source": [
    "import pandas as pd\n",
    "data = {\"headers\": [\"personId\", \"firstName\", \"lastName\"], \"values\": [[1, \"Allen\", \"Wang\"], [2, \"Bob\", \"Alice\"]]}"
   ]
  },
  {
   "cell_type": "code",
   "execution_count": 33,
   "id": "18d10d88-004d-4eea-981a-9e5e100195b5",
   "metadata": {},
   "outputs": [],
   "source": [
    "df = build_dataframe(data)"
   ]
  },
  {
   "cell_type": "code",
   "execution_count": 34,
   "id": "c114cb0e-f77f-4bbc-bbda-032c22d84eeb",
   "metadata": {},
   "outputs": [
    {
     "data": {
      "text/plain": [
       "2"
      ]
     },
     "execution_count": 34,
     "metadata": {},
     "output_type": "execute_result"
    }
   ],
   "source": [
    "df.to_sql('persons', conn, if_exists = 'replace', index = False)"
   ]
  },
  {
   "cell_type": "code",
   "execution_count": 35,
   "id": "3513b066-3592-4fe5-84d4-2f0515ef213b",
   "metadata": {},
   "outputs": [
    {
     "data": {
      "text/html": [
       "<div>\n",
       "<style scoped>\n",
       "    .dataframe tbody tr th:only-of-type {\n",
       "        vertical-align: middle;\n",
       "    }\n",
       "\n",
       "    .dataframe tbody tr th {\n",
       "        vertical-align: top;\n",
       "    }\n",
       "\n",
       "    .dataframe thead th {\n",
       "        text-align: right;\n",
       "    }\n",
       "</style>\n",
       "<table border=\"1\" class=\"dataframe\">\n",
       "  <thead>\n",
       "    <tr style=\"text-align: right;\">\n",
       "      <th></th>\n",
       "      <th>personId</th>\n",
       "      <th>firstName</th>\n",
       "      <th>lastName</th>\n",
       "    </tr>\n",
       "  </thead>\n",
       "  <tbody>\n",
       "    <tr>\n",
       "      <th>0</th>\n",
       "      <td>1</td>\n",
       "      <td>Allen</td>\n",
       "      <td>Wang</td>\n",
       "    </tr>\n",
       "    <tr>\n",
       "      <th>1</th>\n",
       "      <td>2</td>\n",
       "      <td>Bob</td>\n",
       "      <td>Alice</td>\n",
       "    </tr>\n",
       "  </tbody>\n",
       "</table>\n",
       "</div>"
      ],
      "text/plain": [
       "   personId firstName lastName\n",
       "0         1     Allen     Wang\n",
       "1         2       Bob    Alice"
      ]
     },
     "execution_count": 35,
     "metadata": {},
     "output_type": "execute_result"
    }
   ],
   "source": [
    "pd.read_sql('select * from persons', conn)"
   ]
  },
  {
   "cell_type": "code",
   "execution_count": 36,
   "id": "4e406fb8-9ae3-4378-ae02-594c2e4a19e0",
   "metadata": {},
   "outputs": [],
   "source": [
    "data = {\"headers\": [\"addressId\", \"personId\", \"city\", \"state\"], \"values\": [[1, 2, \"New York City\", \"New York\"], [2, 3, \"Leetcode\", \"California\"]]}"
   ]
  },
  {
   "cell_type": "code",
   "execution_count": 37,
   "id": "56ade943-b252-46a3-a524-fbcea1ccd77d",
   "metadata": {},
   "outputs": [],
   "source": [
    "df = build_dataframe(data)"
   ]
  },
  {
   "cell_type": "code",
   "execution_count": 39,
   "id": "6d6aa618-189a-46d7-b08e-3ef3449dc783",
   "metadata": {},
   "outputs": [
    {
     "data": {
      "text/plain": [
       "2"
      ]
     },
     "execution_count": 39,
     "metadata": {},
     "output_type": "execute_result"
    }
   ],
   "source": [
    "df.to_sql('addresses', conn, if_exists = 'replace', index = False)"
   ]
  },
  {
   "cell_type": "markdown",
   "id": "b02bf52e-b2ec-4801-9266-5df21b1eefe1",
   "metadata": {},
   "source": [
    "### Viewing our Data"
   ]
  },
  {
   "cell_type": "markdown",
   "id": "af4c6748-4788-4fb6-bb52-281b58bb946f",
   "metadata": {},
   "source": [
    "Now let's take a look at our data."
   ]
  },
  {
   "cell_type": "code",
   "execution_count": 40,
   "id": "b1cab3c5-1e53-4e40-9089-0190939af75a",
   "metadata": {},
   "outputs": [
    {
     "data": {
      "text/html": [
       "<div>\n",
       "<style scoped>\n",
       "    .dataframe tbody tr th:only-of-type {\n",
       "        vertical-align: middle;\n",
       "    }\n",
       "\n",
       "    .dataframe tbody tr th {\n",
       "        vertical-align: top;\n",
       "    }\n",
       "\n",
       "    .dataframe thead th {\n",
       "        text-align: right;\n",
       "    }\n",
       "</style>\n",
       "<table border=\"1\" class=\"dataframe\">\n",
       "  <thead>\n",
       "    <tr style=\"text-align: right;\">\n",
       "      <th></th>\n",
       "      <th>personId</th>\n",
       "      <th>firstName</th>\n",
       "      <th>lastName</th>\n",
       "    </tr>\n",
       "  </thead>\n",
       "  <tbody>\n",
       "    <tr>\n",
       "      <th>0</th>\n",
       "      <td>1</td>\n",
       "      <td>Allen</td>\n",
       "      <td>Wang</td>\n",
       "    </tr>\n",
       "    <tr>\n",
       "      <th>1</th>\n",
       "      <td>2</td>\n",
       "      <td>Bob</td>\n",
       "      <td>Alice</td>\n",
       "    </tr>\n",
       "  </tbody>\n",
       "</table>\n",
       "</div>"
      ],
      "text/plain": [
       "   personId firstName lastName\n",
       "0         1     Allen     Wang\n",
       "1         2       Bob    Alice"
      ]
     },
     "execution_count": 40,
     "metadata": {},
     "output_type": "execute_result"
    }
   ],
   "source": [
    "pd.read_sql('select * from persons', conn)"
   ]
  },
  {
   "cell_type": "code",
   "execution_count": 41,
   "id": "dfd8f8b0-92f5-49c4-aba7-6397cad0d385",
   "metadata": {},
   "outputs": [
    {
     "data": {
      "text/html": [
       "<div>\n",
       "<style scoped>\n",
       "    .dataframe tbody tr th:only-of-type {\n",
       "        vertical-align: middle;\n",
       "    }\n",
       "\n",
       "    .dataframe tbody tr th {\n",
       "        vertical-align: top;\n",
       "    }\n",
       "\n",
       "    .dataframe thead th {\n",
       "        text-align: right;\n",
       "    }\n",
       "</style>\n",
       "<table border=\"1\" class=\"dataframe\">\n",
       "  <thead>\n",
       "    <tr style=\"text-align: right;\">\n",
       "      <th></th>\n",
       "      <th>addressId</th>\n",
       "      <th>personId</th>\n",
       "      <th>city</th>\n",
       "      <th>state</th>\n",
       "    </tr>\n",
       "  </thead>\n",
       "  <tbody>\n",
       "    <tr>\n",
       "      <th>0</th>\n",
       "      <td>1</td>\n",
       "      <td>2</td>\n",
       "      <td>New York City</td>\n",
       "      <td>New York</td>\n",
       "    </tr>\n",
       "    <tr>\n",
       "      <th>1</th>\n",
       "      <td>2</td>\n",
       "      <td>3</td>\n",
       "      <td>Leetcode</td>\n",
       "      <td>California</td>\n",
       "    </tr>\n",
       "  </tbody>\n",
       "</table>\n",
       "</div>"
      ],
      "text/plain": [
       "   addressId  personId           city       state\n",
       "0          1         2  New York City    New York\n",
       "1          2         3       Leetcode  California"
      ]
     },
     "execution_count": 41,
     "metadata": {},
     "output_type": "execute_result"
    }
   ],
   "source": [
    "pd.read_sql('select * from addresses', conn)"
   ]
  },
  {
   "cell_type": "markdown",
   "id": "7f21ac70-4ac3-4aec-8eee-6e668fd84290",
   "metadata": {},
   "source": [
    "So we can see that the column joining our two tables is the personId column."
   ]
  },
  {
   "cell_type": "markdown",
   "id": "784c3863-eb91-4dba-b0b9-c0824345bafb",
   "metadata": {},
   "source": [
    "### Some queries"
   ]
  },
  {
   "cell_type": "markdown",
   "id": "4841bef3-ce35-4372-8ad8-a32f2e0980ea",
   "metadata": {},
   "source": [
    "Now write a query that will only display rows where both the person *and* the related address exists.  "
   ]
  },
  {
   "cell_type": "code",
   "execution_count": 43,
   "id": "24cc9255-6494-4fc6-9342-207bbd030ed5",
   "metadata": {},
   "outputs": [
    {
     "data": {
      "text/html": [
       "<div>\n",
       "<style scoped>\n",
       "    .dataframe tbody tr th:only-of-type {\n",
       "        vertical-align: middle;\n",
       "    }\n",
       "\n",
       "    .dataframe tbody tr th {\n",
       "        vertical-align: top;\n",
       "    }\n",
       "\n",
       "    .dataframe thead th {\n",
       "        text-align: right;\n",
       "    }\n",
       "</style>\n",
       "<table border=\"1\" class=\"dataframe\">\n",
       "  <thead>\n",
       "    <tr style=\"text-align: right;\">\n",
       "      <th></th>\n",
       "      <th>personId</th>\n",
       "      <th>firstName</th>\n",
       "      <th>lastName</th>\n",
       "      <th>addressId</th>\n",
       "      <th>personId</th>\n",
       "      <th>city</th>\n",
       "      <th>state</th>\n",
       "    </tr>\n",
       "  </thead>\n",
       "  <tbody>\n",
       "    <tr>\n",
       "      <th>0</th>\n",
       "      <td>2</td>\n",
       "      <td>Bob</td>\n",
       "      <td>Alice</td>\n",
       "      <td>1</td>\n",
       "      <td>2</td>\n",
       "      <td>New York City</td>\n",
       "      <td>New York</td>\n",
       "    </tr>\n",
       "  </tbody>\n",
       "</table>\n",
       "</div>"
      ],
      "text/plain": [
       "   personId firstName lastName  addressId  personId           city     state\n",
       "0         2       Bob    Alice          1         2  New York City  New York"
      ]
     },
     "execution_count": 43,
     "metadata": {},
     "output_type": "execute_result"
    }
   ],
   "source": [
    "pd.read_sql('''\n",
    "\n",
    "''', conn)\n",
    "\n",
    "\n",
    "# personId\tfirstName\tlastName\taddressId\tpersonId\tcity\tstate\n",
    "# 0\t2\tBob\tAlice\t1\t2\tNew York City\tNew York"
   ]
  },
  {
   "cell_type": "markdown",
   "id": "4d299396-7cd1-4884-abde-3f9ff24e9e11",
   "metadata": {},
   "source": [
    "Next write a query that only returns firstName, lastName, city and state.  If the address information is not available for that person, return null for city and state."
   ]
  },
  {
   "cell_type": "code",
   "execution_count": 46,
   "id": "fcd6bfff-7bc3-4ee9-82e7-28a519871ac8",
   "metadata": {},
   "outputs": [
    {
     "data": {
      "text/html": [
       "<div>\n",
       "<style scoped>\n",
       "    .dataframe tbody tr th:only-of-type {\n",
       "        vertical-align: middle;\n",
       "    }\n",
       "\n",
       "    .dataframe tbody tr th {\n",
       "        vertical-align: top;\n",
       "    }\n",
       "\n",
       "    .dataframe thead th {\n",
       "        text-align: right;\n",
       "    }\n",
       "</style>\n",
       "<table border=\"1\" class=\"dataframe\">\n",
       "  <thead>\n",
       "    <tr style=\"text-align: right;\">\n",
       "      <th></th>\n",
       "      <th>firstName</th>\n",
       "      <th>lastName</th>\n",
       "      <th>city</th>\n",
       "      <th>state</th>\n",
       "    </tr>\n",
       "  </thead>\n",
       "  <tbody>\n",
       "    <tr>\n",
       "      <th>0</th>\n",
       "      <td>Allen</td>\n",
       "      <td>Wang</td>\n",
       "      <td>None</td>\n",
       "      <td>None</td>\n",
       "    </tr>\n",
       "    <tr>\n",
       "      <th>1</th>\n",
       "      <td>Bob</td>\n",
       "      <td>Alice</td>\n",
       "      <td>New York City</td>\n",
       "      <td>New York</td>\n",
       "    </tr>\n",
       "  </tbody>\n",
       "</table>\n",
       "</div>"
      ],
      "text/plain": [
       "  firstName lastName           city     state\n",
       "0     Allen     Wang           None      None\n",
       "1       Bob    Alice  New York City  New York"
      ]
     },
     "execution_count": 46,
     "metadata": {},
     "output_type": "execute_result"
    }
   ],
   "source": [
    "pd.read_sql('''  ''', conn)\n",
    "\n",
    "# \tfirstName\tlastName\tcity\tstate\n",
    "# 0\tAllen\tWang\tNone\tNone\n",
    "# 1\tBob\tAlice\tNew York City\tNew York"
   ]
  },
  {
   "cell_type": "markdown",
   "id": "19e5dd06-7e88-47eb-bbb1-44c3e5123e4a",
   "metadata": {},
   "source": [
    "Now there are sometimes that we would like to count up the number of values that are present, or that are not.  \n",
    "\n",
    "> **Do not** use a case when to perform this."
   ]
  },
  {
   "cell_type": "code",
   "execution_count": 53,
   "id": "a4b1373d-7975-41c0-a897-7b1e601d9eec",
   "metadata": {},
   "outputs": [
    {
     "data": {
      "text/html": [
       "<div>\n",
       "<style scoped>\n",
       "    .dataframe tbody tr th:only-of-type {\n",
       "        vertical-align: middle;\n",
       "    }\n",
       "\n",
       "    .dataframe tbody tr th {\n",
       "        vertical-align: top;\n",
       "    }\n",
       "\n",
       "    .dataframe thead th {\n",
       "        text-align: right;\n",
       "    }\n",
       "</style>\n",
       "<table border=\"1\" class=\"dataframe\">\n",
       "  <thead>\n",
       "    <tr style=\"text-align: right;\">\n",
       "      <th></th>\n",
       "      <th>firstName</th>\n",
       "      <th>lastName</th>\n",
       "      <th>city</th>\n",
       "      <th>state</th>\n",
       "      <th>num_of_city</th>\n",
       "      <th>num_of_state</th>\n",
       "    </tr>\n",
       "  </thead>\n",
       "  <tbody>\n",
       "    <tr>\n",
       "      <th>0</th>\n",
       "      <td>Allen</td>\n",
       "      <td>Wang</td>\n",
       "      <td>None</td>\n",
       "      <td>None</td>\n",
       "      <td>1</td>\n",
       "      <td>1</td>\n",
       "    </tr>\n",
       "  </tbody>\n",
       "</table>\n",
       "</div>"
      ],
      "text/plain": [
       "  firstName lastName  city state  num_of_city  num_of_state\n",
       "0     Allen     Wang  None  None            1             1"
      ]
     },
     "execution_count": 53,
     "metadata": {},
     "output_type": "execute_result"
    }
   ],
   "source": [
    "query = '''\n",
    "\n",
    "'''\n",
    "\n",
    "pd.read_sql(query, conn)\n",
    "\n",
    "# \tfirstName\tlastName\tcity\tstate\tnum_of_city\tnum_of_state\n",
    "# 0\tAllen\tWang\tNone\tNone\t1\t1"
   ]
  },
  {
   "cell_type": "markdown",
   "id": "127104cb-1680-4a73-ad96-35cc50225fcf",
   "metadata": {},
   "source": [
    "And now, do use a case when statement to perform this."
   ]
  },
  {
   "cell_type": "code",
   "execution_count": 56,
   "id": "6e4dbfc8-866a-4f2a-a8f6-b0fb6d847ca1",
   "metadata": {},
   "outputs": [
    {
     "data": {
      "text/html": [
       "<div>\n",
       "<style scoped>\n",
       "    .dataframe tbody tr th:only-of-type {\n",
       "        vertical-align: middle;\n",
       "    }\n",
       "\n",
       "    .dataframe tbody tr th {\n",
       "        vertical-align: top;\n",
       "    }\n",
       "\n",
       "    .dataframe thead th {\n",
       "        text-align: right;\n",
       "    }\n",
       "</style>\n",
       "<table border=\"1\" class=\"dataframe\">\n",
       "  <thead>\n",
       "    <tr style=\"text-align: right;\">\n",
       "      <th></th>\n",
       "      <th>firstName</th>\n",
       "      <th>lastName</th>\n",
       "      <th>city</th>\n",
       "      <th>state</th>\n",
       "      <th>num_of_state</th>\n",
       "      <th>num_of_city</th>\n",
       "    </tr>\n",
       "  </thead>\n",
       "  <tbody>\n",
       "    <tr>\n",
       "      <th>0</th>\n",
       "      <td>Allen</td>\n",
       "      <td>Wang</td>\n",
       "      <td>None</td>\n",
       "      <td>None</td>\n",
       "      <td>1</td>\n",
       "      <td>1</td>\n",
       "    </tr>\n",
       "  </tbody>\n",
       "</table>\n",
       "</div>"
      ],
      "text/plain": [
       "  firstName lastName  city state  num_of_state  num_of_city\n",
       "0     Allen     Wang  None  None             1            1"
      ]
     },
     "execution_count": 56,
     "metadata": {},
     "output_type": "execute_result"
    }
   ],
   "source": [
    "query = '''\n",
    "\n",
    "'''\n",
    "\n",
    "pd.read_sql(query, conn)\n",
    "\n",
    "# \tfirstName\tlastName\tcity\tstate\tnum_of_city\tnum_of_state\n",
    "# 0\tAllen\tWang\tNone\tNone\t1\t1"
   ]
  },
  {
   "cell_type": "markdown",
   "id": "649e8359-6dfc-49a7-a95c-03274cf9848b",
   "metadata": {},
   "source": [
    "### Summary"
   ]
  },
  {
   "cell_type": "markdown",
   "id": "30cf78d6-d622-4c55-bb47-be43db07e6eb",
   "metadata": {},
   "source": [
    "In this lesson, we reviewed the difference between inner joins and left outer joins.  With an inner join, a record is only returned if the primary key and foreign keys are the same.  \n",
    "\n",
    "With a left outer join, the records on the left table are *always* returned.  And when there is no matching id on the right table, null values are returned.  "
   ]
  },
  {
   "cell_type": "code",
   "execution_count": 57,
   "id": "695849a7-9798-42e5-9633-58c94795495f",
   "metadata": {},
   "outputs": [
    {
     "data": {
      "text/html": [
       "<div>\n",
       "<style scoped>\n",
       "    .dataframe tbody tr th:only-of-type {\n",
       "        vertical-align: middle;\n",
       "    }\n",
       "\n",
       "    .dataframe tbody tr th {\n",
       "        vertical-align: top;\n",
       "    }\n",
       "\n",
       "    .dataframe thead th {\n",
       "        text-align: right;\n",
       "    }\n",
       "</style>\n",
       "<table border=\"1\" class=\"dataframe\">\n",
       "  <thead>\n",
       "    <tr style=\"text-align: right;\">\n",
       "      <th></th>\n",
       "      <th>firstName</th>\n",
       "      <th>lastName</th>\n",
       "      <th>city</th>\n",
       "      <th>state</th>\n",
       "    </tr>\n",
       "  </thead>\n",
       "  <tbody>\n",
       "    <tr>\n",
       "      <th>0</th>\n",
       "      <td>Allen</td>\n",
       "      <td>Wang</td>\n",
       "      <td>None</td>\n",
       "      <td>None</td>\n",
       "    </tr>\n",
       "    <tr>\n",
       "      <th>1</th>\n",
       "      <td>Bob</td>\n",
       "      <td>Alice</td>\n",
       "      <td>New York City</td>\n",
       "      <td>New York</td>\n",
       "    </tr>\n",
       "  </tbody>\n",
       "</table>\n",
       "</div>"
      ],
      "text/plain": [
       "  firstName lastName           city     state\n",
       "0     Allen     Wang           None      None\n",
       "1       Bob    Alice  New York City  New York"
      ]
     },
     "execution_count": 57,
     "metadata": {},
     "output_type": "execute_result"
    }
   ],
   "source": [
    "pd.read_sql('''select firstName, lastName, city, state from persons left join addresses\n",
    "            on persons.personId = addresses.personId''', conn)"
   ]
  },
  {
   "cell_type": "markdown",
   "id": "61653e58-e811-4c94-b726-cca12174e08b",
   "metadata": {},
   "source": [
    "Finally, we saw how we can count the number of present values with a simple `count` statement.  "
   ]
  },
  {
   "cell_type": "code",
   "execution_count": null,
   "id": "b9af3c1f-7e25-4a86-9ba1-120286db7c69",
   "metadata": {},
   "outputs": [],
   "source": [
    "query = '''select firstName, lastName, city, state, count(city) num_of_city, count(state) num_of_state\n",
    "from persons left join addresses\n",
    "on persons.personId = addresses.personId'''\n",
    "\n",
    "pd.read_sql(query, conn)"
   ]
  },
  {
   "cell_type": "markdown",
   "id": "40d30925-7ef5-4cfa-92bb-9febcda1476a",
   "metadata": {},
   "source": [
    "And we saw how we can also perform the same calculation by using a case when statement."
   ]
  },
  {
   "cell_type": "code",
   "execution_count": 58,
   "id": "c860aebb-fefc-47b2-969e-509c0a16b5e0",
   "metadata": {},
   "outputs": [
    {
     "data": {
      "text/html": [
       "<div>\n",
       "<style scoped>\n",
       "    .dataframe tbody tr th:only-of-type {\n",
       "        vertical-align: middle;\n",
       "    }\n",
       "\n",
       "    .dataframe tbody tr th {\n",
       "        vertical-align: top;\n",
       "    }\n",
       "\n",
       "    .dataframe thead th {\n",
       "        text-align: right;\n",
       "    }\n",
       "</style>\n",
       "<table border=\"1\" class=\"dataframe\">\n",
       "  <thead>\n",
       "    <tr style=\"text-align: right;\">\n",
       "      <th></th>\n",
       "      <th>firstName</th>\n",
       "      <th>lastName</th>\n",
       "      <th>city</th>\n",
       "      <th>state</th>\n",
       "      <th>num_of_state</th>\n",
       "      <th>num_of_city</th>\n",
       "    </tr>\n",
       "  </thead>\n",
       "  <tbody>\n",
       "    <tr>\n",
       "      <th>0</th>\n",
       "      <td>Allen</td>\n",
       "      <td>Wang</td>\n",
       "      <td>None</td>\n",
       "      <td>None</td>\n",
       "      <td>1</td>\n",
       "      <td>1</td>\n",
       "    </tr>\n",
       "  </tbody>\n",
       "</table>\n",
       "</div>"
      ],
      "text/plain": [
       "  firstName lastName  city state  num_of_state  num_of_city\n",
       "0     Allen     Wang  None  None             1            1"
      ]
     },
     "execution_count": 58,
     "metadata": {},
     "output_type": "execute_result"
    }
   ],
   "source": [
    "query = '''select firstName, lastName, city, state, \n",
    "sum(case when state is null then 1 else 0 end) as num_of_state,\n",
    "sum(case when state is null then 1 else 0 end) as num_of_city\n",
    "from persons left join addresses\n",
    "on persons.personId = addresses.personId'''\n",
    "\n",
    "pd.read_sql(query, conn)\n"
   ]
  }
 ],
 "metadata": {
  "kernelspec": {
   "display_name": "Python 3 (ipykernel)",
   "language": "python",
   "name": "python3"
  },
  "language_info": {
   "codemirror_mode": {
    "name": "ipython",
    "version": 3
   },
   "file_extension": ".py",
   "mimetype": "text/x-python",
   "name": "python",
   "nbconvert_exporter": "python",
   "pygments_lexer": "ipython3",
   "version": "3.9.10"
  }
 },
 "nbformat": 4,
 "nbformat_minor": 5
}
