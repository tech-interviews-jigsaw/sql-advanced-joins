{
 "cells": [
  {
   "cell_type": "code",
   "execution_count": 2,
   "id": "26c820ed-fa5e-4999-8bcb-eb798e08fa50",
   "metadata": {},
   "outputs": [],
   "source": [
    "def build_dataframe(data):\n",
    "    columns = data['headers']\n",
    "    values = data['values']\n",
    "    df = pd.DataFrame(values)\n",
    "    df.columns = columns\n",
    "    return df\n",
    "\n",
    "import pandas as pd\n",
    "data = {\"headers\": [\"personId\", \"firstName\", \"lastName\"], \"values\": [[1, \"Allen\", \"Wang\"], [2, \"Bob\", \"Sanders\"]]}"
   ]
  },
  {
   "cell_type": "code",
   "execution_count": 8,
   "id": "97c1a7d4-53bf-495c-b387-65a7db6a1a07",
   "metadata": {},
   "outputs": [],
   "source": [
    "person_df = build_dataframe(data)"
   ]
  },
  {
   "cell_type": "code",
   "execution_count": 9,
   "id": "0f57bcc0-e4cb-4e3e-a98e-98068e419571",
   "metadata": {},
   "outputs": [],
   "source": [
    "person_df.to_csv('persons.csv', index = False)"
   ]
  },
  {
   "cell_type": "code",
   "execution_count": 10,
   "id": "aff03ecc-4250-45e9-9a64-d8597431cc30",
   "metadata": {},
   "outputs": [],
   "source": [
    "person_df = pd.read_csv('./persons.csv')"
   ]
  },
  {
   "cell_type": "code",
   "execution_count": 11,
   "id": "b696642b-b02f-49fd-b370-02c1e73085bb",
   "metadata": {},
   "outputs": [
    {
     "data": {
      "text/html": [
       "<div>\n",
       "<style scoped>\n",
       "    .dataframe tbody tr th:only-of-type {\n",
       "        vertical-align: middle;\n",
       "    }\n",
       "\n",
       "    .dataframe tbody tr th {\n",
       "        vertical-align: top;\n",
       "    }\n",
       "\n",
       "    .dataframe thead th {\n",
       "        text-align: right;\n",
       "    }\n",
       "</style>\n",
       "<table border=\"1\" class=\"dataframe\">\n",
       "  <thead>\n",
       "    <tr style=\"text-align: right;\">\n",
       "      <th></th>\n",
       "      <th>personId</th>\n",
       "      <th>firstName</th>\n",
       "      <th>lastName</th>\n",
       "    </tr>\n",
       "  </thead>\n",
       "  <tbody>\n",
       "    <tr>\n",
       "      <th>0</th>\n",
       "      <td>1</td>\n",
       "      <td>Allen</td>\n",
       "      <td>Wang</td>\n",
       "    </tr>\n",
       "    <tr>\n",
       "      <th>1</th>\n",
       "      <td>2</td>\n",
       "      <td>Bob</td>\n",
       "      <td>Sanders</td>\n",
       "    </tr>\n",
       "  </tbody>\n",
       "</table>\n",
       "</div>"
      ],
      "text/plain": [
       "   personId firstName lastName\n",
       "0         1     Allen     Wang\n",
       "1         2       Bob  Sanders"
      ]
     },
     "execution_count": 11,
     "metadata": {},
     "output_type": "execute_result"
    }
   ],
   "source": [
    "person_df"
   ]
  },
  {
   "cell_type": "code",
   "execution_count": null,
   "id": "f3cd9831-5736-4ea2-a1b4-885e6c8db145",
   "metadata": {},
   "outputs": [],
   "source": []
  }
 ],
 "metadata": {
  "kernelspec": {
   "display_name": "Python 3 (ipykernel)",
   "language": "python",
   "name": "python3"
  },
  "language_info": {
   "codemirror_mode": {
    "name": "ipython",
    "version": 3
   },
   "file_extension": ".py",
   "mimetype": "text/x-python",
   "name": "python",
   "nbconvert_exporter": "python",
   "pygments_lexer": "ipython3",
   "version": "3.9.12"
  }
 },
 "nbformat": 4,
 "nbformat_minor": 5
}
