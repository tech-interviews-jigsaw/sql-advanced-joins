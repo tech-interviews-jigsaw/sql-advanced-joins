{
 "cells": [
  {
   "cell_type": "markdown",
   "id": "4224e4ba-810c-4575-9085-ae3583ed5590",
   "metadata": {},
   "source": [
    "# Cross Device Users"
   ]
  },
  {
   "cell_type": "markdown",
   "id": "2b4e6bd2-f0d0-4307-81bf-4068eb13e3ca",
   "metadata": {},
   "source": [
    "### Introduction"
   ]
  },
  {
   "cell_type": "markdown",
   "id": "12dd3d17-9251-4544-a082-3701b10ad4ef",
   "metadata": {},
   "source": [
    "We have two tables. One table has all mobile actions, i.e. all pages visited by the users on mobile. The other table has all web actions, i.e. all pages visited on web by the users."
   ]
  },
  {
   "cell_type": "markdown",
   "id": "7f63fe3d-d8e4-4922-8ebf-6197f0d3e92c",
   "metadata": {},
   "source": [
    "## Loading our Data"
   ]
  },
  {
   "cell_type": "code",
   "execution_count": 49,
   "id": "ed3cbd0b-84ca-4595-a979-ecb2142922b0",
   "metadata": {},
   "outputs": [],
   "source": [
    "import pandas as pd"
   ]
  },
  {
   "cell_type": "code",
   "execution_count": 51,
   "id": "e61817a0-a5af-40d4-90ed-ed8a945fb882",
   "metadata": {},
   "outputs": [],
   "source": [
    "mobile_users = pd.read_csv('./query/unique_mobile.csv')\n",
    "web_users = pd.read_csv('./query/unique_web.csv')"
   ]
  },
  {
   "cell_type": "markdown",
   "id": "987c2a6b-e764-46b1-b7ee-f510640113cd",
   "metadata": {},
   "source": [
    "Currently, we have a list of unique mobile users.  "
   ]
  },
  {
   "cell_type": "code",
   "execution_count": 1,
   "id": "1a549741-e483-4852-9098-bb2058a60ea1",
   "metadata": {},
   "outputs": [],
   "source": [
    "import sqlite3\n",
    "conn = sqlite3.connect('users.db')\n",
    "\n",
    "mobile_users.to_sql('mobile_users', conn, index = False, if_exists = 'replace')\n",
    "web_users.to_sql('web_users', conn, index = False, if_exists = 'replace')"
   ]
  },
  {
   "cell_type": "markdown",
   "id": "4d253ff0-3379-4c7f-93b2-80f44c54741d",
   "metadata": {},
   "source": [
    "### Exploring our Data"
   ]
  },
  {
   "cell_type": "markdown",
   "id": "b6d175e2-5716-4ecd-b6f3-9ba84da61375",
   "metadata": {},
   "source": [
    "In our database we have a unique list of `web_users` and a unique list of `mobile_users` in those respective tables."
   ]
  },
  {
   "cell_type": "code",
   "execution_count": 52,
   "id": "5a3e5ba6-62f1-402f-b80e-4e7bebfb3c5b",
   "metadata": {},
   "outputs": [
    {
     "data": {
      "text/html": [
       "<div>\n",
       "<style scoped>\n",
       "    .dataframe tbody tr th:only-of-type {\n",
       "        vertical-align: middle;\n",
       "    }\n",
       "\n",
       "    .dataframe tbody tr th {\n",
       "        vertical-align: top;\n",
       "    }\n",
       "\n",
       "    .dataframe thead th {\n",
       "        text-align: right;\n",
       "    }\n",
       "</style>\n",
       "<table border=\"1\" class=\"dataframe\">\n",
       "  <thead>\n",
       "    <tr style=\"text-align: right;\">\n",
       "      <th></th>\n",
       "      <th>user_id</th>\n",
       "    </tr>\n",
       "  </thead>\n",
       "  <tbody>\n",
       "    <tr>\n",
       "      <th>0</th>\n",
       "      <td>1210</td>\n",
       "    </tr>\n",
       "    <tr>\n",
       "      <th>1</th>\n",
       "      <td>1275</td>\n",
       "    </tr>\n",
       "    <tr>\n",
       "      <th>2</th>\n",
       "      <td>1283</td>\n",
       "    </tr>\n",
       "  </tbody>\n",
       "</table>\n",
       "</div>"
      ],
      "text/plain": [
       "   user_id\n",
       "0     1210\n",
       "1     1275\n",
       "2     1283"
      ]
     },
     "execution_count": 52,
     "metadata": {},
     "output_type": "execute_result"
    }
   ],
   "source": [
    "pd.read_sql(\"select * from web_users limit 3\", conn)"
   ]
  },
  {
   "cell_type": "code",
   "execution_count": 53,
   "id": "5e4a807f-de94-49d4-9de4-a4a9e48b3d9a",
   "metadata": {},
   "outputs": [
    {
     "data": {
      "text/html": [
       "<div>\n",
       "<style scoped>\n",
       "    .dataframe tbody tr th:only-of-type {\n",
       "        vertical-align: middle;\n",
       "    }\n",
       "\n",
       "    .dataframe tbody tr th {\n",
       "        vertical-align: top;\n",
       "    }\n",
       "\n",
       "    .dataframe thead th {\n",
       "        text-align: right;\n",
       "    }\n",
       "</style>\n",
       "<table border=\"1\" class=\"dataframe\">\n",
       "  <thead>\n",
       "    <tr style=\"text-align: right;\">\n",
       "      <th></th>\n",
       "      <th>user_id</th>\n",
       "    </tr>\n",
       "  </thead>\n",
       "  <tbody>\n",
       "    <tr>\n",
       "      <th>0</th>\n",
       "      <td>128</td>\n",
       "    </tr>\n",
       "    <tr>\n",
       "      <th>1</th>\n",
       "      <td>1324</td>\n",
       "    </tr>\n",
       "    <tr>\n",
       "      <th>2</th>\n",
       "      <td>1343</td>\n",
       "    </tr>\n",
       "  </tbody>\n",
       "</table>\n",
       "</div>"
      ],
      "text/plain": [
       "   user_id\n",
       "0      128\n",
       "1     1324\n",
       "2     1343"
      ]
     },
     "execution_count": 53,
     "metadata": {},
     "output_type": "execute_result"
    }
   ],
   "source": [
    "pd.read_sql(\"select * from mobile_users limit 3\", conn)"
   ]
  },
  {
   "cell_type": "markdown",
   "id": "a87eef0c-65f5-4f12-8612-7c95edea86d9",
   "metadata": {},
   "source": [
    "### Finding Web Only\n",
    "\n",
    "Use an outer join to find the percentage of *web users* who are not mobile users."
   ]
  },
  {
   "cell_type": "markdown",
   "id": "155d53f8-6512-45d1-bf31-171ca402c511",
   "metadata": {},
   "source": [
    "> You should find that 23% of the web users are not mobile users."
   ]
  },
  {
   "cell_type": "markdown",
   "id": "abcbe73d-0bc4-4f97-b79f-1f004fb1e5c5",
   "metadata": {},
   "source": [
    "> **Hint**: to display the calculation, multiply the percentage by 100."
   ]
  },
  {
   "cell_type": "code",
   "execution_count": 37,
   "id": "f33477ac-31e0-4d8f-807b-fa693a39ed49",
   "metadata": {},
   "outputs": [
    {
     "data": {
      "text/html": [
       "<div>\n",
       "<style scoped>\n",
       "    .dataframe tbody tr th:only-of-type {\n",
       "        vertical-align: middle;\n",
       "    }\n",
       "\n",
       "    .dataframe tbody tr th {\n",
       "        vertical-align: top;\n",
       "    }\n",
       "\n",
       "    .dataframe thead th {\n",
       "        text-align: right;\n",
       "    }\n",
       "</style>\n",
       "<table border=\"1\" class=\"dataframe\">\n",
       "  <thead>\n",
       "    <tr style=\"text-align: right;\">\n",
       "      <th></th>\n",
       "      <th>web_but_not_mobile</th>\n",
       "    </tr>\n",
       "  </thead>\n",
       "  <tbody>\n",
       "    <tr>\n",
       "      <th>0</th>\n",
       "      <td>23</td>\n",
       "    </tr>\n",
       "  </tbody>\n",
       "</table>\n",
       "</div>"
      ],
      "text/plain": [
       "   web_but_not_mobile\n",
       "0                  23"
      ]
     },
     "execution_count": 37,
     "metadata": {},
     "output_type": "execute_result"
    }
   ],
   "source": [
    "query = \"\"\"select \n",
    "100*sum(case when mobile_users.user_id is null then 1 else 0 end)/count(*) as web_but_not_mobile\n",
    "from web_users\n",
    "left join mobile_users on mobile_users.user_id = web_users.user_id\"\"\"\n",
    "\n",
    "pd.read_sql(query, conn)\n",
    "\n",
    "# \tweb_but_not_mobile\n",
    "# 0\t23"
   ]
  },
  {
   "cell_type": "markdown",
   "id": "b9fe8e96-0e4a-46d4-bde6-32f7b555f69f",
   "metadata": {},
   "source": [
    "### Finding Mobile Only"
   ]
  },
  {
   "cell_type": "markdown",
   "id": "b211ba32-a1c5-4ad1-9287-54deca5500fc",
   "metadata": {},
   "source": [
    "Now find the percentage of mobile users who are not web users.  Try not to reference your above query in coming up with the solution."
   ]
  },
  {
   "cell_type": "markdown",
   "id": "c04cdcb5-3196-41c6-99c5-4e91258be1bf",
   "metadata": {},
   "source": [
    "> We should find that 37% of mobile users are not web users."
   ]
  },
  {
   "cell_type": "code",
   "execution_count": 45,
   "id": "2a927f60-c3dd-4f2e-a591-dddc120faba4",
   "metadata": {},
   "outputs": [
    {
     "data": {
      "text/html": [
       "<div>\n",
       "<style scoped>\n",
       "    .dataframe tbody tr th:only-of-type {\n",
       "        vertical-align: middle;\n",
       "    }\n",
       "\n",
       "    .dataframe tbody tr th {\n",
       "        vertical-align: top;\n",
       "    }\n",
       "\n",
       "    .dataframe thead th {\n",
       "        text-align: right;\n",
       "    }\n",
       "</style>\n",
       "<table border=\"1\" class=\"dataframe\">\n",
       "  <thead>\n",
       "    <tr style=\"text-align: right;\">\n",
       "      <th></th>\n",
       "      <th>mobile_not_web</th>\n",
       "    </tr>\n",
       "  </thead>\n",
       "  <tbody>\n",
       "    <tr>\n",
       "      <th>0</th>\n",
       "      <td>37</td>\n",
       "    </tr>\n",
       "  </tbody>\n",
       "</table>\n",
       "</div>"
      ],
      "text/plain": [
       "   mobile_not_web\n",
       "0              37"
      ]
     },
     "execution_count": 45,
     "metadata": {},
     "output_type": "execute_result"
    }
   ],
   "source": [
    "query = \"\"\"\n",
    "select \n",
    "100*sum(case when web_users.user_id is null then 1 else 0 end)/count(*) as mobile_not_web\n",
    "from mobile_users left join web_users on mobile_users.user_id = web_users.user_id\n",
    "\"\"\"\n",
    "\n",
    "pd.read_sql(query, conn)\n",
    "\n",
    "# \tmobile_not_web\n",
    "# 0\t37"
   ]
  },
  {
   "cell_type": "markdown",
   "id": "33fdf8d4-6364-461e-8b91-bda798b2f360",
   "metadata": {},
   "source": [
    "[subqueries](https://www.essentialsql.com/sql-subqueries/)"
   ]
  }
 ],
 "metadata": {
  "kernelspec": {
   "display_name": "Python 3 (ipykernel)",
   "language": "python",
   "name": "python3"
  },
  "language_info": {
   "codemirror_mode": {
    "name": "ipython",
    "version": 3
   },
   "file_extension": ".py",
   "mimetype": "text/x-python",
   "name": "python",
   "nbconvert_exporter": "python",
   "pygments_lexer": "ipython3",
   "version": "3.9.10"
  }
 },
 "nbformat": 4,
 "nbformat_minor": 5
}
