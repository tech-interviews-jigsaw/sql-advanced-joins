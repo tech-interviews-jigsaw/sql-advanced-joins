{
 "cells": [
  {
   "cell_type": "code",
   "execution_count": null,
   "id": "0ce5e1dc-a45e-4814-81b1-20aa3001a820",
   "metadata": {},
   "outputs": [],
   "source": []
  },
  {
   "cell_type": "code",
   "execution_count": null,
   "id": "fb368f51-b199-41f1-a5a1-d7f0e8618809",
   "metadata": {},
   "outputs": [],
   "source": []
  },
  {
   "cell_type": "markdown",
   "id": "2c919669-d978-421f-bf05-c7881fdc05b1",
   "metadata": {},
   "source": [
    "Write a query that returns the percentage of users who only visited mobile, only web and both. That is, the percentage of users who are only in the mobile table, only in the web table and in both tables. The sum of the percentages should return 1."
   ]
  },
  {
   "cell_type": "markdown",
   "id": "b7f5a391-407b-4147-a0aa-d10507ecc078",
   "metadata": {},
   "source": [
    "```sql\n",
    "SELECT 100*SUM(CASE WHEN m.user_id IS null THEN 1 ELSE 0 END)/COUNT(*) as WEB_ONLY,\n",
    "       100*SUM(CASE WHEN w.user_id IS null THEN 1 ELSE 0 END)/COUNT(*) as MOBILE_ONLY,\n",
    "       100*SUM(CASE WHEN m.user_id IS NOT null AND w.user_id IS NOT null THEN 1 ELSE 0 END)/COUNT(*) as BOTH\n",
    "FROM\n",
    "(SELECT distinct user_id FROM query_two_web ) w\n",
    "FULL OUTER JOIN\n",
    "(SELECT distinct user_id FROM query_two_mobile ) m\n",
    "ON m.user_id = w.user_id;\n",
    "```"
   ]
  }
 ],
 "metadata": {
  "kernelspec": {
   "display_name": "Python 3 (ipykernel)",
   "language": "python",
   "name": "python3"
  },
  "language_info": {
   "codemirror_mode": {
    "name": "ipython",
    "version": 3
   },
   "file_extension": ".py",
   "mimetype": "text/x-python",
   "name": "python",
   "nbconvert_exporter": "python",
   "pygments_lexer": "ipython3",
   "version": "3.9.10"
  }
 },
 "nbformat": 4,
 "nbformat_minor": 5
}
