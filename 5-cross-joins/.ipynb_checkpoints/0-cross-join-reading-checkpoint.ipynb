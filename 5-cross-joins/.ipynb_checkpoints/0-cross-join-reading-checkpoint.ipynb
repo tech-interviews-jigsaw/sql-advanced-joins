{
 "cells": [
  {
   "cell_type": "markdown",
   "id": "cfab31e1-37b4-451c-8540-ec166ec1379c",
   "metadata": {},
   "source": [
    "# Cross Joins"
   ]
  },
  {
   "cell_type": "markdown",
   "id": "1b8a081a-f3ca-4bb6-af4d-c85a2fe8a3f0",
   "metadata": {},
   "source": [
    "### Introduction"
   ]
  },
  {
   "cell_type": "code",
   "execution_count": null,
   "id": "4451ecaa-445d-4098-8e4b-92f7b33326f3",
   "metadata": {},
   "outputs": [],
   "source": []
  },
  {
   "cell_type": "markdown",
   "id": "8af2b3ca-19a9-4654-a8d1-8c9f1af612cf",
   "metadata": {},
   "source": [
    "### Loading the data"
   ]
  },
  {
   "cell_type": "code",
   "execution_count": 1,
   "id": "f219f4f8-7681-481e-97e6-a83276e727e8",
   "metadata": {},
   "outputs": [],
   "source": [
    "import sqlite3\n",
    "conn = sqlite3.connect('users.db')"
   ]
  },
  {
   "cell_type": "code",
   "execution_count": 2,
   "id": "f02dff07-c43f-4ba7-a8ea-a928390341de",
   "metadata": {},
   "outputs": [],
   "source": [
    "import pandas as pd\n",
    "root_url = \"https://raw.githubusercontent.com/jigsawlabs-student/curriculum-images/main/has-many-through-bar/data/\"\n",
    "names = ['bartenders', 'customers', 'drinks', 'orders', 'ingredients', 'ingredients_drinks']\n",
    "loaded_dfs = [pd.read_csv(f'{root_url}{name}.csv') for name in names]"
   ]
  },
  {
   "cell_type": "code",
   "execution_count": 3,
   "id": "ae7dd09a-2793-4715-bc8b-8d82678668f5",
   "metadata": {},
   "outputs": [],
   "source": [
    "for index, name in enumerate(names):\n",
    "    loaded_dfs[index].to_sql(f'{name}', conn, index = False, if_exists = 'replace')"
   ]
  },
  {
   "cell_type": "markdown",
   "id": "dadf163e-5773-4247-89a4-6c08a0e57942",
   "metadata": {},
   "source": [
    "### Performing A Cross Join"
   ]
  },
  {
   "cell_type": "markdown",
   "id": "c18b90fa-16ba-4967-b904-55fcb711ffab",
   "metadata": {},
   "source": [
    "Chances are that you have already seen a cross join.  A cross join occurs every time that we do not specify what columns we are joining.  \n",
    "\n",
    "For example, let's join show all of the possible combinations customers paired with bartenders."
   ]
  },
  {
   "cell_type": "code",
   "execution_count": 8,
   "id": "8c523a22-b93f-474a-aee7-dab338129cb0",
   "metadata": {},
   "outputs": [
    {
     "data": {
      "text/html": [
       "<div>\n",
       "<style scoped>\n",
       "    .dataframe tbody tr th:only-of-type {\n",
       "        vertical-align: middle;\n",
       "    }\n",
       "\n",
       "    .dataframe tbody tr th {\n",
       "        vertical-align: top;\n",
       "    }\n",
       "\n",
       "    .dataframe thead th {\n",
       "        text-align: right;\n",
       "    }\n",
       "</style>\n",
       "<table border=\"1\" class=\"dataframe\">\n",
       "  <thead>\n",
       "    <tr style=\"text-align: right;\">\n",
       "      <th></th>\n",
       "      <th>bartender_name</th>\n",
       "      <th>customer_name</th>\n",
       "    </tr>\n",
       "  </thead>\n",
       "  <tbody>\n",
       "    <tr>\n",
       "      <th>0</th>\n",
       "      <td>moe</td>\n",
       "      <td>bart simpson</td>\n",
       "    </tr>\n",
       "    <tr>\n",
       "      <th>1</th>\n",
       "      <td>moe</td>\n",
       "      <td>maggie simpson</td>\n",
       "    </tr>\n",
       "    <tr>\n",
       "      <th>2</th>\n",
       "      <td>moe</td>\n",
       "      <td>lisa simpson</td>\n",
       "    </tr>\n",
       "    <tr>\n",
       "      <th>3</th>\n",
       "      <td>selma</td>\n",
       "      <td>bart simpson</td>\n",
       "    </tr>\n",
       "    <tr>\n",
       "      <th>4</th>\n",
       "      <td>selma</td>\n",
       "      <td>maggie simpson</td>\n",
       "    </tr>\n",
       "    <tr>\n",
       "      <th>5</th>\n",
       "      <td>selma</td>\n",
       "      <td>lisa simpson</td>\n",
       "    </tr>\n",
       "    <tr>\n",
       "      <th>6</th>\n",
       "      <td>patty</td>\n",
       "      <td>bart simpson</td>\n",
       "    </tr>\n",
       "    <tr>\n",
       "      <th>7</th>\n",
       "      <td>patty</td>\n",
       "      <td>maggie simpson</td>\n",
       "    </tr>\n",
       "    <tr>\n",
       "      <th>8</th>\n",
       "      <td>patty</td>\n",
       "      <td>lisa simpson</td>\n",
       "    </tr>\n",
       "  </tbody>\n",
       "</table>\n",
       "</div>"
      ],
      "text/plain": [
       "  bartender_name   customer_name\n",
       "0            moe    bart simpson\n",
       "1            moe  maggie simpson\n",
       "2            moe    lisa simpson\n",
       "3          selma    bart simpson\n",
       "4          selma  maggie simpson\n",
       "5          selma    lisa simpson\n",
       "6          patty    bart simpson\n",
       "7          patty  maggie simpson\n",
       "8          patty    lisa simpson"
      ]
     },
     "execution_count": 8,
     "metadata": {},
     "output_type": "execute_result"
    }
   ],
   "source": [
    "import pandas as pd\n",
    "\n",
    "pd.read_sql(\"\"\"\n",
    "select bartenders.name as bartender_name,\n",
    "customers.name as customer_name\n",
    "from bartenders join customers;\n",
    "\"\"\", conn)"
   ]
  },
  {
   "cell_type": "markdown",
   "id": "c3205510-69c0-43f8-be66-260b38c0c6bc",
   "metadata": {},
   "source": [
    "In other words, with a cross join we are creating all possible combinations of our data."
   ]
  },
  {
   "cell_type": "markdown",
   "id": "5326bd1f-2186-4999-ac03-f9d8bc8da4e1",
   "metadata": {},
   "source": [
    "### But why?"
   ]
  },
  {
   "cell_type": "markdown",
   "id": "f2150234-8c77-4bde-b1cb-f91ef74e8e9c",
   "metadata": {},
   "source": [
    "Now why would we want to do such a thing?  It turns out that generating a grid of data, can be pretty useful.\n",
    "\n",
    "This [stackoverflow post](https://stackoverflow.com/questions/219716/what-are-the-uses-for-cross-join), lays out some good examples of grids we may want:"
   ]
  },
  {
   "cell_type": "markdown",
   "id": "e9cafe73-05df-455f-99e6-2533e5c6499f",
   "metadata": {},
   "source": [
    "* Size and color information for an article of clothing:\n",
    "    \n",
    "```sql\n",
    "select size, color\n",
    "from sizes CROSS JOIN colors\n",
    "```\n",
    "\n",
    "A row for every minute in the day, and you want to use it to verify that a procedure has executed each minute, so you might cross three tables:\n",
    "\n",
    "```sql\n",
    "CREATE TABLE minute_tasks as (\n",
    "    select hour, minute from hours CROSS JOIN minutes\n",
    ")\n",
    "```"
   ]
  },
  {
   "cell_type": "markdown",
   "id": "0ab4c606-6858-4059-a8db-b585bdd45192",
   "metadata": {},
   "source": [
    "### Cross joining itself"
   ]
  },
  {
   "cell_type": "markdown",
   "id": "b78468b3-04ec-4880-b185-49c5c8bc7378",
   "metadata": {},
   "source": [
    "Now sometimes, we'll want to cross join a table with itself.  For example, let's say that we want to find the smallest difference in ages between all of our customers."
   ]
  },
  {
   "cell_type": "markdown",
   "id": "255b7d8b-58ed-4f1e-9630-249fc173f035",
   "metadata": {},
   "source": [
    "A good starting point is with a cross join, where we pair every customer with every other customer.\n",
    "\n",
    "Doing so looks something like the following:"
   ]
  },
  {
   "cell_type": "markdown",
   "id": "a1747cb6-acab-425b-ada3-8a8be942bfbe",
   "metadata": {},
   "source": [
    "```sql\n",
    "select c1.name, c2.name from customers c1 join customers c2\n",
    "```"
   ]
  },
  {
   "cell_type": "markdown",
   "id": "960ab826-76ea-4e05-b6e1-5f96a1d6cb1d",
   "metadata": {},
   "source": [
    "So notice above that we join customers with itself.  And each time we reference the table, we give it a separate alias (c1 and c2).\n",
    "\n",
    "Now let's see a more full version of this query."
   ]
  },
  {
   "cell_type": "code",
   "execution_count": 37,
   "id": "90fe9549-8f08-40fa-a7fd-5ea479c8de6c",
   "metadata": {},
   "outputs": [
    {
     "data": {
      "text/html": [
       "<div>\n",
       "<style scoped>\n",
       "    .dataframe tbody tr th:only-of-type {\n",
       "        vertical-align: middle;\n",
       "    }\n",
       "\n",
       "    .dataframe tbody tr th {\n",
       "        vertical-align: top;\n",
       "    }\n",
       "\n",
       "    .dataframe thead th {\n",
       "        text-align: right;\n",
       "    }\n",
       "</style>\n",
       "<table border=\"1\" class=\"dataframe\">\n",
       "  <thead>\n",
       "    <tr style=\"text-align: right;\">\n",
       "      <th></th>\n",
       "      <th>id_1</th>\n",
       "      <th>name_1</th>\n",
       "      <th>birthyear_1</th>\n",
       "      <th>id_2</th>\n",
       "      <th>name_2</th>\n",
       "      <th>birthyear_2</th>\n",
       "    </tr>\n",
       "  </thead>\n",
       "  <tbody>\n",
       "    <tr>\n",
       "      <th>0</th>\n",
       "      <td>1</td>\n",
       "      <td>bart simpson</td>\n",
       "      <td>2008</td>\n",
       "      <td>1</td>\n",
       "      <td>bart simpson</td>\n",
       "      <td>2008</td>\n",
       "    </tr>\n",
       "    <tr>\n",
       "      <th>1</th>\n",
       "      <td>1</td>\n",
       "      <td>bart simpson</td>\n",
       "      <td>2008</td>\n",
       "      <td>2</td>\n",
       "      <td>maggie simpson</td>\n",
       "      <td>2016</td>\n",
       "    </tr>\n",
       "    <tr>\n",
       "      <th>2</th>\n",
       "      <td>1</td>\n",
       "      <td>bart simpson</td>\n",
       "      <td>2008</td>\n",
       "      <td>3</td>\n",
       "      <td>lisa simpson</td>\n",
       "      <td>2006</td>\n",
       "    </tr>\n",
       "    <tr>\n",
       "      <th>3</th>\n",
       "      <td>2</td>\n",
       "      <td>maggie simpson</td>\n",
       "      <td>2016</td>\n",
       "      <td>1</td>\n",
       "      <td>bart simpson</td>\n",
       "      <td>2008</td>\n",
       "    </tr>\n",
       "    <tr>\n",
       "      <th>4</th>\n",
       "      <td>2</td>\n",
       "      <td>maggie simpson</td>\n",
       "      <td>2016</td>\n",
       "      <td>2</td>\n",
       "      <td>maggie simpson</td>\n",
       "      <td>2016</td>\n",
       "    </tr>\n",
       "    <tr>\n",
       "      <th>5</th>\n",
       "      <td>2</td>\n",
       "      <td>maggie simpson</td>\n",
       "      <td>2016</td>\n",
       "      <td>3</td>\n",
       "      <td>lisa simpson</td>\n",
       "      <td>2006</td>\n",
       "    </tr>\n",
       "    <tr>\n",
       "      <th>6</th>\n",
       "      <td>3</td>\n",
       "      <td>lisa simpson</td>\n",
       "      <td>2006</td>\n",
       "      <td>1</td>\n",
       "      <td>bart simpson</td>\n",
       "      <td>2008</td>\n",
       "    </tr>\n",
       "    <tr>\n",
       "      <th>7</th>\n",
       "      <td>3</td>\n",
       "      <td>lisa simpson</td>\n",
       "      <td>2006</td>\n",
       "      <td>2</td>\n",
       "      <td>maggie simpson</td>\n",
       "      <td>2016</td>\n",
       "    </tr>\n",
       "    <tr>\n",
       "      <th>8</th>\n",
       "      <td>3</td>\n",
       "      <td>lisa simpson</td>\n",
       "      <td>2006</td>\n",
       "      <td>3</td>\n",
       "      <td>lisa simpson</td>\n",
       "      <td>2006</td>\n",
       "    </tr>\n",
       "  </tbody>\n",
       "</table>\n",
       "</div>"
      ],
      "text/plain": [
       "   id_1          name_1  birthyear_1  id_2          name_2  birthyear_2\n",
       "0     1    bart simpson         2008     1    bart simpson         2008\n",
       "1     1    bart simpson         2008     2  maggie simpson         2016\n",
       "2     1    bart simpson         2008     3    lisa simpson         2006\n",
       "3     2  maggie simpson         2016     1    bart simpson         2008\n",
       "4     2  maggie simpson         2016     2  maggie simpson         2016\n",
       "5     2  maggie simpson         2016     3    lisa simpson         2006\n",
       "6     3    lisa simpson         2006     1    bart simpson         2008\n",
       "7     3    lisa simpson         2006     2  maggie simpson         2016\n",
       "8     3    lisa simpson         2006     3    lisa simpson         2006"
      ]
     },
     "execution_count": 37,
     "metadata": {},
     "output_type": "execute_result"
    }
   ],
   "source": [
    "import pandas as pd\n",
    "\n",
    "query = \"\"\"\n",
    "select c1.id id_1, c1.name name_1, c1.birthyear as birthyear_1, \n",
    "c2.id as id_2, c2.name as name_2, c2.birthyear as birthyear_2 \n",
    "from customers c1 join customers c2;\n",
    "\"\"\"\n",
    "\n",
    "pd.read_sql(query, conn)"
   ]
  },
  {
   "cell_type": "markdown",
   "id": "dd0dbf90-f38d-42c8-a5ab-956c29597567",
   "metadata": {},
   "source": [
    "Ok, we'll let you take it from here. Update the query to find the smallest difference in ages between our customers. "
   ]
  },
  {
   "cell_type": "code",
   "execution_count": 38,
   "id": "74bf85db-0878-43e9-a7f4-00f663e2739d",
   "metadata": {},
   "outputs": [],
   "source": [
    "import pandas as pd\n",
    "\n",
    "query = \"\"\"\n",
    "\n",
    "\"\"\"\n",
    "\n",
    "pd.read_sql(query, conn)\n",
    "\n",
    "# minimum_diff\n",
    "# 0\t10"
   ]
  },
  {
   "cell_type": "markdown",
   "id": "92e3906c-b1e7-4274-aa28-3463eeb07edb",
   "metadata": {},
   "source": [
    "### Resources\n",
    "\n",
    "[Stackoverflow - Cross join](https://stackoverflow.com/questions/219716/what-are-the-uses-for-cross-join)"
   ]
  },
  {
   "cell_type": "code",
   "execution_count": null,
   "id": "8729f6ce-32c8-4a5e-bd01-8858a692f26e",
   "metadata": {},
   "outputs": [],
   "source": []
  }
 ],
 "metadata": {
  "kernelspec": {
   "display_name": "Python 3 (ipykernel)",
   "language": "python",
   "name": "python3"
  },
  "language_info": {
   "codemirror_mode": {
    "name": "ipython",
    "version": 3
   },
   "file_extension": ".py",
   "mimetype": "text/x-python",
   "name": "python",
   "nbconvert_exporter": "python",
   "pygments_lexer": "ipython3",
   "version": "3.9.12"
  }
 },
 "nbformat": 4,
 "nbformat_minor": 5
}
