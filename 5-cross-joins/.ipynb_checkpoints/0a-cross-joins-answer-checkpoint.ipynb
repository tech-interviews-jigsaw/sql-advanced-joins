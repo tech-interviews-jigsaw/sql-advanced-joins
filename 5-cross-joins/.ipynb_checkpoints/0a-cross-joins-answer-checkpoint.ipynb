{
 "cells": [
  {
   "cell_type": "markdown",
   "id": "cfab31e1-37b4-451c-8540-ec166ec1379c",
   "metadata": {},
   "source": [
    "# Cross Joins Lab"
   ]
  },
  {
   "cell_type": "markdown",
   "id": "ae43062d-fc55-44c8-b25e-338c89ccfa02",
   "metadata": {},
   "source": [
    "### Introduction"
   ]
  },
  {
   "cell_type": "markdown",
   "id": "07afc0fc-2544-4523-ba42-998cadca42ec",
   "metadata": {},
   "source": [
    "Ok, so now it's time to review our cross joins problem."
   ]
  },
  {
   "cell_type": "code",
   "execution_count": 2,
   "id": "f219f4f8-7681-481e-97e6-a83276e727e8",
   "metadata": {},
   "outputs": [],
   "source": [
    "import sqlite3\n",
    "conn = sqlite3.connect('users.db')"
   ]
  },
  {
   "cell_type": "code",
   "execution_count": 3,
   "id": "f02dff07-c43f-4ba7-a8ea-a928390341de",
   "metadata": {},
   "outputs": [],
   "source": [
    "import pandas as pd\n",
    "root_url = \"https://raw.githubusercontent.com/jigsawlabs-student/curriculum-images/main/has-many-through-bar/data/\"\n",
    "names = ['bartenders', 'customers', 'drinks', 'orders', 'ingredients', 'ingredients_drinks']\n",
    "loaded_dfs = [pd.read_csv(f'{root_url}{name}.csv') for name in names]"
   ]
  },
  {
   "cell_type": "code",
   "execution_count": 4,
   "id": "ae7dd09a-2793-4715-bc8b-8d82678668f5",
   "metadata": {},
   "outputs": [],
   "source": [
    "for index, name in enumerate(names):\n",
    "    loaded_dfs[index].to_sql(f'{name}', conn, index = False, if_exists = 'replace')"
   ]
  },
  {
   "cell_type": "markdown",
   "id": "dadf163e-5773-4247-89a4-6c08a0e57942",
   "metadata": {},
   "source": [
    "### Performing A Cross Join"
   ]
  },
  {
   "cell_type": "code",
   "execution_count": 20,
   "id": "d2bc2af2-006f-4caf-8547-33f76dcd2791",
   "metadata": {},
   "outputs": [
    {
     "data": {
      "text/html": [
       "<div>\n",
       "<style scoped>\n",
       "    .dataframe tbody tr th:only-of-type {\n",
       "        vertical-align: middle;\n",
       "    }\n",
       "\n",
       "    .dataframe tbody tr th {\n",
       "        vertical-align: top;\n",
       "    }\n",
       "\n",
       "    .dataframe thead th {\n",
       "        text-align: right;\n",
       "    }\n",
       "</style>\n",
       "<table border=\"1\" class=\"dataframe\">\n",
       "  <thead>\n",
       "    <tr style=\"text-align: right;\">\n",
       "      <th></th>\n",
       "      <th>minimum_diff</th>\n",
       "    </tr>\n",
       "  </thead>\n",
       "  <tbody>\n",
       "    <tr>\n",
       "      <th>0</th>\n",
       "      <td>10</td>\n",
       "    </tr>\n",
       "  </tbody>\n",
       "</table>\n",
       "</div>"
      ],
      "text/plain": [
       "   minimum_diff\n",
       "0            10"
      ]
     },
     "execution_count": 20,
     "metadata": {},
     "output_type": "execute_result"
    }
   ],
   "source": [
    "import pandas as pd\n",
    "\n",
    "query = \"\"\"\n",
    "with all_differences as\n",
    "(select c1.id id_1, c1.name name_1, c1.birthyear as birthyear_1, \n",
    "c2.id as id_2, c2.name as name_2, c2.birthyear as birthyear_2,\n",
    "(c1.birthyear - c2.birthyear) as diff \n",
    "from customers c1 join customers c2 where c1.id <> c2.id and c1.id > c2.id\n",
    ")\n",
    "select abs(min(diff)) as minimum_diff from all_differences\n",
    "\"\"\"\n",
    "\n",
    "pd.read_sql(query, conn)"
   ]
  },
  {
   "cell_type": "markdown",
   "id": "a8a4cf63-674e-4992-b17f-738d337a2e7b",
   "metadata": {},
   "source": [
    "To understand the above, let's just look at the `all_differences` CTE, and let's remove the last clause \n",
    "`c1.birthyear >= c2.birthyear`."
   ]
  },
  {
   "cell_type": "code",
   "execution_count": 22,
   "id": "48fc4d51-352e-408a-9219-798af0c1e08c",
   "metadata": {},
   "outputs": [
    {
     "data": {
      "text/html": [
       "<div>\n",
       "<style scoped>\n",
       "    .dataframe tbody tr th:only-of-type {\n",
       "        vertical-align: middle;\n",
       "    }\n",
       "\n",
       "    .dataframe tbody tr th {\n",
       "        vertical-align: top;\n",
       "    }\n",
       "\n",
       "    .dataframe thead th {\n",
       "        text-align: right;\n",
       "    }\n",
       "</style>\n",
       "<table border=\"1\" class=\"dataframe\">\n",
       "  <thead>\n",
       "    <tr style=\"text-align: right;\">\n",
       "      <th></th>\n",
       "      <th>id_1</th>\n",
       "      <th>name_1</th>\n",
       "      <th>birthyear_1</th>\n",
       "      <th>id_2</th>\n",
       "      <th>name_2</th>\n",
       "      <th>birthyear_2</th>\n",
       "      <th>diff</th>\n",
       "    </tr>\n",
       "  </thead>\n",
       "  <tbody>\n",
       "    <tr>\n",
       "      <th>0</th>\n",
       "      <td>2</td>\n",
       "      <td>maggie simpson</td>\n",
       "      <td>2016</td>\n",
       "      <td>1</td>\n",
       "      <td>bart simpson</td>\n",
       "      <td>2008</td>\n",
       "      <td>8</td>\n",
       "    </tr>\n",
       "    <tr>\n",
       "      <th>1</th>\n",
       "      <td>3</td>\n",
       "      <td>lisa simpson</td>\n",
       "      <td>2006</td>\n",
       "      <td>1</td>\n",
       "      <td>bart simpson</td>\n",
       "      <td>2008</td>\n",
       "      <td>-2</td>\n",
       "    </tr>\n",
       "    <tr>\n",
       "      <th>2</th>\n",
       "      <td>3</td>\n",
       "      <td>lisa simpson</td>\n",
       "      <td>2006</td>\n",
       "      <td>2</td>\n",
       "      <td>maggie simpson</td>\n",
       "      <td>2016</td>\n",
       "      <td>-10</td>\n",
       "    </tr>\n",
       "  </tbody>\n",
       "</table>\n",
       "</div>"
      ],
      "text/plain": [
       "   id_1          name_1  birthyear_1  id_2          name_2  birthyear_2  diff\n",
       "0     2  maggie simpson         2016     1    bart simpson         2008     8\n",
       "1     3    lisa simpson         2006     1    bart simpson         2008    -2\n",
       "2     3    lisa simpson         2006     2  maggie simpson         2016   -10"
      ]
     },
     "execution_count": 22,
     "metadata": {},
     "output_type": "execute_result"
    }
   ],
   "source": [
    "query = \"\"\"\n",
    "select c1.id id_1, c1.name name_1, c1.birthyear as birthyear_1, \n",
    "c2.id as id_2, c2.name as name_2, c2.birthyear as birthyear_2,\n",
    "(c1.birthyear - c2.birthyear) as diff \n",
    "from customers c1 join customers c2 where c1.id <> c2.id\n",
    "and c1.id > c2.id\n",
    "\"\"\"\n",
    "\n",
    "pd.read_sql(query, conn)"
   ]
  },
  {
   "cell_type": "markdown",
   "id": "93ab5785-9322-4591-b68c-d6887234c0b5",
   "metadata": {},
   "source": [
    "So currently we joined the table with itself, and calculated the difference between ages, and we made sure each person is never paired with themselves because of the clause: `where c1.id <> c2.id`, which ensures the ids are never equal.\n",
    "\n",
    "The issue is that we are seeing the pairings twice.  In other words we see bart and maggie, and then we also see maggie and bart. \n",
    "\n",
    "To remove this duplication, we can update the where clause to be:\n",
    "\n",
    "`where c1.id <> c2.id and c1.id > c2.id`\n",
    "\n",
    "So this way we only choose one of the duplicate pairings -- those where the higher id is on the left.  Notice that we can get the same result by removing the `<>` clause.  "
   ]
  },
  {
   "cell_type": "code",
   "execution_count": 23,
   "id": "d258ad7e-10d6-4f50-8f29-9f33b935a4af",
   "metadata": {},
   "outputs": [
    {
     "data": {
      "text/html": [
       "<div>\n",
       "<style scoped>\n",
       "    .dataframe tbody tr th:only-of-type {\n",
       "        vertical-align: middle;\n",
       "    }\n",
       "\n",
       "    .dataframe tbody tr th {\n",
       "        vertical-align: top;\n",
       "    }\n",
       "\n",
       "    .dataframe thead th {\n",
       "        text-align: right;\n",
       "    }\n",
       "</style>\n",
       "<table border=\"1\" class=\"dataframe\">\n",
       "  <thead>\n",
       "    <tr style=\"text-align: right;\">\n",
       "      <th></th>\n",
       "      <th>minimum_diff</th>\n",
       "    </tr>\n",
       "  </thead>\n",
       "  <tbody>\n",
       "    <tr>\n",
       "      <th>0</th>\n",
       "      <td>10</td>\n",
       "    </tr>\n",
       "  </tbody>\n",
       "</table>\n",
       "</div>"
      ],
      "text/plain": [
       "   minimum_diff\n",
       "0            10"
      ]
     },
     "execution_count": 23,
     "metadata": {},
     "output_type": "execute_result"
    }
   ],
   "source": [
    "import pandas as pd\n",
    "\n",
    "query = \"\"\"\n",
    "with all_differences as\n",
    "(select c1.id id_1, c1.name name_1, c1.birthyear as birthyear_1, \n",
    "c2.id as id_2, c2.name as name_2, c2.birthyear as birthyear_2,\n",
    "(c1.birthyear - c2.birthyear) as diff \n",
    "from customers c1 join customers c2 where c1.id > c2.id\n",
    ")\n",
    "select abs(min(diff)) as minimum_diff from all_differences\n",
    "\"\"\"\n",
    "\n",
    "pd.read_sql(query, conn)"
   ]
  },
  {
   "cell_type": "markdown",
   "id": "92e3906c-b1e7-4274-aa28-3463eeb07edb",
   "metadata": {},
   "source": [
    "### Resources\n",
    "\n",
    "[Stackoverflow - Cross join](https://stackoverflow.com/questions/219716/what-are-the-uses-for-cross-join)"
   ]
  },
  {
   "cell_type": "code",
   "execution_count": null,
   "id": "8729f6ce-32c8-4a5e-bd01-8858a692f26e",
   "metadata": {},
   "outputs": [],
   "source": []
  }
 ],
 "metadata": {
  "kernelspec": {
   "display_name": "Python 3 (ipykernel)",
   "language": "python",
   "name": "python3"
  },
  "language_info": {
   "codemirror_mode": {
    "name": "ipython",
    "version": 3
   },
   "file_extension": ".py",
   "mimetype": "text/x-python",
   "name": "python",
   "nbconvert_exporter": "python",
   "pygments_lexer": "ipython3",
   "version": "3.9.12"
  }
 },
 "nbformat": 4,
 "nbformat_minor": 5
}
