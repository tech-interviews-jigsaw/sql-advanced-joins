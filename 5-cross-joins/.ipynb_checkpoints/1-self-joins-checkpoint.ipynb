{
 "cells": [
  {
   "cell_type": "markdown",
   "id": "4094d655-c000-4843-b19f-39e3c9b880f5",
   "metadata": {},
   "source": [
    "# Self Joins"
   ]
  },
  {
   "cell_type": "markdown",
   "id": "4fbbcdac-c617-46ad-a857-179af2783b8e",
   "metadata": {},
   "source": [
    "### Introduction"
   ]
  },
  {
   "cell_type": "markdown",
   "id": "d7849bbe-e102-42ec-b2f1-efb04ded0263",
   "metadata": {},
   "source": [
    "In this lesson, we'll move through self joins.  Self joins is when a table is joined with itself.  \n",
    "\n",
    "> If you moved through the cross joins lesson, we already showed an example of self-joins there."
   ]
  },
  {
   "cell_type": "markdown",
   "id": "87ceefc4-a863-428b-a3ca-53e9404a4109",
   "metadata": {},
   "source": [
    "### Loading our data"
   ]
  },
  {
   "cell_type": "code",
   "execution_count": 1,
   "id": "696a3fb9-d64c-4c16-aa07-7260b36d76bf",
   "metadata": {},
   "outputs": [],
   "source": [
    "import sqlite3\n",
    "conn = sqlite3.connect('users.db')"
   ]
  },
  {
   "cell_type": "code",
   "execution_count": 2,
   "id": "aef7d4d6-95b0-492a-927e-1992cfb0d533",
   "metadata": {},
   "outputs": [],
   "source": [
    "import pandas as pd\n",
    "root_url = \"https://raw.githubusercontent.com/jigsawlabs-student/curriculum-images/main/has-many-through-bar/data/\"\n",
    "names = ['customers']\n",
    "loaded_dfs = [pd.read_csv(f'{root_url}{name}.csv') for name in names]"
   ]
  },
  {
   "cell_type": "code",
   "execution_count": 3,
   "id": "2c19204a-6b10-476e-b97c-44517c4c42ed",
   "metadata": {},
   "outputs": [
    {
     "data": {
      "text/plain": [
       "3"
      ]
     },
     "execution_count": 3,
     "metadata": {},
     "output_type": "execute_result"
    }
   ],
   "source": [
    "students_df = loaded_dfs[0]\n",
    "students_df = students_df.assign(tutor_id = [3, 1, 2])\n",
    "students_df.to_sql('students',conn, index = False,\n",
    "                             if_exists = 'replace')"
   ]
  },
  {
   "cell_type": "markdown",
   "id": "014d7af0-ba1a-402e-84a9-3dff1edde132",
   "metadata": {},
   "source": [
    "### Getting to the self-joins"
   ]
  },
  {
   "cell_type": "markdown",
   "id": "4387b12d-0b29-4f9b-be1a-448f7b91aa3d",
   "metadata": {},
   "source": [
    "Now let's take a look at our data."
   ]
  },
  {
   "cell_type": "code",
   "execution_count": 5,
   "id": "80ba57ef-ec55-47e1-9256-a7fb6961a344",
   "metadata": {},
   "outputs": [
    {
     "data": {
      "text/html": [
       "<div>\n",
       "<style scoped>\n",
       "    .dataframe tbody tr th:only-of-type {\n",
       "        vertical-align: middle;\n",
       "    }\n",
       "\n",
       "    .dataframe tbody tr th {\n",
       "        vertical-align: top;\n",
       "    }\n",
       "\n",
       "    .dataframe thead th {\n",
       "        text-align: right;\n",
       "    }\n",
       "</style>\n",
       "<table border=\"1\" class=\"dataframe\">\n",
       "  <thead>\n",
       "    <tr style=\"text-align: right;\">\n",
       "      <th></th>\n",
       "      <th>name</th>\n",
       "      <th>name</th>\n",
       "    </tr>\n",
       "  </thead>\n",
       "  <tbody>\n",
       "    <tr>\n",
       "      <th>0</th>\n",
       "      <td>bart simpson</td>\n",
       "      <td>maggie simpson</td>\n",
       "    </tr>\n",
       "    <tr>\n",
       "      <th>1</th>\n",
       "      <td>maggie simpson</td>\n",
       "      <td>lisa simpson</td>\n",
       "    </tr>\n",
       "    <tr>\n",
       "      <th>2</th>\n",
       "      <td>lisa simpson</td>\n",
       "      <td>bart simpson</td>\n",
       "    </tr>\n",
       "  </tbody>\n",
       "</table>\n",
       "</div>"
      ],
      "text/plain": [
       "             name            name\n",
       "0    bart simpson  maggie simpson\n",
       "1  maggie simpson    lisa simpson\n",
       "2    lisa simpson    bart simpson"
      ]
     },
     "execution_count": 5,
     "metadata": {},
     "output_type": "execute_result"
    }
   ],
   "source": [
    "query = \"\"\"\n",
    "select s.name, tutors.name from students s join students tutors on s.id = tutors.tutor_id\n",
    "\"\"\"\n",
    "pd.read_sql(query, conn)"
   ]
  },
  {
   "cell_type": "markdown",
   "id": "eaf643f5-60d4-4171-b87e-06a726e16215",
   "metadata": {},
   "source": [
    "### Using self joins"
   ]
  },
  {
   "cell_type": "code",
   "execution_count": 6,
   "id": "0819e3dd-c0c0-4837-a1e3-958f996f02ff",
   "metadata": {},
   "outputs": [],
   "source": [
    "import pandas as pd\n",
    "url = \"https://raw.githubusercontent.com/tech-interviews-jigsaw/sql-advanced-joins/main/5-cross-joins/weather_central_park.csv\"\n",
    "df = pd.read_csv(url)\n",
    "df = df.assign(id = df.index).iloc[:, :2]\n",
    "df = df.rename(columns = {'maximum temperature': 'max_temp'})\n",
    "df = df.drop(labels = [9, 13])\n",
    "# df"
   ]
  },
  {
   "cell_type": "code",
   "execution_count": 7,
   "id": "77d8355c-2410-45af-a2ea-f2b024ab6727",
   "metadata": {},
   "outputs": [
    {
     "data": {
      "text/plain": [
       "364"
      ]
     },
     "execution_count": 7,
     "metadata": {},
     "output_type": "execute_result"
    }
   ],
   "source": [
    "df.to_sql('temperatures', conn, index = True, index_label = 'id', if_exists = 'replace')"
   ]
  },
  {
   "cell_type": "code",
   "execution_count": 8,
   "id": "2afd5cd9-dee9-4182-a39f-cf32626f8250",
   "metadata": {},
   "outputs": [
    {
     "data": {
      "text/html": [
       "<div>\n",
       "<style scoped>\n",
       "    .dataframe tbody tr th:only-of-type {\n",
       "        vertical-align: middle;\n",
       "    }\n",
       "\n",
       "    .dataframe tbody tr th {\n",
       "        vertical-align: top;\n",
       "    }\n",
       "\n",
       "    .dataframe thead th {\n",
       "        text-align: right;\n",
       "    }\n",
       "</style>\n",
       "<table border=\"1\" class=\"dataframe\">\n",
       "  <thead>\n",
       "    <tr style=\"text-align: right;\">\n",
       "      <th></th>\n",
       "      <th>id</th>\n",
       "      <th>date</th>\n",
       "      <th>max_temp</th>\n",
       "    </tr>\n",
       "  </thead>\n",
       "  <tbody>\n",
       "    <tr>\n",
       "      <th>0</th>\n",
       "      <td>0</td>\n",
       "      <td>1-1-2016</td>\n",
       "      <td>42</td>\n",
       "    </tr>\n",
       "    <tr>\n",
       "      <th>1</th>\n",
       "      <td>1</td>\n",
       "      <td>2-1-2016</td>\n",
       "      <td>40</td>\n",
       "    </tr>\n",
       "    <tr>\n",
       "      <th>2</th>\n",
       "      <td>2</td>\n",
       "      <td>3-1-2016</td>\n",
       "      <td>45</td>\n",
       "    </tr>\n",
       "  </tbody>\n",
       "</table>\n",
       "</div>"
      ],
      "text/plain": [
       "   id      date  max_temp\n",
       "0   0  1-1-2016        42\n",
       "1   1  2-1-2016        40\n",
       "2   2  3-1-2016        45"
      ]
     },
     "execution_count": 8,
     "metadata": {},
     "output_type": "execute_result"
    }
   ],
   "source": [
    "temperature_df = pd.read_sql('select * from temperatures limit 3', conn)\n",
    "temperature_df"
   ]
  },
  {
   "cell_type": "code",
   "execution_count": 10,
   "id": "23d95fde-a679-456d-869f-4dc962bc52f9",
   "metadata": {},
   "outputs": [
    {
     "data": {
      "text/html": [
       "<div>\n",
       "<style scoped>\n",
       "    .dataframe tbody tr th:only-of-type {\n",
       "        vertical-align: middle;\n",
       "    }\n",
       "\n",
       "    .dataframe tbody tr th {\n",
       "        vertical-align: top;\n",
       "    }\n",
       "\n",
       "    .dataframe thead th {\n",
       "        text-align: right;\n",
       "    }\n",
       "</style>\n",
       "<table border=\"1\" class=\"dataframe\">\n",
       "  <thead>\n",
       "    <tr style=\"text-align: right;\">\n",
       "      <th></th>\n",
       "      <th>id</th>\n",
       "      <th>date</th>\n",
       "      <th>max_temp</th>\n",
       "      <th>id</th>\n",
       "      <th>date</th>\n",
       "      <th>max_temp</th>\n",
       "    </tr>\n",
       "  </thead>\n",
       "  <tbody>\n",
       "    <tr>\n",
       "      <th>0</th>\n",
       "      <td>0</td>\n",
       "      <td>1-1-2016</td>\n",
       "      <td>42</td>\n",
       "      <td>1</td>\n",
       "      <td>2-1-2016</td>\n",
       "      <td>40</td>\n",
       "    </tr>\n",
       "    <tr>\n",
       "      <th>1</th>\n",
       "      <td>0</td>\n",
       "      <td>1-1-2016</td>\n",
       "      <td>42</td>\n",
       "      <td>2</td>\n",
       "      <td>3-1-2016</td>\n",
       "      <td>45</td>\n",
       "    </tr>\n",
       "    <tr>\n",
       "      <th>2</th>\n",
       "      <td>1</td>\n",
       "      <td>2-1-2016</td>\n",
       "      <td>40</td>\n",
       "      <td>2</td>\n",
       "      <td>3-1-2016</td>\n",
       "      <td>45</td>\n",
       "    </tr>\n",
       "    <tr>\n",
       "      <th>3</th>\n",
       "      <td>1</td>\n",
       "      <td>2-1-2016</td>\n",
       "      <td>40</td>\n",
       "      <td>3</td>\n",
       "      <td>4-1-2016</td>\n",
       "      <td>36</td>\n",
       "    </tr>\n",
       "    <tr>\n",
       "      <th>4</th>\n",
       "      <td>2</td>\n",
       "      <td>3-1-2016</td>\n",
       "      <td>45</td>\n",
       "      <td>3</td>\n",
       "      <td>4-1-2016</td>\n",
       "      <td>36</td>\n",
       "    </tr>\n",
       "    <tr>\n",
       "      <th>...</th>\n",
       "      <td>...</td>\n",
       "      <td>...</td>\n",
       "      <td>...</td>\n",
       "      <td>...</td>\n",
       "      <td>...</td>\n",
       "      <td>...</td>\n",
       "    </tr>\n",
       "    <tr>\n",
       "      <th>716</th>\n",
       "      <td>362</td>\n",
       "      <td>28-12-2016</td>\n",
       "      <td>40</td>\n",
       "      <td>363</td>\n",
       "      <td>29-12-2016</td>\n",
       "      <td>46</td>\n",
       "    </tr>\n",
       "    <tr>\n",
       "      <th>717</th>\n",
       "      <td>362</td>\n",
       "      <td>28-12-2016</td>\n",
       "      <td>40</td>\n",
       "      <td>364</td>\n",
       "      <td>30-12-2016</td>\n",
       "      <td>40</td>\n",
       "    </tr>\n",
       "    <tr>\n",
       "      <th>718</th>\n",
       "      <td>363</td>\n",
       "      <td>29-12-2016</td>\n",
       "      <td>46</td>\n",
       "      <td>364</td>\n",
       "      <td>30-12-2016</td>\n",
       "      <td>40</td>\n",
       "    </tr>\n",
       "    <tr>\n",
       "      <th>719</th>\n",
       "      <td>363</td>\n",
       "      <td>29-12-2016</td>\n",
       "      <td>46</td>\n",
       "      <td>365</td>\n",
       "      <td>31-12-2016</td>\n",
       "      <td>44</td>\n",
       "    </tr>\n",
       "    <tr>\n",
       "      <th>720</th>\n",
       "      <td>364</td>\n",
       "      <td>30-12-2016</td>\n",
       "      <td>40</td>\n",
       "      <td>365</td>\n",
       "      <td>31-12-2016</td>\n",
       "      <td>44</td>\n",
       "    </tr>\n",
       "  </tbody>\n",
       "</table>\n",
       "<p>721 rows × 6 columns</p>\n",
       "</div>"
      ],
      "text/plain": [
       "      id        date  max_temp   id        date  max_temp\n",
       "0      0    1-1-2016        42    1    2-1-2016        40\n",
       "1      0    1-1-2016        42    2    3-1-2016        45\n",
       "2      1    2-1-2016        40    2    3-1-2016        45\n",
       "3      1    2-1-2016        40    3    4-1-2016        36\n",
       "4      2    3-1-2016        45    3    4-1-2016        36\n",
       "..   ...         ...       ...  ...         ...       ...\n",
       "716  362  28-12-2016        40  363  29-12-2016        46\n",
       "717  362  28-12-2016        40  364  30-12-2016        40\n",
       "718  363  29-12-2016        46  364  30-12-2016        40\n",
       "719  363  29-12-2016        46  365  31-12-2016        44\n",
       "720  364  30-12-2016        40  365  31-12-2016        44\n",
       "\n",
       "[721 rows x 6 columns]"
      ]
     },
     "execution_count": 10,
     "metadata": {},
     "output_type": "execute_result"
    }
   ],
   "source": [
    "query = \"\"\"\n",
    "select * from temperatures t1\n",
    "join temperatures t2  \n",
    "on t1.id = t2.id - 1 \n",
    "\"\"\"\n",
    "\n",
    "pd.read_sql(query, conn)"
   ]
  },
  {
   "cell_type": "code",
   "execution_count": null,
   "id": "9941bbe6-c569-4c9d-9316-239aca7e357d",
   "metadata": {},
   "outputs": [],
   "source": []
  }
 ],
 "metadata": {
  "kernelspec": {
   "display_name": "Python 3 (ipykernel)",
   "language": "python",
   "name": "python3"
  },
  "language_info": {
   "codemirror_mode": {
    "name": "ipython",
    "version": 3
   },
   "file_extension": ".py",
   "mimetype": "text/x-python",
   "name": "python",
   "nbconvert_exporter": "python",
   "pygments_lexer": "ipython3",
   "version": "3.9.12"
  }
 },
 "nbformat": 4,
 "nbformat_minor": 5
}
