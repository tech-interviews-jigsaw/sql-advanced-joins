{
 "cells": [
  {
   "cell_type": "markdown",
   "id": "4094d655-c000-4843-b19f-39e3c9b880f5",
   "metadata": {},
   "source": [
    "# Self Joins"
   ]
  },
  {
   "cell_type": "markdown",
   "id": "4fbbcdac-c617-46ad-a857-179af2783b8e",
   "metadata": {},
   "source": [
    "### Introduction"
   ]
  },
  {
   "cell_type": "markdown",
   "id": "d7849bbe-e102-42ec-b2f1-efb04ded0263",
   "metadata": {},
   "source": [
    "In this lesson, we'll move through self joins.  Self joins is when a table is joined with itself."
   ]
  },
  {
   "cell_type": "markdown",
   "id": "87ceefc4-a863-428b-a3ca-53e9404a4109",
   "metadata": {},
   "source": [
    "### Loading our data"
   ]
  },
  {
   "cell_type": "code",
   "execution_count": 15,
   "id": "696a3fb9-d64c-4c16-aa07-7260b36d76bf",
   "metadata": {},
   "outputs": [],
   "source": [
    "import sqlite3\n",
    "conn = sqlite3.connect('users.db')"
   ]
  },
  {
   "cell_type": "code",
   "execution_count": 16,
   "id": "aef7d4d6-95b0-492a-927e-1992cfb0d533",
   "metadata": {},
   "outputs": [],
   "source": [
    "import pandas as pd\n",
    "root_url = \"https://raw.githubusercontent.com/jigsawlabs-student/curriculum-images/main/has-many-through-bar/data/\"\n",
    "names = ['customers']\n",
    "loaded_dfs = [pd.read_csv(f'{root_url}{name}.csv') for name in names]"
   ]
  },
  {
   "cell_type": "code",
   "execution_count": 28,
   "id": "2c19204a-6b10-476e-b97c-44517c4c42ed",
   "metadata": {},
   "outputs": [
    {
     "data": {
      "text/plain": [
       "3"
      ]
     },
     "execution_count": 28,
     "metadata": {},
     "output_type": "execute_result"
    }
   ],
   "source": [
    "students_df = loaded_dfs[0]\n",
    "students_df = customer_df.assign(tutor_id = [3, 1, 2])\n",
    "students_df.to_sql('students',conn, index = False,\n",
    "                             if_exists = 'replace')"
   ]
  },
  {
   "cell_type": "markdown",
   "id": "014d7af0-ba1a-402e-84a9-3dff1edde132",
   "metadata": {},
   "source": [
    "### Getting to the self-joins"
   ]
  },
  {
   "cell_type": "markdown",
   "id": "4387b12d-0b29-4f9b-be1a-448f7b91aa3d",
   "metadata": {},
   "source": [
    "Now let's take a look at our data."
   ]
  },
  {
   "cell_type": "code",
   "execution_count": 29,
   "id": "80ba57ef-ec55-47e1-9256-a7fb6961a344",
   "metadata": {},
   "outputs": [
    {
     "data": {
      "text/html": [
       "<div>\n",
       "<style scoped>\n",
       "    .dataframe tbody tr th:only-of-type {\n",
       "        vertical-align: middle;\n",
       "    }\n",
       "\n",
       "    .dataframe tbody tr th {\n",
       "        vertical-align: top;\n",
       "    }\n",
       "\n",
       "    .dataframe thead th {\n",
       "        text-align: right;\n",
       "    }\n",
       "</style>\n",
       "<table border=\"1\" class=\"dataframe\">\n",
       "  <thead>\n",
       "    <tr style=\"text-align: right;\">\n",
       "      <th></th>\n",
       "      <th>id</th>\n",
       "      <th>name</th>\n",
       "      <th>hometown</th>\n",
       "      <th>birthyear</th>\n",
       "      <th>tutor_id</th>\n",
       "    </tr>\n",
       "  </thead>\n",
       "  <tbody>\n",
       "    <tr>\n",
       "      <th>0</th>\n",
       "      <td>1</td>\n",
       "      <td>bart simpson</td>\n",
       "      <td>springfield</td>\n",
       "      <td>2008</td>\n",
       "      <td>3</td>\n",
       "    </tr>\n",
       "    <tr>\n",
       "      <th>1</th>\n",
       "      <td>2</td>\n",
       "      <td>maggie simpson</td>\n",
       "      <td>milwaukee</td>\n",
       "      <td>2016</td>\n",
       "      <td>1</td>\n",
       "    </tr>\n",
       "    <tr>\n",
       "      <th>2</th>\n",
       "      <td>3</td>\n",
       "      <td>lisa simpson</td>\n",
       "      <td>philly</td>\n",
       "      <td>2006</td>\n",
       "      <td>2</td>\n",
       "    </tr>\n",
       "  </tbody>\n",
       "</table>\n",
       "</div>"
      ],
      "text/plain": [
       "   id            name     hometown  birthyear  tutor_id\n",
       "0   1    bart simpson  springfield       2008         3\n",
       "1   2  maggie simpson    milwaukee       2016         1\n",
       "2   3    lisa simpson       philly       2006         2"
      ]
     },
     "execution_count": 29,
     "metadata": {},
     "output_type": "execute_result"
    }
   ],
   "source": [
    "query = \"\"\"\n",
    "select * from students\n",
    "\"\"\"\n",
    "pd.read_sql(query, conn)"
   ]
  },
  {
   "cell_type": "markdown",
   "id": "f87655f0-be49-4ddc-af98-472583e42213",
   "metadata": {},
   "source": [
    "As we can see our table has been updated so that each student has a tutor_id.  Now what if we wanted to see the pair of each person and their tutor."
   ]
  },
  {
   "cell_type": "code",
   "execution_count": 33,
   "id": "617540fa-d059-46e9-b65b-da83e375048e",
   "metadata": {},
   "outputs": [
    {
     "data": {
      "text/html": [
       "<div>\n",
       "<style scoped>\n",
       "    .dataframe tbody tr th:only-of-type {\n",
       "        vertical-align: middle;\n",
       "    }\n",
       "\n",
       "    .dataframe tbody tr th {\n",
       "        vertical-align: top;\n",
       "    }\n",
       "\n",
       "    .dataframe thead th {\n",
       "        text-align: right;\n",
       "    }\n",
       "</style>\n",
       "<table border=\"1\" class=\"dataframe\">\n",
       "  <thead>\n",
       "    <tr style=\"text-align: right;\">\n",
       "      <th></th>\n",
       "      <th>name</th>\n",
       "      <th>tutor_name</th>\n",
       "    </tr>\n",
       "  </thead>\n",
       "  <tbody>\n",
       "    <tr>\n",
       "      <th>0</th>\n",
       "      <td>bart simpson</td>\n",
       "      <td>lisa simpson</td>\n",
       "    </tr>\n",
       "    <tr>\n",
       "      <th>1</th>\n",
       "      <td>maggie simpson</td>\n",
       "      <td>bart simpson</td>\n",
       "    </tr>\n",
       "    <tr>\n",
       "      <th>2</th>\n",
       "      <td>lisa simpson</td>\n",
       "      <td>maggie simpson</td>\n",
       "    </tr>\n",
       "  </tbody>\n",
       "</table>\n",
       "</div>"
      ],
      "text/plain": [
       "             name      tutor_name\n",
       "0    bart simpson    lisa simpson\n",
       "1  maggie simpson    bart simpson\n",
       "2    lisa simpson  maggie simpson"
      ]
     },
     "execution_count": 33,
     "metadata": {},
     "output_type": "execute_result"
    }
   ],
   "source": [
    "query = \"\"\"\n",
    "select s.name, tutors.name tutor_name from students s\n",
    "join students  as tutors\n",
    "on s.tutor_id = tutors.id\n",
    "\"\"\"\n",
    "pd.read_sql(query, conn)"
   ]
  },
  {
   "cell_type": "markdown",
   "id": "8f19ccd5-8006-448f-a0fd-b4962fa16bb6",
   "metadata": {},
   "source": [
    "So we can see from the above, that bart gets tutored by lisa."
   ]
  },
  {
   "cell_type": "markdown",
   "id": "c12c33e7-3c44-45ff-b169-50c05ac61753",
   "metadata": {},
   "source": [
    "Notice that to accomplish this we `select ... from students` and name it an alias `s` and then we join that same table students, but alias it to a different table name.  Then we join these two aliased tables together."
   ]
  },
  {
   "cell_type": "markdown",
   "id": "eaf643f5-60d4-4171-b87e-06a726e16215",
   "metadata": {},
   "source": [
    "### Using self joins"
   ]
  },
  {
   "cell_type": "markdown",
   "id": "025f7ab5-d0c8-469c-b455-2e43f9c8cbf8",
   "metadata": {},
   "source": [
    "There are various use cases of self joins.  \n",
    "\n",
    "* Self-referential tables\n",
    "\n",
    "Above we see that the table itself has a self-referential foreign key.  So that's one use case -- when the \"foreign key\" and primary key are on the same table."
   ]
  },
  {
   "cell_type": "markdown",
   "id": "140fc456-ff03-43d0-9b47-2b4fa8a35912",
   "metadata": {},
   "source": [
    "* Sequences - Performing Lags"
   ]
  },
  {
   "cell_type": "markdown",
   "id": "bf17b4a5-8c54-4d88-a401-3e63034e4d4d",
   "metadata": {},
   "source": [
    "Another case is when we are asked to compare data with it's sequence."
   ]
  },
  {
   "cell_type": "code",
   "execution_count": 91,
   "id": "0819e3dd-c0c0-4837-a1e3-958f996f02ff",
   "metadata": {},
   "outputs": [],
   "source": [
    "import pandas as pd\n",
    "df = pd.read_csv('./weather_central_park.csv')\n",
    "df = df.assign(id = df.index).iloc[:, :2]\n",
    "df = df.rename(columns = {'maximum temperature': 'max_temp'})\n",
    "df = df.drop(labels = [9, 13])\n",
    "# df"
   ]
  },
  {
   "cell_type": "code",
   "execution_count": 92,
   "id": "77d8355c-2410-45af-a2ea-f2b024ab6727",
   "metadata": {},
   "outputs": [
    {
     "data": {
      "text/plain": [
       "364"
      ]
     },
     "execution_count": 92,
     "metadata": {},
     "output_type": "execute_result"
    }
   ],
   "source": [
    "df.to_sql('temperatures', conn, index = True, index_label = 'id', if_exists = 'replace')"
   ]
  },
  {
   "cell_type": "code",
   "execution_count": 93,
   "id": "2afd5cd9-dee9-4182-a39f-cf32626f8250",
   "metadata": {},
   "outputs": [
    {
     "data": {
      "text/html": [
       "<div>\n",
       "<style scoped>\n",
       "    .dataframe tbody tr th:only-of-type {\n",
       "        vertical-align: middle;\n",
       "    }\n",
       "\n",
       "    .dataframe tbody tr th {\n",
       "        vertical-align: top;\n",
       "    }\n",
       "\n",
       "    .dataframe thead th {\n",
       "        text-align: right;\n",
       "    }\n",
       "</style>\n",
       "<table border=\"1\" class=\"dataframe\">\n",
       "  <thead>\n",
       "    <tr style=\"text-align: right;\">\n",
       "      <th></th>\n",
       "      <th>id</th>\n",
       "      <th>date</th>\n",
       "      <th>max_temp</th>\n",
       "    </tr>\n",
       "  </thead>\n",
       "  <tbody>\n",
       "    <tr>\n",
       "      <th>0</th>\n",
       "      <td>0</td>\n",
       "      <td>1-1-2016</td>\n",
       "      <td>42</td>\n",
       "    </tr>\n",
       "    <tr>\n",
       "      <th>1</th>\n",
       "      <td>1</td>\n",
       "      <td>2-1-2016</td>\n",
       "      <td>40</td>\n",
       "    </tr>\n",
       "    <tr>\n",
       "      <th>2</th>\n",
       "      <td>2</td>\n",
       "      <td>3-1-2016</td>\n",
       "      <td>45</td>\n",
       "    </tr>\n",
       "  </tbody>\n",
       "</table>\n",
       "</div>"
      ],
      "text/plain": [
       "   id      date  max_temp\n",
       "0   0  1-1-2016        42\n",
       "1   1  2-1-2016        40\n",
       "2   2  3-1-2016        45"
      ]
     },
     "execution_count": 93,
     "metadata": {},
     "output_type": "execute_result"
    }
   ],
   "source": [
    "temperature_df = pd.read_sql('select * from temperatures limit 3', conn)\n",
    "temperature_df"
   ]
  },
  {
   "cell_type": "markdown",
   "id": "a48064fd-bc0f-4f4a-aa5d-4e127c05660a",
   "metadata": {},
   "source": [
    "Now what if we want to find the difference between each temperature and the previous day.  One way is with the lag window function.  But another way is with a self join."
   ]
  },
  {
   "cell_type": "code",
   "execution_count": 94,
   "id": "23d95fde-a679-456d-869f-4dc962bc52f9",
   "metadata": {},
   "outputs": [
    {
     "data": {
      "text/html": [
       "<div>\n",
       "<style scoped>\n",
       "    .dataframe tbody tr th:only-of-type {\n",
       "        vertical-align: middle;\n",
       "    }\n",
       "\n",
       "    .dataframe tbody tr th {\n",
       "        vertical-align: top;\n",
       "    }\n",
       "\n",
       "    .dataframe thead th {\n",
       "        text-align: right;\n",
       "    }\n",
       "</style>\n",
       "<table border=\"1\" class=\"dataframe\">\n",
       "  <thead>\n",
       "    <tr style=\"text-align: right;\">\n",
       "      <th></th>\n",
       "      <th>id</th>\n",
       "      <th>t1_date</th>\n",
       "      <th>t2_date</th>\n",
       "      <th>t1_max_temp</th>\n",
       "      <th>t2_max_temp</th>\n",
       "    </tr>\n",
       "  </thead>\n",
       "  <tbody>\n",
       "    <tr>\n",
       "      <th>0</th>\n",
       "      <td>0</td>\n",
       "      <td>1-1-2016</td>\n",
       "      <td>2-1-2016</td>\n",
       "      <td>42</td>\n",
       "      <td>40</td>\n",
       "    </tr>\n",
       "    <tr>\n",
       "      <th>1</th>\n",
       "      <td>1</td>\n",
       "      <td>2-1-2016</td>\n",
       "      <td>3-1-2016</td>\n",
       "      <td>40</td>\n",
       "      <td>45</td>\n",
       "    </tr>\n",
       "    <tr>\n",
       "      <th>2</th>\n",
       "      <td>2</td>\n",
       "      <td>3-1-2016</td>\n",
       "      <td>4-1-2016</td>\n",
       "      <td>45</td>\n",
       "      <td>36</td>\n",
       "    </tr>\n",
       "  </tbody>\n",
       "</table>\n",
       "</div>"
      ],
      "text/plain": [
       "   id   t1_date   t2_date  t1_max_temp  t2_max_temp\n",
       "0   0  1-1-2016  2-1-2016           42           40\n",
       "1   1  2-1-2016  3-1-2016           40           45\n",
       "2   2  3-1-2016  4-1-2016           45           36"
      ]
     },
     "execution_count": 94,
     "metadata": {},
     "output_type": "execute_result"
    }
   ],
   "source": [
    "pd.read_sql(\"\"\"select t1.id, t1.date t1_date, t2.date t2_date,\n",
    "t1.max_temp t1_max_temp, t2.max_temp t2_max_temp\n",
    "from temperatures t1 \n",
    "join temperatures t2 on t1.id = t2.id - 1 limit 3\"\"\", conn)"
   ]
  },
  {
   "cell_type": "markdown",
   "id": "507cfeda-fc21-4af4-9e9b-fc3ce8264a35",
   "metadata": {},
   "source": [
    "So we can see above that we joined a table to itself, for the purpose of joining each row with the preceding row.\n",
    "\n",
    "And we did so by aligning the rows where `t1.id = t2.id - 1`, and that only occurs where our second date is one greater than the `t1` date."
   ]
  },
  {
   "cell_type": "markdown",
   "id": "6cdf4f3d-c7d2-4c6d-9824-e7e8927ab7ba",
   "metadata": {},
   "source": [
    "### Summary"
   ]
  },
  {
   "cell_type": "markdown",
   "id": "fae602af-23ee-45bb-8ac3-788ce682268b",
   "metadata": {},
   "source": [
    "In this lesson, we saw how we can use a self join."
   ]
  },
  {
   "cell_type": "code",
   "execution_count": null,
   "id": "52e9e21b-86c3-43e8-8b09-4f7f7c90bf43",
   "metadata": {},
   "outputs": [],
   "source": []
  }
 ],
 "metadata": {
  "kernelspec": {
   "display_name": "Python 3 (ipykernel)",
   "language": "python",
   "name": "python3"
  },
  "language_info": {
   "codemirror_mode": {
    "name": "ipython",
    "version": 3
   },
   "file_extension": ".py",
   "mimetype": "text/x-python",
   "name": "python",
   "nbconvert_exporter": "python",
   "pygments_lexer": "ipython3",
   "version": "3.9.12"
  }
 },
 "nbformat": 4,
 "nbformat_minor": 5
}
