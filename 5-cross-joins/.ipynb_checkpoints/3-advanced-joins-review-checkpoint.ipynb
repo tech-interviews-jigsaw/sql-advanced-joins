{
 "cells": [
  {
   "cell_type": "markdown",
   "id": "efc30af7-7e97-4271-a6d5-4e24a361e6cf",
   "metadata": {},
   "source": [
    "# Advanced Joins Review Lab"
   ]
  },
  {
   "cell_type": "markdown",
   "id": "be4fa42b-0b20-4c62-a988-0f03c414b9a4",
   "metadata": {},
   "source": [
    "### Introduction"
   ]
  },
  {
   "cell_type": "markdown",
   "id": "d52e8017-bf21-45da-befb-6dcada4700da",
   "metadata": {},
   "source": [
    "In this lesson, we'll review some of the latest components that we learned about joins. "
   ]
  },
  {
   "cell_type": "markdown",
   "id": "673f3f9b-9ab0-431b-80d3-b8b1640837f7",
   "metadata": {},
   "source": [
    "### Getting Started"
   ]
  },
  {
   "cell_type": "markdown",
   "id": "0a106617-ab9b-45a3-9911-7dd96c1ae1e6",
   "metadata": {},
   "source": [
    "* Finding the minimum distance problem (cross joins problem)"
   ]
  },
  {
   "cell_type": "markdown",
   "id": "14ead67c-78c7-41ab-9dc4-65e192a7d65a",
   "metadata": {},
   "source": [
    "* Stock price data, window function"
   ]
  },
  {
   "cell_type": "code",
   "execution_count": null,
   "id": "bbfa4a86-da13-48c6-9440-202ed7c52fde",
   "metadata": {},
   "outputs": [],
   "source": []
  }
 ],
 "metadata": {
  "kernelspec": {
   "display_name": "Python 3 (ipykernel)",
   "language": "python",
   "name": "python3"
  },
  "language_info": {
   "codemirror_mode": {
    "name": "ipython",
    "version": 3
   },
   "file_extension": ".py",
   "mimetype": "text/x-python",
   "name": "python",
   "nbconvert_exporter": "python",
   "pygments_lexer": "ipython3",
   "version": "3.9.12"
  }
 },
 "nbformat": 4,
 "nbformat_minor": 5
}
