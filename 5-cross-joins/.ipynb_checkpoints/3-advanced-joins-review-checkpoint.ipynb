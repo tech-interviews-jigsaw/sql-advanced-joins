{
 "cells": [
  {
   "cell_type": "markdown",
   "id": "efc30af7-7e97-4271-a6d5-4e24a361e6cf",
   "metadata": {},
   "source": [
    "# Advanced Joins Review Lab"
   ]
  },
  {
   "cell_type": "markdown",
   "id": "be4fa42b-0b20-4c62-a988-0f03c414b9a4",
   "metadata": {},
   "source": [
    "### Introduction"
   ]
  },
  {
   "cell_type": "markdown",
   "id": "d52e8017-bf21-45da-befb-6dcada4700da",
   "metadata": {},
   "source": [
    "In this lesson, we'll review some of the latest components that we learned about joins by tackling some leetcode problems. "
   ]
  },
  {
   "cell_type": "markdown",
   "id": "188cc885-69b6-4f41-8512-7aae7dfe03ff",
   "metadata": {},
   "source": [
    "> Warning: The below code will work in colab, but may not work locally."
   ]
  },
  {
   "cell_type": "code",
   "execution_count": null,
   "id": "640f91b4-ad27-4de2-be91-7e3292fafcfd",
   "metadata": {},
   "outputs": [],
   "source": [
    "from time import process_time\n",
    "start_time = process_time()\n",
    "import subprocess\n",
    "try:\n",
    "    import google.colab # if colab exists, install pysqlite-binary\n",
    "    subprocess.run(['pip', 'install', 'pysqlite3-binary'], capture_output=False)\n",
    "    import pysqlite3 as sqlite3\n",
    "\n",
    "except ModuleNotFoundError:\n",
    "    pass\n",
    "end_time = process_time()"
   ]
  },
  {
   "cell_type": "code",
   "execution_count": null,
   "id": "adde6982-5381-4cd2-bdcf-57172fa80699",
   "metadata": {},
   "outputs": [],
   "source": [
    "import warnings\n",
    "warnings.simplefilter(action='ignore', category=UserWarning)\n",
    "import pandas as pd"
   ]
  },
  {
   "cell_type": "markdown",
   "id": "673f3f9b-9ab0-431b-80d3-b8b1640837f7",
   "metadata": {},
   "source": [
    "### Employees v managers"
   ]
  },
  {
   "cell_type": "markdown",
   "id": "a0591b7d-04e1-42ee-8c09-cb454ac7a42e",
   "metadata": {},
   "source": [
    "* Loading our data"
   ]
  },
  {
   "cell_type": "code",
   "execution_count": 5,
   "id": "d27ed800-9191-4dd1-8964-746a0ae3edda",
   "metadata": {},
   "outputs": [
    {
     "data": {
      "text/plain": [
       "4"
      ]
     },
     "execution_count": 5,
     "metadata": {},
     "output_type": "execute_result"
    }
   ],
   "source": [
    "import sqlite3\n",
    "conn = sqlite3.connect('users.db')\n",
    "employees_url = \"https://raw.githubusercontent.com/tech-interviews-jigsaw/sql-advanced-joins/main/5-cross-joins/employees.csv\"\n",
    "employee_df = pd.read_csv(employees_url)\n",
    "employee_df.to_sql('employees', conn, if_exists = 'replace')"
   ]
  },
  {
   "cell_type": "markdown",
   "id": "1a235ed8-ee50-4c94-8f0a-61d554ca97eb",
   "metadata": {},
   "source": [
    "Find all of the employees earning more than their manager"
   ]
  },
  {
   "cell_type": "code",
   "execution_count": 6,
   "id": "170d49b0-e28e-43ce-9c07-d2a8818a7b2b",
   "metadata": {},
   "outputs": [
    {
     "data": {
      "text/html": [
       "<div>\n",
       "<style scoped>\n",
       "    .dataframe tbody tr th:only-of-type {\n",
       "        vertical-align: middle;\n",
       "    }\n",
       "\n",
       "    .dataframe tbody tr th {\n",
       "        vertical-align: top;\n",
       "    }\n",
       "\n",
       "    .dataframe thead th {\n",
       "        text-align: right;\n",
       "    }\n",
       "</style>\n",
       "<table border=\"1\" class=\"dataframe\">\n",
       "  <thead>\n",
       "    <tr style=\"text-align: right;\">\n",
       "      <th></th>\n",
       "      <th>Employee</th>\n",
       "    </tr>\n",
       "  </thead>\n",
       "  <tbody>\n",
       "    <tr>\n",
       "      <th>0</th>\n",
       "      <td>Joe</td>\n",
       "    </tr>\n",
       "  </tbody>\n",
       "</table>\n",
       "</div>"
      ],
      "text/plain": [
       "  Employee\n",
       "0      Joe"
      ]
     },
     "execution_count": 6,
     "metadata": {},
     "output_type": "execute_result"
    }
   ],
   "source": [
    "query = \"\"\"\n",
    "\n",
    "\"\"\"\n",
    "pd.read_sql(query, conn)\n",
    "\n",
    "# Employee\n",
    "# 0\tJoe"
   ]
  },
  {
   "cell_type": "markdown",
   "id": "470e87ad-9f5e-40f2-958a-cba4fe223b46",
   "metadata": {},
   "source": [
    "[Employees earning more](https://leetcode.com/problems/employees-earning-more-than-their-managers/)"
   ]
  },
  {
   "cell_type": "markdown",
   "id": "a82596c9-a6f4-4af7-a5f8-3ee0739f8b84",
   "metadata": {},
   "source": [
    "### Find the minimum distance"
   ]
  },
  {
   "cell_type": "markdown",
   "id": "da16cf2d-0c35-4d63-a4ee-b1395486c722",
   "metadata": {},
   "source": [
    "* Find the shortest distance between any two points from the Point table."
   ]
  },
  {
   "cell_type": "code",
   "execution_count": 7,
   "id": "e254487f-436c-43d9-8cc2-16c00925387b",
   "metadata": {},
   "outputs": [
    {
     "data": {
      "text/plain": [
       "3"
      ]
     },
     "execution_count": 7,
     "metadata": {},
     "output_type": "execute_result"
    }
   ],
   "source": [
    "points_url = \"https://raw.githubusercontent.com/tech-interviews-jigsaw/sql-advanced-joins/main/5-cross-joins/points.csv\"\n",
    "points_df = pd.read_csv(points_url, index_col = 0)\n",
    "points_df.to_sql('points', conn, if_exists = 'replace')"
   ]
  },
  {
   "cell_type": "code",
   "execution_count": 8,
   "id": "3fdbed67-c517-416a-867a-cdd073ed773f",
   "metadata": {},
   "outputs": [
    {
     "data": {
      "text/html": [
       "<div>\n",
       "<style scoped>\n",
       "    .dataframe tbody tr th:only-of-type {\n",
       "        vertical-align: middle;\n",
       "    }\n",
       "\n",
       "    .dataframe tbody tr th {\n",
       "        vertical-align: top;\n",
       "    }\n",
       "\n",
       "    .dataframe thead th {\n",
       "        text-align: right;\n",
       "    }\n",
       "</style>\n",
       "<table border=\"1\" class=\"dataframe\">\n",
       "  <thead>\n",
       "    <tr style=\"text-align: right;\">\n",
       "      <th></th>\n",
       "      <th>shortest</th>\n",
       "    </tr>\n",
       "  </thead>\n",
       "  <tbody>\n",
       "    <tr>\n",
       "      <th>0</th>\n",
       "      <td>1</td>\n",
       "    </tr>\n",
       "  </tbody>\n",
       "</table>\n",
       "</div>"
      ],
      "text/plain": [
       "   shortest\n",
       "0         1"
      ]
     },
     "execution_count": 8,
     "metadata": {},
     "output_type": "execute_result"
    }
   ],
   "source": [
    "pd.read_sql(\"\"\"\n",
    "\n",
    "\"\"\", conn)\n",
    "\n",
    "# \tshortest\n",
    "# 0\t1"
   ]
  },
  {
   "cell_type": "markdown",
   "id": "a1a66994-7bc9-42cf-bb42-fe549b2bd62b",
   "metadata": {},
   "source": [
    "> [Original leetcode](https://leetcode.com/problems/shortest-distance-in-a-line/)"
   ]
  },
  {
   "cell_type": "markdown",
   "id": "26ca27a6-9c9d-48d9-b1bb-db85ff4f5be0",
   "metadata": {},
   "source": [
    "* Employees with missing information"
   ]
  },
  {
   "cell_type": "code",
   "execution_count": 9,
   "id": "582022da-6ecd-4d35-b55f-19fde30dc6df",
   "metadata": {},
   "outputs": [
    {
     "data": {
      "text/plain": [
       "3"
      ]
     },
     "execution_count": 9,
     "metadata": {},
     "output_type": "execute_result"
    }
   ],
   "source": [
    "import pandas as pd\n",
    "employee_url = \"https://raw.githubusercontent.com/tech-interviews-jigsaw/sql-advanced-joins/main/5-cross-joins/employee.csv\"\n",
    "salary_url = \"https://raw.githubusercontent.com/tech-interviews-jigsaw/sql-advanced-joins/main/5-cross-joins/salary.csv\"\n",
    "employee_df = pd.read_csv(employee_url)\n",
    "employee_df.to_sql('employees', conn, if_exists = 'replace')\n",
    "salary_df = pd.read_csv(salary_url)\n",
    "salary_df.to_sql('salaries', conn, if_exists = 'replace')"
   ]
  },
  {
   "cell_type": "code",
   "execution_count": 11,
   "id": "a3502034-f614-468e-a9f6-e8d21109987c",
   "metadata": {},
   "outputs": [],
   "source": [
    "\n",
    "query = \"\"\"\n",
    "\"\"\"\n",
    "\n",
    "# pd.read_sql(query, conn)\n",
    "\n",
    "# | employee_id |\n",
    "# | ----------- |\n",
    "# | 1           |\n",
    "# | 2           |"
   ]
  },
  {
   "cell_type": "markdown",
   "id": "e8547dfa-8a7e-4b5f-83bd-86c9b7b1e868",
   "metadata": {},
   "source": [
    "[Original Leetcode](https://leetcode.com/problems/employees-with-missing-information/)"
   ]
  },
  {
   "cell_type": "markdown",
   "id": "84d55e9d-234e-4858-9937-f51ddece7f7d",
   "metadata": {
    "tags": []
   },
   "source": [
    "### Resources\n",
    "\n",
    "[Leetcode Employees vs Managers](https://leetcode.com/problems/employees-earning-more-than-their-managers/editorial/)\n",
    "\n",
    "[Employees with Missing info](https://leetcode.com/problems/employees-with-missing-information/)"
   ]
  },
  {
   "cell_type": "markdown",
   "id": "935665d8-b7f5-4be5-b611-ae5f94713f37",
   "metadata": {},
   "source": [
    "[Shortest distance in a line](https://leetcode.com/problems/shortest-distance-in-a-line/editorial/)"
   ]
  }
 ],
 "metadata": {
  "kernelspec": {
   "display_name": "Python 3 (ipykernel)",
   "language": "python",
   "name": "python3"
  },
  "language_info": {
   "codemirror_mode": {
    "name": "ipython",
    "version": 3
   },
   "file_extension": ".py",
   "mimetype": "text/x-python",
   "name": "python",
   "nbconvert_exporter": "python",
   "pygments_lexer": "ipython3",
   "version": "3.9.12"
  }
 },
 "nbformat": 4,
 "nbformat_minor": 5
}
