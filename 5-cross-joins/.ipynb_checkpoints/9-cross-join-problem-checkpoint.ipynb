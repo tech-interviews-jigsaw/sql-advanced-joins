{
 "cells": [
  {
   "cell_type": "code",
   "execution_count": null,
   "id": "86a5ee28-6a5f-4d5e-a80c-9188e78dc011",
   "metadata": {},
   "outputs": [],
   "source": []
  },
  {
   "cell_type": "code",
   "execution_count": null,
   "id": "4afbfa08-b413-4df6-9282-0c9777d09263",
   "metadata": {},
   "outputs": [],
   "source": [
    "pd.read_sql(\"\"\"\n",
    "with grid as (\n",
    "select bartenders.id as bartender_id,\n",
    "bartenders.name as bartender_name,\n",
    "selected_customers.name as customer_name,\n",
    "selected_customers.id as customer_id\n",
    "from bartenders join \n",
    "(select * from customers where name = 'lisa simpson')\n",
    "as selected_customers\n",
    ")\n",
    "select * from grid left join orders \n",
    "on orders.customer_id = grid.customer_id and orders.bartender_id = grid.bartender_id\n",
    ";\n",
    "\"\"\", conn)"
   ]
  }
 ],
 "metadata": {
  "kernelspec": {
   "display_name": "Python 3 (ipykernel)",
   "language": "python",
   "name": "python3"
  },
  "language_info": {
   "codemirror_mode": {
    "name": "ipython",
    "version": 3
   },
   "file_extension": ".py",
   "mimetype": "text/x-python",
   "name": "python",
   "nbconvert_exporter": "python",
   "pygments_lexer": "ipython3",
   "version": "3.9.12"
  }
 },
 "nbformat": 4,
 "nbformat_minor": 5
}
