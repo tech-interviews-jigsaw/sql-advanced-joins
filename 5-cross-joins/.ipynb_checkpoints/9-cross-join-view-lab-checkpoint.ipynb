{
 "cells": [
  {
   "cell_type": "markdown",
   "id": "045af6d2-2f3f-41fc-add2-06e32db4bb21",
   "metadata": {},
   "source": [
    "# Cross Join View Lab"
   ]
  },
  {
   "cell_type": "code",
   "execution_count": 2,
   "id": "c18bcef6-9d63-4a4d-8d5f-77ed71a913fa",
   "metadata": {},
   "outputs": [],
   "source": [
    "import sqlite3\n",
    "conn = sqlite3.connect('users.db')"
   ]
  },
  {
   "cell_type": "code",
   "execution_count": 3,
   "id": "3178b81c-cecc-4d19-80b8-7330e890f343",
   "metadata": {},
   "outputs": [],
   "source": [
    "import pandas as pd\n",
    "root_url = \"https://raw.githubusercontent.com/jigsawlabs-student/curriculum-images/main/has-many-through-bar/data/\"\n",
    "names = ['bartenders', 'customers', 'drinks', 'orders', 'ingredients', 'ingredients_drinks']\n",
    "loaded_dfs = [pd.read_csv(f'{root_url}{name}.csv') for name in names]"
   ]
  },
  {
   "cell_type": "code",
   "execution_count": 4,
   "id": "7796ec79-a483-4e94-b89a-3e52a47766a7",
   "metadata": {},
   "outputs": [],
   "source": [
    "for index, name in enumerate(names):\n",
    "    loaded_dfs[index].to_sql(f'{name}', conn, index = False, if_exists = 'replace')"
   ]
  },
  {
   "cell_type": "code",
   "execution_count": null,
   "id": "dba71f73-272a-4102-8dd4-c448607784ed",
   "metadata": {},
   "outputs": [],
   "source": [
    "import pandas as pd\n",
    "\n",
    "query = \"\"\"\n",
    "with all_differences as\n",
    "(select c1.id id_1, c1.name name_1, c1.birthyear as birthyear_1, \n",
    "c2.id as id_2, c2.name as name_2, c2.birthyear as birthyear_2,\n",
    "(c1.birthyear - c2.birthyear) as diff \n",
    "from customers c1 join customers c2 where c1.id > c2.id\n",
    ")\n",
    "select abs(min(diff)) as minimum_diff from all_differences\n",
    "\"\"\"\n",
    "\n",
    "pd.read_sql(query, conn)"
   ]
  }
 ],
 "metadata": {
  "kernelspec": {
   "display_name": "Python 3 (ipykernel)",
   "language": "python",
   "name": "python3"
  },
  "language_info": {
   "codemirror_mode": {
    "name": "ipython",
    "version": 3
   },
   "file_extension": ".py",
   "mimetype": "text/x-python",
   "name": "python",
   "nbconvert_exporter": "python",
   "pygments_lexer": "ipython3",
   "version": "3.9.12"
  }
 },
 "nbformat": 4,
 "nbformat_minor": 5
}
