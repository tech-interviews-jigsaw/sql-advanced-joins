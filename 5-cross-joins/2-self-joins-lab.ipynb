{
 "cells": [
  {
   "cell_type": "markdown",
   "id": "c759c4bd-819e-4d5a-b767-9003f8694ce6",
   "metadata": {},
   "source": [
    "# Self Joins Lab"
   ]
  },
  {
   "cell_type": "markdown",
   "id": "e3dab172-8232-4915-8878-0195c8e400c8",
   "metadata": {},
   "source": [
    "### Introduction"
   ]
  },
  {
   "cell_type": "markdown",
   "id": "cf68ea00-7783-453a-a963-a0dd17b6eacf",
   "metadata": {},
   "source": [
    "In this lesson, we will practice self joins while working with our weather."
   ]
  },
  {
   "cell_type": "markdown",
   "id": "b94ac74a-412f-4c50-9d11-4ec38093de60",
   "metadata": {},
   "source": [
    "### Loading our data"
   ]
  },
  {
   "cell_type": "markdown",
   "id": "c26748b5-062b-4b8d-8be5-3b1a42b3493e",
   "metadata": {},
   "source": [
    "Let's begin by loading our weather data."
   ]
  },
  {
   "cell_type": "code",
   "execution_count": 3,
   "id": "91935ada-8d5b-4a69-9b15-798cd103c827",
   "metadata": {},
   "outputs": [
    {
     "data": {
      "text/plain": [
       "364"
      ]
     },
     "execution_count": 3,
     "metadata": {},
     "output_type": "execute_result"
    }
   ],
   "source": [
    "import pandas as pd\n",
    "import sqlite3\n",
    "conn = sqlite3.connect('users.db')\n",
    "\n",
    "df = pd.read_csv('./weather_central_park.csv')\n",
    "df = df.assign(id = df.index).iloc[:, :2]\n",
    "df = df.rename(columns = {'maximum temperature': 'max_temp'})\n",
    "df = df.drop(labels = [9, 13])\n",
    "\n",
    "df.to_sql('temperatures', conn, index = True,\n",
    "          index_label = 'id', if_exists = 'replace')"
   ]
  },
  {
   "cell_type": "markdown",
   "id": "51a36bfa-53af-41d8-b221-84963b2743d8",
   "metadata": {},
   "source": [
    "### A couple problems"
   ]
  },
  {
   "cell_type": "markdown",
   "id": "fa46568d-0ac2-4e46-8cae-1487e7226130",
   "metadata": {},
   "source": [
    "* Begin by finding all of the months where the temperature decreased in the succeeding month.  Use a self join to do so.\n",
    "\n",
    "> Do not reference previous lessons -- you won't have them on an interview."
   ]
  },
  {
   "cell_type": "code",
   "execution_count": 15,
   "id": "dc5cc111-7265-4e4a-888c-448a3360d8be",
   "metadata": {},
   "outputs": [
    {
     "data": {
      "text/html": [
       "<div>\n",
       "<style scoped>\n",
       "    .dataframe tbody tr th:only-of-type {\n",
       "        vertical-align: middle;\n",
       "    }\n",
       "\n",
       "    .dataframe tbody tr th {\n",
       "        vertical-align: top;\n",
       "    }\n",
       "\n",
       "    .dataframe thead th {\n",
       "        text-align: right;\n",
       "    }\n",
       "</style>\n",
       "<table border=\"1\" class=\"dataframe\">\n",
       "  <thead>\n",
       "    <tr style=\"text-align: right;\">\n",
       "      <th></th>\n",
       "      <th>num_decreasing_rows</th>\n",
       "    </tr>\n",
       "  </thead>\n",
       "  <tbody>\n",
       "    <tr>\n",
       "      <th>0</th>\n",
       "      <td>162</td>\n",
       "    </tr>\n",
       "  </tbody>\n",
       "</table>\n",
       "</div>"
      ],
      "text/plain": [
       "   num_decreasing_rows\n",
       "0                  162"
      ]
     },
     "execution_count": 15,
     "metadata": {},
     "output_type": "execute_result"
    }
   ],
   "source": [
    "import pandas as pd\n",
    "# query = \"\"\"select * from temperatures limit 3\"\"\"\n",
    "\n",
    "query = \"\"\"\n",
    "\n",
    "\"\"\"\n",
    "\n",
    "pd.read_sql(query, conn)\n",
    "\n",
    "# \tnum_decreasing_rows\n",
    "# 0\t162"
   ]
  },
  {
   "cell_type": "markdown",
   "id": "bc822276-6c9f-4418-b46a-6d98b8f8f700",
   "metadata": {},
   "source": [
    "* Finding gaps"
   ]
  },
  {
   "cell_type": "markdown",
   "id": "e6e41eac-0e87-4dc5-822e-71ddca1cf0f0",
   "metadata": {},
   "source": [
    "Now it turns out that there are some gaps in our data."
   ]
  },
  {
   "cell_type": "code",
   "execution_count": 95,
   "id": "f9765f33-4fa4-4d08-bdcd-aa0b3ac4e739",
   "metadata": {},
   "outputs": [
    {
     "data": {
      "text/html": [
       "<div>\n",
       "<style scoped>\n",
       "    .dataframe tbody tr th:only-of-type {\n",
       "        vertical-align: middle;\n",
       "    }\n",
       "\n",
       "    .dataframe tbody tr th {\n",
       "        vertical-align: top;\n",
       "    }\n",
       "\n",
       "    .dataframe thead th {\n",
       "        text-align: right;\n",
       "    }\n",
       "</style>\n",
       "<table border=\"1\" class=\"dataframe\">\n",
       "  <thead>\n",
       "    <tr style=\"text-align: right;\">\n",
       "      <th></th>\n",
       "      <th>id</th>\n",
       "      <th>date</th>\n",
       "      <th>max_temp</th>\n",
       "    </tr>\n",
       "  </thead>\n",
       "  <tbody>\n",
       "    <tr>\n",
       "      <th>0</th>\n",
       "      <td>8</td>\n",
       "      <td>9-1-2016</td>\n",
       "      <td>47</td>\n",
       "    </tr>\n",
       "    <tr>\n",
       "      <th>1</th>\n",
       "      <td>10</td>\n",
       "      <td>11-1-2016</td>\n",
       "      <td>40</td>\n",
       "    </tr>\n",
       "    <tr>\n",
       "      <th>2</th>\n",
       "      <td>11</td>\n",
       "      <td>12-1-2016</td>\n",
       "      <td>44</td>\n",
       "    </tr>\n",
       "    <tr>\n",
       "      <th>3</th>\n",
       "      <td>12</td>\n",
       "      <td>13-1-2016</td>\n",
       "      <td>30</td>\n",
       "    </tr>\n",
       "    <tr>\n",
       "      <th>4</th>\n",
       "      <td>14</td>\n",
       "      <td>15-1-2016</td>\n",
       "      <td>51</td>\n",
       "    </tr>\n",
       "    <tr>\n",
       "      <th>5</th>\n",
       "      <td>15</td>\n",
       "      <td>16-1-2016</td>\n",
       "      <td>52</td>\n",
       "    </tr>\n",
       "    <tr>\n",
       "      <th>6</th>\n",
       "      <td>16</td>\n",
       "      <td>17-1-2016</td>\n",
       "      <td>42</td>\n",
       "    </tr>\n",
       "  </tbody>\n",
       "</table>\n",
       "</div>"
      ],
      "text/plain": [
       "   id       date  max_temp\n",
       "0   8   9-1-2016        47\n",
       "1  10  11-1-2016        40\n",
       "2  11  12-1-2016        44\n",
       "3  12  13-1-2016        30\n",
       "4  14  15-1-2016        51\n",
       "5  15  16-1-2016        52\n",
       "6  16  17-1-2016        42"
      ]
     },
     "execution_count": 95,
     "metadata": {},
     "output_type": "execute_result"
    }
   ],
   "source": [
    "temperature_df = pd.read_sql('select * from temperatures limit 7 offset 8', conn)\n",
    "temperature_df"
   ]
  },
  {
   "cell_type": "markdown",
   "id": "6339918d-4071-4823-b9f4-9bea386faa12",
   "metadata": {},
   "source": [
    "We can see that we are missing days for 9, 12, and 13.  Find all of the ids that do not have a preceding date.  "
   ]
  },
  {
   "cell_type": "code",
   "execution_count": 32,
   "id": "791d629c-c4f6-4103-9864-a43d586fd48a",
   "metadata": {},
   "outputs": [],
   "source": [
    "pd.read_sql(\"\"\"\n",
    "\"\"\", conn)\n",
    "\n",
    "# # \tid\tt1_date\tt2_date\tt1_max_temp\tt2_max_temp\n",
    "# # 0\t0\t1-1-2016\tNone\t42\tNone\n",
    "# # 1\t10\t11-1-2016\tNone\t40\tNone\n",
    "# # 2\t14\t15-1-2016\tNone\t51\tNone"
   ]
  }
 ],
 "metadata": {
  "kernelspec": {
   "display_name": "Python 3 (ipykernel)",
   "language": "python",
   "name": "python3"
  },
  "language_info": {
   "codemirror_mode": {
    "name": "ipython",
    "version": 3
   },
   "file_extension": ".py",
   "mimetype": "text/x-python",
   "name": "python",
   "nbconvert_exporter": "python",
   "pygments_lexer": "ipython3",
   "version": "3.9.12"
  }
 },
 "nbformat": 4,
 "nbformat_minor": 5
}
