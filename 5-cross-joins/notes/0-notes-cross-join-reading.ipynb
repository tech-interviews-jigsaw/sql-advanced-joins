{
 "cells": [
  {
   "cell_type": "markdown",
   "id": "cfab31e1-37b4-451c-8540-ec166ec1379c",
   "metadata": {},
   "source": [
    "# Cross Joins"
   ]
  },
  {
   "cell_type": "markdown",
   "id": "1b8a081a-f3ca-4bb6-af4d-c85a2fe8a3f0",
   "metadata": {},
   "source": [
    "### Introduction"
   ]
  },
  {
   "cell_type": "markdown",
   "id": "bb7a083d-3711-448f-b7a8-91d04e481220",
   "metadata": {},
   "source": [
    "In this lesson we'll learn about cross joins, which given two lists, generates all combinations of those lists.  This is also known as the cartesian product.  \n",
    "\n",
    "Ok, let's get started."
   ]
  },
  {
   "cell_type": "markdown",
   "id": "8af2b3ca-19a9-4654-a8d1-8c9f1af612cf",
   "metadata": {},
   "source": [
    "### Loading the data"
   ]
  },
  {
   "cell_type": "markdown",
   "id": "23ddeb15-6250-4c65-bc64-3a178fcf6ab6",
   "metadata": {},
   "source": [
    "For this lesson, we'll work with our moe's bar dataset.  Let's load the data."
   ]
  },
  {
   "cell_type": "code",
   "execution_count": 1,
   "id": "f219f4f8-7681-481e-97e6-a83276e727e8",
   "metadata": {},
   "outputs": [],
   "source": [
    "import sqlite3\n",
    "conn = sqlite3.connect('users.db')"
   ]
  },
  {
   "cell_type": "code",
   "execution_count": 2,
   "id": "f02dff07-c43f-4ba7-a8ea-a928390341de",
   "metadata": {},
   "outputs": [],
   "source": [
    "import pandas as pd\n",
    "root_url = \"https://raw.githubusercontent.com/jigsawlabs-student/curriculum-images/main/has-many-through-bar/data/\"\n",
    "names = ['bartenders', 'customers', 'drinks', 'orders', 'ingredients', 'ingredients_drinks']\n",
    "loaded_dfs = [pd.read_csv(f'{root_url}{name}.csv') for name in names]"
   ]
  },
  {
   "cell_type": "code",
   "execution_count": 3,
   "id": "ae7dd09a-2793-4715-bc8b-8d82678668f5",
   "metadata": {},
   "outputs": [],
   "source": [
    "for index, name in enumerate(names):\n",
    "    loaded_dfs[index].to_sql(f'{name}', conn, index = False, if_exists = 'replace')"
   ]
  },
  {
   "cell_type": "markdown",
   "id": "dadf163e-5773-4247-89a4-6c08a0e57942",
   "metadata": {},
   "source": [
    "### Performing A Cross Join"
   ]
  },
  {
   "cell_type": "markdown",
   "id": "c18b90fa-16ba-4967-b904-55fcb711ffab",
   "metadata": {},
   "source": [
    "Chances are that you have already seen a cross join.  A cross join occurs every time that we do not specify what columns we are joining.  \n",
    "\n",
    "For example, let's join show all of the possible combinations customers paired with bartenders."
   ]
  },
  {
   "cell_type": "code",
   "execution_count": 5,
   "id": "cec74c6a-9754-4b79-8707-fe14a4e76c90",
   "metadata": {},
   "outputs": [
    {
     "data": {
      "text/html": [
       "<div>\n",
       "<style scoped>\n",
       "    .dataframe tbody tr th:only-of-type {\n",
       "        vertical-align: middle;\n",
       "    }\n",
       "\n",
       "    .dataframe tbody tr th {\n",
       "        vertical-align: top;\n",
       "    }\n",
       "\n",
       "    .dataframe thead th {\n",
       "        text-align: right;\n",
       "    }\n",
       "</style>\n",
       "<table border=\"1\" class=\"dataframe\">\n",
       "  <thead>\n",
       "    <tr style=\"text-align: right;\">\n",
       "      <th></th>\n",
       "      <th>id</th>\n",
       "      <th>name</th>\n",
       "      <th>hometown</th>\n",
       "      <th>birthyear</th>\n",
       "    </tr>\n",
       "  </thead>\n",
       "  <tbody>\n",
       "    <tr>\n",
       "      <th>0</th>\n",
       "      <td>1</td>\n",
       "      <td>moe</td>\n",
       "      <td>springfield</td>\n",
       "      <td>1965</td>\n",
       "    </tr>\n",
       "    <tr>\n",
       "      <th>1</th>\n",
       "      <td>2</td>\n",
       "      <td>selma</td>\n",
       "      <td>milwaukee</td>\n",
       "      <td>1970</td>\n",
       "    </tr>\n",
       "    <tr>\n",
       "      <th>2</th>\n",
       "      <td>3</td>\n",
       "      <td>patty</td>\n",
       "      <td>philly</td>\n",
       "      <td>1970</td>\n",
       "    </tr>\n",
       "  </tbody>\n",
       "</table>\n",
       "</div>"
      ],
      "text/plain": [
       "   id   name     hometown  birthyear\n",
       "0   1    moe  springfield       1965\n",
       "1   2  selma    milwaukee       1970\n",
       "2   3  patty       philly       1970"
      ]
     },
     "execution_count": 5,
     "metadata": {},
     "output_type": "execute_result"
    }
   ],
   "source": [
    "pd.read_sql(\"\"\" select * from bartenders\"\"\", conn)"
   ]
  },
  {
   "cell_type": "code",
   "execution_count": 6,
   "id": "8c523a22-b93f-474a-aee7-dab338129cb0",
   "metadata": {},
   "outputs": [
    {
     "data": {
      "text/html": [
       "<div>\n",
       "<style scoped>\n",
       "    .dataframe tbody tr th:only-of-type {\n",
       "        vertical-align: middle;\n",
       "    }\n",
       "\n",
       "    .dataframe tbody tr th {\n",
       "        vertical-align: top;\n",
       "    }\n",
       "\n",
       "    .dataframe thead th {\n",
       "        text-align: right;\n",
       "    }\n",
       "</style>\n",
       "<table border=\"1\" class=\"dataframe\">\n",
       "  <thead>\n",
       "    <tr style=\"text-align: right;\">\n",
       "      <th></th>\n",
       "      <th>bartender_name</th>\n",
       "      <th>customer_name</th>\n",
       "    </tr>\n",
       "  </thead>\n",
       "  <tbody>\n",
       "    <tr>\n",
       "      <th>0</th>\n",
       "      <td>moe</td>\n",
       "      <td>bart simpson</td>\n",
       "    </tr>\n",
       "    <tr>\n",
       "      <th>1</th>\n",
       "      <td>moe</td>\n",
       "      <td>maggie simpson</td>\n",
       "    </tr>\n",
       "    <tr>\n",
       "      <th>2</th>\n",
       "      <td>moe</td>\n",
       "      <td>lisa simpson</td>\n",
       "    </tr>\n",
       "    <tr>\n",
       "      <th>3</th>\n",
       "      <td>selma</td>\n",
       "      <td>bart simpson</td>\n",
       "    </tr>\n",
       "    <tr>\n",
       "      <th>4</th>\n",
       "      <td>selma</td>\n",
       "      <td>maggie simpson</td>\n",
       "    </tr>\n",
       "    <tr>\n",
       "      <th>5</th>\n",
       "      <td>selma</td>\n",
       "      <td>lisa simpson</td>\n",
       "    </tr>\n",
       "    <tr>\n",
       "      <th>6</th>\n",
       "      <td>patty</td>\n",
       "      <td>bart simpson</td>\n",
       "    </tr>\n",
       "    <tr>\n",
       "      <th>7</th>\n",
       "      <td>patty</td>\n",
       "      <td>maggie simpson</td>\n",
       "    </tr>\n",
       "    <tr>\n",
       "      <th>8</th>\n",
       "      <td>patty</td>\n",
       "      <td>lisa simpson</td>\n",
       "    </tr>\n",
       "  </tbody>\n",
       "</table>\n",
       "</div>"
      ],
      "text/plain": [
       "  bartender_name   customer_name\n",
       "0            moe    bart simpson\n",
       "1            moe  maggie simpson\n",
       "2            moe    lisa simpson\n",
       "3          selma    bart simpson\n",
       "4          selma  maggie simpson\n",
       "5          selma    lisa simpson\n",
       "6          patty    bart simpson\n",
       "7          patty  maggie simpson\n",
       "8          patty    lisa simpson"
      ]
     },
     "execution_count": 6,
     "metadata": {},
     "output_type": "execute_result"
    }
   ],
   "source": [
    "import pandas as pd\n",
    "\n",
    "pd.read_sql(\"\"\"create table ( select bartenders.name as bartender_name,\n",
    "customers.name as customer_name\n",
    "from bartenders join customers)\n",
    "\n",
    "\"\"\", conn)"
   ]
  },
  {
   "cell_type": "markdown",
   "id": "5326bd1f-2186-4999-ac03-f9d8bc8da4e1",
   "metadata": {},
   "source": [
    "### But why?"
   ]
  },
  {
   "cell_type": "markdown",
   "id": "f2150234-8c77-4bde-b1cb-f91ef74e8e9c",
   "metadata": {},
   "source": [
    "Now why would we want to do such a thing?  Cross joins generate *a grid* of data.  And doing so can be pretty useful.\n",
    "\n",
    "Let's see some examples, taken from this  [stackoverflow post](https://stackoverflow.com/questions/219716/what-are-the-uses-for-cross-join)."
   ]
  },
  {
   "cell_type": "markdown",
   "id": "0ab4c606-6858-4059-a8db-b585bdd45192",
   "metadata": {},
   "source": [
    "### Cross joining itself"
   ]
  },
  {
   "cell_type": "markdown",
   "id": "01e7318e-a675-48ec-ab6b-6922772e833c",
   "metadata": {},
   "source": [
    "* Self cross joins"
   ]
  },
  {
   "cell_type": "code",
   "execution_count": 14,
   "id": "90fe9549-8f08-40fa-a7fd-5ea479c8de6c",
   "metadata": {},
   "outputs": [
    {
     "data": {
      "text/html": [
       "<div>\n",
       "<style scoped>\n",
       "    .dataframe tbody tr th:only-of-type {\n",
       "        vertical-align: middle;\n",
       "    }\n",
       "\n",
       "    .dataframe tbody tr th {\n",
       "        vertical-align: top;\n",
       "    }\n",
       "\n",
       "    .dataframe thead th {\n",
       "        text-align: right;\n",
       "    }\n",
       "</style>\n",
       "<table border=\"1\" class=\"dataframe\">\n",
       "  <thead>\n",
       "    <tr style=\"text-align: right;\">\n",
       "      <th></th>\n",
       "      <th>c1_id</th>\n",
       "      <th>name</th>\n",
       "      <th>name</th>\n",
       "      <th>c2_id</th>\n",
       "    </tr>\n",
       "  </thead>\n",
       "  <tbody>\n",
       "    <tr>\n",
       "      <th>0</th>\n",
       "      <td>1</td>\n",
       "      <td>bart simpson</td>\n",
       "      <td>maggie simpson</td>\n",
       "      <td>2</td>\n",
       "    </tr>\n",
       "    <tr>\n",
       "      <th>1</th>\n",
       "      <td>1</td>\n",
       "      <td>bart simpson</td>\n",
       "      <td>lisa simpson</td>\n",
       "      <td>3</td>\n",
       "    </tr>\n",
       "    <tr>\n",
       "      <th>2</th>\n",
       "      <td>2</td>\n",
       "      <td>maggie simpson</td>\n",
       "      <td>bart simpson</td>\n",
       "      <td>1</td>\n",
       "    </tr>\n",
       "    <tr>\n",
       "      <th>3</th>\n",
       "      <td>2</td>\n",
       "      <td>maggie simpson</td>\n",
       "      <td>lisa simpson</td>\n",
       "      <td>3</td>\n",
       "    </tr>\n",
       "    <tr>\n",
       "      <th>4</th>\n",
       "      <td>3</td>\n",
       "      <td>lisa simpson</td>\n",
       "      <td>bart simpson</td>\n",
       "      <td>1</td>\n",
       "    </tr>\n",
       "    <tr>\n",
       "      <th>5</th>\n",
       "      <td>3</td>\n",
       "      <td>lisa simpson</td>\n",
       "      <td>maggie simpson</td>\n",
       "      <td>2</td>\n",
       "    </tr>\n",
       "  </tbody>\n",
       "</table>\n",
       "</div>"
      ],
      "text/plain": [
       "   c1_id            name            name  c2_id\n",
       "0      1    bart simpson  maggie simpson      2\n",
       "1      1    bart simpson    lisa simpson      3\n",
       "2      2  maggie simpson    bart simpson      1\n",
       "3      2  maggie simpson    lisa simpson      3\n",
       "4      3    lisa simpson    bart simpson      1\n",
       "5      3    lisa simpson  maggie simpson      2"
      ]
     },
     "execution_count": 14,
     "metadata": {},
     "output_type": "execute_result"
    }
   ],
   "source": [
    "import pandas as pd\n",
    "\n",
    "query = \"\"\"\n",
    "select c1.id c1_id, c1.name, c2.name, c2.id c2_id from customers c1 join customers c2\n",
    "where c1.id <> c2.id \n",
    "\"\"\"\n",
    "\n",
    "pd.read_sql(query, conn)"
   ]
  },
  {
   "cell_type": "code",
   "execution_count": 13,
   "id": "4ecf3bc5-2a2e-4206-b12d-d04f4f4e0aec",
   "metadata": {},
   "outputs": [
    {
     "data": {
      "text/html": [
       "<div>\n",
       "<style scoped>\n",
       "    .dataframe tbody tr th:only-of-type {\n",
       "        vertical-align: middle;\n",
       "    }\n",
       "\n",
       "    .dataframe tbody tr th {\n",
       "        vertical-align: top;\n",
       "    }\n",
       "\n",
       "    .dataframe thead th {\n",
       "        text-align: right;\n",
       "    }\n",
       "</style>\n",
       "<table border=\"1\" class=\"dataframe\">\n",
       "  <thead>\n",
       "    <tr style=\"text-align: right;\">\n",
       "      <th></th>\n",
       "      <th>name</th>\n",
       "      <th>name</th>\n",
       "    </tr>\n",
       "  </thead>\n",
       "  <tbody>\n",
       "    <tr>\n",
       "      <th>0</th>\n",
       "      <td>maggie simpson</td>\n",
       "      <td>bart simpson</td>\n",
       "    </tr>\n",
       "    <tr>\n",
       "      <th>1</th>\n",
       "      <td>lisa simpson</td>\n",
       "      <td>bart simpson</td>\n",
       "    </tr>\n",
       "    <tr>\n",
       "      <th>2</th>\n",
       "      <td>lisa simpson</td>\n",
       "      <td>maggie simpson</td>\n",
       "    </tr>\n",
       "  </tbody>\n",
       "</table>\n",
       "</div>"
      ],
      "text/plain": [
       "             name            name\n",
       "0  maggie simpson    bart simpson\n",
       "1    lisa simpson    bart simpson\n",
       "2    lisa simpson  maggie simpson"
      ]
     },
     "execution_count": 13,
     "metadata": {},
     "output_type": "execute_result"
    }
   ],
   "source": [
    "query = \"\"\"\n",
    "select c1.name, c2.name from customers c1 join customers c2\n",
    "where c1.id > c2.id \n",
    "\"\"\"\n",
    "\n",
    "pd.read_sql(query, conn)"
   ]
  },
  {
   "cell_type": "markdown",
   "id": "0a9fefd6-f0b2-45e5-a455-5248a80f9bcb",
   "metadata": {},
   "source": [
    "### Challenge problem"
   ]
  },
  {
   "cell_type": "markdown",
   "id": "dd0dbf90-f38d-42c8-a5ab-956c29597567",
   "metadata": {},
   "source": [
    "Ok, now it's your turn.  Use a cross join to find the smallest difference in ages between our customers. "
   ]
  },
  {
   "cell_type": "code",
   "execution_count": 38,
   "id": "74bf85db-0878-43e9-a7f4-00f663e2739d",
   "metadata": {},
   "outputs": [],
   "source": [
    "import pandas as pd\n",
    "\n",
    "query = \"\"\"\n",
    "\n",
    "\"\"\"\n",
    "\n",
    "pd.read_sql(query, conn)\n",
    "\n",
    "# minimum_diff\n",
    "# 0\t10"
   ]
  },
  {
   "cell_type": "markdown",
   "id": "92e3906c-b1e7-4274-aa28-3463eeb07edb",
   "metadata": {},
   "source": [
    "### Resources\n",
    "\n",
    "[Stackoverflow - Cross join](https://stackoverflow.com/questions/219716/what-are-the-uses-for-cross-join)"
   ]
  },
  {
   "cell_type": "code",
   "execution_count": null,
   "id": "8729f6ce-32c8-4a5e-bd01-8858a692f26e",
   "metadata": {},
   "outputs": [],
   "source": []
  }
 ],
 "metadata": {
  "kernelspec": {
   "display_name": "Python 3 (ipykernel)",
   "language": "python",
   "name": "python3"
  },
  "language_info": {
   "codemirror_mode": {
    "name": "ipython",
    "version": 3
   },
   "file_extension": ".py",
   "mimetype": "text/x-python",
   "name": "python",
   "nbconvert_exporter": "python",
   "pygments_lexer": "ipython3",
   "version": "3.9.12"
  }
 },
 "nbformat": 4,
 "nbformat_minor": 5
}
