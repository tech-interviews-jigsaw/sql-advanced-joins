{
 "cells": [
  {
   "cell_type": "markdown",
   "id": "34ea11aa-dfcc-47a2-b460-4ea0b244ac0a",
   "metadata": {},
   "source": [
    "# Gaps Self Joins Lab"
   ]
  },
  {
   "cell_type": "markdown",
   "id": "54f044f2-c601-45e1-88c9-93e4072e772b",
   "metadata": {},
   "source": [
    "### Introduction"
   ]
  },
  {
   "cell_type": "markdown",
   "id": "c50cc23d-d650-45e4-b061-3680800e4da4",
   "metadata": {},
   "source": [
    "In this lesson, we can take on a classic problem of finding gaps in a sequence of numbers.  Let's get started."
   ]
  },
  {
   "cell_type": "markdown",
   "id": "e353c0ea-ca4f-461a-93bf-ec1df2ddf169",
   "metadata": {},
   "source": [
    "### Loading data"
   ]
  },
  {
   "cell_type": "markdown",
   "id": "b4476254-ad7f-48d5-9d75-2dc88bce6771",
   "metadata": {},
   "source": [
    "We can begin by loading our sequence of numbers."
   ]
  },
  {
   "cell_type": "code",
   "execution_count": 15,
   "id": "6cc86dd4-eec1-4475-932a-18c21cdee527",
   "metadata": {},
   "outputs": [],
   "source": [
    "import pandas as pd\n",
    "import sqlite3\n",
    "conn = sqlite3.connect('users.db')\n",
    "root_url = \"https://raw.githubusercontent.com/tech-interviews-jigsaw/sql-advanced-joins/main/6-common-strategies/\"\n",
    "custom = \"simple_sequence.csv\"\n",
    "df = pd.read_csv(f\"{root_url}/{custom}\")"
   ]
  },
  {
   "cell_type": "code",
   "execution_count": 16,
   "id": "6e68d6fc-82d3-49d9-a190-29a970f5cf38",
   "metadata": {},
   "outputs": [
    {
     "data": {
      "text/plain": [
       "14"
      ]
     },
     "execution_count": 16,
     "metadata": {},
     "output_type": "execute_result"
    }
   ],
   "source": [
    "df.to_sql('numbers', conn, index = True,\n",
    "          index_label = 'id', if_exists = 'replace')"
   ]
  },
  {
   "cell_type": "code",
   "execution_count": 4,
   "id": "ba38f296-fafd-44a1-b095-15a0b0cd66ea",
   "metadata": {},
   "outputs": [
    {
     "data": {
      "text/html": [
       "<div>\n",
       "<style scoped>\n",
       "    .dataframe tbody tr th:only-of-type {\n",
       "        vertical-align: middle;\n",
       "    }\n",
       "\n",
       "    .dataframe tbody tr th {\n",
       "        vertical-align: top;\n",
       "    }\n",
       "\n",
       "    .dataframe thead th {\n",
       "        text-align: right;\n",
       "    }\n",
       "</style>\n",
       "<table border=\"1\" class=\"dataframe\">\n",
       "  <thead>\n",
       "    <tr style=\"text-align: right;\">\n",
       "      <th></th>\n",
       "      <th>id</th>\n",
       "      <th>number</th>\n",
       "    </tr>\n",
       "  </thead>\n",
       "  <tbody>\n",
       "    <tr>\n",
       "      <th>0</th>\n",
       "      <td>0</td>\n",
       "      <td>1</td>\n",
       "    </tr>\n",
       "    <tr>\n",
       "      <th>1</th>\n",
       "      <td>1</td>\n",
       "      <td>2</td>\n",
       "    </tr>\n",
       "    <tr>\n",
       "      <th>2</th>\n",
       "      <td>2</td>\n",
       "      <td>3</td>\n",
       "    </tr>\n",
       "    <tr>\n",
       "      <th>3</th>\n",
       "      <td>3</td>\n",
       "      <td>5</td>\n",
       "    </tr>\n",
       "    <tr>\n",
       "      <th>4</th>\n",
       "      <td>4</td>\n",
       "      <td>6</td>\n",
       "    </tr>\n",
       "    <tr>\n",
       "      <th>5</th>\n",
       "      <td>5</td>\n",
       "      <td>7</td>\n",
       "    </tr>\n",
       "    <tr>\n",
       "      <th>6</th>\n",
       "      <td>6</td>\n",
       "      <td>8</td>\n",
       "    </tr>\n",
       "    <tr>\n",
       "      <th>7</th>\n",
       "      <td>7</td>\n",
       "      <td>9</td>\n",
       "    </tr>\n",
       "    <tr>\n",
       "      <th>8</th>\n",
       "      <td>8</td>\n",
       "      <td>10</td>\n",
       "    </tr>\n",
       "    <tr>\n",
       "      <th>9</th>\n",
       "      <td>9</td>\n",
       "      <td>12</td>\n",
       "    </tr>\n",
       "    <tr>\n",
       "      <th>10</th>\n",
       "      <td>10</td>\n",
       "      <td>13</td>\n",
       "    </tr>\n",
       "    <tr>\n",
       "      <th>11</th>\n",
       "      <td>11</td>\n",
       "      <td>14</td>\n",
       "    </tr>\n",
       "    <tr>\n",
       "      <th>12</th>\n",
       "      <td>12</td>\n",
       "      <td>15</td>\n",
       "    </tr>\n",
       "    <tr>\n",
       "      <th>13</th>\n",
       "      <td>13</td>\n",
       "      <td>17</td>\n",
       "    </tr>\n",
       "  </tbody>\n",
       "</table>\n",
       "</div>"
      ],
      "text/plain": [
       "    id  number\n",
       "0    0       1\n",
       "1    1       2\n",
       "2    2       3\n",
       "3    3       5\n",
       "4    4       6\n",
       "5    5       7\n",
       "6    6       8\n",
       "7    7       9\n",
       "8    8      10\n",
       "9    9      12\n",
       "10  10      13\n",
       "11  11      14\n",
       "12  12      15\n",
       "13  13      17"
      ]
     },
     "execution_count": 4,
     "metadata": {},
     "output_type": "execute_result"
    }
   ],
   "source": [
    "pd.read_sql(\"select * from numbers\", conn)"
   ]
  },
  {
   "cell_type": "markdown",
   "id": "6d6c7207-7b98-49f4-937c-fd0d23a6a36a",
   "metadata": {},
   "source": [
    "If you look at the list of numbers above, we can see that there are gaps in the numbers of 4, 11, and 16.  Your task is to return a list of these numbers."
   ]
  },
  {
   "cell_type": "markdown",
   "id": "6a5ab162-1bd7-4805-bed8-ba8c777762b8",
   "metadata": {},
   "source": [
    "### Using self joins"
   ]
  },
  {
   "cell_type": "markdown",
   "id": "8a5f26cf-4a8f-481f-8167-d4cd79131b4b",
   "metadata": {},
   "source": [
    "We accomplish this by performing a left self join where left table's number equals the other table's number minus one.  That is, we line up the sequences.  And then where there is no preceding number, the left join returns null. "
   ]
  },
  {
   "cell_type": "code",
   "execution_count": 22,
   "id": "8ce6198e-940f-4bdb-81a1-15ce1ce4eae6",
   "metadata": {},
   "outputs": [
    {
     "data": {
      "text/html": [
       "<div>\n",
       "<style scoped>\n",
       "    .dataframe tbody tr th:only-of-type {\n",
       "        vertical-align: middle;\n",
       "    }\n",
       "\n",
       "    .dataframe tbody tr th {\n",
       "        vertical-align: top;\n",
       "    }\n",
       "\n",
       "    .dataframe thead th {\n",
       "        text-align: right;\n",
       "    }\n",
       "</style>\n",
       "<table border=\"1\" class=\"dataframe\">\n",
       "  <thead>\n",
       "    <tr style=\"text-align: right;\">\n",
       "      <th></th>\n",
       "      <th>number</th>\n",
       "      <th>number</th>\n",
       "    </tr>\n",
       "  </thead>\n",
       "  <tbody>\n",
       "    <tr>\n",
       "      <th>0</th>\n",
       "      <td>1</td>\n",
       "      <td>None</td>\n",
       "    </tr>\n",
       "    <tr>\n",
       "      <th>1</th>\n",
       "      <td>5</td>\n",
       "      <td>None</td>\n",
       "    </tr>\n",
       "    <tr>\n",
       "      <th>2</th>\n",
       "      <td>12</td>\n",
       "      <td>None</td>\n",
       "    </tr>\n",
       "    <tr>\n",
       "      <th>3</th>\n",
       "      <td>17</td>\n",
       "      <td>None</td>\n",
       "    </tr>\n",
       "  </tbody>\n",
       "</table>\n",
       "</div>"
      ],
      "text/plain": [
       "  number number\n",
       "0      1   None\n",
       "1      5   None\n",
       "2     12   None\n",
       "3     17   None"
      ]
     },
     "execution_count": 22,
     "metadata": {},
     "output_type": "execute_result"
    }
   ],
   "source": [
    "query = \"\"\"\n",
    "select n1.number, n2.number from numbers n1 \n",
    "left join numbers n2 on n1.number - 1 = n2.number\n",
    "where n2.number is null\n",
    "\"\"\"\n",
    "pd.read_sql(query, conn)\n",
    "\n",
    "# \tgap_num\n",
    "# 0\t4\n",
    "# 1\t11\n",
    "# 2\t16"
   ]
  },
  {
   "cell_type": "markdown",
   "id": "242b9a66-a24b-411b-b552-c3bb97dd4bb5",
   "metadata": {},
   "source": [
    "This initial query is close, but we want to remove that initial number of 1.  Yes, there's no matching preceding number there, but it's not because of a gap -- it's just the lower bound.\n",
    "\n",
    "So we update the query to find the lower bound number and exclude it."
   ]
  },
  {
   "cell_type": "code",
   "execution_count": 20,
   "id": "8abae789-c8f9-4565-ab28-06f8ce102c40",
   "metadata": {},
   "outputs": [
    {
     "data": {
      "text/html": [
       "<div>\n",
       "<style scoped>\n",
       "    .dataframe tbody tr th:only-of-type {\n",
       "        vertical-align: middle;\n",
       "    }\n",
       "\n",
       "    .dataframe tbody tr th {\n",
       "        vertical-align: top;\n",
       "    }\n",
       "\n",
       "    .dataframe thead th {\n",
       "        text-align: right;\n",
       "    }\n",
       "</style>\n",
       "<table border=\"1\" class=\"dataframe\">\n",
       "  <thead>\n",
       "    <tr style=\"text-align: right;\">\n",
       "      <th></th>\n",
       "      <th>number</th>\n",
       "      <th>number</th>\n",
       "    </tr>\n",
       "  </thead>\n",
       "  <tbody>\n",
       "    <tr>\n",
       "      <th>0</th>\n",
       "      <td>5</td>\n",
       "      <td>None</td>\n",
       "    </tr>\n",
       "    <tr>\n",
       "      <th>1</th>\n",
       "      <td>12</td>\n",
       "      <td>None</td>\n",
       "    </tr>\n",
       "    <tr>\n",
       "      <th>2</th>\n",
       "      <td>17</td>\n",
       "      <td>None</td>\n",
       "    </tr>\n",
       "  </tbody>\n",
       "</table>\n",
       "</div>"
      ],
      "text/plain": [
       "  number number\n",
       "0      5   None\n",
       "1     12   None\n",
       "2     17   None"
      ]
     },
     "execution_count": 20,
     "metadata": {},
     "output_type": "execute_result"
    }
   ],
   "source": [
    "query = \"\"\"\n",
    "select n1.number, n2.number from numbers n1 \n",
    "left join numbers n2 on n1.number = n2.number + 1\n",
    "where n2.number is null and \n",
    "n1.number != (select min(numbers.number) from numbers)\n",
    "\"\"\"\n",
    "pd.read_sql(query, conn)\n",
    "\n",
    "# \tgap_num\n",
    "# 0\t4\n",
    "# 1\t11\n",
    "# 2\t16"
   ]
  },
  {
   "cell_type": "markdown",
   "id": "f0c2451b-a0de-4b9e-8fd5-ec9430f19e6e",
   "metadata": {},
   "source": [
    "Notice that our numbers are close, but we actually are repeatedly selecting the number right after the gap -- and not the gap itself.  So we should fix this by subtracting 1."
   ]
  },
  {
   "cell_type": "code",
   "execution_count": 23,
   "id": "a46999c5-5bfb-46b5-ad6f-0627829a05df",
   "metadata": {},
   "outputs": [
    {
     "data": {
      "text/html": [
       "<div>\n",
       "<style scoped>\n",
       "    .dataframe tbody tr th:only-of-type {\n",
       "        vertical-align: middle;\n",
       "    }\n",
       "\n",
       "    .dataframe tbody tr th {\n",
       "        vertical-align: top;\n",
       "    }\n",
       "\n",
       "    .dataframe thead th {\n",
       "        text-align: right;\n",
       "    }\n",
       "</style>\n",
       "<table border=\"1\" class=\"dataframe\">\n",
       "  <thead>\n",
       "    <tr style=\"text-align: right;\">\n",
       "      <th></th>\n",
       "      <th>gap_num</th>\n",
       "    </tr>\n",
       "  </thead>\n",
       "  <tbody>\n",
       "    <tr>\n",
       "      <th>0</th>\n",
       "      <td>4</td>\n",
       "    </tr>\n",
       "    <tr>\n",
       "      <th>1</th>\n",
       "      <td>11</td>\n",
       "    </tr>\n",
       "    <tr>\n",
       "      <th>2</th>\n",
       "      <td>16</td>\n",
       "    </tr>\n",
       "  </tbody>\n",
       "</table>\n",
       "</div>"
      ],
      "text/plain": [
       "   gap_num\n",
       "0        4\n",
       "1       11\n",
       "2       16"
      ]
     },
     "execution_count": 23,
     "metadata": {},
     "output_type": "execute_result"
    }
   ],
   "source": [
    "query = \"\"\"\n",
    "select n1.number - 1 gap_num from numbers n1 \n",
    "left join numbers n2 on n1.number - 1 = n2.number\n",
    "where n2.number is null and \n",
    "n1.number != (select min(numbers.number) from numbers)\n",
    "\"\"\"\n",
    "pd.read_sql(query, conn)\n",
    "\n",
    "# \tgap_num\n",
    "# 0\t4\n",
    "# 1\t11\n",
    "# 2\t16"
   ]
  },
  {
   "cell_type": "markdown",
   "id": "0ead1603-2553-4ea4-a05f-24539d30cc38",
   "metadata": {},
   "source": [
    "* The other way"
   ]
  },
  {
   "cell_type": "markdown",
   "id": "d483ca26-0c28-4b84-8709-65b0e5a903e6",
   "metadata": {},
   "source": [
    "Notice that if instead of joining on the preceding number, we join the succeeding number -- our statement looks almost the same.  \n",
    "\n",
    "The main difference is that our query will now return the last number in the sequence.  Because this time the upper bound has no succeeding number.  So let's remove that last number by excluding the max."
   ]
  },
  {
   "cell_type": "code",
   "execution_count": 27,
   "id": "fc45abd4-368e-4fa9-8d3a-194f13aa1b94",
   "metadata": {},
   "outputs": [
    {
     "data": {
      "text/html": [
       "<div>\n",
       "<style scoped>\n",
       "    .dataframe tbody tr th:only-of-type {\n",
       "        vertical-align: middle;\n",
       "    }\n",
       "\n",
       "    .dataframe tbody tr th {\n",
       "        vertical-align: top;\n",
       "    }\n",
       "\n",
       "    .dataframe thead th {\n",
       "        text-align: right;\n",
       "    }\n",
       "</style>\n",
       "<table border=\"1\" class=\"dataframe\">\n",
       "  <thead>\n",
       "    <tr style=\"text-align: right;\">\n",
       "      <th></th>\n",
       "      <th>number</th>\n",
       "    </tr>\n",
       "  </thead>\n",
       "  <tbody>\n",
       "    <tr>\n",
       "      <th>0</th>\n",
       "      <td>3</td>\n",
       "    </tr>\n",
       "    <tr>\n",
       "      <th>1</th>\n",
       "      <td>10</td>\n",
       "    </tr>\n",
       "    <tr>\n",
       "      <th>2</th>\n",
       "      <td>15</td>\n",
       "    </tr>\n",
       "  </tbody>\n",
       "</table>\n",
       "</div>"
      ],
      "text/plain": [
       "   number\n",
       "0       3\n",
       "1      10\n",
       "2      15"
      ]
     },
     "execution_count": 27,
     "metadata": {},
     "output_type": "execute_result"
    }
   ],
   "source": [
    "query = \"\"\"\n",
    "select n1.number from numbers n1 \n",
    "left join numbers n2 on n1.number + 1 = n2.number\n",
    "where n2.number is null and \n",
    "n1.number != (select max(numbers.number) from numbers)\n",
    "\"\"\"\n",
    "pd.read_sql(query, conn)\n"
   ]
  },
  {
   "cell_type": "markdown",
   "id": "0a3298d5-aacd-45b4-b263-d9560715465f",
   "metadata": {},
   "source": [
    "And finally notice that we are returning the number below the gap, instead of the one above it.  So we should add one to the select."
   ]
  },
  {
   "cell_type": "code",
   "execution_count": 29,
   "id": "dd459925-d06a-45bc-b968-d3ad51e1e769",
   "metadata": {},
   "outputs": [
    {
     "data": {
      "text/html": [
       "<div>\n",
       "<style scoped>\n",
       "    .dataframe tbody tr th:only-of-type {\n",
       "        vertical-align: middle;\n",
       "    }\n",
       "\n",
       "    .dataframe tbody tr th {\n",
       "        vertical-align: top;\n",
       "    }\n",
       "\n",
       "    .dataframe thead th {\n",
       "        text-align: right;\n",
       "    }\n",
       "</style>\n",
       "<table border=\"1\" class=\"dataframe\">\n",
       "  <thead>\n",
       "    <tr style=\"text-align: right;\">\n",
       "      <th></th>\n",
       "      <th>gap_num</th>\n",
       "    </tr>\n",
       "  </thead>\n",
       "  <tbody>\n",
       "    <tr>\n",
       "      <th>0</th>\n",
       "      <td>4</td>\n",
       "    </tr>\n",
       "    <tr>\n",
       "      <th>1</th>\n",
       "      <td>11</td>\n",
       "    </tr>\n",
       "    <tr>\n",
       "      <th>2</th>\n",
       "      <td>16</td>\n",
       "    </tr>\n",
       "  </tbody>\n",
       "</table>\n",
       "</div>"
      ],
      "text/plain": [
       "   gap_num\n",
       "0        4\n",
       "1       11\n",
       "2       16"
      ]
     },
     "execution_count": 29,
     "metadata": {},
     "output_type": "execute_result"
    }
   ],
   "source": [
    "query = \"\"\"\n",
    "select n1.number + 1 gap_num from numbers n1 \n",
    "left join numbers n2 on n1.number + 1 = n2.number\n",
    "where n2.number is null and \n",
    "n1.number != (select max(numbers.number) from numbers)\n",
    "\"\"\"\n",
    "pd.read_sql(query, conn)"
   ]
  }
 ],
 "metadata": {
  "kernelspec": {
   "display_name": "Python 3 (ipykernel)",
   "language": "python",
   "name": "python3"
  },
  "language_info": {
   "codemirror_mode": {
    "name": "ipython",
    "version": 3
   },
   "file_extension": ".py",
   "mimetype": "text/x-python",
   "name": "python",
   "nbconvert_exporter": "python",
   "pygments_lexer": "ipython3",
   "version": "3.9.12"
  }
 },
 "nbformat": 4,
 "nbformat_minor": 5
}
