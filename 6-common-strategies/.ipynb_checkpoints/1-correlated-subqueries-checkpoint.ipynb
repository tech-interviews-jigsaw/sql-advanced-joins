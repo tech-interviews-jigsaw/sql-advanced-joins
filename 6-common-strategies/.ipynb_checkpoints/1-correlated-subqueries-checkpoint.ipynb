{
 "cells": [
  {
   "cell_type": "markdown",
   "id": "f60effa8-883f-410c-a0a4-6ba8ac006c15",
   "metadata": {},
   "source": [
    "# Correlated Subqueries"
   ]
  },
  {
   "cell_type": "markdown",
   "id": "571ed8b8-94a8-40fb-93ee-3370de02be93",
   "metadata": {},
   "source": [
    "### Introduction\n",
    "\n",
    "In this lesson, we'll learn about correlated subqueries.  With correlated subqueries, we first return a set of rows from an outer table.  And then our subquery makes a new query for each one of these rows to find a match.  \n",
    "\n",
    "Let's see this by way of example."
   ]
  },
  {
   "cell_type": "markdown",
   "id": "0979762d-aaac-46ce-8d64-ee8124102de3",
   "metadata": {},
   "source": [
    "### Loading our data"
   ]
  },
  {
   "cell_type": "code",
   "execution_count": 5,
   "id": "a2c481cf-7daf-4c32-9c92-c7c473bb3f43",
   "metadata": {},
   "outputs": [],
   "source": [
    "import pandas as pd\n",
    "import sqlite3\n",
    "conn = sqlite3.connect('users.db')\n",
    "\n",
    "table_names = ['employees', 'orders', 'customers', 'dog_foods']\n",
    "root_url = \"https://raw.githubusercontent.com/tech-interviews-jigsaw/sql-advanced-joins/main/6-common-strategies\"\n",
    "dfs = [pd.read_csv(f\"{root_url}/{table_name}.csv\") for table_name in table_names]"
   ]
  },
  {
   "cell_type": "code",
   "execution_count": 5,
   "id": "92812220-1f35-4e8e-a5d5-ad6a657eab6c",
   "metadata": {},
   "outputs": [
    {
     "data": {
      "text/plain": [
       "[5, 3, 5, 5]"
      ]
     },
     "execution_count": 5,
     "metadata": {},
     "output_type": "execute_result"
    }
   ],
   "source": [
    "[df.to_sql(table_name, conn, index = True, index_label = 'id', if_exists = 'replace') for df, table_name in zip(dfs, table_names)]"
   ]
  },
  {
   "cell_type": "markdown",
   "id": "04e577e7-9014-48b3-8bca-b10c65b3f61f",
   "metadata": {
    "tags": []
   },
   "source": [
    "### Correlated Subqueries"
   ]
  },
  {
   "cell_type": "markdown",
   "id": "3fdc0f60-e07c-41fc-bf17-4b7b94d026ec",
   "metadata": {},
   "source": [
    "With a correlated subquery, the query is executed once per each row in the outer query.  Let's see this by way of example.\n",
    "\n",
    "Below we have a list of employees, with each employee assigned to a department."
   ]
  },
  {
   "cell_type": "code",
   "execution_count": 131,
   "id": "d5b91bb4-ffa5-4867-ba30-ba6e695ecb3d",
   "metadata": {},
   "outputs": [
    {
     "data": {
      "text/html": [
       "<div>\n",
       "<style scoped>\n",
       "    .dataframe tbody tr th:only-of-type {\n",
       "        vertical-align: middle;\n",
       "    }\n",
       "\n",
       "    .dataframe tbody tr th {\n",
       "        vertical-align: top;\n",
       "    }\n",
       "\n",
       "    .dataframe thead th {\n",
       "        text-align: right;\n",
       "    }\n",
       "</style>\n",
       "<table border=\"1\" class=\"dataframe\">\n",
       "  <thead>\n",
       "    <tr style=\"text-align: right;\">\n",
       "      <th></th>\n",
       "      <th>id</th>\n",
       "      <th>employee_name</th>\n",
       "      <th>department</th>\n",
       "      <th>salary</th>\n",
       "    </tr>\n",
       "  </thead>\n",
       "  <tbody>\n",
       "    <tr>\n",
       "      <th>0</th>\n",
       "      <td>0</td>\n",
       "      <td>Alice</td>\n",
       "      <td>HR</td>\n",
       "      <td>50000</td>\n",
       "    </tr>\n",
       "    <tr>\n",
       "      <th>1</th>\n",
       "      <td>1</td>\n",
       "      <td>Bob</td>\n",
       "      <td>IT</td>\n",
       "      <td>60000</td>\n",
       "    </tr>\n",
       "  </tbody>\n",
       "</table>\n",
       "</div>"
      ],
      "text/plain": [
       "   id employee_name department  salary\n",
       "0   0         Alice         HR   50000\n",
       "1   1           Bob         IT   60000"
      ]
     },
     "execution_count": 131,
     "metadata": {},
     "output_type": "execute_result"
    }
   ],
   "source": [
    "query = \"\"\"\n",
    "select * from employees limit 2\n",
    "\"\"\"\n",
    "\n",
    "pd.read_sql(query, conn)"
   ]
  },
  {
   "cell_type": "markdown",
   "id": "cd6470c8-d8ba-4537-82f3-54c47ec3e015",
   "metadata": {},
   "source": [
    "Let's say that we want to find the highest salary for each department.  One way to do this is with a window function. "
   ]
  },
  {
   "cell_type": "code",
   "execution_count": 7,
   "id": "624af9fb-ad84-487c-8a4b-9324802886b5",
   "metadata": {},
   "outputs": [
    {
     "data": {
      "text/html": [
       "<div>\n",
       "<style scoped>\n",
       "    .dataframe tbody tr th:only-of-type {\n",
       "        vertical-align: middle;\n",
       "    }\n",
       "\n",
       "    .dataframe tbody tr th {\n",
       "        vertical-align: top;\n",
       "    }\n",
       "\n",
       "    .dataframe thead th {\n",
       "        text-align: right;\n",
       "    }\n",
       "</style>\n",
       "<table border=\"1\" class=\"dataframe\">\n",
       "  <thead>\n",
       "    <tr style=\"text-align: right;\">\n",
       "      <th></th>\n",
       "      <th>employee_name</th>\n",
       "      <th>department</th>\n",
       "      <th>salary</th>\n",
       "      <th>max_dept_salary</th>\n",
       "    </tr>\n",
       "  </thead>\n",
       "  <tbody>\n",
       "    <tr>\n",
       "      <th>0</th>\n",
       "      <td>Eve</td>\n",
       "      <td>Finance</td>\n",
       "      <td>62000</td>\n",
       "      <td>62000</td>\n",
       "    </tr>\n",
       "    <tr>\n",
       "      <th>1</th>\n",
       "      <td>Alice</td>\n",
       "      <td>HR</td>\n",
       "      <td>50000</td>\n",
       "      <td>50000</td>\n",
       "    </tr>\n",
       "    <tr>\n",
       "      <th>2</th>\n",
       "      <td>David</td>\n",
       "      <td>HR</td>\n",
       "      <td>52000</td>\n",
       "      <td>52000</td>\n",
       "    </tr>\n",
       "    <tr>\n",
       "      <th>3</th>\n",
       "      <td>Carol</td>\n",
       "      <td>IT</td>\n",
       "      <td>55000</td>\n",
       "      <td>55000</td>\n",
       "    </tr>\n",
       "    <tr>\n",
       "      <th>4</th>\n",
       "      <td>Bob</td>\n",
       "      <td>IT</td>\n",
       "      <td>60000</td>\n",
       "      <td>60000</td>\n",
       "    </tr>\n",
       "  </tbody>\n",
       "</table>\n",
       "</div>"
      ],
      "text/plain": [
       "  employee_name department  salary  max_dept_salary\n",
       "0           Eve    Finance   62000            62000\n",
       "1         Alice         HR   50000            50000\n",
       "2         David         HR   52000            52000\n",
       "3         Carol         IT   55000            55000\n",
       "4           Bob         IT   60000            60000"
      ]
     },
     "execution_count": 7,
     "metadata": {},
     "output_type": "execute_result"
    }
   ],
   "source": [
    "query = \"\"\"SELECT employee_name, department, salary,\n",
    "       MAX(salary) OVER (PARTITION BY department ORDER BY salary) AS max_dept_salary\n",
    "FROM employees e1\"\"\"\n",
    "pd.read_sql(query, conn)"
   ]
  },
  {
   "cell_type": "markdown",
   "id": "2e013fa4-d151-4331-8095-a7de59211c4e",
   "metadata": {},
   "source": [
    "But for this example, we'll use a correlated subquery.\n",
    "\n",
    "To use a subquery, you start with just a normal query and give the table an alias."
   ]
  },
  {
   "cell_type": "code",
   "execution_count": 12,
   "id": "7eed8085-c121-4081-9055-7aa2441aac53",
   "metadata": {},
   "outputs": [
    {
     "data": {
      "text/html": [
       "<div>\n",
       "<style scoped>\n",
       "    .dataframe tbody tr th:only-of-type {\n",
       "        vertical-align: middle;\n",
       "    }\n",
       "\n",
       "    .dataframe tbody tr th {\n",
       "        vertical-align: top;\n",
       "    }\n",
       "\n",
       "    .dataframe thead th {\n",
       "        text-align: right;\n",
       "    }\n",
       "</style>\n",
       "<table border=\"1\" class=\"dataframe\">\n",
       "  <thead>\n",
       "    <tr style=\"text-align: right;\">\n",
       "      <th></th>\n",
       "      <th>employee_name</th>\n",
       "      <th>department</th>\n",
       "      <th>salary</th>\n",
       "    </tr>\n",
       "  </thead>\n",
       "  <tbody>\n",
       "    <tr>\n",
       "      <th>0</th>\n",
       "      <td>Alice</td>\n",
       "      <td>HR</td>\n",
       "      <td>50000</td>\n",
       "    </tr>\n",
       "    <tr>\n",
       "      <th>1</th>\n",
       "      <td>Bob</td>\n",
       "      <td>IT</td>\n",
       "      <td>60000</td>\n",
       "    </tr>\n",
       "    <tr>\n",
       "      <th>2</th>\n",
       "      <td>Carol</td>\n",
       "      <td>IT</td>\n",
       "      <td>55000</td>\n",
       "    </tr>\n",
       "    <tr>\n",
       "      <th>3</th>\n",
       "      <td>David</td>\n",
       "      <td>HR</td>\n",
       "      <td>52000</td>\n",
       "    </tr>\n",
       "    <tr>\n",
       "      <th>4</th>\n",
       "      <td>Eve</td>\n",
       "      <td>Finance</td>\n",
       "      <td>62000</td>\n",
       "    </tr>\n",
       "  </tbody>\n",
       "</table>\n",
       "</div>"
      ],
      "text/plain": [
       "  employee_name department  salary\n",
       "0         Alice         HR   50000\n",
       "1           Bob         IT   60000\n",
       "2         Carol         IT   55000\n",
       "3         David         HR   52000\n",
       "4           Eve    Finance   62000"
      ]
     },
     "execution_count": 12,
     "metadata": {},
     "output_type": "execute_result"
    }
   ],
   "source": [
    "query = \"\"\"SELECT employee_name, department, salary\n",
    "FROM employees e1\"\"\"\n",
    "pd.read_sql(query, conn)"
   ]
  },
  {
   "cell_type": "markdown",
   "id": "1564484a-7e2a-4600-bbc6-2ef0ae5f8ba1",
   "metadata": {},
   "source": [
    "Then we add a subquery that -- for each row in that outer query -- performs another query.  \n",
    "\n",
    "Below for each row, our subquery joins on the department name and finds the max salary."
   ]
  },
  {
   "cell_type": "code",
   "execution_count": null,
   "id": "23eb5792-1853-4093-9e02-bb2a724851ff",
   "metadata": {},
   "outputs": [],
   "source": [
    "query = \"\"\"SELECT employee_name, department, salary,\n",
    "(SELECT MAX(salary) FROM employees e2\n",
    "    WHERE e2.department = e1.department) AS max_dept_salary\n",
    "FROM employees e1\"\"\"\n",
    "pd.read_sql(query, conn)"
   ]
  },
  {
   "cell_type": "markdown",
   "id": "03379e86-f3b1-48aa-8ae1-859f32aa1a78",
   "metadata": {},
   "source": [
    "Let's break down that correlated subquery one more time.  It consists of two components -- (1) the outer query and (2) the correlated subquery."
   ]
  },
  {
   "cell_type": "markdown",
   "id": "d0ed6cfd-d6ae-4823-99d6-b3c0f37c901a",
   "metadata": {},
   "source": [
    "```sql\n",
    "SELECT employee_name, department, salary,\n",
    "(SELECT MAX(salary) FROM employees e2 WHERE e2.department = e1.department) AS max_sal -- 2. correlated subquery\n",
    "FROM employees e1 -- 1. outer query\n",
    "```"
   ]
  },
  {
   "cell_type": "markdown",
   "id": "d44fb7db-b272-4db0-8d9b-4c32e2e9baf7",
   "metadata": {},
   "source": [
    "* **Outer Query**: The outer query retrieves rows from a table.  Notice that we immediately alias the outer query (e1).\n",
    "* **Correlated Subquery**: Our subquery references the outer query, executing once per each row in the outer query.\n",
    "    * Notice that the correlated subquery uses the outer table for filtering or calculation."
   ]
  },
  {
   "cell_type": "markdown",
   "id": "18925a55-303a-4eec-86ca-27814109ce53",
   "metadata": {},
   "source": [
    "So really the way to think about a correlated subquery is as a loop.  We loop through all of the rows in our outer query, executing the correlated subquery once for each row."
   ]
  },
  {
   "cell_type": "markdown",
   "id": "79e192b2-5734-4270-91b9-82252ad167e0",
   "metadata": {},
   "source": [
    "### Moving to a use case"
   ]
  },
  {
   "cell_type": "markdown",
   "id": "40657b84-798e-47ba-9dce-241e11d8fb7c",
   "metadata": {},
   "source": [
    "Ok, so as we said, we can achieve the above example with a window function -- where we display the max salary per department along with each row."
   ]
  },
  {
   "cell_type": "markdown",
   "id": "c2ec1bae-34bf-4c6a-84f9-86e40b393f42",
   "metadata": {},
   "source": [
    "But what if we want to retrieve the *second* highest salary per department along with each row.  Here, our correlated subquery is more necessary."
   ]
  },
  {
   "cell_type": "markdown",
   "id": "7634eb82-881b-4b5e-b4fe-875062cbb9b4",
   "metadata": {},
   "source": [
    "You can see the query below.\n",
    "\n",
    "Notice that this time in our subquery, we still join on the department, but we order by salary desc and apply an offset and limit to get the second highest salary."
   ]
  },
  {
   "cell_type": "code",
   "execution_count": 13,
   "id": "adc1f4ec-1cda-4a95-ac4d-aab7d256123d",
   "metadata": {},
   "outputs": [
    {
     "data": {
      "text/html": [
       "<div>\n",
       "<style scoped>\n",
       "    .dataframe tbody tr th:only-of-type {\n",
       "        vertical-align: middle;\n",
       "    }\n",
       "\n",
       "    .dataframe tbody tr th {\n",
       "        vertical-align: top;\n",
       "    }\n",
       "\n",
       "    .dataframe thead th {\n",
       "        text-align: right;\n",
       "    }\n",
       "</style>\n",
       "<table border=\"1\" class=\"dataframe\">\n",
       "  <thead>\n",
       "    <tr style=\"text-align: right;\">\n",
       "      <th></th>\n",
       "      <th>employee_name</th>\n",
       "      <th>department</th>\n",
       "      <th>salary</th>\n",
       "      <th>second_highest</th>\n",
       "    </tr>\n",
       "  </thead>\n",
       "  <tbody>\n",
       "    <tr>\n",
       "      <th>0</th>\n",
       "      <td>Bob</td>\n",
       "      <td>IT</td>\n",
       "      <td>60000</td>\n",
       "      <td>55000.0</td>\n",
       "    </tr>\n",
       "    <tr>\n",
       "      <th>1</th>\n",
       "      <td>Carol</td>\n",
       "      <td>IT</td>\n",
       "      <td>55000</td>\n",
       "      <td>55000.0</td>\n",
       "    </tr>\n",
       "    <tr>\n",
       "      <th>2</th>\n",
       "      <td>David</td>\n",
       "      <td>HR</td>\n",
       "      <td>52000</td>\n",
       "      <td>50000.0</td>\n",
       "    </tr>\n",
       "    <tr>\n",
       "      <th>3</th>\n",
       "      <td>Alice</td>\n",
       "      <td>HR</td>\n",
       "      <td>50000</td>\n",
       "      <td>50000.0</td>\n",
       "    </tr>\n",
       "    <tr>\n",
       "      <th>4</th>\n",
       "      <td>Eve</td>\n",
       "      <td>Finance</td>\n",
       "      <td>62000</td>\n",
       "      <td>NaN</td>\n",
       "    </tr>\n",
       "  </tbody>\n",
       "</table>\n",
       "</div>"
      ],
      "text/plain": [
       "  employee_name department  salary  second_highest\n",
       "0           Bob         IT   60000         55000.0\n",
       "1         Carol         IT   55000         55000.0\n",
       "2         David         HR   52000         50000.0\n",
       "3         Alice         HR   50000         50000.0\n",
       "4           Eve    Finance   62000             NaN"
      ]
     },
     "execution_count": 13,
     "metadata": {},
     "output_type": "execute_result"
    }
   ],
   "source": [
    "query = \"\"\"SELECT employee_name, department, salary,\n",
    "(SELECT salary FROM employees e2 WHERE e2.department = e1.department\n",
    "order by salary desc limit 1 offset 1 ) AS second_highest\n",
    "FROM employees e1 order by department desc, salary desc\"\"\"\n",
    "pd.read_sql(query, conn)"
   ]
  },
  {
   "cell_type": "markdown",
   "id": "55b8f801-56c5-4543-84bc-5c5d808abc38",
   "metadata": {},
   "source": [
    "Done.\n",
    "\n",
    "So here, the correlated subquery appears better than the window function.  \n",
    "\n",
    "> The closest we can do with a window function is calcuate the rank of the salary per department, and then select based on that.  But that's not exactly the sample."
   ]
  },
  {
   "cell_type": "code",
   "execution_count": 135,
   "id": "4a1286d6-e8c8-47c6-bc93-c2184000bb71",
   "metadata": {},
   "outputs": [
    {
     "data": {
      "text/html": [
       "<div>\n",
       "<style scoped>\n",
       "    .dataframe tbody tr th:only-of-type {\n",
       "        vertical-align: middle;\n",
       "    }\n",
       "\n",
       "    .dataframe tbody tr th {\n",
       "        vertical-align: top;\n",
       "    }\n",
       "\n",
       "    .dataframe thead th {\n",
       "        text-align: right;\n",
       "    }\n",
       "</style>\n",
       "<table border=\"1\" class=\"dataframe\">\n",
       "  <thead>\n",
       "    <tr style=\"text-align: right;\">\n",
       "      <th></th>\n",
       "      <th>employee_name</th>\n",
       "      <th>department</th>\n",
       "      <th>salary</th>\n",
       "      <th>dept_rank</th>\n",
       "    </tr>\n",
       "  </thead>\n",
       "  <tbody>\n",
       "    <tr>\n",
       "      <th>0</th>\n",
       "      <td>Alice</td>\n",
       "      <td>HR</td>\n",
       "      <td>50000</td>\n",
       "      <td>2</td>\n",
       "    </tr>\n",
       "    <tr>\n",
       "      <th>1</th>\n",
       "      <td>Carol</td>\n",
       "      <td>IT</td>\n",
       "      <td>55000</td>\n",
       "      <td>2</td>\n",
       "    </tr>\n",
       "  </tbody>\n",
       "</table>\n",
       "</div>"
      ],
      "text/plain": [
       "  employee_name department  salary  dept_rank\n",
       "0         Alice         HR   50000          2\n",
       "1         Carol         IT   55000          2"
      ]
     },
     "execution_count": 135,
     "metadata": {},
     "output_type": "execute_result"
    }
   ],
   "source": [
    "query = \"\"\"\n",
    "with ranked_employees as (\n",
    "    SELECT employee_name, department, salary,\n",
    "     DENSE_RANK() OVER (PARTITION BY department ORDER BY salary DESC) AS dept_rank\n",
    "    FROM  employees\n",
    ")\n",
    "select * from ranked_employees where dept_rank = 2\n",
    "\"\"\"\n",
    "pd.read_sql(query, conn)"
   ]
  },
  {
   "cell_type": "markdown",
   "id": "693d9290-1e1e-4437-8911-a41cb6ac7683",
   "metadata": {},
   "source": [
    "### Two tables"
   ]
  },
  {
   "cell_type": "markdown",
   "id": "3f8b8dc1-315d-499f-98bf-160e7bf0d272",
   "metadata": {},
   "source": [
    "So far we have use correlated subqueries when we are querying the same table.  But we can also perform correlated subqueries with multiple tables.\n",
    "\n",
    "So let's say that we have customers and orders.  One way that we can find the those customers who have placed orders is with a correlated subquery.\n",
    "\n",
    "> Yes, we can also do so with a simple inner join, but let's use a correlated subquery to get more familiar with it."
   ]
  },
  {
   "cell_type": "markdown",
   "id": "535b301b-7a14-4355-a7dd-3d492f7f9361",
   "metadata": {},
   "source": [
    "First we can take a look at our orders, where we can see that customers 1 and 2 have placed orders."
   ]
  },
  {
   "cell_type": "code",
   "execution_count": 136,
   "id": "df5e7c49-f854-431e-a235-e235942a76b8",
   "metadata": {},
   "outputs": [
    {
     "data": {
      "text/html": [
       "<div>\n",
       "<style scoped>\n",
       "    .dataframe tbody tr th:only-of-type {\n",
       "        vertical-align: middle;\n",
       "    }\n",
       "\n",
       "    .dataframe tbody tr th {\n",
       "        vertical-align: top;\n",
       "    }\n",
       "\n",
       "    .dataframe thead th {\n",
       "        text-align: right;\n",
       "    }\n",
       "</style>\n",
       "<table border=\"1\" class=\"dataframe\">\n",
       "  <thead>\n",
       "    <tr style=\"text-align: right;\">\n",
       "      <th></th>\n",
       "      <th>id</th>\n",
       "      <th>order_id</th>\n",
       "      <th>customer_id</th>\n",
       "      <th>order_date</th>\n",
       "    </tr>\n",
       "  </thead>\n",
       "  <tbody>\n",
       "    <tr>\n",
       "      <th>0</th>\n",
       "      <td>0</td>\n",
       "      <td>101</td>\n",
       "      <td>1</td>\n",
       "      <td>2023-01-15</td>\n",
       "    </tr>\n",
       "    <tr>\n",
       "      <th>1</th>\n",
       "      <td>1</td>\n",
       "      <td>102</td>\n",
       "      <td>1</td>\n",
       "      <td>2023-02-10</td>\n",
       "    </tr>\n",
       "    <tr>\n",
       "      <th>2</th>\n",
       "      <td>2</td>\n",
       "      <td>103</td>\n",
       "      <td>2</td>\n",
       "      <td>2023-03-05</td>\n",
       "    </tr>\n",
       "  </tbody>\n",
       "</table>\n",
       "</div>"
      ],
      "text/plain": [
       "   id  order_id  customer_id  order_date\n",
       "0   0       101            1  2023-01-15\n",
       "1   1       102            1  2023-02-10\n",
       "2   2       103            2  2023-03-05"
      ]
     },
     "execution_count": 136,
     "metadata": {},
     "output_type": "execute_result"
    }
   ],
   "source": [
    "pd.read_sql(\"\"\"select * from orders\"\"\", conn)"
   ]
  },
  {
   "cell_type": "markdown",
   "id": "c6b0ada3-6a61-4018-a523-c6f33f7df918",
   "metadata": {},
   "source": [
    "Then we can use our correlated subquery."
   ]
  },
  {
   "cell_type": "code",
   "execution_count": 137,
   "id": "f0374559-8c5c-4a52-bce6-72ae8a39e624",
   "metadata": {},
   "outputs": [
    {
     "data": {
      "text/html": [
       "<div>\n",
       "<style scoped>\n",
       "    .dataframe tbody tr th:only-of-type {\n",
       "        vertical-align: middle;\n",
       "    }\n",
       "\n",
       "    .dataframe tbody tr th {\n",
       "        vertical-align: top;\n",
       "    }\n",
       "\n",
       "    .dataframe thead th {\n",
       "        text-align: right;\n",
       "    }\n",
       "</style>\n",
       "<table border=\"1\" class=\"dataframe\">\n",
       "  <thead>\n",
       "    <tr style=\"text-align: right;\">\n",
       "      <th></th>\n",
       "      <th>name</th>\n",
       "    </tr>\n",
       "  </thead>\n",
       "  <tbody>\n",
       "    <tr>\n",
       "      <th>0</th>\n",
       "      <td>John Smith</td>\n",
       "    </tr>\n",
       "    <tr>\n",
       "      <th>1</th>\n",
       "      <td>Jane Doe</td>\n",
       "    </tr>\n",
       "  </tbody>\n",
       "</table>\n",
       "</div>"
      ],
      "text/plain": [
       "         name\n",
       "0  John Smith\n",
       "1    Jane Doe"
      ]
     },
     "execution_count": 137,
     "metadata": {},
     "output_type": "execute_result"
    }
   ],
   "source": [
    "query = \"\"\"SELECT name\n",
    "FROM customers c\n",
    "WHERE (\n",
    "    SELECT 1\n",
    "    FROM orders o\n",
    "    WHERE o.customer_id = c.customer_id\n",
    ")\"\"\"\n",
    "pd.read_sql(query, conn)"
   ]
  },
  {
   "cell_type": "markdown",
   "id": "80a71013-8ff5-4102-a265-ac8f33da54b7",
   "metadata": {},
   "source": [
    "We'll move onto a better use case in a second.  But for now, let's make sure we have the correlated subquery down.  Once again, we have our outer table `customers`, which we immediately alias as `c`.  Then for each row, we join our customers table on the orders table, and the final result only returns the rows where the correlated subquery returns a truthy value."
   ]
  },
  {
   "cell_type": "markdown",
   "id": "b24bb7de-ec81-497f-9c62-46e9c4a5ab8d",
   "metadata": {},
   "source": [
    "> Notice that for this last example, our correlated subquery is in the where clause.  We'll move back to using a correlated subquery to generate a new column of data in the next example."
   ]
  },
  {
   "cell_type": "markdown",
   "id": "6b9a55c9-c76c-4932-9344-4ab9cb3b5457",
   "metadata": {},
   "source": [
    "### A better use case"
   ]
  },
  {
   "cell_type": "markdown",
   "id": "127ce1d0-6c05-42d9-a26e-8f5fbf8515cc",
   "metadata": {},
   "source": [
    "Ok, so the above seems pretty complicated for something we can achieve with an inner join.  Now let's move towards a case where a correlated subquery is needed. "
   ]
  },
  {
   "cell_type": "markdown",
   "id": "2a72068f-e5da-4b8c-a01c-ae187c25a0e7",
   "metadata": {},
   "source": [
    "Let's say that we have customers, each that has an available budget, and a list of dog foods.  Now  each customer wants to spend as much as possible on their dog.  So let's say that for each customer, we want to pair them with the most expensive dog food that is lower than their budget.   \n",
    "\n",
    "Let's get to it.  \n",
    "\n",
    "First, we'll look at our dog food data."
   ]
  },
  {
   "cell_type": "code",
   "execution_count": 145,
   "id": "5b0df26e-5017-4de1-ba90-b68cdbd9a64d",
   "metadata": {},
   "outputs": [
    {
     "data": {
      "text/html": [
       "<div>\n",
       "<style scoped>\n",
       "    .dataframe tbody tr th:only-of-type {\n",
       "        vertical-align: middle;\n",
       "    }\n",
       "\n",
       "    .dataframe tbody tr th {\n",
       "        vertical-align: top;\n",
       "    }\n",
       "\n",
       "    .dataframe thead th {\n",
       "        text-align: right;\n",
       "    }\n",
       "</style>\n",
       "<table border=\"1\" class=\"dataframe\">\n",
       "  <thead>\n",
       "    <tr style=\"text-align: right;\">\n",
       "      <th></th>\n",
       "      <th>id</th>\n",
       "      <th>brand</th>\n",
       "      <th>price</th>\n",
       "    </tr>\n",
       "  </thead>\n",
       "  <tbody>\n",
       "    <tr>\n",
       "      <th>0</th>\n",
       "      <td>0</td>\n",
       "      <td>Acme Dog Food</td>\n",
       "      <td>22</td>\n",
       "    </tr>\n",
       "    <tr>\n",
       "      <th>1</th>\n",
       "      <td>1</td>\n",
       "      <td>Puppy Chow</td>\n",
       "      <td>32</td>\n",
       "    </tr>\n",
       "    <tr>\n",
       "      <th>2</th>\n",
       "      <td>2</td>\n",
       "      <td>Healthy Paws</td>\n",
       "      <td>38</td>\n",
       "    </tr>\n",
       "    <tr>\n",
       "      <th>3</th>\n",
       "      <td>3</td>\n",
       "      <td>Bark Bites</td>\n",
       "      <td>19</td>\n",
       "    </tr>\n",
       "    <tr>\n",
       "      <th>4</th>\n",
       "      <td>4</td>\n",
       "      <td>Superior K9</td>\n",
       "      <td>45</td>\n",
       "    </tr>\n",
       "  </tbody>\n",
       "</table>\n",
       "</div>"
      ],
      "text/plain": [
       "   id          brand  price\n",
       "0   0  Acme Dog Food     22\n",
       "1   1     Puppy Chow     32\n",
       "2   2   Healthy Paws     38\n",
       "3   3     Bark Bites     19\n",
       "4   4    Superior K9     45"
      ]
     },
     "execution_count": 145,
     "metadata": {},
     "output_type": "execute_result"
    }
   ],
   "source": [
    "pd.read_sql(\"\"\"select * from dog_foods\"\"\", conn)"
   ]
  },
  {
   "cell_type": "markdown",
   "id": "0ac0ee29-35dd-4e4c-9c84-170364c96583",
   "metadata": {},
   "source": [
    "And our customer budgets."
   ]
  },
  {
   "cell_type": "code",
   "execution_count": 146,
   "id": "f7c85c05-db18-478c-be9f-45a785f43165",
   "metadata": {},
   "outputs": [
    {
     "data": {
      "text/html": [
       "<div>\n",
       "<style scoped>\n",
       "    .dataframe tbody tr th:only-of-type {\n",
       "        vertical-align: middle;\n",
       "    }\n",
       "\n",
       "    .dataframe tbody tr th {\n",
       "        vertical-align: top;\n",
       "    }\n",
       "\n",
       "    .dataframe thead th {\n",
       "        text-align: right;\n",
       "    }\n",
       "</style>\n",
       "<table border=\"1\" class=\"dataframe\">\n",
       "  <thead>\n",
       "    <tr style=\"text-align: right;\">\n",
       "      <th></th>\n",
       "      <th>id</th>\n",
       "      <th>customer_id</th>\n",
       "      <th>name</th>\n",
       "      <th>budget</th>\n",
       "    </tr>\n",
       "  </thead>\n",
       "  <tbody>\n",
       "    <tr>\n",
       "      <th>0</th>\n",
       "      <td>0</td>\n",
       "      <td>1</td>\n",
       "      <td>John Smith</td>\n",
       "      <td>25</td>\n",
       "    </tr>\n",
       "    <tr>\n",
       "      <th>1</th>\n",
       "      <td>1</td>\n",
       "      <td>2</td>\n",
       "      <td>Jane Doe</td>\n",
       "      <td>30</td>\n",
       "    </tr>\n",
       "    <tr>\n",
       "      <th>2</th>\n",
       "      <td>2</td>\n",
       "      <td>3</td>\n",
       "      <td>Michael Brown</td>\n",
       "      <td>40</td>\n",
       "    </tr>\n",
       "    <tr>\n",
       "      <th>3</th>\n",
       "      <td>3</td>\n",
       "      <td>4</td>\n",
       "      <td>Emily Johnson</td>\n",
       "      <td>22</td>\n",
       "    </tr>\n",
       "    <tr>\n",
       "      <th>4</th>\n",
       "      <td>4</td>\n",
       "      <td>5</td>\n",
       "      <td>David Lee</td>\n",
       "      <td>50</td>\n",
       "    </tr>\n",
       "  </tbody>\n",
       "</table>\n",
       "</div>"
      ],
      "text/plain": [
       "   id  customer_id           name  budget\n",
       "0   0            1     John Smith      25\n",
       "1   1            2       Jane Doe      30\n",
       "2   2            3  Michael Brown      40\n",
       "3   3            4  Emily Johnson      22\n",
       "4   4            5      David Lee      50"
      ]
     },
     "execution_count": 146,
     "metadata": {},
     "output_type": "execute_result"
    }
   ],
   "source": [
    "pd.read_sql(\"\"\"select * from customers\"\"\", conn)"
   ]
  },
  {
   "cell_type": "markdown",
   "id": "782ea35e-9a11-4bff-9b50-2c65059dc692",
   "metadata": {},
   "source": [
    "And then we can get to the resultant query."
   ]
  },
  {
   "cell_type": "code",
   "execution_count": 143,
   "id": "8a468143-d2a9-4fc3-a64e-9a3505689227",
   "metadata": {},
   "outputs": [
    {
     "data": {
      "text/html": [
       "<div>\n",
       "<style scoped>\n",
       "    .dataframe tbody tr th:only-of-type {\n",
       "        vertical-align: middle;\n",
       "    }\n",
       "\n",
       "    .dataframe tbody tr th {\n",
       "        vertical-align: top;\n",
       "    }\n",
       "\n",
       "    .dataframe thead th {\n",
       "        text-align: right;\n",
       "    }\n",
       "</style>\n",
       "<table border=\"1\" class=\"dataframe\">\n",
       "  <thead>\n",
       "    <tr style=\"text-align: right;\">\n",
       "      <th></th>\n",
       "      <th>id</th>\n",
       "      <th>customer_id</th>\n",
       "      <th>name</th>\n",
       "      <th>budget</th>\n",
       "      <th>dog_food_price</th>\n",
       "    </tr>\n",
       "  </thead>\n",
       "  <tbody>\n",
       "    <tr>\n",
       "      <th>0</th>\n",
       "      <td>0</td>\n",
       "      <td>1</td>\n",
       "      <td>John Smith</td>\n",
       "      <td>25</td>\n",
       "      <td>22</td>\n",
       "    </tr>\n",
       "    <tr>\n",
       "      <th>1</th>\n",
       "      <td>1</td>\n",
       "      <td>2</td>\n",
       "      <td>Jane Doe</td>\n",
       "      <td>30</td>\n",
       "      <td>22</td>\n",
       "    </tr>\n",
       "    <tr>\n",
       "      <th>2</th>\n",
       "      <td>2</td>\n",
       "      <td>3</td>\n",
       "      <td>Michael Brown</td>\n",
       "      <td>40</td>\n",
       "      <td>38</td>\n",
       "    </tr>\n",
       "    <tr>\n",
       "      <th>3</th>\n",
       "      <td>3</td>\n",
       "      <td>4</td>\n",
       "      <td>Emily Johnson</td>\n",
       "      <td>22</td>\n",
       "      <td>22</td>\n",
       "    </tr>\n",
       "    <tr>\n",
       "      <th>4</th>\n",
       "      <td>4</td>\n",
       "      <td>5</td>\n",
       "      <td>David Lee</td>\n",
       "      <td>50</td>\n",
       "      <td>45</td>\n",
       "    </tr>\n",
       "  </tbody>\n",
       "</table>\n",
       "</div>"
      ],
      "text/plain": [
       "   id  customer_id           name  budget  dog_food_price\n",
       "0   0            1     John Smith      25              22\n",
       "1   1            2       Jane Doe      30              22\n",
       "2   2            3  Michael Brown      40              38\n",
       "3   3            4  Emily Johnson      22              22\n",
       "4   4            5      David Lee      50              45"
      ]
     },
     "execution_count": 143,
     "metadata": {},
     "output_type": "execute_result"
    }
   ],
   "source": [
    "query = \"\"\"SELECT *, \n",
    "(select dog_foods.price \n",
    "from dog_foods where dog_foods.price <= c.budget\n",
    "order by price desc limit 1) as dog_food_price\n",
    "FROM customers c\"\"\"\n",
    "pd.read_sql(query, conn)"
   ]
  },
  {
   "cell_type": "markdown",
   "id": "5e99bfe8-dbfc-4ac0-9ba8-2a7f26c633f0",
   "metadata": {},
   "source": [
    "Let's copy this query below."
   ]
  },
  {
   "cell_type": "markdown",
   "id": "cedae759-b8ae-488b-bdb3-3fe8ac3738e9",
   "metadata": {},
   "source": [
    "```sql\n",
    "SELECT *, \n",
    "(select dog_foods.price \n",
    "from dog_foods where dog_foods.price <= c.budget\n",
    "order by price desc limit 1) as dog_food_price\n",
    "FROM customers c\n",
    "```"
   ]
  },
  {
   "cell_type": "markdown",
   "id": "aafad3bf-cd8c-4fa0-a908-356b08c50250",
   "metadata": {},
   "source": [
    "So above, we first select all of our customers in the outer query.  Then in our subquery, for each customer, we find the dog food price that is lower than or equal to the budget.  Then we sort these from highest to lowest, returning the highest food price within this upper bound.    "
   ]
  },
  {
   "cell_type": "markdown",
   "id": "01954b3f-74c7-4577-84ec-7867cb6e6df9",
   "metadata": {},
   "source": [
    "### Summary"
   ]
  },
  {
   "cell_type": "markdown",
   "id": "9c46bc79-5f7e-4a66-b666-046fbf1d82f3",
   "metadata": {},
   "source": [
    "In this lesson, we saw how to perform a correlated subquery.  To perform a correlated subquery, we need an outer table, and a subquery that references that outer table.  \n",
    "\n",
    "The correlated subquery executes for each row in the outer query, for either a filter or calculation. "
   ]
  },
  {
   "cell_type": "markdown",
   "id": "7baac6d9-5548-4a39-8bf0-45bbdc28379c",
   "metadata": {},
   "source": [
    "```sql\n",
    "SELECT employee_name, department, salary,\n",
    "(SELECT MAX(salary) FROM employees e2 WHERE e2.department = e1.department) AS max_sal -- 2. correlated subquery\n",
    "FROM employees e1 -- 1. outer query\n",
    "```"
   ]
  },
  {
   "cell_type": "markdown",
   "id": "2b2833dc-6d2e-4f18-97bd-ebb2671f01e7",
   "metadata": {},
   "source": [
    "We also saw some use cases for our correlated subquery.  "
   ]
  },
  {
   "cell_type": "markdown",
   "id": "f21482fa-49d3-4b88-94b1-bb13de704d34",
   "metadata": {},
   "source": [
    "For example, we saw saw a query that returns the second highest salary per department -- which goes further than what we can do with a window function."
   ]
  },
  {
   "cell_type": "code",
   "execution_count": null,
   "id": "398547f9-c21b-4eb4-9ecf-75bfdfc4ed5a",
   "metadata": {},
   "outputs": [],
   "source": [
    "query = \"\"\"SELECT employee_name, department, salary,\n",
    "(SELECT salary FROM employees e2 WHERE e2.department = e1.department\n",
    "order by salary desc limit 1 offset 1 ) AS max_sal\n",
    "FROM employees e1 order by department desc, salary desc\"\"\""
   ]
  },
  {
   "cell_type": "markdown",
   "id": "2c20a2cd-9348-4410-bcb0-3a4f148e5a87",
   "metadata": {},
   "source": [
    "And then finally, we saw how we can join two tables, aligning the rows based on our subquery -- as we did by finding the priciest dog food within each customer's budget."
   ]
  },
  {
   "cell_type": "markdown",
   "id": "32a9daf9-ab33-4886-8792-670a76f4f1c1",
   "metadata": {},
   "source": [
    "### Resources\n",
    "\n",
    "[Window Fn vs Subqueries](https://www.linkedin.com/pulse/comparing-sql-subqueries-window-functions-differences-siva-kowsika/)"
   ]
  }
 ],
 "metadata": {
  "kernelspec": {
   "display_name": "Python 3 (ipykernel)",
   "language": "python",
   "name": "python3"
  },
  "language_info": {
   "codemirror_mode": {
    "name": "ipython",
    "version": 3
   },
   "file_extension": ".py",
   "mimetype": "text/x-python",
   "name": "python",
   "nbconvert_exporter": "python",
   "pygments_lexer": "ipython3",
   "version": "3.9.12"
  }
 },
 "nbformat": 4,
 "nbformat_minor": 5
}
