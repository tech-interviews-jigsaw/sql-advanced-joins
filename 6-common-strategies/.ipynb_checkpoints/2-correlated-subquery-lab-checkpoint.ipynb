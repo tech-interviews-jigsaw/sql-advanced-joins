{
 "cells": [
  {
   "cell_type": "markdown",
   "id": "f60effa8-883f-410c-a0a4-6ba8ac006c15",
   "metadata": {},
   "source": [
    "# Correlated Subqueries Lab"
   ]
  },
  {
   "cell_type": "markdown",
   "id": "6ea916a7-44eb-412e-ae25-24bfc7a3be0f",
   "metadata": {},
   "source": [
    "### Introduction\n",
    "\n",
    "In the last lesson, we saw that correlated subqueries can be used to perform more precise queries than a window function, and also allow us to join records from two different tables with more precision.  \n",
    "\n",
    "In this lab, we'll practice implementing those queries."
   ]
  },
  {
   "cell_type": "markdown",
   "id": "0979762d-aaac-46ce-8d64-ee8124102de3",
   "metadata": {},
   "source": [
    "### Loading our data"
   ]
  },
  {
   "cell_type": "code",
   "execution_count": 1,
   "id": "a2c481cf-7daf-4c32-9c92-c7c473bb3f43",
   "metadata": {},
   "outputs": [],
   "source": [
    "import pandas as pd\n",
    "import sqlite3\n",
    "conn = sqlite3.connect('users.db')\n",
    "root_url = \"https://raw.githubusercontent.com/tech-interviews-jigsaw/sql-advanced-joins/main/6-common-strategies\"\n",
    "table_names = ['products', 'employees', 'orders', 'customers', 'dog_foods']\n",
    "\n",
    "dfs = [pd.read_csv(f\"{root_url}/{table_name}.csv\") for table_name in table_names]"
   ]
  },
  {
   "cell_type": "code",
   "execution_count": 2,
   "id": "92812220-1f35-4e8e-a5d5-ad6a657eab6c",
   "metadata": {},
   "outputs": [
    {
     "data": {
      "text/plain": [
       "[10, 5, 3, 5, 5]"
      ]
     },
     "execution_count": 2,
     "metadata": {},
     "output_type": "execute_result"
    }
   ],
   "source": [
    "[df.to_sql(table_name, conn, index = True, \n",
    "           index_label = 'id', if_exists = 'replace') \n",
    " for df, table_name in zip(dfs, table_names)]"
   ]
  },
  {
   "cell_type": "markdown",
   "id": "04e577e7-9014-48b3-8bca-b10c65b3f61f",
   "metadata": {},
   "source": [
    "### Correlated Subqueries"
   ]
  },
  {
   "cell_type": "markdown",
   "id": "8bac3beb-0e79-43f5-9901-f5fbdb00b0cb",
   "metadata": {},
   "source": [
    "Let's start with our product data, which as you can see has our product name, category and price."
   ]
  },
  {
   "cell_type": "code",
   "execution_count": 17,
   "id": "01a5fd69-7f44-436a-aac5-8189520a1e38",
   "metadata": {},
   "outputs": [
    {
     "data": {
      "text/html": [
       "<div>\n",
       "<style scoped>\n",
       "    .dataframe tbody tr th:only-of-type {\n",
       "        vertical-align: middle;\n",
       "    }\n",
       "\n",
       "    .dataframe tbody tr th {\n",
       "        vertical-align: top;\n",
       "    }\n",
       "\n",
       "    .dataframe thead th {\n",
       "        text-align: right;\n",
       "    }\n",
       "</style>\n",
       "<table border=\"1\" class=\"dataframe\">\n",
       "  <thead>\n",
       "    <tr style=\"text-align: right;\">\n",
       "      <th></th>\n",
       "      <th>id</th>\n",
       "      <th>name</th>\n",
       "      <th>category</th>\n",
       "      <th>price</th>\n",
       "    </tr>\n",
       "  </thead>\n",
       "  <tbody>\n",
       "    <tr>\n",
       "      <th>0</th>\n",
       "      <td>0</td>\n",
       "      <td>Smartphone</td>\n",
       "      <td>Electronics</td>\n",
       "      <td>600</td>\n",
       "    </tr>\n",
       "    <tr>\n",
       "      <th>1</th>\n",
       "      <td>1</td>\n",
       "      <td>Running Shoes</td>\n",
       "      <td>Footwear</td>\n",
       "      <td>80</td>\n",
       "    </tr>\n",
       "    <tr>\n",
       "      <th>2</th>\n",
       "      <td>2</td>\n",
       "      <td>T-shirt</td>\n",
       "      <td>Clothing</td>\n",
       "      <td>20</td>\n",
       "    </tr>\n",
       "    <tr>\n",
       "      <th>3</th>\n",
       "      <td>3</td>\n",
       "      <td>Coffee Maker</td>\n",
       "      <td>Appliances</td>\n",
       "      <td>50</td>\n",
       "    </tr>\n",
       "    <tr>\n",
       "      <th>4</th>\n",
       "      <td>4</td>\n",
       "      <td>Backpack</td>\n",
       "      <td>Accessories</td>\n",
       "      <td>40</td>\n",
       "    </tr>\n",
       "    <tr>\n",
       "      <th>5</th>\n",
       "      <td>5</td>\n",
       "      <td>Headphones</td>\n",
       "      <td>Electronics</td>\n",
       "      <td>150</td>\n",
       "    </tr>\n",
       "  </tbody>\n",
       "</table>\n",
       "</div>"
      ],
      "text/plain": [
       "   id           name     category  price\n",
       "0   0     Smartphone  Electronics    600\n",
       "1   1  Running Shoes     Footwear     80\n",
       "2   2        T-shirt     Clothing     20\n",
       "3   3   Coffee Maker   Appliances     50\n",
       "4   4       Backpack  Accessories     40\n",
       "5   5     Headphones  Electronics    150"
      ]
     },
     "execution_count": 17,
     "metadata": {},
     "output_type": "execute_result"
    }
   ],
   "source": [
    "pd.read_sql(\"select * from products limit 6\", conn)"
   ]
  },
  {
   "cell_type": "markdown",
   "id": "3bd04415-f11c-4adc-8d28-c87fd06aa153",
   "metadata": {},
   "source": [
    "Use a correlated subquery to add a column of the minimum price for each product category.  Order the overall table by the product and the price.\n",
    "\n",
    "> Remember the components of the outer table, and the subquery that references the outer table.  Get started by just querying the outer table, and then add the subquery."
   ]
  },
  {
   "cell_type": "code",
   "execution_count": 19,
   "id": "5dc9e229-40d1-4a5f-ba37-cfeea7389298",
   "metadata": {},
   "outputs": [
    {
     "data": {
      "text/html": [
       "<div>\n",
       "<style scoped>\n",
       "    .dataframe tbody tr th:only-of-type {\n",
       "        vertical-align: middle;\n",
       "    }\n",
       "\n",
       "    .dataframe tbody tr th {\n",
       "        vertical-align: top;\n",
       "    }\n",
       "\n",
       "    .dataframe thead th {\n",
       "        text-align: right;\n",
       "    }\n",
       "</style>\n",
       "<table border=\"1\" class=\"dataframe\">\n",
       "  <thead>\n",
       "    <tr style=\"text-align: right;\">\n",
       "      <th></th>\n",
       "      <th>id</th>\n",
       "      <th>name</th>\n",
       "      <th>category</th>\n",
       "      <th>price</th>\n",
       "      <th>min_price</th>\n",
       "    </tr>\n",
       "  </thead>\n",
       "  <tbody>\n",
       "    <tr>\n",
       "      <th>0</th>\n",
       "      <td>8</td>\n",
       "      <td>Water Bottle</td>\n",
       "      <td>Accessories</td>\n",
       "      <td>15</td>\n",
       "      <td>15</td>\n",
       "    </tr>\n",
       "    <tr>\n",
       "      <th>1</th>\n",
       "      <td>9</td>\n",
       "      <td>Sunglasses</td>\n",
       "      <td>Accessories</td>\n",
       "      <td>30</td>\n",
       "      <td>15</td>\n",
       "    </tr>\n",
       "    <tr>\n",
       "      <th>2</th>\n",
       "      <td>4</td>\n",
       "      <td>Backpack</td>\n",
       "      <td>Accessories</td>\n",
       "      <td>40</td>\n",
       "      <td>15</td>\n",
       "    </tr>\n",
       "    <tr>\n",
       "      <th>3</th>\n",
       "      <td>3</td>\n",
       "      <td>Coffee Maker</td>\n",
       "      <td>Appliances</td>\n",
       "      <td>50</td>\n",
       "      <td>50</td>\n",
       "    </tr>\n",
       "    <tr>\n",
       "      <th>4</th>\n",
       "      <td>2</td>\n",
       "      <td>T-shirt</td>\n",
       "      <td>Clothing</td>\n",
       "      <td>20</td>\n",
       "      <td>20</td>\n",
       "    </tr>\n",
       "    <tr>\n",
       "      <th>5</th>\n",
       "      <td>6</td>\n",
       "      <td>Jeans</td>\n",
       "      <td>Clothing</td>\n",
       "      <td>45</td>\n",
       "      <td>20</td>\n",
       "    </tr>\n",
       "    <tr>\n",
       "      <th>6</th>\n",
       "      <td>5</td>\n",
       "      <td>Headphones</td>\n",
       "      <td>Electronics</td>\n",
       "      <td>150</td>\n",
       "      <td>150</td>\n",
       "    </tr>\n",
       "    <tr>\n",
       "      <th>7</th>\n",
       "      <td>0</td>\n",
       "      <td>Smartphone</td>\n",
       "      <td>Electronics</td>\n",
       "      <td>600</td>\n",
       "      <td>150</td>\n",
       "    </tr>\n",
       "    <tr>\n",
       "      <th>8</th>\n",
       "      <td>1</td>\n",
       "      <td>Running Shoes</td>\n",
       "      <td>Footwear</td>\n",
       "      <td>80</td>\n",
       "      <td>80</td>\n",
       "    </tr>\n",
       "    <tr>\n",
       "      <th>9</th>\n",
       "      <td>7</td>\n",
       "      <td>Toothbrush</td>\n",
       "      <td>Personal Care</td>\n",
       "      <td>5</td>\n",
       "      <td>5</td>\n",
       "    </tr>\n",
       "  </tbody>\n",
       "</table>\n",
       "</div>"
      ],
      "text/plain": [
       "   id           name       category  price  min_price\n",
       "0   8   Water Bottle    Accessories     15         15\n",
       "1   9     Sunglasses    Accessories     30         15\n",
       "2   4       Backpack    Accessories     40         15\n",
       "3   3   Coffee Maker     Appliances     50         50\n",
       "4   2        T-shirt       Clothing     20         20\n",
       "5   6          Jeans       Clothing     45         20\n",
       "6   5     Headphones    Electronics    150        150\n",
       "7   0     Smartphone    Electronics    600        150\n",
       "8   1  Running Shoes       Footwear     80         80\n",
       "9   7     Toothbrush  Personal Care      5          5"
      ]
     },
     "execution_count": 19,
     "metadata": {},
     "output_type": "execute_result"
    }
   ],
   "source": [
    "query = \"\"\"\n",
    "\n",
    "\"\"\"\n",
    "pd.read_sql(query, conn)\n",
    "\n",
    "# id\tname\tcategory\tprice\tmin_price\n",
    "# 0\t8\tWater Bottle\tAccessories\t15\t15\n",
    "# 1\t9\tSunglasses\tAccessories\t30\t15\n",
    "# 2\t4\tBackpack\tAccessories\t40\t15\n",
    "# ..."
   ]
  },
  {
   "cell_type": "markdown",
   "id": "6bcad99c-3b2d-478d-9cff-4e329b40d5f6",
   "metadata": {},
   "source": [
    "Next, write a subquery to return the second most expensive consumer electronics product.  Order the results by category and price."
   ]
  },
  {
   "cell_type": "code",
   "execution_count": 4,
   "id": "0618f422-ba6e-416d-bbe9-6fd7cd064676",
   "metadata": {},
   "outputs": [
    {
     "data": {
      "text/html": [
       "<div>\n",
       "<style scoped>\n",
       "    .dataframe tbody tr th:only-of-type {\n",
       "        vertical-align: middle;\n",
       "    }\n",
       "\n",
       "    .dataframe tbody tr th {\n",
       "        vertical-align: top;\n",
       "    }\n",
       "\n",
       "    .dataframe thead th {\n",
       "        text-align: right;\n",
       "    }\n",
       "</style>\n",
       "<table border=\"1\" class=\"dataframe\">\n",
       "  <thead>\n",
       "    <tr style=\"text-align: right;\">\n",
       "      <th></th>\n",
       "      <th>id</th>\n",
       "      <th>name</th>\n",
       "      <th>category</th>\n",
       "      <th>price</th>\n",
       "      <th>second_most</th>\n",
       "    </tr>\n",
       "  </thead>\n",
       "  <tbody>\n",
       "    <tr>\n",
       "      <th>0</th>\n",
       "      <td>8</td>\n",
       "      <td>Water Bottle</td>\n",
       "      <td>Accessories</td>\n",
       "      <td>15</td>\n",
       "      <td>30.0</td>\n",
       "    </tr>\n",
       "    <tr>\n",
       "      <th>1</th>\n",
       "      <td>9</td>\n",
       "      <td>Sunglasses</td>\n",
       "      <td>Accessories</td>\n",
       "      <td>30</td>\n",
       "      <td>30.0</td>\n",
       "    </tr>\n",
       "    <tr>\n",
       "      <th>2</th>\n",
       "      <td>4</td>\n",
       "      <td>Backpack</td>\n",
       "      <td>Accessories</td>\n",
       "      <td>40</td>\n",
       "      <td>30.0</td>\n",
       "    </tr>\n",
       "    <tr>\n",
       "      <th>3</th>\n",
       "      <td>3</td>\n",
       "      <td>Coffee Maker</td>\n",
       "      <td>Appliances</td>\n",
       "      <td>50</td>\n",
       "      <td>NaN</td>\n",
       "    </tr>\n",
       "    <tr>\n",
       "      <th>4</th>\n",
       "      <td>2</td>\n",
       "      <td>T-shirt</td>\n",
       "      <td>Clothing</td>\n",
       "      <td>20</td>\n",
       "      <td>20.0</td>\n",
       "    </tr>\n",
       "  </tbody>\n",
       "</table>\n",
       "</div>"
      ],
      "text/plain": [
       "   id          name     category  price  second_most\n",
       "0   8  Water Bottle  Accessories     15         30.0\n",
       "1   9    Sunglasses  Accessories     30         30.0\n",
       "2   4      Backpack  Accessories     40         30.0\n",
       "3   3  Coffee Maker   Appliances     50          NaN\n",
       "4   2       T-shirt     Clothing     20         20.0"
      ]
     },
     "execution_count": 4,
     "metadata": {},
     "output_type": "execute_result"
    }
   ],
   "source": [
    "query = \"\"\"\n",
    "\n",
    "\"\"\"\n",
    "pd.read_sql(query, conn)\n",
    "\n",
    "# \tid\tname\tcategory\tprice\tsecond_most\n",
    "# 0\t8\tWater Bottle\tAccessories\t15\t30.0\n",
    "# 1\t9\tSunglasses\tAccessories\t30\t30.0\n",
    "# 2\t4\tBackpack\tAccessories\t40\t30.0\n",
    "# 3\t3\tCoffee Maker\tAppliances\t50\tNaN\n",
    "# 4\t2\tT-shirt\tClothing\t20\t20.0"
   ]
  },
  {
   "cell_type": "markdown",
   "id": "d730526a-1878-4dd4-b104-c3b4e029b0a4",
   "metadata": {},
   "source": [
    "* Now return only the second priciest product from each category (you do not need to use a correlated subquery to do so)."
   ]
  },
  {
   "cell_type": "code",
   "execution_count": 14,
   "id": "33d37b6e-68b8-49c8-beee-3c19a434519c",
   "metadata": {},
   "outputs": [
    {
     "data": {
      "text/html": [
       "<div>\n",
       "<style scoped>\n",
       "    .dataframe tbody tr th:only-of-type {\n",
       "        vertical-align: middle;\n",
       "    }\n",
       "\n",
       "    .dataframe tbody tr th {\n",
       "        vertical-align: top;\n",
       "    }\n",
       "\n",
       "    .dataframe thead th {\n",
       "        text-align: right;\n",
       "    }\n",
       "</style>\n",
       "<table border=\"1\" class=\"dataframe\">\n",
       "  <thead>\n",
       "    <tr style=\"text-align: right;\">\n",
       "      <th></th>\n",
       "      <th>name</th>\n",
       "      <th>category</th>\n",
       "      <th>price</th>\n",
       "    </tr>\n",
       "  </thead>\n",
       "  <tbody>\n",
       "    <tr>\n",
       "      <th>0</th>\n",
       "      <td>Sunglasses</td>\n",
       "      <td>Accessories</td>\n",
       "      <td>30</td>\n",
       "    </tr>\n",
       "    <tr>\n",
       "      <th>1</th>\n",
       "      <td>T-shirt</td>\n",
       "      <td>Clothing</td>\n",
       "      <td>20</td>\n",
       "    </tr>\n",
       "    <tr>\n",
       "      <th>2</th>\n",
       "      <td>Headphones</td>\n",
       "      <td>Electronics</td>\n",
       "      <td>150</td>\n",
       "    </tr>\n",
       "  </tbody>\n",
       "</table>\n",
       "</div>"
      ],
      "text/plain": [
       "         name     category  price\n",
       "0  Sunglasses  Accessories     30\n",
       "1     T-shirt     Clothing     20\n",
       "2  Headphones  Electronics    150"
      ]
     },
     "execution_count": 14,
     "metadata": {},
     "output_type": "execute_result"
    }
   ],
   "source": [
    "query = \"\"\"\n",
    "\n",
    "\"\"\"\n",
    "pd.read_sql(query, conn)\n",
    "\n",
    "# \tname\tcategory\tprice\n",
    "# 0\tSunglasses\tAccessories\t30\n",
    "# 1\tT-shirt\tClothing\t20\n",
    "# 2\tHeadphones\tElectronics\t150"
   ]
  },
  {
   "cell_type": "markdown",
   "id": "86317572-c51c-467c-a8c3-eec7a8d511e7",
   "metadata": {},
   "source": [
    "Next, return only cheapest product from each group."
   ]
  },
  {
   "cell_type": "code",
   "execution_count": 18,
   "id": "c18a275b-4135-4132-bdd2-b3ea3744cd7c",
   "metadata": {},
   "outputs": [
    {
     "data": {
      "text/html": [
       "<div>\n",
       "<style scoped>\n",
       "    .dataframe tbody tr th:only-of-type {\n",
       "        vertical-align: middle;\n",
       "    }\n",
       "\n",
       "    .dataframe tbody tr th {\n",
       "        vertical-align: top;\n",
       "    }\n",
       "\n",
       "    .dataframe thead th {\n",
       "        text-align: right;\n",
       "    }\n",
       "</style>\n",
       "<table border=\"1\" class=\"dataframe\">\n",
       "  <thead>\n",
       "    <tr style=\"text-align: right;\">\n",
       "      <th></th>\n",
       "      <th>name</th>\n",
       "      <th>category</th>\n",
       "      <th>price</th>\n",
       "    </tr>\n",
       "  </thead>\n",
       "  <tbody>\n",
       "    <tr>\n",
       "      <th>0</th>\n",
       "      <td>Water Bottle</td>\n",
       "      <td>Accessories</td>\n",
       "      <td>15</td>\n",
       "    </tr>\n",
       "    <tr>\n",
       "      <th>1</th>\n",
       "      <td>Coffee Maker</td>\n",
       "      <td>Appliances</td>\n",
       "      <td>50</td>\n",
       "    </tr>\n",
       "    <tr>\n",
       "      <th>2</th>\n",
       "      <td>T-shirt</td>\n",
       "      <td>Clothing</td>\n",
       "      <td>20</td>\n",
       "    </tr>\n",
       "    <tr>\n",
       "      <th>3</th>\n",
       "      <td>Headphones</td>\n",
       "      <td>Electronics</td>\n",
       "      <td>150</td>\n",
       "    </tr>\n",
       "    <tr>\n",
       "      <th>4</th>\n",
       "      <td>Running Shoes</td>\n",
       "      <td>Footwear</td>\n",
       "      <td>80</td>\n",
       "    </tr>\n",
       "    <tr>\n",
       "      <th>5</th>\n",
       "      <td>Toothbrush</td>\n",
       "      <td>Personal Care</td>\n",
       "      <td>5</td>\n",
       "    </tr>\n",
       "  </tbody>\n",
       "</table>\n",
       "</div>"
      ],
      "text/plain": [
       "            name       category  price\n",
       "0   Water Bottle    Accessories     15\n",
       "1   Coffee Maker     Appliances     50\n",
       "2        T-shirt       Clothing     20\n",
       "3     Headphones    Electronics    150\n",
       "4  Running Shoes       Footwear     80\n",
       "5     Toothbrush  Personal Care      5"
      ]
     },
     "execution_count": 18,
     "metadata": {},
     "output_type": "execute_result"
    }
   ],
   "source": [
    "query = \"\"\"\n",
    "\n",
    "\"\"\"\n",
    "pd.read_sql(query, conn)\n",
    "\n",
    "# name\tcategory\tprice\n",
    "# 0\tWater Bottle\tAccessories\t15\n",
    "# 1\tCoffee Maker\tAppliances\t50\n",
    "# 2\tT-shirt\tClothing\t20\n",
    "# 3\tHeadphones\tElectronics\t150\n",
    "# 4\tRunning Shoes\tFootwear\t80\n",
    "# 5\tToothbrush\tPersonal Care\t5"
   ]
  },
  {
   "cell_type": "markdown",
   "id": "f94d6aef-7317-4457-8c83-5c6a7193bc34",
   "metadata": {},
   "source": [
    "### Back to Dog Food"
   ]
  },
  {
   "cell_type": "markdown",
   "id": "c6c75421-a389-46b3-a696-983cae00b8f6",
   "metadata": {},
   "source": [
    "Ok, now let's take another look at our dog food data."
   ]
  },
  {
   "cell_type": "code",
   "execution_count": 22,
   "id": "779343f5-5251-4b61-b011-56d7d201c978",
   "metadata": {},
   "outputs": [
    {
     "data": {
      "text/html": [
       "<div>\n",
       "<style scoped>\n",
       "    .dataframe tbody tr th:only-of-type {\n",
       "        vertical-align: middle;\n",
       "    }\n",
       "\n",
       "    .dataframe tbody tr th {\n",
       "        vertical-align: top;\n",
       "    }\n",
       "\n",
       "    .dataframe thead th {\n",
       "        text-align: right;\n",
       "    }\n",
       "</style>\n",
       "<table border=\"1\" class=\"dataframe\">\n",
       "  <thead>\n",
       "    <tr style=\"text-align: right;\">\n",
       "      <th></th>\n",
       "      <th>id</th>\n",
       "      <th>brand</th>\n",
       "      <th>price</th>\n",
       "    </tr>\n",
       "  </thead>\n",
       "  <tbody>\n",
       "    <tr>\n",
       "      <th>0</th>\n",
       "      <td>0</td>\n",
       "      <td>Acme Dog Food</td>\n",
       "      <td>22</td>\n",
       "    </tr>\n",
       "    <tr>\n",
       "      <th>1</th>\n",
       "      <td>1</td>\n",
       "      <td>Puppy Chow</td>\n",
       "      <td>32</td>\n",
       "    </tr>\n",
       "    <tr>\n",
       "      <th>2</th>\n",
       "      <td>2</td>\n",
       "      <td>Healthy Paws</td>\n",
       "      <td>38</td>\n",
       "    </tr>\n",
       "  </tbody>\n",
       "</table>\n",
       "</div>"
      ],
      "text/plain": [
       "   id          brand  price\n",
       "0   0  Acme Dog Food     22\n",
       "1   1     Puppy Chow     32\n",
       "2   2   Healthy Paws     38"
      ]
     },
     "execution_count": 22,
     "metadata": {},
     "output_type": "execute_result"
    }
   ],
   "source": [
    "pd.read_sql(\"select * from dog_foods limit 3\", conn)"
   ]
  },
  {
   "cell_type": "markdown",
   "id": "cdfb7ca6-ec78-4fa5-bc50-77da46b0d250",
   "metadata": {},
   "source": [
    "And our customers."
   ]
  },
  {
   "cell_type": "code",
   "execution_count": 24,
   "id": "ddd18fff-b2e9-429a-9cd9-924ee642ecdc",
   "metadata": {},
   "outputs": [
    {
     "data": {
      "text/html": [
       "<div>\n",
       "<style scoped>\n",
       "    .dataframe tbody tr th:only-of-type {\n",
       "        vertical-align: middle;\n",
       "    }\n",
       "\n",
       "    .dataframe tbody tr th {\n",
       "        vertical-align: top;\n",
       "    }\n",
       "\n",
       "    .dataframe thead th {\n",
       "        text-align: right;\n",
       "    }\n",
       "</style>\n",
       "<table border=\"1\" class=\"dataframe\">\n",
       "  <thead>\n",
       "    <tr style=\"text-align: right;\">\n",
       "      <th></th>\n",
       "      <th>id</th>\n",
       "      <th>customer_id</th>\n",
       "      <th>name</th>\n",
       "      <th>budget</th>\n",
       "    </tr>\n",
       "  </thead>\n",
       "  <tbody>\n",
       "    <tr>\n",
       "      <th>0</th>\n",
       "      <td>0</td>\n",
       "      <td>1</td>\n",
       "      <td>John Smith</td>\n",
       "      <td>25</td>\n",
       "    </tr>\n",
       "    <tr>\n",
       "      <th>1</th>\n",
       "      <td>1</td>\n",
       "      <td>2</td>\n",
       "      <td>Jane Doe</td>\n",
       "      <td>30</td>\n",
       "    </tr>\n",
       "    <tr>\n",
       "      <th>2</th>\n",
       "      <td>2</td>\n",
       "      <td>3</td>\n",
       "      <td>Michael Brown</td>\n",
       "      <td>40</td>\n",
       "    </tr>\n",
       "  </tbody>\n",
       "</table>\n",
       "</div>"
      ],
      "text/plain": [
       "   id  customer_id           name  budget\n",
       "0   0            1     John Smith      25\n",
       "1   1            2       Jane Doe      30\n",
       "2   2            3  Michael Brown      40"
      ]
     },
     "execution_count": 24,
     "metadata": {},
     "output_type": "execute_result"
    }
   ],
   "source": [
    "pd.read_sql(\"select * from customers limit 3\", conn)"
   ]
  },
  {
   "cell_type": "markdown",
   "id": "166e2734-681e-4231-867c-aec8dcf54174",
   "metadata": {},
   "source": [
    "* Now, return the set of `dog_brands`, but with an added column displaying the number of customers who can afford each dog food.  Order by the number of customers."
   ]
  },
  {
   "cell_type": "code",
   "execution_count": 29,
   "id": "96cdcc5c-1e72-4bd2-97a4-45d0097121ed",
   "metadata": {},
   "outputs": [
    {
     "data": {
      "text/html": [
       "<div>\n",
       "<style scoped>\n",
       "    .dataframe tbody tr th:only-of-type {\n",
       "        vertical-align: middle;\n",
       "    }\n",
       "\n",
       "    .dataframe tbody tr th {\n",
       "        vertical-align: top;\n",
       "    }\n",
       "\n",
       "    .dataframe thead th {\n",
       "        text-align: right;\n",
       "    }\n",
       "</style>\n",
       "<table border=\"1\" class=\"dataframe\">\n",
       "  <thead>\n",
       "    <tr style=\"text-align: right;\">\n",
       "      <th></th>\n",
       "      <th>id</th>\n",
       "      <th>brand</th>\n",
       "      <th>price</th>\n",
       "      <th>num_customers</th>\n",
       "    </tr>\n",
       "  </thead>\n",
       "  <tbody>\n",
       "    <tr>\n",
       "      <th>0</th>\n",
       "      <td>3</td>\n",
       "      <td>Bark Bites</td>\n",
       "      <td>19</td>\n",
       "      <td>5</td>\n",
       "    </tr>\n",
       "    <tr>\n",
       "      <th>1</th>\n",
       "      <td>0</td>\n",
       "      <td>Acme Dog Food</td>\n",
       "      <td>22</td>\n",
       "      <td>4</td>\n",
       "    </tr>\n",
       "    <tr>\n",
       "      <th>2</th>\n",
       "      <td>1</td>\n",
       "      <td>Puppy Chow</td>\n",
       "      <td>32</td>\n",
       "      <td>2</td>\n",
       "    </tr>\n",
       "    <tr>\n",
       "      <th>3</th>\n",
       "      <td>2</td>\n",
       "      <td>Healthy Paws</td>\n",
       "      <td>38</td>\n",
       "      <td>2</td>\n",
       "    </tr>\n",
       "    <tr>\n",
       "      <th>4</th>\n",
       "      <td>4</td>\n",
       "      <td>Superior K9</td>\n",
       "      <td>45</td>\n",
       "      <td>1</td>\n",
       "    </tr>\n",
       "  </tbody>\n",
       "</table>\n",
       "</div>"
      ],
      "text/plain": [
       "   id          brand  price  num_customers\n",
       "0   3     Bark Bites     19              5\n",
       "1   0  Acme Dog Food     22              4\n",
       "2   1     Puppy Chow     32              2\n",
       "3   2   Healthy Paws     38              2\n",
       "4   4    Superior K9     45              1"
      ]
     },
     "execution_count": 29,
     "metadata": {},
     "output_type": "execute_result"
    }
   ],
   "source": [
    "query = \"\"\"\n",
    "\n",
    "\"\"\"\n",
    "pd.read_sql(query, conn)\n",
    "\n",
    "# \tid\tbrand\tprice\tnum_customers\n",
    "# 0\t3\tBark Bites\t19\t5\n",
    "# 1\t0\tAcme Dog Food\t22\t4\n",
    "# 2\t1\tPuppy Chow\t32\t2\n",
    "# 3\t2\tHealthy Paws\t38\t2\n",
    "# 4\t4\tSuperior K9\t45\t1"
   ]
  },
  {
   "cell_type": "markdown",
   "id": "01954b3f-74c7-4577-84ec-7867cb6e6df9",
   "metadata": {},
   "source": [
    "### Summary"
   ]
  },
  {
   "cell_type": "markdown",
   "id": "9c46bc79-5f7e-4a66-b666-046fbf1d82f3",
   "metadata": {},
   "source": [
    "In this lesson, we reviewed how to perform a correlated subquery.  To perform a correlated subquery, we need an outer table, and a subquery that references that outer table.  \n",
    "\n",
    "The correlated subquery executes for each row in the outer query, for either a filter or calculation. "
   ]
  },
  {
   "cell_type": "markdown",
   "id": "7baac6d9-5548-4a39-8bf0-45bbdc28379c",
   "metadata": {},
   "source": [
    "```sql\n",
    "SELECT employee_name, department, salary,\n",
    "(SELECT MAX(salary) FROM employees e2 WHERE e2.department = e1.department) AS max_sal -- 2. correlated subquery\n",
    "FROM employees e1 -- 1. outer query\n",
    "```"
   ]
  },
  {
   "cell_type": "markdown",
   "id": "d32d4ac5-eea2-4f76-9408-dfe981c807ce",
   "metadata": {},
   "source": [
    "### Resources"
   ]
  },
  {
   "cell_type": "markdown",
   "id": "e22b162a-e77d-47bb-81b5-98dd5c2b6e49",
   "metadata": {},
   "source": [
    "[Correlated subqueries performance](https://blog.jooq.org/correlated-subqueries-are-evil-and-slow-or-are-they/)"
   ]
  }
 ],
 "metadata": {
  "kernelspec": {
   "display_name": "Python 3 (ipykernel)",
   "language": "python",
   "name": "python3"
  },
  "language_info": {
   "codemirror_mode": {
    "name": "ipython",
    "version": 3
   },
   "file_extension": ".py",
   "mimetype": "text/x-python",
   "name": "python",
   "nbconvert_exporter": "python",
   "pygments_lexer": "ipython3",
   "version": "3.9.12"
  }
 },
 "nbformat": 4,
 "nbformat_minor": 5
}
