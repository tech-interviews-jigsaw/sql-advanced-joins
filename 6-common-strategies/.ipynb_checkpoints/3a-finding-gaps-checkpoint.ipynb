{
 "cells": [
  {
   "cell_type": "markdown",
   "id": "46ea1645-03ff-4c1e-80f0-118a81ecd9d0",
   "metadata": {},
   "source": [
    "# Sequence Challenge"
   ]
  },
  {
   "cell_type": "markdown",
   "id": "8eda34e6-6485-47a5-9f66-0420abcc51d0",
   "metadata": {},
   "source": [
    "### Introduction"
   ]
  },
  {
   "cell_type": "markdown",
   "id": "dd18cd3a-cf96-4ddf-97fa-ff21e07898ab",
   "metadata": {},
   "source": [
    "In this lesson, we'll take a classic sql problem of identifying gaps in a sequence of numbers.  Try to solve it using self joins, and then try to see if you can solve it with window functions."
   ]
  },
  {
   "cell_type": "markdown",
   "id": "89d44f47-b0d9-4448-a6ef-03fecf9af1f5",
   "metadata": {},
   "source": [
    "### Loading the data"
   ]
  },
  {
   "cell_type": "code",
   "execution_count": 1,
   "id": "9aaf2661-2d84-4707-a1c7-148ad443e442",
   "metadata": {},
   "outputs": [],
   "source": [
    "import pandas as pd\n",
    "import sqlite3\n",
    "conn = sqlite3.connect('users.db')\n",
    "url = \"./sequence.csv\"\n",
    "df = pd.read_csv(url)"
   ]
  },
  {
   "cell_type": "code",
   "execution_count": 3,
   "id": "56b17f1b-bd3e-41ff-9f44-79544fdaebbe",
   "metadata": {},
   "outputs": [
    {
     "data": {
      "text/plain": [
       "13"
      ]
     },
     "execution_count": 3,
     "metadata": {},
     "output_type": "execute_result"
    }
   ],
   "source": [
    "df.to_sql('numbers', conn, index = True,\n",
    "          index_label = 'id', if_exists = 'replace')"
   ]
  },
  {
   "cell_type": "markdown",
   "id": "1b733efd-91a7-467f-a872-fc06a110c66c",
   "metadata": {},
   "source": [
    "### Performing the query"
   ]
  },
  {
   "cell_type": "markdown",
   "id": "81dc3794-0906-4c81-8832-6cc72f873bfa",
   "metadata": {},
   "source": [
    "If you look at the data, you can see that multiple places where there is no next number.  \n",
    "\n",
    "> This occurs at the values of 2, 10, 15, and 20.  And so our gaps are at values 3, 11, 16, and 21 (well, you can include 21 for now)."
   ]
  },
  {
   "cell_type": "markdown",
   "id": "7789b354-2f25-4e6f-9d48-e54a29a76b07",
   "metadata": {},
   "source": [
    "Start by returning all of the rows where there is not a next number."
   ]
  },
  {
   "cell_type": "code",
   "execution_count": 30,
   "id": "1704286f-edb4-43c4-9374-057b624f0bc8",
   "metadata": {},
   "outputs": [
    {
     "data": {
      "text/html": [
       "<div>\n",
       "<style scoped>\n",
       "    .dataframe tbody tr th:only-of-type {\n",
       "        vertical-align: middle;\n",
       "    }\n",
       "\n",
       "    .dataframe tbody tr th {\n",
       "        vertical-align: top;\n",
       "    }\n",
       "\n",
       "    .dataframe thead th {\n",
       "        text-align: right;\n",
       "    }\n",
       "</style>\n",
       "<table border=\"1\" class=\"dataframe\">\n",
       "  <thead>\n",
       "    <tr style=\"text-align: right;\">\n",
       "      <th></th>\n",
       "      <th>left_num</th>\n",
       "      <th>number</th>\n",
       "    </tr>\n",
       "  </thead>\n",
       "  <tbody>\n",
       "    <tr>\n",
       "      <th>0</th>\n",
       "      <td>3</td>\n",
       "      <td>None</td>\n",
       "    </tr>\n",
       "    <tr>\n",
       "      <th>1</th>\n",
       "      <td>11</td>\n",
       "      <td>None</td>\n",
       "    </tr>\n",
       "    <tr>\n",
       "      <th>2</th>\n",
       "      <td>16</td>\n",
       "      <td>None</td>\n",
       "    </tr>\n",
       "    <tr>\n",
       "      <th>3</th>\n",
       "      <td>21</td>\n",
       "      <td>None</td>\n",
       "    </tr>\n",
       "  </tbody>\n",
       "</table>\n",
       "</div>"
      ],
      "text/plain": [
       "   left_num number\n",
       "0         3   None\n",
       "1        11   None\n",
       "2        16   None\n",
       "3        21   None"
      ]
     },
     "execution_count": 30,
     "metadata": {},
     "output_type": "execute_result"
    }
   ],
   "source": [
    "query = \"\"\"\n",
    "select * from numbers limit 3\n",
    "\"\"\"\n",
    "pd.read_sql(query, conn)\n",
    "\n",
    "query = \"\"\"\n",
    "SELECT l.number + 1 as left_num\n",
    "    ,r.number\n",
    "FROM numbers l\n",
    "LEFT JOIN numbers r ON l.number = r.number - 1 \n",
    "WHERE r.number is null\n",
    "\"\"\"\n",
    "\n",
    "pd.read_sql(query, conn)\n",
    "\n",
    "\n",
    "# \tleft_num\tnumber\n",
    "# 0\t3\tNone\n",
    "# 1\t11\tNone\n",
    "# 2\t16\tNone\n",
    "# 3\t21\tNone"
   ]
  },
  {
   "cell_type": "markdown",
   "id": "3a6d3a33-d503-4775-872c-8d8421bee594",
   "metadata": {},
   "source": [
    "Ok, so currently the last number is also included in our query.  This is not technically a gap.  So now update the query to exclude this last number."
   ]
  },
  {
   "cell_type": "code",
   "execution_count": 31,
   "id": "d71bebdc-053d-4f62-bc30-90b81773aa5d",
   "metadata": {},
   "outputs": [
    {
     "data": {
      "text/html": [
       "<div>\n",
       "<style scoped>\n",
       "    .dataframe tbody tr th:only-of-type {\n",
       "        vertical-align: middle;\n",
       "    }\n",
       "\n",
       "    .dataframe tbody tr th {\n",
       "        vertical-align: top;\n",
       "    }\n",
       "\n",
       "    .dataframe thead th {\n",
       "        text-align: right;\n",
       "    }\n",
       "</style>\n",
       "<table border=\"1\" class=\"dataframe\">\n",
       "  <thead>\n",
       "    <tr style=\"text-align: right;\">\n",
       "      <th></th>\n",
       "      <th>left_num</th>\n",
       "      <th>number</th>\n",
       "    </tr>\n",
       "  </thead>\n",
       "  <tbody>\n",
       "    <tr>\n",
       "      <th>0</th>\n",
       "      <td>3</td>\n",
       "      <td>None</td>\n",
       "    </tr>\n",
       "    <tr>\n",
       "      <th>1</th>\n",
       "      <td>11</td>\n",
       "      <td>None</td>\n",
       "    </tr>\n",
       "    <tr>\n",
       "      <th>2</th>\n",
       "      <td>16</td>\n",
       "      <td>None</td>\n",
       "    </tr>\n",
       "  </tbody>\n",
       "</table>\n",
       "</div>"
      ],
      "text/plain": [
       "   left_num number\n",
       "0         3   None\n",
       "1        11   None\n",
       "2        16   None"
      ]
     },
     "execution_count": 31,
     "metadata": {},
     "output_type": "execute_result"
    }
   ],
   "source": [
    "query = \"\"\"\n",
    "SELECT l.number + 1 as left_num\n",
    "    ,r.number\n",
    "FROM numbers l\n",
    "LEFT JOIN numbers r ON l.number = r.number - 1 \n",
    "WHERE r.number is null and l.number !=\n",
    "(select max(number) from numbers)\n",
    "\"\"\"\n",
    "\n",
    "pd.read_sql(query, conn)\n"
   ]
  },
  {
   "cell_type": "markdown",
   "id": "702a08f4-089d-4407-a8d0-7b4d1a438fa3",
   "metadata": {},
   "source": [
    "### Going further"
   ]
  },
  {
   "cell_type": "markdown",
   "id": "a0add183-2cfb-4030-85e7-38af2c1e7b14",
   "metadata": {},
   "source": [
    "Ok, now if we look at our output above, the numbers we identified only indicate the *start* of the gaps.  For example, our gap starts at the number 2, but it does not stop until 5. "
   ]
  },
  {
   "cell_type": "code",
   "execution_count": 23,
   "id": "043c26e5-b79a-4ccf-9401-79f1f0b23cb4",
   "metadata": {},
   "outputs": [
    {
     "data": {
      "text/html": [
       "<div>\n",
       "<style scoped>\n",
       "    .dataframe tbody tr th:only-of-type {\n",
       "        vertical-align: middle;\n",
       "    }\n",
       "\n",
       "    .dataframe tbody tr th {\n",
       "        vertical-align: top;\n",
       "    }\n",
       "\n",
       "    .dataframe thead th {\n",
       "        text-align: right;\n",
       "    }\n",
       "</style>\n",
       "<table border=\"1\" class=\"dataframe\">\n",
       "  <thead>\n",
       "    <tr style=\"text-align: right;\">\n",
       "      <th></th>\n",
       "      <th>id</th>\n",
       "      <th>number</th>\n",
       "    </tr>\n",
       "  </thead>\n",
       "  <tbody>\n",
       "    <tr>\n",
       "      <th>0</th>\n",
       "      <td>0</td>\n",
       "      <td>1</td>\n",
       "    </tr>\n",
       "    <tr>\n",
       "      <th>1</th>\n",
       "      <td>1</td>\n",
       "      <td>2</td>\n",
       "    </tr>\n",
       "    <tr>\n",
       "      <th>2</th>\n",
       "      <td>2</td>\n",
       "      <td>5</td>\n",
       "    </tr>\n",
       "    <tr>\n",
       "      <th>3</th>\n",
       "      <td>3</td>\n",
       "      <td>6</td>\n",
       "    </tr>\n",
       "    <tr>\n",
       "      <th>4</th>\n",
       "      <td>4</td>\n",
       "      <td>7</td>\n",
       "    </tr>\n",
       "  </tbody>\n",
       "</table>\n",
       "</div>"
      ],
      "text/plain": [
       "   id  number\n",
       "0   0       1\n",
       "1   1       2\n",
       "2   2       5\n",
       "3   3       6\n",
       "4   4       7"
      ]
     },
     "execution_count": 23,
     "metadata": {},
     "output_type": "execute_result"
    }
   ],
   "source": [
    "query = \"\"\"\n",
    "select * from numbers limit 5\n",
    "\"\"\"\n",
    "pd.read_sql(query, conn)"
   ]
  },
  {
   "cell_type": "markdown",
   "id": "e3b2f40b-d0a6-4f19-9f81-ec7f92ecde90",
   "metadata": {},
   "source": [
    "But all our query above did is identify the *beginning* of the gap.  Our gap ends at value 4 (one before the numbers resume)."
   ]
  },
  {
   "cell_type": "markdown",
   "id": "4a601ba3-ee8d-45a5-9fc2-74ebed3e5ddb",
   "metadata": {},
   "source": [
    "**So now** write a *slightly different* query to find the end of a gap.  \n",
    "\n",
    "> **Hint**: This query is pretty similar to the one you wrote above.\n",
    "\n",
    "> **Note**: The minimum number of 1 is excluded, as the first number is not the end of a gap -- it's just the first number."
   ]
  },
  {
   "cell_type": "code",
   "execution_count": 33,
   "id": "f5fc4506-ab80-4670-8596-2d131086e3bf",
   "metadata": {},
   "outputs": [
    {
     "data": {
      "text/html": [
       "<div>\n",
       "<style scoped>\n",
       "    .dataframe tbody tr th:only-of-type {\n",
       "        vertical-align: middle;\n",
       "    }\n",
       "\n",
       "    .dataframe tbody tr th {\n",
       "        vertical-align: top;\n",
       "    }\n",
       "\n",
       "    .dataframe thead th {\n",
       "        text-align: right;\n",
       "    }\n",
       "</style>\n",
       "<table border=\"1\" class=\"dataframe\">\n",
       "  <thead>\n",
       "    <tr style=\"text-align: right;\">\n",
       "      <th></th>\n",
       "      <th>left_num</th>\n",
       "      <th>right_num</th>\n",
       "    </tr>\n",
       "  </thead>\n",
       "  <tbody>\n",
       "    <tr>\n",
       "      <th>0</th>\n",
       "      <td>4</td>\n",
       "      <td>None</td>\n",
       "    </tr>\n",
       "    <tr>\n",
       "      <th>1</th>\n",
       "      <td>11</td>\n",
       "      <td>None</td>\n",
       "    </tr>\n",
       "    <tr>\n",
       "      <th>2</th>\n",
       "      <td>19</td>\n",
       "      <td>None</td>\n",
       "    </tr>\n",
       "  </tbody>\n",
       "</table>\n",
       "</div>"
      ],
      "text/plain": [
       "   left_num right_num\n",
       "0         4      None\n",
       "1        11      None\n",
       "2        19      None"
      ]
     },
     "execution_count": 33,
     "metadata": {},
     "output_type": "execute_result"
    }
   ],
   "source": [
    "query = \"\"\"\n",
    "SELECT l.number -1 left_num\n",
    "    ,r.number right_num\n",
    "FROM numbers l\n",
    "LEFT JOIN numbers r ON l.number = r.number + 1\n",
    "where r.number is null and l.number != (select min(number) from numbers)\n",
    "\"\"\"\n",
    "pd.read_sql(query, conn)\n",
    "\n",
    "# left_num\tright_num\n",
    "# 0\t4\tNone\n",
    "# 1\t11\tNone\n",
    "# 2\t19\tNone"
   ]
  },
  {
   "cell_type": "markdown",
   "id": "ef35f952-2c14-46c7-9e51-b503be69c08d",
   "metadata": {},
   "source": [
    "Ok, so now we have the beginning of a gap and the end of a gap.  So next use our previous queries to return two columns, where each row marks the beginning of the gap and the end of the gap."
   ]
  },
  {
   "cell_type": "markdown",
   "id": "93a6f41c-4c69-427c-890f-2d65caf33bf0",
   "metadata": {},
   "source": [
    "We'll put this all together for you, because it's pretty tricky.  The first part of the code below, is not so bad.  Essentially, we just use CTEs to move over our gap_starts and gap_ends temporary tables.\n",
    "\n",
    "Then in the last query, we select all of the previously calculated gap_starts.  And what's left is to find each start's corresponding end.  To do so, we use a subquery to generate the data for the `gap_end` column.  There, the logic is for each row in the gap start, find the first gap end that is greater or equal to the gap start. \n",
    "\n",
    "So for example, if our gap starts are at 3, 11 and 16, and our gap ends we're at 4, 11 and 16.  Then finding gap end after the gap start pairs each of the values properly."
   ]
  },
  {
   "cell_type": "code",
   "execution_count": 44,
   "id": "9fe23452-6acb-4c83-93ef-1581a6b23de3",
   "metadata": {},
   "outputs": [
    {
     "data": {
      "text/html": [
       "<div>\n",
       "<style scoped>\n",
       "    .dataframe tbody tr th:only-of-type {\n",
       "        vertical-align: middle;\n",
       "    }\n",
       "\n",
       "    .dataframe tbody tr th {\n",
       "        vertical-align: top;\n",
       "    }\n",
       "\n",
       "    .dataframe thead th {\n",
       "        text-align: right;\n",
       "    }\n",
       "</style>\n",
       "<table border=\"1\" class=\"dataframe\">\n",
       "  <thead>\n",
       "    <tr style=\"text-align: right;\">\n",
       "      <th></th>\n",
       "      <th>gap_start</th>\n",
       "      <th>gap_end</th>\n",
       "    </tr>\n",
       "  </thead>\n",
       "  <tbody>\n",
       "    <tr>\n",
       "      <th>0</th>\n",
       "      <td>3</td>\n",
       "      <td>4</td>\n",
       "    </tr>\n",
       "    <tr>\n",
       "      <th>1</th>\n",
       "      <td>11</td>\n",
       "      <td>11</td>\n",
       "    </tr>\n",
       "    <tr>\n",
       "      <th>2</th>\n",
       "      <td>16</td>\n",
       "      <td>19</td>\n",
       "    </tr>\n",
       "  </tbody>\n",
       "</table>\n",
       "</div>"
      ],
      "text/plain": [
       "   gap_start  gap_end\n",
       "0          3        4\n",
       "1         11       11\n",
       "2         16       19"
      ]
     },
     "execution_count": 44,
     "metadata": {},
     "output_type": "execute_result"
    }
   ],
   "source": [
    "query = \"\"\"with gap_starts as\n",
    "(\n",
    "SELECT l.number + 1 as gap_start\n",
    "    ,r.number\n",
    "FROM numbers l\n",
    "LEFT JOIN numbers r ON l.number = r.number - 1 \n",
    "WHERE r.number is null and l.number !=\n",
    "(select max(number) from numbers)\n",
    "),\n",
    "\n",
    "gap_ends as (SELECT l.number -1 gap_end\n",
    "    ,r.number right_num\n",
    "FROM numbers l\n",
    "LEFT JOIN numbers r ON l.number = r.number + 1\n",
    "where r.number is null and l.number != (select min(number) from numbers) \n",
    "               )\n",
    "               \n",
    "SELECT s.gap_start\n",
    "    ,(\n",
    "        SELECT e.gap_end\n",
    "        FROM gap_ends e\n",
    "        WHERE e.gap_end >= s.gap_start\n",
    "        ORDER BY e.gap_end limit 1\n",
    "        ) AS gap_end\n",
    "FROM gap_starts s\n",
    "\"\"\"\n",
    "\n",
    "pd.read_sql(query, conn)\n",
    "# gap_start\tgap_end\n",
    "# 3\t4\n",
    "# 11\t11\n",
    "# 16\t19 "
   ]
  },
  {
   "cell_type": "markdown",
   "id": "969e01e1-7e43-4723-bb9c-c2cb1a7a210c",
   "metadata": {},
   "source": [
    "Try it again.  Ok, so try to do that last part again.  The goal is to execute a subquery for each row, that shows the gap end less than or equal to the gap_start.  Update the second to last row of code to get this working."
   ]
  },
  {
   "cell_type": "code",
   "execution_count": 47,
   "id": "8e591187-1a7f-4013-85be-4849507c7ce5",
   "metadata": {},
   "outputs": [
    {
     "data": {
      "text/html": [
       "<div>\n",
       "<style scoped>\n",
       "    .dataframe tbody tr th:only-of-type {\n",
       "        vertical-align: middle;\n",
       "    }\n",
       "\n",
       "    .dataframe tbody tr th {\n",
       "        vertical-align: top;\n",
       "    }\n",
       "\n",
       "    .dataframe thead th {\n",
       "        text-align: right;\n",
       "    }\n",
       "</style>\n",
       "<table border=\"1\" class=\"dataframe\">\n",
       "  <thead>\n",
       "    <tr style=\"text-align: right;\">\n",
       "      <th></th>\n",
       "      <th>gap_start</th>\n",
       "      <th>gap_end</th>\n",
       "    </tr>\n",
       "  </thead>\n",
       "  <tbody>\n",
       "    <tr>\n",
       "      <th>0</th>\n",
       "      <td>3</td>\n",
       "      <td>4</td>\n",
       "    </tr>\n",
       "    <tr>\n",
       "      <th>1</th>\n",
       "      <td>11</td>\n",
       "      <td>4</td>\n",
       "    </tr>\n",
       "    <tr>\n",
       "      <th>2</th>\n",
       "      <td>16</td>\n",
       "      <td>4</td>\n",
       "    </tr>\n",
       "  </tbody>\n",
       "</table>\n",
       "</div>"
      ],
      "text/plain": [
       "   gap_start  gap_end\n",
       "0          3        4\n",
       "1         11        4\n",
       "2         16        4"
      ]
     },
     "execution_count": 47,
     "metadata": {},
     "output_type": "execute_result"
    }
   ],
   "source": [
    "query = \"\"\"with gap_starts as\n",
    "(\n",
    "SELECT l.number + 1 as gap_start\n",
    "    ,r.number\n",
    "FROM numbers l\n",
    "LEFT JOIN numbers r ON l.number = r.number - 1 \n",
    "WHERE r.number is null and l.number !=\n",
    "(select max(number) from numbers)\n",
    "),\n",
    "\n",
    "gap_ends as (SELECT l.number -1 gap_end\n",
    "    ,r.number right_num\n",
    "FROM numbers l\n",
    "LEFT JOIN numbers r ON l.number = r.number + 1\n",
    "where r.number is null and l.number != (select min(number) from numbers) \n",
    "               )\n",
    "               \n",
    "SELECT s.gap_start, (\n",
    "        SELECT e.gap_end from gap_ends e limit 1) as gap_end\n",
    " FROM gap_starts s\n",
    "\"\"\"\n",
    "\n",
    "pd.read_sql(query, conn)"
   ]
  },
  {
   "cell_type": "markdown",
   "id": "0895f7c1-89d3-4b39-8703-4cfadec5cfbc",
   "metadata": {},
   "source": [
    "Ok, and this time, write the subquery out yourself."
   ]
  },
  {
   "cell_type": "code",
   "execution_count": 48,
   "id": "4a2c650b-c738-4cc3-b442-b8e159c9c74c",
   "metadata": {},
   "outputs": [
    {
     "data": {
      "text/html": [
       "<div>\n",
       "<style scoped>\n",
       "    .dataframe tbody tr th:only-of-type {\n",
       "        vertical-align: middle;\n",
       "    }\n",
       "\n",
       "    .dataframe tbody tr th {\n",
       "        vertical-align: top;\n",
       "    }\n",
       "\n",
       "    .dataframe thead th {\n",
       "        text-align: right;\n",
       "    }\n",
       "</style>\n",
       "<table border=\"1\" class=\"dataframe\">\n",
       "  <thead>\n",
       "    <tr style=\"text-align: right;\">\n",
       "      <th></th>\n",
       "      <th>gap_start</th>\n",
       "      <th>gap_end</th>\n",
       "    </tr>\n",
       "  </thead>\n",
       "  <tbody>\n",
       "    <tr>\n",
       "      <th>0</th>\n",
       "      <td>3</td>\n",
       "      <td>1</td>\n",
       "    </tr>\n",
       "    <tr>\n",
       "      <th>1</th>\n",
       "      <td>11</td>\n",
       "      <td>1</td>\n",
       "    </tr>\n",
       "    <tr>\n",
       "      <th>2</th>\n",
       "      <td>16</td>\n",
       "      <td>1</td>\n",
       "    </tr>\n",
       "  </tbody>\n",
       "</table>\n",
       "</div>"
      ],
      "text/plain": [
       "   gap_start  gap_end\n",
       "0          3        1\n",
       "1         11        1\n",
       "2         16        1"
      ]
     },
     "execution_count": 48,
     "metadata": {},
     "output_type": "execute_result"
    }
   ],
   "source": [
    "query = \"\"\"with gap_starts as\n",
    "(\n",
    "SELECT l.number + 1 as gap_start\n",
    "    ,r.number\n",
    "FROM numbers l\n",
    "LEFT JOIN numbers r ON l.number = r.number - 1 \n",
    "WHERE r.number is null and l.number !=\n",
    "(select max(number) from numbers)\n",
    "),\n",
    "\n",
    "gap_ends as (SELECT l.number -1 gap_end\n",
    "    ,r.number right_num\n",
    "FROM numbers l\n",
    "LEFT JOIN numbers r ON l.number = r.number + 1\n",
    "where r.number is null and l.number != (select min(number) from numbers) \n",
    "               )\n",
    "               \n",
    "SELECT s.gap_start, 1 as gap_end\n",
    " FROM gap_starts s\n",
    "\"\"\"\n",
    "\n",
    "pd.read_sql(query, conn)"
   ]
  },
  {
   "cell_type": "markdown",
   "id": "ab313932-93db-4394-b733-1f481ff0e7c8",
   "metadata": {},
   "source": [
    "### Summary"
   ]
  },
  {
   "cell_type": "markdown",
   "id": "51195f36-5de6-4df7-a191-71e36176026c",
   "metadata": {},
   "source": [
    "Ok, so in this lab, we saw one mechanism for "
   ]
  },
  {
   "cell_type": "code",
   "execution_count": null,
   "id": "6d9532cf-2932-45d4-ae7a-0beb66e69048",
   "metadata": {},
   "outputs": [],
   "source": []
  }
 ],
 "metadata": {
  "kernelspec": {
   "display_name": "Python 3 (ipykernel)",
   "language": "python",
   "name": "python3"
  },
  "language_info": {
   "codemirror_mode": {
    "name": "ipython",
    "version": 3
   },
   "file_extension": ".py",
   "mimetype": "text/x-python",
   "name": "python",
   "nbconvert_exporter": "python",
   "pygments_lexer": "ipython3",
   "version": "3.9.12"
  }
 },
 "nbformat": 4,
 "nbformat_minor": 5
}
