{
 "cells": [
  {
   "cell_type": "markdown",
   "id": "580a3380-71b8-4cf1-9e3d-bcfd644f689c",
   "metadata": {},
   "source": [
    "# Identifying Gaps - With Islands"
   ]
  },
  {
   "cell_type": "markdown",
   "id": "5f721e13-0206-45df-87fb-6c0ad885a7a6",
   "metadata": {},
   "source": [
    "### Introduction"
   ]
  },
  {
   "cell_type": "markdown",
   "id": "0e17d4f1-71e2-4978-8887-e76978027b3a",
   "metadata": {},
   "source": [
    "In this lesson, we'll see yet another way to identify gaps, and that is by using the islands technique."
   ]
  },
  {
   "cell_type": "markdown",
   "id": "4b179833-9cde-4a03-84ef-29871dd94df6",
   "metadata": {},
   "source": [
    "### Result"
   ]
  },
  {
   "cell_type": "markdown",
   "id": "5a634800-38fd-4809-8f87-7dd1ffa0a4ec",
   "metadata": {},
   "source": [
    "Let's start by loading our data."
   ]
  },
  {
   "cell_type": "code",
   "execution_count": 1,
   "id": "76340085-af6c-4133-a8d7-5317eea2ec7c",
   "metadata": {},
   "outputs": [],
   "source": [
    "import pandas as pd\n",
    "import sqlite3\n",
    "conn = sqlite3.connect('users.db')\n",
    "url = \"https://raw.githubusercontent.com/tech-interviews-jigsaw/sql-advanced-joins/main/6-common-strategies/island_sequence.csv\"\n",
    "\n",
    "df = pd.read_csv(url)"
   ]
  },
  {
   "cell_type": "code",
   "execution_count": 2,
   "id": "c0caf93d-6473-4f25-abea-846cf70f0fc3",
   "metadata": {},
   "outputs": [
    {
     "data": {
      "text/plain": [
       "13"
      ]
     },
     "execution_count": 2,
     "metadata": {},
     "output_type": "execute_result"
    }
   ],
   "source": [
    "df.to_sql('numbers', conn, index = True,\n",
    "          index_label = 'id', if_exists = 'replace')"
   ]
  },
  {
   "cell_type": "code",
   "execution_count": 3,
   "id": "df0a44f5-35eb-4178-a42e-6d5efd51ce16",
   "metadata": {},
   "outputs": [
    {
     "data": {
      "text/html": [
       "<div>\n",
       "<style scoped>\n",
       "    .dataframe tbody tr th:only-of-type {\n",
       "        vertical-align: middle;\n",
       "    }\n",
       "\n",
       "    .dataframe tbody tr th {\n",
       "        vertical-align: top;\n",
       "    }\n",
       "\n",
       "    .dataframe thead th {\n",
       "        text-align: right;\n",
       "    }\n",
       "</style>\n",
       "<table border=\"1\" class=\"dataframe\">\n",
       "  <thead>\n",
       "    <tr style=\"text-align: right;\">\n",
       "      <th></th>\n",
       "      <th>id</th>\n",
       "      <th>number</th>\n",
       "    </tr>\n",
       "  </thead>\n",
       "  <tbody>\n",
       "    <tr>\n",
       "      <th>0</th>\n",
       "      <td>0</td>\n",
       "      <td>1</td>\n",
       "    </tr>\n",
       "    <tr>\n",
       "      <th>1</th>\n",
       "      <td>1</td>\n",
       "      <td>2</td>\n",
       "    </tr>\n",
       "    <tr>\n",
       "      <th>2</th>\n",
       "      <td>2</td>\n",
       "      <td>5</td>\n",
       "    </tr>\n",
       "    <tr>\n",
       "      <th>3</th>\n",
       "      <td>3</td>\n",
       "      <td>6</td>\n",
       "    </tr>\n",
       "    <tr>\n",
       "      <th>4</th>\n",
       "      <td>4</td>\n",
       "      <td>7</td>\n",
       "    </tr>\n",
       "    <tr>\n",
       "      <th>5</th>\n",
       "      <td>5</td>\n",
       "      <td>8</td>\n",
       "    </tr>\n",
       "    <tr>\n",
       "      <th>6</th>\n",
       "      <td>6</td>\n",
       "      <td>9</td>\n",
       "    </tr>\n",
       "    <tr>\n",
       "      <th>7</th>\n",
       "      <td>7</td>\n",
       "      <td>10</td>\n",
       "    </tr>\n",
       "    <tr>\n",
       "      <th>8</th>\n",
       "      <td>8</td>\n",
       "      <td>12</td>\n",
       "    </tr>\n",
       "    <tr>\n",
       "      <th>9</th>\n",
       "      <td>9</td>\n",
       "      <td>13</td>\n",
       "    </tr>\n",
       "    <tr>\n",
       "      <th>10</th>\n",
       "      <td>10</td>\n",
       "      <td>14</td>\n",
       "    </tr>\n",
       "    <tr>\n",
       "      <th>11</th>\n",
       "      <td>11</td>\n",
       "      <td>15</td>\n",
       "    </tr>\n",
       "    <tr>\n",
       "      <th>12</th>\n",
       "      <td>12</td>\n",
       "      <td>20</td>\n",
       "    </tr>\n",
       "  </tbody>\n",
       "</table>\n",
       "</div>"
      ],
      "text/plain": [
       "    id  number\n",
       "0    0       1\n",
       "1    1       2\n",
       "2    2       5\n",
       "3    3       6\n",
       "4    4       7\n",
       "5    5       8\n",
       "6    6       9\n",
       "7    7      10\n",
       "8    8      12\n",
       "9    9      13\n",
       "10  10      14\n",
       "11  11      15\n",
       "12  12      20"
      ]
     },
     "execution_count": 3,
     "metadata": {},
     "output_type": "execute_result"
    }
   ],
   "source": [
    "pd.read_sql(\"select * from numbers\", conn)"
   ]
  },
  {
   "cell_type": "markdown",
   "id": "d55602b7-36a2-4b9b-83e0-1d41e9f6416f",
   "metadata": {},
   "source": [
    "Ok, so if you look at the numbers above, you'll see that the numbers table contains 4 islands. We need to create a SQL script to identify them."
   ]
  },
  {
   "cell_type": "markdown",
   "id": "b96b3bab-f184-4fbf-b567-d79b27cbc17f",
   "metadata": {},
   "source": [
    "This is what the end result should look like."
   ]
  },
  {
   "cell_type": "markdown",
   "id": "5cb1f77b-8e7a-4d00-92bd-87af92c41495",
   "metadata": {},
   "source": [
    "<img src=\"./island-answer.png\" width=\"40%\">"
   ]
  },
  {
   "cell_type": "markdown",
   "id": "efbe7991-4bee-4507-9293-efb8b9f03e67",
   "metadata": {},
   "source": [
    "### Comparing to gaps"
   ]
  },
  {
   "cell_type": "markdown",
   "id": "9ef79a80-5754-4faf-8e8c-ab761e590198",
   "metadata": {},
   "source": [
    "Notice that this is different from the gaps problem.  With our gaps problem, there are only 3 gaps in the data.  The gaps are\n",
    "* 2 to 5,\n",
    "* 10 to 12\n",
    "* 15 to 20"
   ]
  },
  {
   "cell_type": "markdown",
   "id": "1779a056-74aa-435b-b8c9-fe3ae0fcbf44",
   "metadata": {},
   "source": [
    "But there are four islands -- because we include that last ending stretch of 20 to 20.  "
   ]
  },
  {
   "cell_type": "markdown",
   "id": "ee514eac-c0c6-4275-a9cc-a97e90407026",
   "metadata": {},
   "source": [
    "So the first island is 1 to 2, because that is where the first set of consecutive numbers is.  Then we have 5 to 10, and so on. \n",
    "\n",
    "We can take a different approach for finding identifying our four islands."
   ]
  },
  {
   "cell_type": "markdown",
   "id": "7cd849ea-7687-485b-9b45-e543b0d90b6d",
   "metadata": {},
   "source": [
    "### Our first steps"
   ]
  },
  {
   "cell_type": "markdown",
   "id": "94350da0-23c7-4467-a37f-bda335091554",
   "metadata": {},
   "source": [
    "The first step is to add a row number column."
   ]
  },
  {
   "cell_type": "code",
   "execution_count": 5,
   "id": "5fce9fe7-05c4-4dba-9541-18bcafeea833",
   "metadata": {},
   "outputs": [
    {
     "data": {
      "text/html": [
       "<div>\n",
       "<style scoped>\n",
       "    .dataframe tbody tr th:only-of-type {\n",
       "        vertical-align: middle;\n",
       "    }\n",
       "\n",
       "    .dataframe tbody tr th {\n",
       "        vertical-align: top;\n",
       "    }\n",
       "\n",
       "    .dataframe thead th {\n",
       "        text-align: right;\n",
       "    }\n",
       "</style>\n",
       "<table border=\"1\" class=\"dataframe\">\n",
       "  <thead>\n",
       "    <tr style=\"text-align: right;\">\n",
       "      <th></th>\n",
       "      <th>number</th>\n",
       "      <th>row_num</th>\n",
       "    </tr>\n",
       "  </thead>\n",
       "  <tbody>\n",
       "    <tr>\n",
       "      <th>0</th>\n",
       "      <td>1</td>\n",
       "      <td>1</td>\n",
       "    </tr>\n",
       "    <tr>\n",
       "      <th>1</th>\n",
       "      <td>2</td>\n",
       "      <td>2</td>\n",
       "    </tr>\n",
       "    <tr>\n",
       "      <th>2</th>\n",
       "      <td>5</td>\n",
       "      <td>3</td>\n",
       "    </tr>\n",
       "    <tr>\n",
       "      <th>3</th>\n",
       "      <td>6</td>\n",
       "      <td>4</td>\n",
       "    </tr>\n",
       "  </tbody>\n",
       "</table>\n",
       "</div>"
      ],
      "text/plain": [
       "   number  row_num\n",
       "0       1        1\n",
       "1       2        2\n",
       "2       5        3\n",
       "3       6        4"
      ]
     },
     "execution_count": 5,
     "metadata": {},
     "output_type": "execute_result"
    }
   ],
   "source": [
    "query = \"\"\"SELECT number\n",
    "    ,row_number() OVER (\n",
    "        ORDER BY number\n",
    "        ) AS row_num\n",
    "FROM numbers limit 4\"\"\"\n",
    "\n",
    "pd.read_sql(query, conn)"
   ]
  },
  {
   "cell_type": "markdown",
   "id": "9d2c8788-fe0b-486e-870c-071ed8099dcd",
   "metadata": {},
   "source": [
    "Now look at what happens if we subtract row number from number."
   ]
  },
  {
   "cell_type": "code",
   "execution_count": 8,
   "id": "47bb888e-c2b5-4473-baac-fc6d5ef665d3",
   "metadata": {},
   "outputs": [
    {
     "data": {
      "text/html": [
       "<div>\n",
       "<style scoped>\n",
       "    .dataframe tbody tr th:only-of-type {\n",
       "        vertical-align: middle;\n",
       "    }\n",
       "\n",
       "    .dataframe tbody tr th {\n",
       "        vertical-align: top;\n",
       "    }\n",
       "\n",
       "    .dataframe thead th {\n",
       "        text-align: right;\n",
       "    }\n",
       "</style>\n",
       "<table border=\"1\" class=\"dataframe\">\n",
       "  <thead>\n",
       "    <tr style=\"text-align: right;\">\n",
       "      <th></th>\n",
       "      <th>number</th>\n",
       "      <th>row_num</th>\n",
       "      <th>diff</th>\n",
       "    </tr>\n",
       "  </thead>\n",
       "  <tbody>\n",
       "    <tr>\n",
       "      <th>0</th>\n",
       "      <td>1</td>\n",
       "      <td>1</td>\n",
       "      <td>0</td>\n",
       "    </tr>\n",
       "    <tr>\n",
       "      <th>1</th>\n",
       "      <td>2</td>\n",
       "      <td>2</td>\n",
       "      <td>0</td>\n",
       "    </tr>\n",
       "    <tr>\n",
       "      <th>2</th>\n",
       "      <td>5</td>\n",
       "      <td>3</td>\n",
       "      <td>2</td>\n",
       "    </tr>\n",
       "    <tr>\n",
       "      <th>3</th>\n",
       "      <td>6</td>\n",
       "      <td>4</td>\n",
       "      <td>2</td>\n",
       "    </tr>\n",
       "    <tr>\n",
       "      <th>4</th>\n",
       "      <td>7</td>\n",
       "      <td>5</td>\n",
       "      <td>2</td>\n",
       "    </tr>\n",
       "    <tr>\n",
       "      <th>5</th>\n",
       "      <td>8</td>\n",
       "      <td>6</td>\n",
       "      <td>2</td>\n",
       "    </tr>\n",
       "  </tbody>\n",
       "</table>\n",
       "</div>"
      ],
      "text/plain": [
       "   number  row_num  diff\n",
       "0       1        1     0\n",
       "1       2        2     0\n",
       "2       5        3     2\n",
       "3       6        4     2\n",
       "4       7        5     2\n",
       "5       8        6     2"
      ]
     },
     "execution_count": 8,
     "metadata": {},
     "output_type": "execute_result"
    }
   ],
   "source": [
    "query = \"\"\"with differences as (\n",
    "SELECT number,\n",
    "row_number() OVER (ORDER BY number) AS row_num \n",
    "FROM numbers)\n",
    "select number, row_num, number - row_num as diff from differences\n",
    "limit 6\"\"\"\n",
    "\n",
    "pd.read_sql(query, conn)"
   ]
  },
  {
   "cell_type": "markdown",
   "id": "2ba4349f-78c7-484c-9a01-1c35a17b9d0e",
   "metadata": {},
   "source": [
    "Ok, so you can see that our data is put into groups -- our islands.  This is because the difference between the number and row number stays constant, unless a gap occurs.  \n",
    "\n",
    "So from our second to third row, the difference value shoots up to 2.  This is because our `number` increases from 2 to 5 instead of the expected 2 to 3 (if it were sequential)."
   ]
  },
  {
   "cell_type": "markdown",
   "id": "59f5faf8-5049-4b5f-b37c-2a1cec60e294",
   "metadata": {},
   "source": [
    "* Next step"
   ]
  },
  {
   "cell_type": "markdown",
   "id": "26797c53-deb8-4f0e-abfc-aba90a8d66cd",
   "metadata": {},
   "source": [
    "So how do we get down to back to identifying the beginning and ending of our islands?\n",
    "\n",
    "Well we can just group by the island number, and find the max and the minimum value."
   ]
  },
  {
   "cell_type": "code",
   "execution_count": 11,
   "id": "130cacbc-6888-4f71-a8e6-25f9849290dd",
   "metadata": {},
   "outputs": [
    {
     "data": {
      "text/html": [
       "<div>\n",
       "<style scoped>\n",
       "    .dataframe tbody tr th:only-of-type {\n",
       "        vertical-align: middle;\n",
       "    }\n",
       "\n",
       "    .dataframe tbody tr th {\n",
       "        vertical-align: top;\n",
       "    }\n",
       "\n",
       "    .dataframe thead th {\n",
       "        text-align: right;\n",
       "    }\n",
       "</style>\n",
       "<table border=\"1\" class=\"dataframe\">\n",
       "  <thead>\n",
       "    <tr style=\"text-align: right;\">\n",
       "      <th></th>\n",
       "      <th>island_start</th>\n",
       "      <th>island_end</th>\n",
       "    </tr>\n",
       "  </thead>\n",
       "  <tbody>\n",
       "    <tr>\n",
       "      <th>0</th>\n",
       "      <td>1</td>\n",
       "      <td>2</td>\n",
       "    </tr>\n",
       "    <tr>\n",
       "      <th>1</th>\n",
       "      <td>5</td>\n",
       "      <td>10</td>\n",
       "    </tr>\n",
       "    <tr>\n",
       "      <th>2</th>\n",
       "      <td>12</td>\n",
       "      <td>15</td>\n",
       "    </tr>\n",
       "    <tr>\n",
       "      <th>3</th>\n",
       "      <td>20</td>\n",
       "      <td>20</td>\n",
       "    </tr>\n",
       "  </tbody>\n",
       "</table>\n",
       "</div>"
      ],
      "text/plain": [
       "   island_start  island_end\n",
       "0             1           2\n",
       "1             5          10\n",
       "2            12          15\n",
       "3            20          20"
      ]
     },
     "execution_count": 11,
     "metadata": {},
     "output_type": "execute_result"
    }
   ],
   "source": [
    "query = \"\"\"with differences as (\n",
    "SELECT number,\n",
    "row_number() OVER (ORDER BY number) AS row_num \n",
    "FROM numbers), \n",
    "islands as(\n",
    "select number, row_num, number - row_num as diff\n",
    "from differences\n",
    ")\n",
    "select min(number) island_start, max(number) island_end from islands group by diff\n",
    "\n",
    "\"\"\"\n",
    "\n",
    "pd.read_sql(query, conn)"
   ]
  },
  {
   "cell_type": "markdown",
   "id": "21e95eaa-b54c-464f-9fab-7c5e547998d2",
   "metadata": {},
   "source": [
    "So by grouping by the beginning and end we have got it covered."
   ]
  }
 ],
 "metadata": {
  "kernelspec": {
   "display_name": "Python 3 (ipykernel)",
   "language": "python",
   "name": "python3"
  },
  "language_info": {
   "codemirror_mode": {
    "name": "ipython",
    "version": 3
   },
   "file_extension": ".py",
   "mimetype": "text/x-python",
   "name": "python",
   "nbconvert_exporter": "python",
   "pygments_lexer": "ipython3",
   "version": "3.9.12"
  }
 },
 "nbformat": 4,
 "nbformat_minor": 5
}
