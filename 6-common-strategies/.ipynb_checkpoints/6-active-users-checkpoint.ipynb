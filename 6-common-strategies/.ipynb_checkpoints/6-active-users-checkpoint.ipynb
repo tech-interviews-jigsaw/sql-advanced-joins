{
 "cells": [
  {
   "cell_type": "markdown",
   "id": "0fab6c27-cfbb-43af-bbf7-c01575757e28",
   "metadata": {},
   "source": [
    "# Active Users Problem"
   ]
  },
  {
   "cell_type": "markdown",
   "id": "1f6d5e1c-3016-4ebf-aab6-a5bd23634248",
   "metadata": {},
   "source": [
    "### Introduction"
   ]
  },
  {
   "cell_type": "markdown",
   "id": "fb606a4b-9f14-4899-923f-9e5d9ec27ccf",
   "metadata": {},
   "source": [
    "In this lesson we'll tackle the leetcode problem of active users."
   ]
  },
  {
   "cell_type": "markdown",
   "id": "f4bb920b-8a93-4cee-80f0-719dd3c3851e",
   "metadata": {},
   "source": [
    "### Loading the Data"
   ]
  },
  {
   "cell_type": "code",
   "execution_count": null,
   "id": "82455ef1-11bb-46c0-9df0-d64ad7d6a639",
   "metadata": {},
   "outputs": [],
   "source": [
    "import pandas as pd\n",
    "import sqlite3\n",
    "conn = sqlite3.connect('users.db')\n",
    "root_url = \"https://raw.githubusercontent.com/tech-interviews-jigsaw/sql-advanced-joins/main/6-common-strategies\"\n",
    "account_url = \"accounts.csv\"\n",
    "login_url = \"logins.csv\"\n",
    "\n",
    "account_df = pd.read_csv(f\"{root_url}/{account_url}.csv)\n",
    "logins_df = pd.read_csv(f\"{root_url}/{login_url}.csv)"
   ]
  },
  {
   "cell_type": "code",
   "execution_count": null,
   "id": "b910c10b-3156-4fc5-a0e2-47991ae03b42",
   "metadata": {},
   "outputs": [],
   "source": [
    "account_df.to_sql('accounts', conn, index = True,\n",
    "          index_label = 'id', if_exists = 'replace')\n",
    "\n",
    "logins_df.to_sql('logins', conn, index = True,\n",
    "          index_label = 'id', if_exists = 'replace')"
   ]
  },
  {
   "cell_type": "markdown",
   "id": "9c31abfe-f639-455f-b09f-7d9a35bde8ca",
   "metadata": {},
   "source": [
    "The result with should get is Jonathan."
   ]
  },
  {
   "cell_type": "markdown",
   "id": "ad4d7d6e-85b2-40e0-8d73-87e85c3c82aa",
   "metadata": {},
   "source": [
    "> 7  | Jonathan"
   ]
  },
  {
   "cell_type": "markdown",
   "id": "a2ed625d-c91b-4824-a5fe-e8b8b9d1b398",
   "metadata": {},
   "source": [
    "* Explanation\n",
    "\n",
    "* User Winston with id = 1 logged in 2 times only in 2 different days, so, Winston is not an active user.\n",
    "\n",
    "* User Jonathan with id = 7 logged in 7 times in 6 different days, five of them were consecutive days, so, Jonathan is an active user."
   ]
  },
  {
   "cell_type": "markdown",
   "id": "1c488b14-854a-40d5-b4d0-a6a8920470f3",
   "metadata": {},
   "source": [
    "Ok, perform the query below."
   ]
  },
  {
   "cell_type": "code",
   "execution_count": null,
   "id": "bb1b0048-a8e2-4be8-8990-4ce5c83410d4",
   "metadata": {},
   "outputs": [],
   "source": []
  },
  {
   "cell_type": "markdown",
   "id": "96730cc3-278b-415c-9e0f-1aa526f9438d",
   "metadata": {},
   "source": [
    "### Resources\n",
    "\n",
    "[Active Users leetcode](https://leetcode.com/problems/active-users/)"
   ]
  },
  {
   "cell_type": "code",
   "execution_count": null,
   "id": "617f7384-4760-407e-9758-6a1137c6c134",
   "metadata": {},
   "outputs": [],
   "source": []
  }
 ],
 "metadata": {
  "kernelspec": {
   "display_name": "Python 3 (ipykernel)",
   "language": "python",
   "name": "python3"
  },
  "language_info": {
   "codemirror_mode": {
    "name": "ipython",
    "version": 3
   },
   "file_extension": ".py",
   "mimetype": "text/x-python",
   "name": "python",
   "nbconvert_exporter": "python",
   "pygments_lexer": "ipython3",
   "version": "3.9.12"
  }
 },
 "nbformat": 4,
 "nbformat_minor": 5
}
