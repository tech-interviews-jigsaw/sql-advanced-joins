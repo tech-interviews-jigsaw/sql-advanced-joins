{
 "cells": [
  {
   "cell_type": "markdown",
   "id": "79004d4d-1d15-4ba3-af22-734614913627",
   "metadata": {},
   "source": [
    "# Custom Sorting"
   ]
  },
  {
   "cell_type": "markdown",
   "id": "2ffd499f-6100-4408-af52-6d09f8bf9fdc",
   "metadata": {},
   "source": [
    "* https://www.codelabs365.com/sql-cookbook/sql-server/tsql-order-by-case-when-statement-with-multiple-columns/"
   ]
  },
  {
   "cell_type": "code",
   "execution_count": null,
   "id": "1cf6c846-3ff7-4514-afe9-db258b5514bd",
   "metadata": {},
   "outputs": [],
   "source": []
  }
 ],
 "metadata": {
  "kernelspec": {
   "display_name": "Python 3 (ipykernel)",
   "language": "python",
   "name": "python3"
  },
  "language_info": {
   "codemirror_mode": {
    "name": "ipython",
    "version": 3
   },
   "file_extension": ".py",
   "mimetype": "text/x-python",
   "name": "python",
   "nbconvert_exporter": "python",
   "pygments_lexer": "ipython3",
   "version": "3.9.12"
  }
 },
 "nbformat": 4,
 "nbformat_minor": 5
}
