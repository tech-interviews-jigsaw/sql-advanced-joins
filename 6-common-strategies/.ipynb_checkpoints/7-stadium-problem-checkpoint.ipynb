{
 "cells": [
  {
   "cell_type": "markdown",
   "id": "22323607-6ba1-4647-86b3-1c77b267f9e2",
   "metadata": {},
   "source": [
    "[Stadium Problem](https://leetcode.com/problems/human-traffic-of-stadium/description/)"
   ]
  },
  {
   "cell_type": "markdown",
   "id": "87af76cf-f440-4b05-9f06-3364b0438535",
   "metadata": {},
   "source": [
    "Solution\n",
    "\n",
    "https://binhhoang.io/blog/gaps-and-islands/#solving-gaps--islands-problem"
   ]
  },
  {
   "cell_type": "markdown",
   "id": "5b13f895-8723-42fb-b42c-d1841b7beedf",
   "metadata": {},
   "source": []
  },
  {
   "cell_type": "code",
   "execution_count": null,
   "id": "cf06af09-d179-455c-8d16-8739c85f74fa",
   "metadata": {},
   "outputs": [],
   "source": []
  }
 ],
 "metadata": {
  "kernelspec": {
   "display_name": "Python 3 (ipykernel)",
   "language": "python",
   "name": "python3"
  },
  "language_info": {
   "codemirror_mode": {
    "name": "ipython",
    "version": 3
   },
   "file_extension": ".py",
   "mimetype": "text/x-python",
   "name": "python",
   "nbconvert_exporter": "python",
   "pygments_lexer": "ipython3",
   "version": "3.9.12"
  }
 },
 "nbformat": 4,
 "nbformat_minor": 5
}
