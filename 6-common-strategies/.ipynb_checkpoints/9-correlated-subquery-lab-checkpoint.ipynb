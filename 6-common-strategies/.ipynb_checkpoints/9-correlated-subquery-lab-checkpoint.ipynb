{
 "cells": [
  {
   "cell_type": "code",
   "execution_count": null,
   "id": "818cc7cc-0156-4186-9b98-4e8007e11adf",
   "metadata": {},
   "outputs": [],
   "source": []
  },
  {
   "cell_type": "markdown",
   "id": "95a8f6ea-8607-4d3c-8764-9e53bb3cc3f8",
   "metadata": {},
   "source": [
    "[running_total](https://www.codelabs365.com/sql-cookbook/sql-server/tsql-calculate-running-total-with-correlated-subquery/)"
   ]
  },
  {
   "cell_type": "code",
   "execution_count": null,
   "id": "9969098f-e7ed-4147-b166-b7c032ff01b1",
   "metadata": {},
   "outputs": [],
   "source": []
  }
 ],
 "metadata": {
  "kernelspec": {
   "display_name": "Python 3 (ipykernel)",
   "language": "python",
   "name": "python3"
  },
  "language_info": {
   "codemirror_mode": {
    "name": "ipython",
    "version": 3
   },
   "file_extension": ".py",
   "mimetype": "text/x-python",
   "name": "python",
   "nbconvert_exporter": "python",
   "pygments_lexer": "ipython3",
   "version": "3.9.12"
  }
 },
 "nbformat": 4,
 "nbformat_minor": 5
}
