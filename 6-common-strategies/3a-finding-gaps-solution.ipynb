{
 "cells": [
  {
   "cell_type": "markdown",
   "id": "46ea1645-03ff-4c1e-80f0-118a81ecd9d0",
   "metadata": {},
   "source": [
    "# Finding Gaps Part 2 Challenge"
   ]
  },
  {
   "cell_type": "markdown",
   "id": "8eda34e6-6485-47a5-9f66-0420abcc51d0",
   "metadata": {},
   "source": [
    "### Introduction"
   ]
  },
  {
   "cell_type": "markdown",
   "id": "dd18cd3a-cf96-4ddf-97fa-ff21e07898ab",
   "metadata": {},
   "source": [
    "In this lesson, we'll take a classic sql problem of identifying gaps in a sequence of numbers.  The difference from before -- is that this time our gap size can be larger than one digit.  And we'll need to find the start and end of each gap.\n",
    "\n",
    "Try to solve it using self joins.  "
   ]
  },
  {
   "cell_type": "markdown",
   "id": "89d44f47-b0d9-4448-a6ef-03fecf9af1f5",
   "metadata": {},
   "source": [
    "### Loading the data"
   ]
  },
  {
   "cell_type": "code",
   "execution_count": 6,
   "id": "9aaf2661-2d84-4707-a1c7-148ad443e442",
   "metadata": {},
   "outputs": [],
   "source": [
    "import pandas as pd\n",
    "import sqlite3\n",
    "conn = sqlite3.connect('users.db')\n",
    "url = \"https://raw.githubusercontent.com/tech-interviews-jigsaw/sql-advanced-joins/main/6-common-strategies/sequence.csv\"\n",
    "df = pd.read_csv(url)"
   ]
  },
  {
   "cell_type": "code",
   "execution_count": 7,
   "id": "56b17f1b-bd3e-41ff-9f44-79544fdaebbe",
   "metadata": {},
   "outputs": [
    {
     "data": {
      "text/plain": [
       "13"
      ]
     },
     "execution_count": 7,
     "metadata": {},
     "output_type": "execute_result"
    }
   ],
   "source": [
    "df.to_sql('numbers', conn, index = True,\n",
    "          index_label = 'id', if_exists = 'replace')"
   ]
  },
  {
   "cell_type": "markdown",
   "id": "1b733efd-91a7-467f-a872-fc06a110c66c",
   "metadata": {},
   "source": [
    "### Viewing our data"
   ]
  },
  {
   "cell_type": "markdown",
   "id": "496db601-6e03-469c-b1fc-98225b390ce4",
   "metadata": {},
   "source": [
    "Our data has three gaps with a beginning and end of the following."
   ]
  },
  {
   "cell_type": "markdown",
   "id": "45c46f7c-ff63-456c-a7b0-81d4db8db047",
   "metadata": {},
   "source": [
    "<img src=\"./end-result.png\" width=\"30%\">"
   ]
  },
  {
   "cell_type": "markdown",
   "id": "509214c6-88b8-4d32-b106-9fe92b151c68",
   "metadata": {},
   "source": [
    "You can see this if we take a look at the numbers."
   ]
  },
  {
   "cell_type": "code",
   "execution_count": 8,
   "id": "65f2efc4-6f50-49b7-84f9-142eeba988e7",
   "metadata": {},
   "outputs": [
    {
     "data": {
      "text/html": [
       "<div>\n",
       "<style scoped>\n",
       "    .dataframe tbody tr th:only-of-type {\n",
       "        vertical-align: middle;\n",
       "    }\n",
       "\n",
       "    .dataframe tbody tr th {\n",
       "        vertical-align: top;\n",
       "    }\n",
       "\n",
       "    .dataframe thead th {\n",
       "        text-align: right;\n",
       "    }\n",
       "</style>\n",
       "<table border=\"1\" class=\"dataframe\">\n",
       "  <thead>\n",
       "    <tr style=\"text-align: right;\">\n",
       "      <th></th>\n",
       "      <th>id</th>\n",
       "      <th>number</th>\n",
       "    </tr>\n",
       "  </thead>\n",
       "  <tbody>\n",
       "    <tr>\n",
       "      <th>0</th>\n",
       "      <td>0</td>\n",
       "      <td>1</td>\n",
       "    </tr>\n",
       "    <tr>\n",
       "      <th>1</th>\n",
       "      <td>1</td>\n",
       "      <td>2</td>\n",
       "    </tr>\n",
       "    <tr>\n",
       "      <th>2</th>\n",
       "      <td>2</td>\n",
       "      <td>5</td>\n",
       "    </tr>\n",
       "    <tr>\n",
       "      <th>3</th>\n",
       "      <td>3</td>\n",
       "      <td>6</td>\n",
       "    </tr>\n",
       "    <tr>\n",
       "      <th>4</th>\n",
       "      <td>4</td>\n",
       "      <td>7</td>\n",
       "    </tr>\n",
       "    <tr>\n",
       "      <th>5</th>\n",
       "      <td>5</td>\n",
       "      <td>8</td>\n",
       "    </tr>\n",
       "    <tr>\n",
       "      <th>6</th>\n",
       "      <td>6</td>\n",
       "      <td>9</td>\n",
       "    </tr>\n",
       "    <tr>\n",
       "      <th>7</th>\n",
       "      <td>7</td>\n",
       "      <td>10</td>\n",
       "    </tr>\n",
       "    <tr>\n",
       "      <th>8</th>\n",
       "      <td>8</td>\n",
       "      <td>12</td>\n",
       "    </tr>\n",
       "    <tr>\n",
       "      <th>9</th>\n",
       "      <td>9</td>\n",
       "      <td>13</td>\n",
       "    </tr>\n",
       "    <tr>\n",
       "      <th>10</th>\n",
       "      <td>10</td>\n",
       "      <td>14</td>\n",
       "    </tr>\n",
       "    <tr>\n",
       "      <th>11</th>\n",
       "      <td>11</td>\n",
       "      <td>15</td>\n",
       "    </tr>\n",
       "    <tr>\n",
       "      <th>12</th>\n",
       "      <td>12</td>\n",
       "      <td>20</td>\n",
       "    </tr>\n",
       "  </tbody>\n",
       "</table>\n",
       "</div>"
      ],
      "text/plain": [
       "    id  number\n",
       "0    0       1\n",
       "1    1       2\n",
       "2    2       5\n",
       "3    3       6\n",
       "4    4       7\n",
       "5    5       8\n",
       "6    6       9\n",
       "7    7      10\n",
       "8    8      12\n",
       "9    9      13\n",
       "10  10      14\n",
       "11  11      15\n",
       "12  12      20"
      ]
     },
     "execution_count": 8,
     "metadata": {},
     "output_type": "execute_result"
    }
   ],
   "source": [
    "pd.read_sql(\"select * from numbers\", conn)"
   ]
  },
  {
   "cell_type": "markdown",
   "id": "526a2b13-4389-4896-a64d-62e3a972db96",
   "metadata": {},
   "source": [
    "And again this is the result that we want."
   ]
  },
  {
   "cell_type": "markdown",
   "id": "764c0caa-f4af-4725-a590-7889a56bf170",
   "metadata": {},
   "source": [
    "<img src=\"./end-result.png\" width=\"40%\">"
   ]
  },
  {
   "cell_type": "markdown",
   "id": "c7559624-fd1a-43e5-8165-08d827873963",
   "metadata": {},
   "source": [
    "### Walking through all of the hints"
   ]
  },
  {
   "cell_type": "markdown",
   "id": "7789b354-2f25-4e6f-9d48-e54a29a76b07",
   "metadata": {},
   "source": [
    "1. Start by returning a list of all of the gap starts."
   ]
  },
  {
   "cell_type": "code",
   "execution_count": 11,
   "id": "1704286f-edb4-43c4-9374-057b624f0bc8",
   "metadata": {},
   "outputs": [
    {
     "data": {
      "text/html": [
       "<div>\n",
       "<style scoped>\n",
       "    .dataframe tbody tr th:only-of-type {\n",
       "        vertical-align: middle;\n",
       "    }\n",
       "\n",
       "    .dataframe tbody tr th {\n",
       "        vertical-align: top;\n",
       "    }\n",
       "\n",
       "    .dataframe thead th {\n",
       "        text-align: right;\n",
       "    }\n",
       "</style>\n",
       "<table border=\"1\" class=\"dataframe\">\n",
       "  <thead>\n",
       "    <tr style=\"text-align: right;\">\n",
       "      <th></th>\n",
       "      <th>left_num</th>\n",
       "      <th>number</th>\n",
       "    </tr>\n",
       "  </thead>\n",
       "  <tbody>\n",
       "    <tr>\n",
       "      <th>0</th>\n",
       "      <td>3</td>\n",
       "      <td>None</td>\n",
       "    </tr>\n",
       "    <tr>\n",
       "      <th>1</th>\n",
       "      <td>11</td>\n",
       "      <td>None</td>\n",
       "    </tr>\n",
       "    <tr>\n",
       "      <th>2</th>\n",
       "      <td>16</td>\n",
       "      <td>None</td>\n",
       "    </tr>\n",
       "  </tbody>\n",
       "</table>\n",
       "</div>"
      ],
      "text/plain": [
       "   left_num number\n",
       "0         3   None\n",
       "1        11   None\n",
       "2        16   None"
      ]
     },
     "execution_count": 11,
     "metadata": {},
     "output_type": "execute_result"
    }
   ],
   "source": [
    "query = \"\"\"\n",
    "SELECT l.number + 1 as left_num\n",
    "    ,r.number\n",
    "FROM numbers l\n",
    "LEFT JOIN numbers r ON l.number = r.number - 1 \n",
    "WHERE r.number is null and l.number !=\n",
    "(select max(number) from numbers)\n",
    "\"\"\"\n",
    "\n",
    "pd.read_sql(query, conn)\n",
    "\n",
    "\n",
    "# \tleft_num\tnumber\n",
    "# 0\t3\tNone\n",
    "# 1\t11\tNone\n",
    "# 2\t16\tNone"
   ]
  },
  {
   "cell_type": "markdown",
   "id": "f27b806b-d12f-421d-8970-c30d10227a33",
   "metadata": {},
   "source": [
    "Ok, so ideally we already a good part of the way there.  Remember this is what we're building to."
   ]
  },
  {
   "cell_type": "markdown",
   "id": "cba44043-f500-4323-a66e-96d8d08d0d85",
   "metadata": {},
   "source": [
    "<img src=\"./end-result.png\" width=\"40%\">"
   ]
  },
  {
   "cell_type": "markdown",
   "id": "ca25095c-ee4b-4333-af74-782c7b03ef7d",
   "metadata": {},
   "source": [
    "* Now write a similar query to identify the end of the gaps."
   ]
  },
  {
   "cell_type": "code",
   "execution_count": 15,
   "id": "f5fc4506-ab80-4670-8596-2d131086e3bf",
   "metadata": {},
   "outputs": [
    {
     "data": {
      "text/html": [
       "<div>\n",
       "<style scoped>\n",
       "    .dataframe tbody tr th:only-of-type {\n",
       "        vertical-align: middle;\n",
       "    }\n",
       "\n",
       "    .dataframe tbody tr th {\n",
       "        vertical-align: top;\n",
       "    }\n",
       "\n",
       "    .dataframe thead th {\n",
       "        text-align: right;\n",
       "    }\n",
       "</style>\n",
       "<table border=\"1\" class=\"dataframe\">\n",
       "  <thead>\n",
       "    <tr style=\"text-align: right;\">\n",
       "      <th></th>\n",
       "      <th>gap_end</th>\n",
       "      <th>right_num</th>\n",
       "    </tr>\n",
       "  </thead>\n",
       "  <tbody>\n",
       "    <tr>\n",
       "      <th>0</th>\n",
       "      <td>4</td>\n",
       "      <td>None</td>\n",
       "    </tr>\n",
       "    <tr>\n",
       "      <th>1</th>\n",
       "      <td>11</td>\n",
       "      <td>None</td>\n",
       "    </tr>\n",
       "    <tr>\n",
       "      <th>2</th>\n",
       "      <td>19</td>\n",
       "      <td>None</td>\n",
       "    </tr>\n",
       "  </tbody>\n",
       "</table>\n",
       "</div>"
      ],
      "text/plain": [
       "   gap_end right_num\n",
       "0        4      None\n",
       "1       11      None\n",
       "2       19      None"
      ]
     },
     "execution_count": 15,
     "metadata": {},
     "output_type": "execute_result"
    }
   ],
   "source": [
    "query = \"\"\"\n",
    "SELECT l.number -1 gap_end\n",
    "    ,r.number right_num\n",
    "FROM numbers l\n",
    "LEFT JOIN numbers r ON l.number = r.number + 1\n",
    "where r.number is null and l.number != (select min(number) from numbers)\n",
    "\"\"\"\n",
    "pd.read_sql(query, conn)\n",
    "\n",
    "# \tgap_end\tright_num\n",
    "# 0\t4\tNone\n",
    "# 1\t11\tNone\n",
    "# 2\t19\tNone"
   ]
  },
  {
   "cell_type": "markdown",
   "id": "ef35f952-2c14-46c7-9e51-b503be69c08d",
   "metadata": {},
   "source": [
    "Ok, so now we have the beginning of a gap and the end of a gap.  So next use our previous queries to return two columns, where each row marks the beginning of the gap and the end of the gap."
   ]
  },
  {
   "cell_type": "markdown",
   "id": "97ff77f6-cbb4-450b-a00b-636deb2bee6d",
   "metadata": {},
   "source": [
    "* Combining the tables"
   ]
  },
  {
   "cell_type": "markdown",
   "id": "f17d0b0c-bc67-4bb2-a402-bdcdad58d03a",
   "metadata": {},
   "source": [
    "Ok, so now use two CTEs to be able to reference the two queries above.  \n",
    "\n",
    "And then for the end result use a correlated subquery. Our first CTE returning the `gap_starts` should be the outer query.  \n"
   ]
  },
  {
   "cell_type": "code",
   "execution_count": 44,
   "id": "9fe23452-6acb-4c83-93ef-1581a6b23de3",
   "metadata": {},
   "outputs": [
    {
     "data": {
      "text/html": [
       "<div>\n",
       "<style scoped>\n",
       "    .dataframe tbody tr th:only-of-type {\n",
       "        vertical-align: middle;\n",
       "    }\n",
       "\n",
       "    .dataframe tbody tr th {\n",
       "        vertical-align: top;\n",
       "    }\n",
       "\n",
       "    .dataframe thead th {\n",
       "        text-align: right;\n",
       "    }\n",
       "</style>\n",
       "<table border=\"1\" class=\"dataframe\">\n",
       "  <thead>\n",
       "    <tr style=\"text-align: right;\">\n",
       "      <th></th>\n",
       "      <th>gap_start</th>\n",
       "      <th>gap_end</th>\n",
       "    </tr>\n",
       "  </thead>\n",
       "  <tbody>\n",
       "    <tr>\n",
       "      <th>0</th>\n",
       "      <td>3</td>\n",
       "      <td>4</td>\n",
       "    </tr>\n",
       "    <tr>\n",
       "      <th>1</th>\n",
       "      <td>11</td>\n",
       "      <td>11</td>\n",
       "    </tr>\n",
       "    <tr>\n",
       "      <th>2</th>\n",
       "      <td>16</td>\n",
       "      <td>19</td>\n",
       "    </tr>\n",
       "  </tbody>\n",
       "</table>\n",
       "</div>"
      ],
      "text/plain": [
       "   gap_start  gap_end\n",
       "0          3        4\n",
       "1         11       11\n",
       "2         16       19"
      ]
     },
     "execution_count": 44,
     "metadata": {},
     "output_type": "execute_result"
    }
   ],
   "source": [
    "query = \"\"\"with gap_starts as\n",
    "(\n",
    "SELECT l.number + 1 as gap_start\n",
    "    ,r.number\n",
    "FROM numbers l\n",
    "LEFT JOIN numbers r ON l.number = r.number - 1 \n",
    "WHERE r.number is null and l.number !=\n",
    "(select max(number) from numbers)\n",
    "),\n",
    "\n",
    "gap_ends as (SELECT l.number -1 gap_end\n",
    "    ,r.number right_num\n",
    "FROM numbers l\n",
    "LEFT JOIN numbers r ON l.number = r.number + 1\n",
    "where r.number is null and l.number != (select min(number) from numbers) \n",
    "               )\n",
    "               \n",
    "SELECT s.gap_start\n",
    "    ,(\n",
    "        SELECT e.gap_end\n",
    "        FROM gap_ends e\n",
    "        WHERE e.gap_end >= s.gap_start\n",
    "        ORDER BY e.gap_end limit 1\n",
    "        ) AS gap_end --- 2. correlated subquery\n",
    "FROM gap_starts s --- 1. outer query\n",
    "\"\"\"\n",
    "\n",
    "pd.read_sql(query, conn)\n",
    "# gap_start\tgap_end\n",
    "# 3\t4\n",
    "# 11\t11\n",
    "# 16\t19 "
   ]
  },
  {
   "cell_type": "markdown",
   "id": "969e01e1-7e43-4723-bb9c-c2cb1a7a210c",
   "metadata": {},
   "source": [
    "Try it again.  Ok, so try to do that last part again.  The goal is to execute a subquery for each row, that shows the gap end less than or equal to the gap_start.  Update the second to last row of code to get this working."
   ]
  },
  {
   "cell_type": "code",
   "execution_count": 47,
   "id": "8e591187-1a7f-4013-85be-4849507c7ce5",
   "metadata": {},
   "outputs": [
    {
     "data": {
      "text/html": [
       "<div>\n",
       "<style scoped>\n",
       "    .dataframe tbody tr th:only-of-type {\n",
       "        vertical-align: middle;\n",
       "    }\n",
       "\n",
       "    .dataframe tbody tr th {\n",
       "        vertical-align: top;\n",
       "    }\n",
       "\n",
       "    .dataframe thead th {\n",
       "        text-align: right;\n",
       "    }\n",
       "</style>\n",
       "<table border=\"1\" class=\"dataframe\">\n",
       "  <thead>\n",
       "    <tr style=\"text-align: right;\">\n",
       "      <th></th>\n",
       "      <th>gap_start</th>\n",
       "      <th>gap_end</th>\n",
       "    </tr>\n",
       "  </thead>\n",
       "  <tbody>\n",
       "    <tr>\n",
       "      <th>0</th>\n",
       "      <td>3</td>\n",
       "      <td>4</td>\n",
       "    </tr>\n",
       "    <tr>\n",
       "      <th>1</th>\n",
       "      <td>11</td>\n",
       "      <td>4</td>\n",
       "    </tr>\n",
       "    <tr>\n",
       "      <th>2</th>\n",
       "      <td>16</td>\n",
       "      <td>4</td>\n",
       "    </tr>\n",
       "  </tbody>\n",
       "</table>\n",
       "</div>"
      ],
      "text/plain": [
       "   gap_start  gap_end\n",
       "0          3        4\n",
       "1         11        4\n",
       "2         16        4"
      ]
     },
     "execution_count": 47,
     "metadata": {},
     "output_type": "execute_result"
    }
   ],
   "source": [
    "query = \"\"\"with gap_starts as\n",
    "(\n",
    "SELECT l.number + 1 as gap_start\n",
    "    ,r.number\n",
    "FROM numbers l\n",
    "LEFT JOIN numbers r ON l.number = r.number - 1 \n",
    "WHERE r.number is null and l.number !=\n",
    "(select max(number) from numbers)\n",
    "),\n",
    "\n",
    "gap_ends as (SELECT l.number -1 gap_end\n",
    "    ,r.number right_num\n",
    "FROM numbers l\n",
    "LEFT JOIN numbers r ON l.number = r.number + 1\n",
    "where r.number is null and l.number != (select min(number) from numbers) \n",
    "               )\n",
    "               \n",
    "SELECT s.gap_start, (\n",
    "        SELECT e.gap_end from gap_ends e limit 1) as gap_end\n",
    " FROM gap_starts s\n",
    "\"\"\"\n",
    "\n",
    "pd.read_sql(query, conn)"
   ]
  },
  {
   "cell_type": "markdown",
   "id": "0895f7c1-89d3-4b39-8703-4cfadec5cfbc",
   "metadata": {},
   "source": [
    "Ok, and this time, try it again filling out essentially the entire correlated subquery yourself."
   ]
  },
  {
   "cell_type": "code",
   "execution_count": 48,
   "id": "4a2c650b-c738-4cc3-b442-b8e159c9c74c",
   "metadata": {},
   "outputs": [
    {
     "data": {
      "text/html": [
       "<div>\n",
       "<style scoped>\n",
       "    .dataframe tbody tr th:only-of-type {\n",
       "        vertical-align: middle;\n",
       "    }\n",
       "\n",
       "    .dataframe tbody tr th {\n",
       "        vertical-align: top;\n",
       "    }\n",
       "\n",
       "    .dataframe thead th {\n",
       "        text-align: right;\n",
       "    }\n",
       "</style>\n",
       "<table border=\"1\" class=\"dataframe\">\n",
       "  <thead>\n",
       "    <tr style=\"text-align: right;\">\n",
       "      <th></th>\n",
       "      <th>gap_start</th>\n",
       "      <th>gap_end</th>\n",
       "    </tr>\n",
       "  </thead>\n",
       "  <tbody>\n",
       "    <tr>\n",
       "      <th>0</th>\n",
       "      <td>3</td>\n",
       "      <td>1</td>\n",
       "    </tr>\n",
       "    <tr>\n",
       "      <th>1</th>\n",
       "      <td>11</td>\n",
       "      <td>1</td>\n",
       "    </tr>\n",
       "    <tr>\n",
       "      <th>2</th>\n",
       "      <td>16</td>\n",
       "      <td>1</td>\n",
       "    </tr>\n",
       "  </tbody>\n",
       "</table>\n",
       "</div>"
      ],
      "text/plain": [
       "   gap_start  gap_end\n",
       "0          3        1\n",
       "1         11        1\n",
       "2         16        1"
      ]
     },
     "execution_count": 48,
     "metadata": {},
     "output_type": "execute_result"
    }
   ],
   "source": [
    "query = \"\"\"with gap_starts as\n",
    "(\n",
    "SELECT l.number + 1 as gap_start\n",
    "    ,r.number\n",
    "FROM numbers l\n",
    "LEFT JOIN numbers r ON l.number = r.number - 1 \n",
    "WHERE r.number is null and l.number !=\n",
    "(select max(number) from numbers)\n",
    "),\n",
    "\n",
    "gap_ends as (SELECT l.number -1 gap_end\n",
    "    ,r.number right_num\n",
    "FROM numbers l\n",
    "LEFT JOIN numbers r ON l.number = r.number + 1\n",
    "where r.number is null and l.number != (select min(number) from numbers) \n",
    "               )\n",
    "               \n",
    "SELECT s.gap_start, 1 as gap_end\n",
    " FROM gap_starts s\n",
    "\"\"\"\n",
    "\n",
    "pd.read_sql(query, conn)"
   ]
  },
  {
   "cell_type": "markdown",
   "id": "ab313932-93db-4394-b733-1f481ff0e7c8",
   "metadata": {},
   "source": [
    "### Summary"
   ]
  },
  {
   "cell_type": "markdown",
   "id": "51195f36-5de6-4df7-a191-71e36176026c",
   "metadata": {},
   "source": [
    "Ok, so in this lab, we saw one mechanism for "
   ]
  },
  {
   "cell_type": "code",
   "execution_count": null,
   "id": "6d9532cf-2932-45d4-ae7a-0beb66e69048",
   "metadata": {},
   "outputs": [],
   "source": []
  }
 ],
 "metadata": {
  "kernelspec": {
   "display_name": "Python 3 (ipykernel)",
   "language": "python",
   "name": "python3"
  },
  "language_info": {
   "codemirror_mode": {
    "name": "ipython",
    "version": 3
   },
   "file_extension": ".py",
   "mimetype": "text/x-python",
   "name": "python",
   "nbconvert_exporter": "python",
   "pygments_lexer": "ipython3",
   "version": "3.9.12"
  }
 },
 "nbformat": 4,
 "nbformat_minor": 5
}
