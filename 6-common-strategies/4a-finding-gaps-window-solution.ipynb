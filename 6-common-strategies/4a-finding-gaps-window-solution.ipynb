{
 "cells": [
  {
   "cell_type": "markdown",
   "id": "46ea1645-03ff-4c1e-80f0-118a81ecd9d0",
   "metadata": {},
   "source": [
    "# Finding Gaps - Window Functions"
   ]
  },
  {
   "cell_type": "markdown",
   "id": "8eda34e6-6485-47a5-9f66-0420abcc51d0",
   "metadata": {},
   "source": [
    "### Introduction"
   ]
  },
  {
   "cell_type": "markdown",
   "id": "dd18cd3a-cf96-4ddf-97fa-ff21e07898ab",
   "metadata": {},
   "source": [
    "Now let's take the same problem of finding gaps, but this time let's work through using window functions to produce our result."
   ]
  },
  {
   "cell_type": "markdown",
   "id": "89d44f47-b0d9-4448-a6ef-03fecf9af1f5",
   "metadata": {},
   "source": [
    "### Loading the data"
   ]
  },
  {
   "cell_type": "code",
   "execution_count": 5,
   "id": "9aaf2661-2d84-4707-a1c7-148ad443e442",
   "metadata": {},
   "outputs": [],
   "source": [
    "import pandas as pd\n",
    "import sqlite3\n",
    "conn = sqlite3.connect('users.db')\n",
    "url = \"https://raw.githubusercontent.com/tech-interviews-jigsaw/sql-advanced-joins/main/6-common-strategies/sequence.csv\"\n",
    "# url = './sequence.csv'\n",
    "df = pd.read_csv(url)"
   ]
  },
  {
   "cell_type": "code",
   "execution_count": 6,
   "id": "56b17f1b-bd3e-41ff-9f44-79544fdaebbe",
   "metadata": {},
   "outputs": [
    {
     "data": {
      "text/plain": [
       "13"
      ]
     },
     "execution_count": 6,
     "metadata": {},
     "output_type": "execute_result"
    }
   ],
   "source": [
    "df.to_sql('numbers', conn, index = True,\n",
    "          index_label = 'id', if_exists = 'replace')"
   ]
  },
  {
   "cell_type": "markdown",
   "id": "1b733efd-91a7-467f-a872-fc06a110c66c",
   "metadata": {},
   "source": [
    "### Performing the query"
   ]
  },
  {
   "cell_type": "markdown",
   "id": "81dc3794-0906-4c81-8832-6cc72f873bfa",
   "metadata": {},
   "source": [
    "If you look at the data, you can see that multiple places where there is no next number.  \n",
    "\n",
    "> This occurs at the values of 2, 10, 15, and 20.  And so our gaps are at values 3, 11, 16, and 21 (well, you can include 21 for now)."
   ]
  },
  {
   "cell_type": "code",
   "execution_count": 7,
   "id": "b323de11-9df5-42bd-a866-88c47b375b32",
   "metadata": {},
   "outputs": [
    {
     "data": {
      "text/html": [
       "<div>\n",
       "<style scoped>\n",
       "    .dataframe tbody tr th:only-of-type {\n",
       "        vertical-align: middle;\n",
       "    }\n",
       "\n",
       "    .dataframe tbody tr th {\n",
       "        vertical-align: top;\n",
       "    }\n",
       "\n",
       "    .dataframe thead th {\n",
       "        text-align: right;\n",
       "    }\n",
       "</style>\n",
       "<table border=\"1\" class=\"dataframe\">\n",
       "  <thead>\n",
       "    <tr style=\"text-align: right;\">\n",
       "      <th></th>\n",
       "      <th>number</th>\n",
       "    </tr>\n",
       "  </thead>\n",
       "  <tbody>\n",
       "    <tr>\n",
       "      <th>0</th>\n",
       "      <td>1</td>\n",
       "    </tr>\n",
       "    <tr>\n",
       "      <th>1</th>\n",
       "      <td>2</td>\n",
       "    </tr>\n",
       "    <tr>\n",
       "      <th>2</th>\n",
       "      <td>5</td>\n",
       "    </tr>\n",
       "    <tr>\n",
       "      <th>3</th>\n",
       "      <td>6</td>\n",
       "    </tr>\n",
       "    <tr>\n",
       "      <th>4</th>\n",
       "      <td>7</td>\n",
       "    </tr>\n",
       "    <tr>\n",
       "      <th>5</th>\n",
       "      <td>8</td>\n",
       "    </tr>\n",
       "    <tr>\n",
       "      <th>6</th>\n",
       "      <td>9</td>\n",
       "    </tr>\n",
       "    <tr>\n",
       "      <th>7</th>\n",
       "      <td>10</td>\n",
       "    </tr>\n",
       "    <tr>\n",
       "      <th>8</th>\n",
       "      <td>12</td>\n",
       "    </tr>\n",
       "    <tr>\n",
       "      <th>9</th>\n",
       "      <td>13</td>\n",
       "    </tr>\n",
       "    <tr>\n",
       "      <th>10</th>\n",
       "      <td>14</td>\n",
       "    </tr>\n",
       "    <tr>\n",
       "      <th>11</th>\n",
       "      <td>15</td>\n",
       "    </tr>\n",
       "    <tr>\n",
       "      <th>12</th>\n",
       "      <td>20</td>\n",
       "    </tr>\n",
       "  </tbody>\n",
       "</table>\n",
       "</div>"
      ],
      "text/plain": [
       "    number\n",
       "0        1\n",
       "1        2\n",
       "2        5\n",
       "3        6\n",
       "4        7\n",
       "5        8\n",
       "6        9\n",
       "7       10\n",
       "8       12\n",
       "9       13\n",
       "10      14\n",
       "11      15\n",
       "12      20"
      ]
     },
     "execution_count": 7,
     "metadata": {},
     "output_type": "execute_result"
    }
   ],
   "source": [
    "pd.read_sql(\"select number from numbers\", conn)"
   ]
  },
  {
   "cell_type": "markdown",
   "id": "8750b53c-7c24-4099-bf83-ae552b1dcf7c",
   "metadata": {},
   "source": [
    "And this is the end result that we would like to get to."
   ]
  },
  {
   "cell_type": "markdown",
   "id": "a9fa7db8-2a06-4efc-9ba6-62712ac3e878",
   "metadata": {},
   "source": [
    "<img src=\"./end-result.png\" width=\"30%\">"
   ]
  },
  {
   "cell_type": "markdown",
   "id": "7789b354-2f25-4e6f-9d48-e54a29a76b07",
   "metadata": {},
   "source": [
    "We can start by using our lead window function.  This will add a `next_number` column, which contains the successive number for each row."
   ]
  },
  {
   "cell_type": "code",
   "execution_count": 9,
   "id": "1704286f-edb4-43c4-9374-057b624f0bc8",
   "metadata": {},
   "outputs": [
    {
     "data": {
      "text/html": [
       "<div>\n",
       "<style scoped>\n",
       "    .dataframe tbody tr th:only-of-type {\n",
       "        vertical-align: middle;\n",
       "    }\n",
       "\n",
       "    .dataframe tbody tr th {\n",
       "        vertical-align: top;\n",
       "    }\n",
       "\n",
       "    .dataframe thead th {\n",
       "        text-align: right;\n",
       "    }\n",
       "</style>\n",
       "<table border=\"1\" class=\"dataframe\">\n",
       "  <thead>\n",
       "    <tr style=\"text-align: right;\">\n",
       "      <th></th>\n",
       "      <th>number</th>\n",
       "      <th>next_number</th>\n",
       "    </tr>\n",
       "  </thead>\n",
       "  <tbody>\n",
       "    <tr>\n",
       "      <th>0</th>\n",
       "      <td>1</td>\n",
       "      <td>2</td>\n",
       "    </tr>\n",
       "    <tr>\n",
       "      <th>1</th>\n",
       "      <td>2</td>\n",
       "      <td>5</td>\n",
       "    </tr>\n",
       "    <tr>\n",
       "      <th>2</th>\n",
       "      <td>5</td>\n",
       "      <td>6</td>\n",
       "    </tr>\n",
       "    <tr>\n",
       "      <th>3</th>\n",
       "      <td>6</td>\n",
       "      <td>7</td>\n",
       "    </tr>\n",
       "    <tr>\n",
       "      <th>4</th>\n",
       "      <td>7</td>\n",
       "      <td>8</td>\n",
       "    </tr>\n",
       "  </tbody>\n",
       "</table>\n",
       "</div>"
      ],
      "text/plain": [
       "   number  next_number\n",
       "0       1            2\n",
       "1       2            5\n",
       "2       5            6\n",
       "3       6            7\n",
       "4       7            8"
      ]
     },
     "execution_count": 9,
     "metadata": {},
     "output_type": "execute_result"
    }
   ],
   "source": [
    "query = \"\"\"\n",
    "SELECT numbers.number,\n",
    "lead(numbers.number, 1) OVER (ORDER BY numbers.number) AS next_number\n",
    "FROM numbers limit 5\n",
    "\"\"\"\n",
    "pd.read_sql(query, conn)"
   ]
  },
  {
   "cell_type": "markdown",
   "id": "7536c942-dd84-40d8-ace8-1eb4de340faa",
   "metadata": {},
   "source": [
    "So we can see that for the first row we have 1, with a `next_number` of 2.  And there is no gap.  But with the second row we have 2 with a next number of 5, and we do have a gap."
   ]
  },
  {
   "cell_type": "markdown",
   "id": "65230697-5c0a-4e04-9881-d798b5210f7c",
   "metadata": {},
   "source": [
    "So use this as a starting point to the list of gaps."
   ]
  },
  {
   "cell_type": "markdown",
   "id": "b3617205-d482-4a84-8ce1-2b13db0b2d4f",
   "metadata": {},
   "source": [
    "> Remember that the end result we would like to get to is the following."
   ]
  },
  {
   "cell_type": "markdown",
   "id": "e698343a-5331-479d-9fd8-07ea1dea2e75",
   "metadata": {},
   "source": [
    "<img src=\"./end-result.png\" width=\"40%\">"
   ]
  },
  {
   "cell_type": "markdown",
   "id": "af2b6942-5854-4798-8c2d-d5b8400664df",
   "metadata": {},
   "source": [
    "### Solution"
   ]
  },
  {
   "cell_type": "markdown",
   "id": "3f1d0ecd-0c4e-4b16-9f8f-d1b09e4aed6e",
   "metadata": {},
   "source": [
    "The first step is to update the query to just select for those rows that has a difference greater than one. "
   ]
  },
  {
   "cell_type": "code",
   "execution_count": 17,
   "id": "054c1198-0510-4d90-af02-c16548bf2c61",
   "metadata": {},
   "outputs": [
    {
     "data": {
      "text/html": [
       "<div>\n",
       "<style scoped>\n",
       "    .dataframe tbody tr th:only-of-type {\n",
       "        vertical-align: middle;\n",
       "    }\n",
       "\n",
       "    .dataframe tbody tr th {\n",
       "        vertical-align: top;\n",
       "    }\n",
       "\n",
       "    .dataframe thead th {\n",
       "        text-align: right;\n",
       "    }\n",
       "</style>\n",
       "<table border=\"1\" class=\"dataframe\">\n",
       "  <thead>\n",
       "    <tr style=\"text-align: right;\">\n",
       "      <th></th>\n",
       "      <th>number</th>\n",
       "      <th>next_number</th>\n",
       "    </tr>\n",
       "  </thead>\n",
       "  <tbody>\n",
       "    <tr>\n",
       "      <th>0</th>\n",
       "      <td>2</td>\n",
       "      <td>5</td>\n",
       "    </tr>\n",
       "    <tr>\n",
       "      <th>1</th>\n",
       "      <td>10</td>\n",
       "      <td>12</td>\n",
       "    </tr>\n",
       "    <tr>\n",
       "      <th>2</th>\n",
       "      <td>15</td>\n",
       "      <td>20</td>\n",
       "    </tr>\n",
       "  </tbody>\n",
       "</table>\n",
       "</div>"
      ],
      "text/plain": [
       "   number  next_number\n",
       "0       2            5\n",
       "1      10           12\n",
       "2      15           20"
      ]
     },
     "execution_count": 17,
     "metadata": {},
     "output_type": "execute_result"
    }
   ],
   "source": [
    "query = \"\"\"\n",
    "with numbers_and_nexts as (\n",
    "    SELECT numbers.number as number,\n",
    "lead(numbers.number, 1) OVER (ORDER BY numbers.number) AS next_number\n",
    "from numbers\n",
    ")\n",
    "\n",
    "select * from numbers_and_nexts where (numbers_and_nexts.next_number - numbers_and_nexts.number) > 1\n",
    "\n",
    "\"\"\"\n",
    "pd.read_sql(query, conn)"
   ]
  },
  {
   "cell_type": "markdown",
   "id": "fc9aad01-7f2a-4495-9e95-b00d45579e3b",
   "metadata": {},
   "source": [
    "And then we update the select statement so we return the first gap number, and the end of the gap number."
   ]
  },
  {
   "cell_type": "code",
   "execution_count": 18,
   "id": "ab39bc2b-de62-4397-9376-801f3497b5a5",
   "metadata": {},
   "outputs": [
    {
     "data": {
      "text/html": [
       "<div>\n",
       "<style scoped>\n",
       "    .dataframe tbody tr th:only-of-type {\n",
       "        vertical-align: middle;\n",
       "    }\n",
       "\n",
       "    .dataframe tbody tr th {\n",
       "        vertical-align: top;\n",
       "    }\n",
       "\n",
       "    .dataframe thead th {\n",
       "        text-align: right;\n",
       "    }\n",
       "</style>\n",
       "<table border=\"1\" class=\"dataframe\">\n",
       "  <thead>\n",
       "    <tr style=\"text-align: right;\">\n",
       "      <th></th>\n",
       "      <th>gap_start</th>\n",
       "      <th>next_number</th>\n",
       "    </tr>\n",
       "  </thead>\n",
       "  <tbody>\n",
       "    <tr>\n",
       "      <th>0</th>\n",
       "      <td>3</td>\n",
       "      <td>4</td>\n",
       "    </tr>\n",
       "    <tr>\n",
       "      <th>1</th>\n",
       "      <td>11</td>\n",
       "      <td>11</td>\n",
       "    </tr>\n",
       "    <tr>\n",
       "      <th>2</th>\n",
       "      <td>16</td>\n",
       "      <td>19</td>\n",
       "    </tr>\n",
       "  </tbody>\n",
       "</table>\n",
       "</div>"
      ],
      "text/plain": [
       "   gap_start  next_number\n",
       "0          3            4\n",
       "1         11           11\n",
       "2         16           19"
      ]
     },
     "execution_count": 18,
     "metadata": {},
     "output_type": "execute_result"
    }
   ],
   "source": [
    "query = \"\"\"\n",
    "with numbers_and_nexts as (\n",
    "    SELECT numbers.number as number,\n",
    "lead(numbers.number, 1) OVER (ORDER BY numbers.number) AS next_number\n",
    "from numbers\n",
    ")\n",
    "\n",
    "select number + 1 as gap_start, next_number - 1 next_number  from numbers_and_nexts where (numbers_and_nexts.next_number - numbers_and_nexts.number) > 1\n",
    "\n",
    "\"\"\"\n",
    "pd.read_sql(query, conn)"
   ]
  },
  {
   "cell_type": "markdown",
   "id": "8176a55e-2c8f-4117-89e8-c1eb77c5fbe3",
   "metadata": {},
   "source": [
    "> Try to reimplement the query without looking."
   ]
  },
  {
   "cell_type": "code",
   "execution_count": 20,
   "id": "90eb011c-45fc-4f40-8866-035887528f97",
   "metadata": {},
   "outputs": [],
   "source": [
    "query = \"\"\"\n",
    "\"\"\"\n",
    "# pd.read_sql(query, conn)"
   ]
  },
  {
   "cell_type": "markdown",
   "id": "ab313932-93db-4394-b733-1f481ff0e7c8",
   "metadata": {},
   "source": [
    "### Summary"
   ]
  },
  {
   "cell_type": "markdown",
   "id": "51195f36-5de6-4df7-a191-71e36176026c",
   "metadata": {},
   "source": [
    "Ok, so in this lab, we saw another mechanism for finding the beginning and ending gaps.  We did this by starting with the lead window function - which added a new column to identify the next number.  Then we selected those with a gap greater than one."
   ]
  },
  {
   "cell_type": "code",
   "execution_count": null,
   "id": "9983143d-2c6c-44eb-aaab-46a138198ffb",
   "metadata": {},
   "outputs": [],
   "source": []
  }
 ],
 "metadata": {
  "kernelspec": {
   "display_name": "Python 3 (ipykernel)",
   "language": "python",
   "name": "python3"
  },
  "language_info": {
   "codemirror_mode": {
    "name": "ipython",
    "version": 3
   },
   "file_extension": ".py",
   "mimetype": "text/x-python",
   "name": "python",
   "nbconvert_exporter": "python",
   "pygments_lexer": "ipython3",
   "version": "3.9.12"
  }
 },
 "nbformat": 4,
 "nbformat_minor": 5
}
