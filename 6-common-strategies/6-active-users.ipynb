{
 "cells": [
  {
   "cell_type": "markdown",
   "id": "0fab6c27-cfbb-43af-bbf7-c01575757e28",
   "metadata": {},
   "source": [
    "# Active Users Problem"
   ]
  },
  {
   "cell_type": "markdown",
   "id": "1f6d5e1c-3016-4ebf-aab6-a5bd23634248",
   "metadata": {},
   "source": [
    "### Introduction"
   ]
  },
  {
   "cell_type": "markdown",
   "id": "fb606a4b-9f14-4899-923f-9e5d9ec27ccf",
   "metadata": {},
   "source": [
    "In this lesson we'll tackle the leetcode problem of active users."
   ]
  },
  {
   "cell_type": "markdown",
   "id": "f4bb920b-8a93-4cee-80f0-719dd3c3851e",
   "metadata": {},
   "source": [
    "### Loading the Data"
   ]
  },
  {
   "cell_type": "code",
   "execution_count": 6,
   "id": "82455ef1-11bb-46c0-9df0-d64ad7d6a639",
   "metadata": {},
   "outputs": [],
   "source": [
    "import pandas as pd\n",
    "import sqlite3\n",
    "conn = sqlite3.connect('users.db')\n",
    "account_url = \"https://raw.githubusercontent.com/tech-interviews-jigsaw/sql-advanced-joins/main/6-common-strategies/accounts.csv\"\n",
    "login_url = \"https://raw.githubusercontent.com/tech-interviews-jigsaw/sql-advanced-joins/main/6-common-strategies/logins.csv\"\n",
    "\n",
    "account_df = pd.read_csv(account_url)\n",
    "logins_df = pd.read_csv(login_url)"
   ]
  },
  {
   "cell_type": "code",
   "execution_count": 13,
   "id": "b910c10b-3156-4fc5-a0e2-47991ae03b42",
   "metadata": {},
   "outputs": [
    {
     "data": {
      "text/plain": [
       "9"
      ]
     },
     "execution_count": 13,
     "metadata": {},
     "output_type": "execute_result"
    }
   ],
   "source": [
    "account_df.to_sql('accounts', conn, index = False, if_exists = 'replace')\n",
    "\n",
    "logins_df.to_sql('logins', conn, index = False, if_exists = 'replace')"
   ]
  },
  {
   "cell_type": "code",
   "execution_count": 14,
   "id": "6468193f-6408-4bba-ab7c-f3e8176925b6",
   "metadata": {},
   "outputs": [
    {
     "data": {
      "text/html": [
       "<div>\n",
       "<style scoped>\n",
       "    .dataframe tbody tr th:only-of-type {\n",
       "        vertical-align: middle;\n",
       "    }\n",
       "\n",
       "    .dataframe tbody tr th {\n",
       "        vertical-align: top;\n",
       "    }\n",
       "\n",
       "    .dataframe thead th {\n",
       "        text-align: right;\n",
       "    }\n",
       "</style>\n",
       "<table border=\"1\" class=\"dataframe\">\n",
       "  <thead>\n",
       "    <tr style=\"text-align: right;\">\n",
       "      <th></th>\n",
       "      <th>id</th>\n",
       "      <th>name</th>\n",
       "    </tr>\n",
       "  </thead>\n",
       "  <tbody>\n",
       "    <tr>\n",
       "      <th>0</th>\n",
       "      <td>1</td>\n",
       "      <td>Winston</td>\n",
       "    </tr>\n",
       "    <tr>\n",
       "      <th>1</th>\n",
       "      <td>7</td>\n",
       "      <td>Jonathan</td>\n",
       "    </tr>\n",
       "  </tbody>\n",
       "</table>\n",
       "</div>"
      ],
      "text/plain": [
       "   id      name\n",
       "0   1   Winston\n",
       "1   7  Jonathan"
      ]
     },
     "execution_count": 14,
     "metadata": {},
     "output_type": "execute_result"
    }
   ],
   "source": [
    "pd.read_sql('select * from accounts', conn)"
   ]
  },
  {
   "cell_type": "code",
   "execution_count": 15,
   "id": "06b497bd-2e73-4316-95ae-1287032df12b",
   "metadata": {},
   "outputs": [
    {
     "data": {
      "text/html": [
       "<div>\n",
       "<style scoped>\n",
       "    .dataframe tbody tr th:only-of-type {\n",
       "        vertical-align: middle;\n",
       "    }\n",
       "\n",
       "    .dataframe tbody tr th {\n",
       "        vertical-align: top;\n",
       "    }\n",
       "\n",
       "    .dataframe thead th {\n",
       "        text-align: right;\n",
       "    }\n",
       "</style>\n",
       "<table border=\"1\" class=\"dataframe\">\n",
       "  <thead>\n",
       "    <tr style=\"text-align: right;\">\n",
       "      <th></th>\n",
       "      <th>account_id</th>\n",
       "      <th>login_date</th>\n",
       "    </tr>\n",
       "  </thead>\n",
       "  <tbody>\n",
       "    <tr>\n",
       "      <th>0</th>\n",
       "      <td>7</td>\n",
       "      <td>2020-05-30</td>\n",
       "    </tr>\n",
       "    <tr>\n",
       "      <th>1</th>\n",
       "      <td>1</td>\n",
       "      <td>2020-05-30</td>\n",
       "    </tr>\n",
       "    <tr>\n",
       "      <th>2</th>\n",
       "      <td>7</td>\n",
       "      <td>2020-05-31</td>\n",
       "    </tr>\n",
       "  </tbody>\n",
       "</table>\n",
       "</div>"
      ],
      "text/plain": [
       "   account_id  login_date\n",
       "0           7  2020-05-30\n",
       "1           1  2020-05-30\n",
       "2           7  2020-05-31"
      ]
     },
     "execution_count": 15,
     "metadata": {},
     "output_type": "execute_result"
    }
   ],
   "source": [
    "pd.read_sql('select * from logins limit 3', conn)"
   ]
  },
  {
   "cell_type": "markdown",
   "id": "706ec089-942e-475d-b0c8-9fde205d0a29",
   "metadata": {},
   "source": [
    "### Our problem"
   ]
  },
  {
   "cell_type": "markdown",
   "id": "3af84f8f-fd58-49a3-bba4-a97dc0824453",
   "metadata": {},
   "source": [
    "Active users are those who logged in to their accounts for five or more consecutive days.  Write a solution to find the id and the name of active users. Return the result table ordered by id.\n",
    "\n",
    "The result format is in the following example."
   ]
  },
  {
   "cell_type": "markdown",
   "id": "ad4d7d6e-85b2-40e0-8d73-87e85c3c82aa",
   "metadata": {},
   "source": [
    "> 7  | Jonathan"
   ]
  },
  {
   "cell_type": "markdown",
   "id": "a2ed625d-c91b-4824-a5fe-e8b8b9d1b398",
   "metadata": {},
   "source": [
    "* Explanation\n",
    "\n",
    "> User Winston with id = 1 logged in 2 times only in 2 different days, so, Winston is not an active user.\n",
    "\n",
    "> User Jonathan with id = 7 logged in 7 times in 6 different days, five of them were consecutive days, so, Jonathan is an active user."
   ]
  },
  {
   "cell_type": "markdown",
   "id": "1c488b14-854a-40d5-b4d0-a6a8920470f3",
   "metadata": {},
   "source": [
    "Ok, perform the query below.  Remember that we want to return the user who logged in on five or more consecutive days."
   ]
  },
  {
   "cell_type": "code",
   "execution_count": 16,
   "id": "bb1b0048-a8e2-4be8-8990-4ce5c83410d4",
   "metadata": {},
   "outputs": [
    {
     "data": {
      "text/html": [
       "<div>\n",
       "<style scoped>\n",
       "    .dataframe tbody tr th:only-of-type {\n",
       "        vertical-align: middle;\n",
       "    }\n",
       "\n",
       "    .dataframe tbody tr th {\n",
       "        vertical-align: top;\n",
       "    }\n",
       "\n",
       "    .dataframe thead th {\n",
       "        text-align: right;\n",
       "    }\n",
       "</style>\n",
       "<table border=\"1\" class=\"dataframe\">\n",
       "  <thead>\n",
       "    <tr style=\"text-align: right;\">\n",
       "      <th></th>\n",
       "      <th>account_id</th>\n",
       "      <th>login_date</th>\n",
       "    </tr>\n",
       "  </thead>\n",
       "  <tbody>\n",
       "    <tr>\n",
       "      <th>0</th>\n",
       "      <td>7</td>\n",
       "      <td>2020-05-30</td>\n",
       "    </tr>\n",
       "    <tr>\n",
       "      <th>1</th>\n",
       "      <td>1</td>\n",
       "      <td>2020-05-30</td>\n",
       "    </tr>\n",
       "    <tr>\n",
       "      <th>2</th>\n",
       "      <td>7</td>\n",
       "      <td>2020-05-31</td>\n",
       "    </tr>\n",
       "  </tbody>\n",
       "</table>\n",
       "</div>"
      ],
      "text/plain": [
       "   account_id  login_date\n",
       "0           7  2020-05-30\n",
       "1           1  2020-05-30\n",
       "2           7  2020-05-31"
      ]
     },
     "execution_count": 16,
     "metadata": {},
     "output_type": "execute_result"
    }
   ],
   "source": [
    "pd.read_sql('select * from logins limit 3', conn)"
   ]
  },
  {
   "cell_type": "markdown",
   "id": "96730cc3-278b-415c-9e0f-1aa526f9438d",
   "metadata": {},
   "source": [
    "### Resources\n",
    "\n",
    "[Active Users leetcode](https://leetcode.com/problems/active-users/)"
   ]
  },
  {
   "cell_type": "code",
   "execution_count": null,
   "id": "617f7384-4760-407e-9758-6a1137c6c134",
   "metadata": {},
   "outputs": [],
   "source": []
  }
 ],
 "metadata": {
  "kernelspec": {
   "display_name": "Python 3 (ipykernel)",
   "language": "python",
   "name": "python3"
  },
  "language_info": {
   "codemirror_mode": {
    "name": "ipython",
    "version": 3
   },
   "file_extension": ".py",
   "mimetype": "text/x-python",
   "name": "python",
   "nbconvert_exporter": "python",
   "pygments_lexer": "ipython3",
   "version": "3.9.12"
  }
 },
 "nbformat": 4,
 "nbformat_minor": 5
}
