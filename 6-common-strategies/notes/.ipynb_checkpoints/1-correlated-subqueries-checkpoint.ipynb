{
 "cells": [
  {
   "cell_type": "markdown",
   "id": "f60effa8-883f-410c-a0a4-6ba8ac006c15",
   "metadata": {},
   "source": [
    "# Correlated Subqueries"
   ]
  },
  {
   "cell_type": "markdown",
   "id": "571ed8b8-94a8-40fb-93ee-3370de02be93",
   "metadata": {},
   "source": [
    "### Introduction\n",
    "\n",
    "In this lesson, we'll learn about correlated subqueries.  With correlated subqueries, we first return a set of rows from an outer table.  And then our subquery makes a new query for each one of these rows to find a match.  \n",
    "\n",
    "Let's see this by way of example."
   ]
  },
  {
   "cell_type": "markdown",
   "id": "0979762d-aaac-46ce-8d64-ee8124102de3",
   "metadata": {},
   "source": [
    "### Loading our data"
   ]
  },
  {
   "cell_type": "code",
   "execution_count": 1,
   "id": "a2c481cf-7daf-4c32-9c92-c7c473bb3f43",
   "metadata": {},
   "outputs": [],
   "source": [
    "import pandas as pd\n",
    "import sqlite3\n",
    "conn = sqlite3.connect('users.db')\n",
    "\n",
    "table_names = ['employees', 'orders', 'customers', 'dog_foods']\n",
    "root_url = \"https://raw.githubusercontent.com/tech-interviews-jigsaw/sql-advanced-joins/main/6-common-strategies\"\n",
    "dfs = [pd.read_csv(f\"{root_url}/{table_name}.csv\") for table_name in table_names]"
   ]
  },
  {
   "cell_type": "code",
   "execution_count": 2,
   "id": "92812220-1f35-4e8e-a5d5-ad6a657eab6c",
   "metadata": {},
   "outputs": [
    {
     "data": {
      "text/plain": [
       "[5, 3, 5, 5]"
      ]
     },
     "execution_count": 2,
     "metadata": {},
     "output_type": "execute_result"
    }
   ],
   "source": [
    "[df.to_sql(table_name, conn, index = True, index_label = 'id', if_exists = 'replace') for df, table_name in zip(dfs, table_names)]"
   ]
  },
  {
   "cell_type": "markdown",
   "id": "04e577e7-9014-48b3-8bca-b10c65b3f61f",
   "metadata": {
    "tags": []
   },
   "source": [
    "### Correlated Subqueries"
   ]
  },
  {
   "cell_type": "markdown",
   "id": "3fdc0f60-e07c-41fc-bf17-4b7b94d026ec",
   "metadata": {},
   "source": [
    "With a correlated subquery, the query is executed once per each row in the outer query.  Let's see this by way of example.\n",
    "\n",
    "Below we have a list of employees, with each employee assigned to a department."
   ]
  },
  {
   "cell_type": "code",
   "execution_count": 17,
   "id": "db8204ff-d52c-48df-8bc2-3f3755035e8d",
   "metadata": {},
   "outputs": [
    {
     "data": {
      "text/html": [
       "<div>\n",
       "<style scoped>\n",
       "    .dataframe tbody tr th:only-of-type {\n",
       "        vertical-align: middle;\n",
       "    }\n",
       "\n",
       "    .dataframe tbody tr th {\n",
       "        vertical-align: top;\n",
       "    }\n",
       "\n",
       "    .dataframe thead th {\n",
       "        text-align: right;\n",
       "    }\n",
       "</style>\n",
       "<table border=\"1\" class=\"dataframe\">\n",
       "  <thead>\n",
       "    <tr style=\"text-align: right;\">\n",
       "      <th></th>\n",
       "      <th>employee_name</th>\n",
       "      <th>department</th>\n",
       "      <th>salary</th>\n",
       "      <th>max_dept_salary</th>\n",
       "    </tr>\n",
       "  </thead>\n",
       "  <tbody>\n",
       "    <tr>\n",
       "      <th>0</th>\n",
       "      <td>Alice</td>\n",
       "      <td>HR</td>\n",
       "      <td>50000</td>\n",
       "      <td>2</td>\n",
       "    </tr>\n",
       "    <tr>\n",
       "      <th>1</th>\n",
       "      <td>Carol</td>\n",
       "      <td>IT</td>\n",
       "      <td>55000</td>\n",
       "      <td>2</td>\n",
       "    </tr>\n",
       "  </tbody>\n",
       "</table>\n",
       "</div>"
      ],
      "text/plain": [
       "  employee_name department  salary  max_dept_salary\n",
       "0         Alice         HR   50000                2\n",
       "1         Carol         IT   55000                2"
      ]
     },
     "execution_count": 17,
     "metadata": {},
     "output_type": "execute_result"
    }
   ],
   "source": [
    "query = \"\"\" with ranked_salaries as (\n",
    "SELECT employee_name, department, salary,\n",
    "       rank() OVER (PARTITION BY department order by salary desc) AS max_dept_salary\n",
    "FROM employees e1\n",
    ")\n",
    "select * from ranked_salaries where max_dept_salary = 2\n",
    "\"\"\"\n",
    "pd.read_sql(query, conn)"
   ]
  },
  {
   "cell_type": "code",
   "execution_count": 18,
   "id": "464472e3-8dff-4123-a1c3-d14447693e8d",
   "metadata": {},
   "outputs": [
    {
     "data": {
      "text/html": [
       "<div>\n",
       "<style scoped>\n",
       "    .dataframe tbody tr th:only-of-type {\n",
       "        vertical-align: middle;\n",
       "    }\n",
       "\n",
       "    .dataframe tbody tr th {\n",
       "        vertical-align: top;\n",
       "    }\n",
       "\n",
       "    .dataframe thead th {\n",
       "        text-align: right;\n",
       "    }\n",
       "</style>\n",
       "<table border=\"1\" class=\"dataframe\">\n",
       "  <thead>\n",
       "    <tr style=\"text-align: right;\">\n",
       "      <th></th>\n",
       "      <th>employee_name</th>\n",
       "      <th>department</th>\n",
       "      <th>salary</th>\n",
       "      <th>max_dept_salary</th>\n",
       "    </tr>\n",
       "  </thead>\n",
       "  <tbody>\n",
       "    <tr>\n",
       "      <th>0</th>\n",
       "      <td>Alice</td>\n",
       "      <td>HR</td>\n",
       "      <td>50000</td>\n",
       "      <td>52000</td>\n",
       "    </tr>\n",
       "    <tr>\n",
       "      <th>1</th>\n",
       "      <td>Bob</td>\n",
       "      <td>IT</td>\n",
       "      <td>60000</td>\n",
       "      <td>60000</td>\n",
       "    </tr>\n",
       "    <tr>\n",
       "      <th>2</th>\n",
       "      <td>Carol</td>\n",
       "      <td>IT</td>\n",
       "      <td>55000</td>\n",
       "      <td>60000</td>\n",
       "    </tr>\n",
       "    <tr>\n",
       "      <th>3</th>\n",
       "      <td>David</td>\n",
       "      <td>HR</td>\n",
       "      <td>52000</td>\n",
       "      <td>52000</td>\n",
       "    </tr>\n",
       "    <tr>\n",
       "      <th>4</th>\n",
       "      <td>Eve</td>\n",
       "      <td>Finance</td>\n",
       "      <td>62000</td>\n",
       "      <td>62000</td>\n",
       "    </tr>\n",
       "  </tbody>\n",
       "</table>\n",
       "</div>"
      ],
      "text/plain": [
       "  employee_name department  salary  max_dept_salary\n",
       "0         Alice         HR   50000            52000\n",
       "1           Bob         IT   60000            60000\n",
       "2         Carol         IT   55000            60000\n",
       "3         David         HR   52000            52000\n",
       "4           Eve    Finance   62000            62000"
      ]
     },
     "execution_count": 18,
     "metadata": {},
     "output_type": "execute_result"
    }
   ],
   "source": [
    "query = \"\"\"SELECT employee_name, department, salary, \n",
    "(SELECT MAX(salary) FROM employees e2\n",
    "    WHERE e2.department = e1.department) AS max_dept_salary\n",
    "FROM employees e1\"\"\"\n",
    "pd.read_sql(query, conn)"
   ]
  },
  {
   "cell_type": "code",
   "execution_count": 19,
   "id": "d5b91bb4-ffa5-4867-ba30-ba6e695ecb3d",
   "metadata": {},
   "outputs": [
    {
     "data": {
      "text/html": [
       "<div>\n",
       "<style scoped>\n",
       "    .dataframe tbody tr th:only-of-type {\n",
       "        vertical-align: middle;\n",
       "    }\n",
       "\n",
       "    .dataframe tbody tr th {\n",
       "        vertical-align: top;\n",
       "    }\n",
       "\n",
       "    .dataframe thead th {\n",
       "        text-align: right;\n",
       "    }\n",
       "</style>\n",
       "<table border=\"1\" class=\"dataframe\">\n",
       "  <thead>\n",
       "    <tr style=\"text-align: right;\">\n",
       "      <th></th>\n",
       "      <th>id</th>\n",
       "      <th>employee_id</th>\n",
       "      <th>employee_name</th>\n",
       "      <th>department</th>\n",
       "      <th>salary</th>\n",
       "      <th>max_salary</th>\n",
       "    </tr>\n",
       "  </thead>\n",
       "  <tbody>\n",
       "    <tr>\n",
       "      <th>0</th>\n",
       "      <td>4</td>\n",
       "      <td>5</td>\n",
       "      <td>Eve</td>\n",
       "      <td>Finance</td>\n",
       "      <td>62000</td>\n",
       "      <td>NaN</td>\n",
       "    </tr>\n",
       "    <tr>\n",
       "      <th>1</th>\n",
       "      <td>3</td>\n",
       "      <td>4</td>\n",
       "      <td>David</td>\n",
       "      <td>HR</td>\n",
       "      <td>52000</td>\n",
       "      <td>50000.0</td>\n",
       "    </tr>\n",
       "    <tr>\n",
       "      <th>2</th>\n",
       "      <td>0</td>\n",
       "      <td>1</td>\n",
       "      <td>Alice</td>\n",
       "      <td>HR</td>\n",
       "      <td>50000</td>\n",
       "      <td>50000.0</td>\n",
       "    </tr>\n",
       "    <tr>\n",
       "      <th>3</th>\n",
       "      <td>1</td>\n",
       "      <td>2</td>\n",
       "      <td>Bob</td>\n",
       "      <td>IT</td>\n",
       "      <td>60000</td>\n",
       "      <td>55000.0</td>\n",
       "    </tr>\n",
       "    <tr>\n",
       "      <th>4</th>\n",
       "      <td>2</td>\n",
       "      <td>3</td>\n",
       "      <td>Carol</td>\n",
       "      <td>IT</td>\n",
       "      <td>55000</td>\n",
       "      <td>55000.0</td>\n",
       "    </tr>\n",
       "  </tbody>\n",
       "</table>\n",
       "</div>"
      ],
      "text/plain": [
       "   id  employee_id employee_name department  salary  max_salary\n",
       "0   4            5           Eve    Finance   62000         NaN\n",
       "1   3            4         David         HR   52000     50000.0\n",
       "2   0            1         Alice         HR   50000     50000.0\n",
       "3   1            2           Bob         IT   60000     55000.0\n",
       "4   2            3         Carol         IT   55000     55000.0"
      ]
     },
     "execution_count": 19,
     "metadata": {},
     "output_type": "execute_result"
    }
   ],
   "source": [
    "query = \"\"\"\n",
    "select *, \n",
    "(select salary from employees\n",
    "e2 where e1.department = e2.department order by salary desc limit 1 offset 1 )\n",
    "as max_salary\n",
    "from employees e1\n",
    "order by department, salary desc\n",
    "\"\"\"\n",
    "\n",
    "pd.read_sql(query, conn)"
   ]
  },
  {
   "cell_type": "markdown",
   "id": "cd6470c8-d8ba-4537-82f3-54c47ec3e015",
   "metadata": {},
   "source": [
    "Let's say that we want to find the highest salary for each department.  One way to do this is with a window function. "
   ]
  },
  {
   "cell_type": "code",
   "execution_count": 7,
   "id": "624af9fb-ad84-487c-8a4b-9324802886b5",
   "metadata": {},
   "outputs": [
    {
     "data": {
      "text/html": [
       "<div>\n",
       "<style scoped>\n",
       "    .dataframe tbody tr th:only-of-type {\n",
       "        vertical-align: middle;\n",
       "    }\n",
       "\n",
       "    .dataframe tbody tr th {\n",
       "        vertical-align: top;\n",
       "    }\n",
       "\n",
       "    .dataframe thead th {\n",
       "        text-align: right;\n",
       "    }\n",
       "</style>\n",
       "<table border=\"1\" class=\"dataframe\">\n",
       "  <thead>\n",
       "    <tr style=\"text-align: right;\">\n",
       "      <th></th>\n",
       "      <th>employee_name</th>\n",
       "      <th>department</th>\n",
       "      <th>salary</th>\n",
       "      <th>max_dept_salary</th>\n",
       "    </tr>\n",
       "  </thead>\n",
       "  <tbody>\n",
       "    <tr>\n",
       "      <th>0</th>\n",
       "      <td>Eve</td>\n",
       "      <td>Finance</td>\n",
       "      <td>62000</td>\n",
       "      <td>62000</td>\n",
       "    </tr>\n",
       "    <tr>\n",
       "      <th>1</th>\n",
       "      <td>Alice</td>\n",
       "      <td>HR</td>\n",
       "      <td>50000</td>\n",
       "      <td>50000</td>\n",
       "    </tr>\n",
       "    <tr>\n",
       "      <th>2</th>\n",
       "      <td>David</td>\n",
       "      <td>HR</td>\n",
       "      <td>52000</td>\n",
       "      <td>52000</td>\n",
       "    </tr>\n",
       "    <tr>\n",
       "      <th>3</th>\n",
       "      <td>Carol</td>\n",
       "      <td>IT</td>\n",
       "      <td>55000</td>\n",
       "      <td>55000</td>\n",
       "    </tr>\n",
       "    <tr>\n",
       "      <th>4</th>\n",
       "      <td>Bob</td>\n",
       "      <td>IT</td>\n",
       "      <td>60000</td>\n",
       "      <td>60000</td>\n",
       "    </tr>\n",
       "  </tbody>\n",
       "</table>\n",
       "</div>"
      ],
      "text/plain": [
       "  employee_name department  salary  max_dept_salary\n",
       "0           Eve    Finance   62000            62000\n",
       "1         Alice         HR   50000            50000\n",
       "2         David         HR   52000            52000\n",
       "3         Carol         IT   55000            55000\n",
       "4           Bob         IT   60000            60000"
      ]
     },
     "execution_count": 7,
     "metadata": {},
     "output_type": "execute_result"
    }
   ],
   "source": [
    "query = \"\"\"SELECT employee_name, department, salary,\n",
    "       MAX(salary) OVER (PARTITION BY department ORDER BY salary) AS max_dept_salary\n",
    "FROM employees e1\"\"\"\n",
    "pd.read_sql(query, conn)"
   ]
  },
  {
   "cell_type": "code",
   "execution_count": null,
   "id": "23eb5792-1853-4093-9e02-bb2a724851ff",
   "metadata": {},
   "outputs": [],
   "source": [
    "query = \"\"\"SELECT employee_name, department, salary,\n",
    "(SELECT MAX(salary) FROM employees e2\n",
    "    WHERE e2.department = e1.department) AS max_dept_salary\n",
    "FROM employees e1\"\"\"\n",
    "pd.read_sql(query, conn)"
   ]
  },
  {
   "cell_type": "markdown",
   "id": "cb6769af-2e03-46bb-a9b1-0226a3b495cb",
   "metadata": {},
   "source": [
    "* break it down"
   ]
  },
  {
   "cell_type": "markdown",
   "id": "d0ed6cfd-d6ae-4823-99d6-b3c0f37c901a",
   "metadata": {},
   "source": [
    "```sql\n",
    "SELECT employee_name, department, salary,\n",
    "(SELECT MAX(salary) FROM employees e2 WHERE e2.department = e1.department) AS max_sal -- 2. correlated subquery\n",
    "FROM employees e1 -- 1. outer query\n",
    "```"
   ]
  },
  {
   "cell_type": "markdown",
   "id": "79e192b2-5734-4270-91b9-82252ad167e0",
   "metadata": {},
   "source": [
    "### Moving to a use case"
   ]
  },
  {
   "cell_type": "markdown",
   "id": "ed6e24fe-0516-4b5d-a302-63ead171b796",
   "metadata": {},
   "source": [
    "* Second highest"
   ]
  },
  {
   "cell_type": "code",
   "execution_count": 13,
   "id": "adc1f4ec-1cda-4a95-ac4d-aab7d256123d",
   "metadata": {},
   "outputs": [
    {
     "data": {
      "text/html": [
       "<div>\n",
       "<style scoped>\n",
       "    .dataframe tbody tr th:only-of-type {\n",
       "        vertical-align: middle;\n",
       "    }\n",
       "\n",
       "    .dataframe tbody tr th {\n",
       "        vertical-align: top;\n",
       "    }\n",
       "\n",
       "    .dataframe thead th {\n",
       "        text-align: right;\n",
       "    }\n",
       "</style>\n",
       "<table border=\"1\" class=\"dataframe\">\n",
       "  <thead>\n",
       "    <tr style=\"text-align: right;\">\n",
       "      <th></th>\n",
       "      <th>employee_name</th>\n",
       "      <th>department</th>\n",
       "      <th>salary</th>\n",
       "      <th>second_highest</th>\n",
       "    </tr>\n",
       "  </thead>\n",
       "  <tbody>\n",
       "    <tr>\n",
       "      <th>0</th>\n",
       "      <td>Bob</td>\n",
       "      <td>IT</td>\n",
       "      <td>60000</td>\n",
       "      <td>55000.0</td>\n",
       "    </tr>\n",
       "    <tr>\n",
       "      <th>1</th>\n",
       "      <td>Carol</td>\n",
       "      <td>IT</td>\n",
       "      <td>55000</td>\n",
       "      <td>55000.0</td>\n",
       "    </tr>\n",
       "    <tr>\n",
       "      <th>2</th>\n",
       "      <td>David</td>\n",
       "      <td>HR</td>\n",
       "      <td>52000</td>\n",
       "      <td>50000.0</td>\n",
       "    </tr>\n",
       "    <tr>\n",
       "      <th>3</th>\n",
       "      <td>Alice</td>\n",
       "      <td>HR</td>\n",
       "      <td>50000</td>\n",
       "      <td>50000.0</td>\n",
       "    </tr>\n",
       "    <tr>\n",
       "      <th>4</th>\n",
       "      <td>Eve</td>\n",
       "      <td>Finance</td>\n",
       "      <td>62000</td>\n",
       "      <td>NaN</td>\n",
       "    </tr>\n",
       "  </tbody>\n",
       "</table>\n",
       "</div>"
      ],
      "text/plain": [
       "  employee_name department  salary  second_highest\n",
       "0           Bob         IT   60000         55000.0\n",
       "1         Carol         IT   55000         55000.0\n",
       "2         David         HR   52000         50000.0\n",
       "3         Alice         HR   50000         50000.0\n",
       "4           Eve    Finance   62000             NaN"
      ]
     },
     "execution_count": 13,
     "metadata": {},
     "output_type": "execute_result"
    }
   ],
   "source": [
    "query = \"\"\"SELECT employee_name, department, salary,\n",
    "(SELECT salary FROM employees e2 WHERE e2.department = e1.department\n",
    "order by salary desc limit 1 offset 1 ) AS second_highest\n",
    "FROM employees e1 order by department desc, salary desc\"\"\"\n",
    "pd.read_sql(query, conn)"
   ]
  },
  {
   "cell_type": "code",
   "execution_count": 135,
   "id": "4a1286d6-e8c8-47c6-bc93-c2184000bb71",
   "metadata": {},
   "outputs": [
    {
     "data": {
      "text/html": [
       "<div>\n",
       "<style scoped>\n",
       "    .dataframe tbody tr th:only-of-type {\n",
       "        vertical-align: middle;\n",
       "    }\n",
       "\n",
       "    .dataframe tbody tr th {\n",
       "        vertical-align: top;\n",
       "    }\n",
       "\n",
       "    .dataframe thead th {\n",
       "        text-align: right;\n",
       "    }\n",
       "</style>\n",
       "<table border=\"1\" class=\"dataframe\">\n",
       "  <thead>\n",
       "    <tr style=\"text-align: right;\">\n",
       "      <th></th>\n",
       "      <th>employee_name</th>\n",
       "      <th>department</th>\n",
       "      <th>salary</th>\n",
       "      <th>dept_rank</th>\n",
       "    </tr>\n",
       "  </thead>\n",
       "  <tbody>\n",
       "    <tr>\n",
       "      <th>0</th>\n",
       "      <td>Alice</td>\n",
       "      <td>HR</td>\n",
       "      <td>50000</td>\n",
       "      <td>2</td>\n",
       "    </tr>\n",
       "    <tr>\n",
       "      <th>1</th>\n",
       "      <td>Carol</td>\n",
       "      <td>IT</td>\n",
       "      <td>55000</td>\n",
       "      <td>2</td>\n",
       "    </tr>\n",
       "  </tbody>\n",
       "</table>\n",
       "</div>"
      ],
      "text/plain": [
       "  employee_name department  salary  dept_rank\n",
       "0         Alice         HR   50000          2\n",
       "1         Carol         IT   55000          2"
      ]
     },
     "execution_count": 135,
     "metadata": {},
     "output_type": "execute_result"
    }
   ],
   "source": [
    "query = \"\"\"\n",
    "with ranked_employees as (\n",
    "    SELECT employee_name, department, salary,\n",
    "     DENSE_RANK() OVER (PARTITION BY department ORDER BY salary DESC) AS dept_rank\n",
    "    FROM  employees\n",
    ")\n",
    "select * from ranked_employees where dept_rank = 2\n",
    "\"\"\"\n",
    "pd.read_sql(query, conn)"
   ]
  },
  {
   "cell_type": "markdown",
   "id": "693d9290-1e1e-4437-8911-a41cb6ac7683",
   "metadata": {},
   "source": [
    "### Two tables"
   ]
  },
  {
   "cell_type": "code",
   "execution_count": 20,
   "id": "df5e7c49-f854-431e-a235-e235942a76b8",
   "metadata": {},
   "outputs": [
    {
     "data": {
      "text/html": [
       "<div>\n",
       "<style scoped>\n",
       "    .dataframe tbody tr th:only-of-type {\n",
       "        vertical-align: middle;\n",
       "    }\n",
       "\n",
       "    .dataframe tbody tr th {\n",
       "        vertical-align: top;\n",
       "    }\n",
       "\n",
       "    .dataframe thead th {\n",
       "        text-align: right;\n",
       "    }\n",
       "</style>\n",
       "<table border=\"1\" class=\"dataframe\">\n",
       "  <thead>\n",
       "    <tr style=\"text-align: right;\">\n",
       "      <th></th>\n",
       "      <th>id</th>\n",
       "      <th>order_id</th>\n",
       "      <th>customer_id</th>\n",
       "      <th>order_date</th>\n",
       "    </tr>\n",
       "  </thead>\n",
       "  <tbody>\n",
       "    <tr>\n",
       "      <th>0</th>\n",
       "      <td>0</td>\n",
       "      <td>101</td>\n",
       "      <td>1</td>\n",
       "      <td>2023-01-15</td>\n",
       "    </tr>\n",
       "    <tr>\n",
       "      <th>1</th>\n",
       "      <td>1</td>\n",
       "      <td>102</td>\n",
       "      <td>1</td>\n",
       "      <td>2023-02-10</td>\n",
       "    </tr>\n",
       "    <tr>\n",
       "      <th>2</th>\n",
       "      <td>2</td>\n",
       "      <td>103</td>\n",
       "      <td>2</td>\n",
       "      <td>2023-03-05</td>\n",
       "    </tr>\n",
       "  </tbody>\n",
       "</table>\n",
       "</div>"
      ],
      "text/plain": [
       "   id  order_id  customer_id  order_date\n",
       "0   0       101            1  2023-01-15\n",
       "1   1       102            1  2023-02-10\n",
       "2   2       103            2  2023-03-05"
      ]
     },
     "execution_count": 20,
     "metadata": {},
     "output_type": "execute_result"
    }
   ],
   "source": [
    "pd.read_sql(\"\"\"select * from orders\"\"\", conn)"
   ]
  },
  {
   "cell_type": "code",
   "execution_count": 3,
   "id": "9325823a-1273-4d24-a6f2-413f6fd4e4e1",
   "metadata": {},
   "outputs": [],
   "source": [
    "pd.read_sql(\"\"\"select * from customers\"\"\", conn)"
   ]
  },
  {
   "cell_type": "markdown",
   "id": "c6b0ada3-6a61-4018-a523-c6f33f7df918",
   "metadata": {},
   "source": [
    "Then we can use our correlated subquery."
   ]
  },
  {
   "cell_type": "code",
   "execution_count": 137,
   "id": "f0374559-8c5c-4a52-bce6-72ae8a39e624",
   "metadata": {},
   "outputs": [
    {
     "data": {
      "text/html": [
       "<div>\n",
       "<style scoped>\n",
       "    .dataframe tbody tr th:only-of-type {\n",
       "        vertical-align: middle;\n",
       "    }\n",
       "\n",
       "    .dataframe tbody tr th {\n",
       "        vertical-align: top;\n",
       "    }\n",
       "\n",
       "    .dataframe thead th {\n",
       "        text-align: right;\n",
       "    }\n",
       "</style>\n",
       "<table border=\"1\" class=\"dataframe\">\n",
       "  <thead>\n",
       "    <tr style=\"text-align: right;\">\n",
       "      <th></th>\n",
       "      <th>name</th>\n",
       "    </tr>\n",
       "  </thead>\n",
       "  <tbody>\n",
       "    <tr>\n",
       "      <th>0</th>\n",
       "      <td>John Smith</td>\n",
       "    </tr>\n",
       "    <tr>\n",
       "      <th>1</th>\n",
       "      <td>Jane Doe</td>\n",
       "    </tr>\n",
       "  </tbody>\n",
       "</table>\n",
       "</div>"
      ],
      "text/plain": [
       "         name\n",
       "0  John Smith\n",
       "1    Jane Doe"
      ]
     },
     "execution_count": 137,
     "metadata": {},
     "output_type": "execute_result"
    }
   ],
   "source": [
    "query = \"\"\"SELECT name\n",
    "FROM customers c\n",
    "WHERE (\n",
    "    SELECT 1\n",
    "    FROM orders o\n",
    "    WHERE o.customer_id = c.customer_id\n",
    ")\"\"\"\n",
    "pd.read_sql(query, conn)"
   ]
  },
  {
   "cell_type": "markdown",
   "id": "6b9a55c9-c76c-4932-9344-4ab9cb3b5457",
   "metadata": {},
   "source": [
    "### A better use case"
   ]
  },
  {
   "cell_type": "code",
   "execution_count": 21,
   "id": "5b0df26e-5017-4de1-ba90-b68cdbd9a64d",
   "metadata": {},
   "outputs": [
    {
     "data": {
      "text/html": [
       "<div>\n",
       "<style scoped>\n",
       "    .dataframe tbody tr th:only-of-type {\n",
       "        vertical-align: middle;\n",
       "    }\n",
       "\n",
       "    .dataframe tbody tr th {\n",
       "        vertical-align: top;\n",
       "    }\n",
       "\n",
       "    .dataframe thead th {\n",
       "        text-align: right;\n",
       "    }\n",
       "</style>\n",
       "<table border=\"1\" class=\"dataframe\">\n",
       "  <thead>\n",
       "    <tr style=\"text-align: right;\">\n",
       "      <th></th>\n",
       "      <th>id</th>\n",
       "      <th>brand</th>\n",
       "      <th>price</th>\n",
       "    </tr>\n",
       "  </thead>\n",
       "  <tbody>\n",
       "    <tr>\n",
       "      <th>0</th>\n",
       "      <td>0</td>\n",
       "      <td>Acme Dog Food</td>\n",
       "      <td>22</td>\n",
       "    </tr>\n",
       "    <tr>\n",
       "      <th>1</th>\n",
       "      <td>1</td>\n",
       "      <td>Puppy Chow</td>\n",
       "      <td>32</td>\n",
       "    </tr>\n",
       "    <tr>\n",
       "      <th>2</th>\n",
       "      <td>2</td>\n",
       "      <td>Healthy Paws</td>\n",
       "      <td>38</td>\n",
       "    </tr>\n",
       "    <tr>\n",
       "      <th>3</th>\n",
       "      <td>3</td>\n",
       "      <td>Bark Bites</td>\n",
       "      <td>19</td>\n",
       "    </tr>\n",
       "    <tr>\n",
       "      <th>4</th>\n",
       "      <td>4</td>\n",
       "      <td>Superior K9</td>\n",
       "      <td>45</td>\n",
       "    </tr>\n",
       "  </tbody>\n",
       "</table>\n",
       "</div>"
      ],
      "text/plain": [
       "   id          brand  price\n",
       "0   0  Acme Dog Food     22\n",
       "1   1     Puppy Chow     32\n",
       "2   2   Healthy Paws     38\n",
       "3   3     Bark Bites     19\n",
       "4   4    Superior K9     45"
      ]
     },
     "execution_count": 21,
     "metadata": {},
     "output_type": "execute_result"
    }
   ],
   "source": [
    "pd.read_sql(\"\"\"select * from dog_foods\"\"\", conn)"
   ]
  },
  {
   "cell_type": "markdown",
   "id": "0ac0ee29-35dd-4e4c-9c84-170364c96583",
   "metadata": {},
   "source": [
    "And our customer budgets."
   ]
  },
  {
   "cell_type": "code",
   "execution_count": 22,
   "id": "f7c85c05-db18-478c-be9f-45a785f43165",
   "metadata": {},
   "outputs": [
    {
     "data": {
      "text/html": [
       "<div>\n",
       "<style scoped>\n",
       "    .dataframe tbody tr th:only-of-type {\n",
       "        vertical-align: middle;\n",
       "    }\n",
       "\n",
       "    .dataframe tbody tr th {\n",
       "        vertical-align: top;\n",
       "    }\n",
       "\n",
       "    .dataframe thead th {\n",
       "        text-align: right;\n",
       "    }\n",
       "</style>\n",
       "<table border=\"1\" class=\"dataframe\">\n",
       "  <thead>\n",
       "    <tr style=\"text-align: right;\">\n",
       "      <th></th>\n",
       "      <th>id</th>\n",
       "      <th>customer_id</th>\n",
       "      <th>name</th>\n",
       "      <th>budget</th>\n",
       "    </tr>\n",
       "  </thead>\n",
       "  <tbody>\n",
       "    <tr>\n",
       "      <th>0</th>\n",
       "      <td>0</td>\n",
       "      <td>1</td>\n",
       "      <td>John Smith</td>\n",
       "      <td>25</td>\n",
       "    </tr>\n",
       "    <tr>\n",
       "      <th>1</th>\n",
       "      <td>1</td>\n",
       "      <td>2</td>\n",
       "      <td>Jane Doe</td>\n",
       "      <td>30</td>\n",
       "    </tr>\n",
       "    <tr>\n",
       "      <th>2</th>\n",
       "      <td>2</td>\n",
       "      <td>3</td>\n",
       "      <td>Michael Brown</td>\n",
       "      <td>40</td>\n",
       "    </tr>\n",
       "    <tr>\n",
       "      <th>3</th>\n",
       "      <td>3</td>\n",
       "      <td>4</td>\n",
       "      <td>Emily Johnson</td>\n",
       "      <td>22</td>\n",
       "    </tr>\n",
       "    <tr>\n",
       "      <th>4</th>\n",
       "      <td>4</td>\n",
       "      <td>5</td>\n",
       "      <td>David Lee</td>\n",
       "      <td>50</td>\n",
       "    </tr>\n",
       "  </tbody>\n",
       "</table>\n",
       "</div>"
      ],
      "text/plain": [
       "   id  customer_id           name  budget\n",
       "0   0            1     John Smith      25\n",
       "1   1            2       Jane Doe      30\n",
       "2   2            3  Michael Brown      40\n",
       "3   3            4  Emily Johnson      22\n",
       "4   4            5      David Lee      50"
      ]
     },
     "execution_count": 22,
     "metadata": {},
     "output_type": "execute_result"
    }
   ],
   "source": [
    "pd.read_sql(\"\"\"select * from customers\"\"\", conn)"
   ]
  },
  {
   "cell_type": "markdown",
   "id": "aafad3bf-cd8c-4fa0-a908-356b08c50250",
   "metadata": {},
   "source": [
    "So above, we first select all of our customers in the outer query.  Then in our subquery, for each customer, we find the dog food price that is lower than or equal to the budget.  Then we sort these from highest to lowest, returning the highest food price within this upper bound.    "
   ]
  },
  {
   "cell_type": "code",
   "execution_count": 27,
   "id": "8a468143-d2a9-4fc3-a64e-9a3505689227",
   "metadata": {},
   "outputs": [
    {
     "data": {
      "text/html": [
       "<div>\n",
       "<style scoped>\n",
       "    .dataframe tbody tr th:only-of-type {\n",
       "        vertical-align: middle;\n",
       "    }\n",
       "\n",
       "    .dataframe tbody tr th {\n",
       "        vertical-align: top;\n",
       "    }\n",
       "\n",
       "    .dataframe thead th {\n",
       "        text-align: right;\n",
       "    }\n",
       "</style>\n",
       "<table border=\"1\" class=\"dataframe\">\n",
       "  <thead>\n",
       "    <tr style=\"text-align: right;\">\n",
       "      <th></th>\n",
       "      <th>id</th>\n",
       "      <th>customer_id</th>\n",
       "      <th>name</th>\n",
       "      <th>budget</th>\n",
       "      <th>dog_food_price</th>\n",
       "    </tr>\n",
       "  </thead>\n",
       "  <tbody>\n",
       "    <tr>\n",
       "      <th>0</th>\n",
       "      <td>0</td>\n",
       "      <td>1</td>\n",
       "      <td>John Smith</td>\n",
       "      <td>25</td>\n",
       "      <td>22</td>\n",
       "    </tr>\n",
       "    <tr>\n",
       "      <th>1</th>\n",
       "      <td>1</td>\n",
       "      <td>2</td>\n",
       "      <td>Jane Doe</td>\n",
       "      <td>30</td>\n",
       "      <td>22</td>\n",
       "    </tr>\n",
       "    <tr>\n",
       "      <th>2</th>\n",
       "      <td>2</td>\n",
       "      <td>3</td>\n",
       "      <td>Michael Brown</td>\n",
       "      <td>40</td>\n",
       "      <td>38</td>\n",
       "    </tr>\n",
       "    <tr>\n",
       "      <th>3</th>\n",
       "      <td>3</td>\n",
       "      <td>4</td>\n",
       "      <td>Emily Johnson</td>\n",
       "      <td>22</td>\n",
       "      <td>22</td>\n",
       "    </tr>\n",
       "    <tr>\n",
       "      <th>4</th>\n",
       "      <td>4</td>\n",
       "      <td>5</td>\n",
       "      <td>David Lee</td>\n",
       "      <td>50</td>\n",
       "      <td>45</td>\n",
       "    </tr>\n",
       "  </tbody>\n",
       "</table>\n",
       "</div>"
      ],
      "text/plain": [
       "   id  customer_id           name  budget  dog_food_price\n",
       "0   0            1     John Smith      25              22\n",
       "1   1            2       Jane Doe      30              22\n",
       "2   2            3  Michael Brown      40              38\n",
       "3   3            4  Emily Johnson      22              22\n",
       "4   4            5      David Lee      50              45"
      ]
     },
     "execution_count": 27,
     "metadata": {},
     "output_type": "execute_result"
    }
   ],
   "source": [
    "query = \"\"\"SELECT *, \n",
    "(select dog_foods.price \n",
    "from dog_foods where dog_foods.price <= c.budget\n",
    "order by price desc limit 1) as dog_food_price\n",
    "FROM customers c\"\"\"\n",
    "\n",
    "pd.read_sql(query, conn)"
   ]
  },
  {
   "cell_type": "markdown",
   "id": "5e99bfe8-dbfc-4ac0-9ba8-2a7f26c633f0",
   "metadata": {},
   "source": [
    "Let's copy this query below."
   ]
  },
  {
   "cell_type": "markdown",
   "id": "cedae759-b8ae-488b-bdb3-3fe8ac3738e9",
   "metadata": {},
   "source": [
    "```sql\n",
    "SELECT *, \n",
    "(select dog_foods.price \n",
    "from dog_foods where dog_foods.price <= c.budget\n",
    "order by price desc limit 1) as dog_food_price\n",
    "FROM customers c\n",
    "```"
   ]
  },
  {
   "cell_type": "markdown",
   "id": "01954b3f-74c7-4577-84ec-7867cb6e6df9",
   "metadata": {},
   "source": [
    "### Summary"
   ]
  },
  {
   "cell_type": "markdown",
   "id": "9c46bc79-5f7e-4a66-b666-046fbf1d82f3",
   "metadata": {},
   "source": [
    "In this lesson, we saw how to perform a correlated subquery.  To perform a correlated subquery, we need an outer table, and a subquery that references that outer table.  \n",
    "\n",
    "The correlated subquery executes for each row in the outer query, for either a filter or calculation. "
   ]
  },
  {
   "cell_type": "markdown",
   "id": "7baac6d9-5548-4a39-8bf0-45bbdc28379c",
   "metadata": {},
   "source": [
    "```sql\n",
    "SELECT employee_name, department, salary,\n",
    "(SELECT MAX(salary) FROM employees e2 WHERE e2.department = e1.department) AS max_sal -- 2. correlated subquery\n",
    "FROM employees e1 -- 1. outer query\n",
    "```"
   ]
  },
  {
   "cell_type": "markdown",
   "id": "2b2833dc-6d2e-4f18-97bd-ebb2671f01e7",
   "metadata": {},
   "source": [
    "We also saw some use cases for our correlated subquery.  "
   ]
  },
  {
   "cell_type": "markdown",
   "id": "f21482fa-49d3-4b88-94b1-bb13de704d34",
   "metadata": {},
   "source": [
    "For example, we saw saw a query that returns the second highest salary per department -- which goes further than what we can do with a window function."
   ]
  },
  {
   "cell_type": "code",
   "execution_count": null,
   "id": "398547f9-c21b-4eb4-9ecf-75bfdfc4ed5a",
   "metadata": {},
   "outputs": [],
   "source": [
    "query = \"\"\"SELECT employee_name, department, salary,\n",
    "(SELECT salary FROM employees e2 WHERE e2.department = e1.department\n",
    "order by salary desc limit 1 offset 1 ) AS max_sal\n",
    "FROM employees e1 order by department desc, salary desc\"\"\""
   ]
  },
  {
   "cell_type": "markdown",
   "id": "2c20a2cd-9348-4410-bcb0-3a4f148e5a87",
   "metadata": {},
   "source": [
    "And then finally, we saw how we can join two tables, aligning the rows based on our subquery -- as we did by finding the priciest dog food within each customer's budget."
   ]
  },
  {
   "cell_type": "markdown",
   "id": "32a9daf9-ab33-4886-8792-670a76f4f1c1",
   "metadata": {},
   "source": [
    "### Resources\n",
    "\n",
    "[Window Fn vs Subqueries](https://www.linkedin.com/pulse/comparing-sql-subqueries-window-functions-differences-siva-kowsika/)"
   ]
  }
 ],
 "metadata": {
  "kernelspec": {
   "display_name": "Python 3 (ipykernel)",
   "language": "python",
   "name": "python3"
  },
  "language_info": {
   "codemirror_mode": {
    "name": "ipython",
    "version": 3
   },
   "file_extension": ".py",
   "mimetype": "text/x-python",
   "name": "python",
   "nbconvert_exporter": "python",
   "pygments_lexer": "ipython3",
   "version": "3.9.12"
  }
 },
 "nbformat": 4,
 "nbformat_minor": 5
}
