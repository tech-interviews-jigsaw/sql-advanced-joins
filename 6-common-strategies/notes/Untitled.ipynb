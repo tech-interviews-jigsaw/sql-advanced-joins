{
 "cells": [
  {
   "cell_type": "markdown",
   "id": "68453942-0098-4ab9-88f4-af016c9a0521",
   "metadata": {},
   "source": [
    "1. What technologies to be studying \n",
    "2. Projects that was worked on, and languages to code on\n",
    "* And then said would be a good candidate for the internship program, and then had the "
   ]
  },
  {
   "cell_type": "code",
   "execution_count": null,
   "id": "e10168bb-c08c-4ba8-951e-6815ca8ee719",
   "metadata": {},
   "outputs": [],
   "source": []
  }
 ],
 "metadata": {
  "kernelspec": {
   "display_name": "Python 3 (ipykernel)",
   "language": "python",
   "name": "python3"
  },
  "language_info": {
   "codemirror_mode": {
    "name": "ipython",
    "version": 3
   },
   "file_extension": ".py",
   "mimetype": "text/x-python",
   "name": "python",
   "nbconvert_exporter": "python",
   "pygments_lexer": "ipython3",
   "version": "3.9.12"
  }
 },
 "nbformat": 4,
 "nbformat_minor": 5
}
