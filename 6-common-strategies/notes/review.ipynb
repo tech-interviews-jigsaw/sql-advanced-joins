{
 "cells": [
  {
   "cell_type": "markdown",
   "id": "93203dfc-7bc7-4aa3-84c7-93022c523434",
   "metadata": {},
   "source": [
    "1. Self Joins \n",
    "    * Self referential tables \n",
    "        * employee m\n",
    "            * id, manager_id\n",
    "            select * from employees join employees managers on employees.id = managers.manager_id \n",
    "     * Window function alternative \n",
    "         * Weather data\n",
    "         * Stock data\n",
    "             * select * from temperatures t1 join temperatures t2 on t1.id = t2.id + 1\n",
    "2. Cross joins\n",
    "    * Nested loop\n",
    "    * Minimum difference \n",
    "\n",
    "    \n",
    "            "
   ]
  }
 ],
 "metadata": {
  "kernelspec": {
   "display_name": "Python 3 (ipykernel)",
   "language": "python",
   "name": "python3"
  },
  "language_info": {
   "codemirror_mode": {
    "name": "ipython",
    "version": 3
   },
   "file_extension": ".py",
   "mimetype": "text/x-python",
   "name": "python",
   "nbconvert_exporter": "python",
   "pygments_lexer": "ipython3",
   "version": "3.9.12"
  }
 },
 "nbformat": 4,
 "nbformat_minor": 5
}
